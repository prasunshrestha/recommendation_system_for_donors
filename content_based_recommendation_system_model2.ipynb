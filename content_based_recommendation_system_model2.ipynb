{
 "cells": [
  {
   "cell_type": "markdown",
   "metadata": {
    "ExecuteTime": {
     "end_time": "2020-11-05T09:12:31.292544Z",
     "start_time": "2020-11-05T09:12:31.286663Z"
    }
   },
   "source": [
    "# Recommendation System - Model 1"
   ]
  },
  {
   "cell_type": "markdown",
   "metadata": {},
   "source": [
    "## Import packages and dataframes"
   ]
  },
  {
   "cell_type": "code",
   "execution_count": 1,
   "metadata": {
    "ExecuteTime": {
     "end_time": "2020-12-19T06:00:52.596540Z",
     "start_time": "2020-12-19T06:00:51.013253Z"
    }
   },
   "outputs": [],
   "source": [
    "import numpy as np\n",
    "import pandas as pd\n",
    "import random as rd\n",
    "import seaborn as sns\n",
    "import matplotlib.pyplot as plt\n",
    "from sklearn.preprocessing import OneHotEncoder as OHE\n",
    "from sklearn.metrics.pairwise import cosine_similarity\n",
    "from sklearn.preprocessing import StandardScaler\n",
    "\n",
    "rd.seed(123)"
   ]
  },
  {
   "cell_type": "code",
   "execution_count": 350,
   "metadata": {
    "ExecuteTime": {
     "end_time": "2020-12-19T16:27:42.694646Z",
     "start_time": "2020-12-19T16:26:49.698449Z"
    }
   },
   "outputs": [
    {
     "name": "stderr",
     "output_type": "stream",
     "text": [
      "/Users/prastha/opt/anaconda3/lib/python3.7/site-packages/IPython/core/interactiveshell.py:3147: DtypeWarning: Columns (4) have mixed types.Specify dtype option on import or set low_memory=False.\n",
      "  interactivity=interactivity, compiler=compiler, result=result)\n"
     ]
    }
   ],
   "source": [
    "# import all the files\n",
    "\n",
    "donationsDF = pd.read_csv('Donations.csv')\n",
    "donorsDF = pd.read_csv('Donors.csv')\n",
    "projectsDF = pd.read_csv('Projects.csv')\n",
    "schoolsDF = pd.read_csv('Schools.csv')\n",
    "resourcesDF = pd.read_csv('Resources.csv')"
   ]
  },
  {
   "cell_type": "markdown",
   "metadata": {},
   "source": [
    "## Data Cleaning: Remove one-time donors"
   ]
  },
  {
   "cell_type": "code",
   "execution_count": 364,
   "metadata": {
    "ExecuteTime": {
     "end_time": "2020-12-19T18:31:29.010315Z",
     "start_time": "2020-12-19T18:31:13.655108Z"
    }
   },
   "outputs": [],
   "source": [
    "donorsDF_merged = donorsDF.merge(donationsDF, on = 'Donor ID', how = 'inner') # donation ID is the primary key here"
   ]
  },
  {
   "cell_type": "code",
   "execution_count": 417,
   "metadata": {
    "ExecuteTime": {
     "end_time": "2020-12-19T20:59:38.488508Z",
     "start_time": "2020-12-19T20:59:34.706773Z"
    }
   },
   "outputs": [
    {
     "name": "stdout",
     "output_type": "stream",
     "text": [
      "We got rid of 1889912 donors.\n",
      "The shape of the remaining dataframe: (129050, 2)\n"
     ]
    }
   ],
   "source": [
    "# Get the count of donations a donor has made\n",
    "df_temp1 = donorsDF_merged.groupby(['Donor ID']).size().reset_index(name='Num Donations')\n",
    "df_temp2 = df_temp1[df_temp1['Num Donations'] > 4] # removing all the donors who have donated less than 5 times\n",
    "\n",
    "print(\"We got rid of %d donors.\" % (df_temp1.shape[0] - df_temp2.shape[0]))\n",
    "print(\"The shape of the remaining dataframe:\", df_temp2.shape)"
   ]
  },
  {
   "cell_type": "markdown",
   "metadata": {},
   "source": [
    "## Recurring donors for modeling"
   ]
  },
  {
   "cell_type": "code",
   "execution_count": 418,
   "metadata": {
    "ExecuteTime": {
     "end_time": "2020-12-19T20:59:47.559106Z",
     "start_time": "2020-12-19T20:59:39.851675Z"
    }
   },
   "outputs": [
    {
     "data": {
      "text/plain": [
       "(2169542, 11)"
      ]
     },
     "execution_count": 418,
     "metadata": {},
     "output_type": "execute_result"
    }
   ],
   "source": [
    "uniqDonorIDList = list(df_temp2['Donor ID']) # list of recurring donors\n",
    "df_final = donorsDF_merged[donorsDF_merged['Donor ID'].isin(uniqDonorIDList)] # recurring donors\n",
    "\n",
    "del df_temp1, df_temp2, donorsDF_merged\n",
    "df_final.shape"
   ]
  },
  {
   "cell_type": "code",
   "execution_count": 6,
   "metadata": {
    "ExecuteTime": {
     "end_time": "2020-12-19T06:01:55.312847Z",
     "start_time": "2020-12-19T06:01:55.306235Z"
    }
   },
   "outputs": [],
   "source": [
    "def removeDuplicates(df, col):\n",
    "    df = df.drop_duplicates(subset = [col]) # removes duplicates from the column `col`\n",
    "    return df"
   ]
  },
  {
   "cell_type": "code",
   "execution_count": 7,
   "metadata": {
    "ExecuteTime": {
     "end_time": "2020-12-19T06:02:10.659465Z",
     "start_time": "2020-12-19T06:01:55.314977Z"
    }
   },
   "outputs": [],
   "source": [
    "df_final = removeDuplicates(df_final, 'Donation ID') # removes duplicate Donation IDs\n",
    "\n",
    "# donation ID is the primary key here\n",
    "df_final = df_final.merge(projectsDF, on = \"Project ID\", how = \"inner\") # adding projects to the final dataframe\n",
    "\n",
    "df_final = df_final.merge(schoolsDF, on = \"School ID\", how = \"inner\") # adding schools to the final dataframe"
   ]
  },
  {
   "cell_type": "code",
   "execution_count": 8,
   "metadata": {
    "ExecuteTime": {
     "end_time": "2020-12-19T06:02:13.106923Z",
     "start_time": "2020-12-19T06:02:10.663877Z"
    }
   },
   "outputs": [
    {
     "name": "stdout",
     "output_type": "stream",
     "text": [
      "(2126224, 36)\n"
     ]
    }
   ],
   "source": [
    "# discretizing (binning) the project cost\n",
    "\n",
    "projCost = pd.DataFrame((df_final['Project Cost'] // 500 + 1) * 500).astype('int')\n",
    "\n",
    "projCost[projCost['Project Cost'] > 3000] = 3000\n",
    "\n",
    "projCost['Project Cost'] = projCost['Project Cost'].astype('str')\n",
    "projCost[projCost['Project Cost'] == '3000'] = \"3000+\"\n",
    "\n",
    "df_final['Project Cost'] = projCost\n",
    "df_final = df_final.rename(columns = {\"Project Cost\": \"Project Cost (Up to)\"})\n",
    "\n",
    "print(df_final.shape)"
   ]
  },
  {
   "cell_type": "code",
   "execution_count": 9,
   "metadata": {
    "ExecuteTime": {
     "end_time": "2020-12-19T06:02:18.320254Z",
     "start_time": "2020-12-19T06:02:13.110764Z"
    }
   },
   "outputs": [
    {
     "name": "stdout",
     "output_type": "stream",
     "text": [
      "The original dataframe size:  (2126222, 36)\n",
      "The updated dataframe size including only California:  (321259, 36)\n"
     ]
    },
    {
     "data": {
      "text/html": [
       "<div>\n",
       "<style scoped>\n",
       "    .dataframe tbody tr th:only-of-type {\n",
       "        vertical-align: middle;\n",
       "    }\n",
       "\n",
       "    .dataframe tbody tr th {\n",
       "        vertical-align: top;\n",
       "    }\n",
       "\n",
       "    .dataframe thead th {\n",
       "        text-align: right;\n",
       "    }\n",
       "</style>\n",
       "<table border=\"1\" class=\"dataframe\">\n",
       "  <thead>\n",
       "    <tr style=\"text-align: right;\">\n",
       "      <th></th>\n",
       "      <th>Donor ID</th>\n",
       "      <th>Donor City</th>\n",
       "      <th>Donor State</th>\n",
       "      <th>Donor Is Teacher</th>\n",
       "      <th>Donor Zip</th>\n",
       "      <th>Project ID</th>\n",
       "      <th>Donation ID</th>\n",
       "      <th>Donation Included Optional Donation</th>\n",
       "      <th>Donation Amount</th>\n",
       "      <th>Donor Cart Sequence</th>\n",
       "      <th>...</th>\n",
       "      <th>Project Current Status</th>\n",
       "      <th>Project Fully Funded Date</th>\n",
       "      <th>School Name</th>\n",
       "      <th>School Metro Type</th>\n",
       "      <th>School Percentage Free Lunch</th>\n",
       "      <th>School State</th>\n",
       "      <th>School Zip</th>\n",
       "      <th>School City</th>\n",
       "      <th>School County</th>\n",
       "      <th>School District</th>\n",
       "    </tr>\n",
       "  </thead>\n",
       "  <tbody>\n",
       "    <tr>\n",
       "      <th>157400</th>\n",
       "      <td>f37b9ff133242d08658ca2b17b3ab84c</td>\n",
       "      <td>Dillon</td>\n",
       "      <td>South Carolina</td>\n",
       "      <td>No</td>\n",
       "      <td>295</td>\n",
       "      <td>4215fe736e726455d5b78b2873557742</td>\n",
       "      <td>d7b5c9c526b7588a15c517604f050506</td>\n",
       "      <td>No</td>\n",
       "      <td>5.0</td>\n",
       "      <td>2595</td>\n",
       "      <td>...</td>\n",
       "      <td>Fully Funded</td>\n",
       "      <td>2016-05-10</td>\n",
       "      <td>F D Roosevelt Elementary School</td>\n",
       "      <td>suburban</td>\n",
       "      <td>90.0</td>\n",
       "      <td>California</td>\n",
       "      <td>90260</td>\n",
       "      <td>Lawndale</td>\n",
       "      <td>Los Angeles</td>\n",
       "      <td>Lawndale Elem School District</td>\n",
       "    </tr>\n",
       "    <tr>\n",
       "      <th>409383</th>\n",
       "      <td>e7692ca3a0fe35653c173de80adfc880</td>\n",
       "      <td>Princeton Junction</td>\n",
       "      <td>New Jersey</td>\n",
       "      <td>No</td>\n",
       "      <td>085</td>\n",
       "      <td>02f2f8fc72b4714f5c6b98c04edb5913</td>\n",
       "      <td>59fb2b37ee8762945df9252b54aaf6be</td>\n",
       "      <td>No</td>\n",
       "      <td>74.0</td>\n",
       "      <td>1612</td>\n",
       "      <td>...</td>\n",
       "      <td>Fully Funded</td>\n",
       "      <td>2014-11-22</td>\n",
       "      <td>Newark Memorial High School</td>\n",
       "      <td>suburban</td>\n",
       "      <td>56.0</td>\n",
       "      <td>California</td>\n",
       "      <td>94560</td>\n",
       "      <td>Newark</td>\n",
       "      <td>Alameda</td>\n",
       "      <td>Newark Unified School District</td>\n",
       "    </tr>\n",
       "  </tbody>\n",
       "</table>\n",
       "<p>2 rows × 36 columns</p>\n",
       "</div>"
      ],
      "text/plain": [
       "                                Donor ID          Donor City     Donor State  \\\n",
       "157400  f37b9ff133242d08658ca2b17b3ab84c              Dillon  South Carolina   \n",
       "409383  e7692ca3a0fe35653c173de80adfc880  Princeton Junction      New Jersey   \n",
       "\n",
       "       Donor Is Teacher Donor Zip                        Project ID  \\\n",
       "157400               No       295  4215fe736e726455d5b78b2873557742   \n",
       "409383               No       085  02f2f8fc72b4714f5c6b98c04edb5913   \n",
       "\n",
       "                             Donation ID Donation Included Optional Donation  \\\n",
       "157400  d7b5c9c526b7588a15c517604f050506                                  No   \n",
       "409383  59fb2b37ee8762945df9252b54aaf6be                                  No   \n",
       "\n",
       "        Donation Amount  Donor Cart Sequence  ... Project Current Status  \\\n",
       "157400              5.0                 2595  ...           Fully Funded   \n",
       "409383             74.0                 1612  ...           Fully Funded   \n",
       "\n",
       "       Project Fully Funded Date                      School Name  \\\n",
       "157400                2016-05-10  F D Roosevelt Elementary School   \n",
       "409383                2014-11-22      Newark Memorial High School   \n",
       "\n",
       "        School Metro Type School Percentage Free Lunch School State  \\\n",
       "157400           suburban                         90.0   California   \n",
       "409383           suburban                         56.0   California   \n",
       "\n",
       "       School Zip School City School County                 School District  \n",
       "157400      90260    Lawndale   Los Angeles   Lawndale Elem School District  \n",
       "409383      94560      Newark       Alameda  Newark Unified School District  \n",
       "\n",
       "[2 rows x 36 columns]"
      ]
     },
     "execution_count": 9,
     "metadata": {},
     "output_type": "execute_result"
    }
   ],
   "source": [
    "#we are only considering all the donations that came to projects in California\n",
    "\n",
    "df_final = removeDuplicates(df_final, 'Donation ID') # removes duplicate Donation IDs\n",
    "print(\"The original dataframe size: \", df_final.shape)\n",
    "\n",
    "df_final_cal = df_final[df_final['School State'] == 'California']\n",
    "print(\"The updated dataframe size including only California: \", df_final_cal.shape)\n",
    "\n",
    "df_final_cal.sample(2)"
   ]
  },
  {
   "cell_type": "code",
   "execution_count": 10,
   "metadata": {
    "ExecuteTime": {
     "end_time": "2020-12-19T06:02:18.706543Z",
     "start_time": "2020-12-19T06:02:18.322211Z"
    }
   },
   "outputs": [],
   "source": [
    "del df_final"
   ]
  },
  {
   "cell_type": "markdown",
   "metadata": {},
   "source": [
    "## Experiment Lab"
   ]
  },
  {
   "cell_type": "code",
   "execution_count": 221,
   "metadata": {
    "ExecuteTime": {
     "end_time": "2020-12-19T07:52:39.983494Z",
     "start_time": "2020-12-19T07:52:38.709399Z"
    }
   },
   "outputs": [],
   "source": [
    "features = ['Donor ID', 'Project ID', 'Donation Received Date']\n",
    "df_donor = df_final_cal[features]\n",
    "donor_list = set(df_donor['Donor ID'])\n",
    "df_donor = df_donor.drop_duplicates(subset = ['Donor ID', 'Project ID'])\n",
    "df_donor = df_donor.sort_values(by = ['Donor ID','Donation Received Date'])\n",
    "\n",
    "df_donor['Donation Received Date'] = pd.to_datetime(df_donor['Donation Received Date'])"
   ]
  },
  {
   "cell_type": "code",
   "execution_count": 222,
   "metadata": {
    "ExecuteTime": {
     "end_time": "2020-12-19T07:52:42.226947Z",
     "start_time": "2020-12-19T07:52:42.211914Z"
    }
   },
   "outputs": [
    {
     "data": {
      "text/html": [
       "<div>\n",
       "<style scoped>\n",
       "    .dataframe tbody tr th:only-of-type {\n",
       "        vertical-align: middle;\n",
       "    }\n",
       "\n",
       "    .dataframe tbody tr th {\n",
       "        vertical-align: top;\n",
       "    }\n",
       "\n",
       "    .dataframe thead th {\n",
       "        text-align: right;\n",
       "    }\n",
       "</style>\n",
       "<table border=\"1\" class=\"dataframe\">\n",
       "  <thead>\n",
       "    <tr style=\"text-align: right;\">\n",
       "      <th></th>\n",
       "      <th>Donor ID</th>\n",
       "      <th>Project ID</th>\n",
       "      <th>Donation Received Date</th>\n",
       "    </tr>\n",
       "  </thead>\n",
       "  <tbody>\n",
       "    <tr>\n",
       "      <th>1703748</th>\n",
       "      <td>59b9c7a901b3d0a9c319b5f40a8208bd</td>\n",
       "      <td>b1835b789b653e72177e25cdf590b6c6</td>\n",
       "      <td>2013-08-28 01:34:25</td>\n",
       "    </tr>\n",
       "    <tr>\n",
       "      <th>297738</th>\n",
       "      <td>0c8f0a3bcc4355408a65c2e048e7a08e</td>\n",
       "      <td>5861298ad07837b1e38a0c6f8e05c165</td>\n",
       "      <td>2017-08-31 13:24:57</td>\n",
       "    </tr>\n",
       "    <tr>\n",
       "      <th>778606</th>\n",
       "      <td>55aa4bb22cda065e8658acb371c10135</td>\n",
       "      <td>2a90ff6e0417f1d6dc7f85fd853afce9</td>\n",
       "      <td>2017-05-05 01:10:41</td>\n",
       "    </tr>\n",
       "    <tr>\n",
       "      <th>253449</th>\n",
       "      <td>7705e9d9b7f95f7e768ac5501b64d2aa</td>\n",
       "      <td>e35c1ee34e7363f421ddbe087fc52b90</td>\n",
       "      <td>2017-02-27 18:21:38</td>\n",
       "    </tr>\n",
       "    <tr>\n",
       "      <th>958563</th>\n",
       "      <td>9b3831f3a7086e17220a646756b3f668</td>\n",
       "      <td>4c42367829ec721eb87d58e0970507a5</td>\n",
       "      <td>2015-08-18 15:35:10</td>\n",
       "    </tr>\n",
       "  </tbody>\n",
       "</table>\n",
       "</div>"
      ],
      "text/plain": [
       "                                 Donor ID                        Project ID  \\\n",
       "1703748  59b9c7a901b3d0a9c319b5f40a8208bd  b1835b789b653e72177e25cdf590b6c6   \n",
       "297738   0c8f0a3bcc4355408a65c2e048e7a08e  5861298ad07837b1e38a0c6f8e05c165   \n",
       "778606   55aa4bb22cda065e8658acb371c10135  2a90ff6e0417f1d6dc7f85fd853afce9   \n",
       "253449   7705e9d9b7f95f7e768ac5501b64d2aa  e35c1ee34e7363f421ddbe087fc52b90   \n",
       "958563   9b3831f3a7086e17220a646756b3f668  4c42367829ec721eb87d58e0970507a5   \n",
       "\n",
       "        Donation Received Date  \n",
       "1703748    2013-08-28 01:34:25  \n",
       "297738     2017-08-31 13:24:57  \n",
       "778606     2017-05-05 01:10:41  \n",
       "253449     2017-02-27 18:21:38  \n",
       "958563     2015-08-18 15:35:10  "
      ]
     },
     "execution_count": 222,
     "metadata": {},
     "output_type": "execute_result"
    }
   ],
   "source": [
    "df_donor.sample(5)"
   ]
  },
  {
   "cell_type": "code",
   "execution_count": 298,
   "metadata": {
    "ExecuteTime": {
     "end_time": "2020-12-19T08:27:38.834155Z",
     "start_time": "2020-12-19T08:27:38.737637Z"
    }
   },
   "outputs": [],
   "source": [
    "def trainTestSplit(df_donor, donor_id): # one donor_id at a time\n",
    "    donated_projects = list(df_donor[df_donor['Donor ID'] == donor_id]['Project ID'])\n",
    "    \n",
    "    \n",
    "    train = 0\n",
    "    train = int(round(0.8 * len(donated_projects), 0))\n",
    "    train_projects = donated_projects[:train]\n",
    "    test_projects = donated_projects[train:]\n",
    "    \n",
    "    last_donation_date = df_donor[(df_donor['Donor ID'] == donor_id) & (df_donor['Project ID'] == train_projects[-1])]['Donation Received Date']\n",
    "    last_donation_date = pd.Timestamp(str(last_donation_date).split()[1])\n",
    "    \n",
    "    \n",
    "    return train_projects, test_projects, last_donation_date\n",
    "\n",
    "# test the function here\n",
    "train_projects, test_projects, last_donation_date = trainTestSplit(df_donor, '6464c0ad878eca6368c913feda1c52c4')"
   ]
  },
  {
   "cell_type": "code",
   "execution_count": 293,
   "metadata": {
    "ExecuteTime": {
     "end_time": "2020-12-19T08:25:12.190249Z",
     "start_time": "2020-12-19T08:25:10.734990Z"
    }
   },
   "outputs": [],
   "source": [
    "# because we are doing content-based filtering, here are the features of the projects we are interested in:\n",
    "\n",
    "ohFeatures = ['Project ID', 'Project Expiration Date', 'Project Cost (Up to)', 'Project Type','Project Subject Category Tree',\n",
    "       'Project Grade Level Category', 'Project Resource Category',\n",
    "       'Project Current Status',\n",
    "       'School Metro Type', 'School State']\n",
    "\n",
    "# features we will do one hot encoding on\n",
    "dropCol = ['Project Cost (Up to)', 'Project Type', 'Project Subject Category Tree', 'Project Grade Level Category',\n",
    "           'Project Resource Category', 'Project Current Status',\n",
    "           'School Metro Type', 'School State']\n",
    "\n",
    "def oheDataFrame(dataframe): # the dataframe could either be training or validation set\n",
    "    projFeatures = dataframe[ohFeatures] # only considering the selected features (ohFeatures)\n",
    "    projFeatures = removeDuplicates(projFeatures, 'Project ID')\n",
    "    projFeatures = projFeatures.dropna() # drop the null values as well\n",
    "    projFeatures = projFeatures.sort_values(by = ['Project ID'])\n",
    "\n",
    "    featuresList = list(projFeatures.columns)\n",
    "    \n",
    "    enc = OHE(handle_unknown = 'ignore')\n",
    "    enc.fit(projFeatures.iloc[:,2:]) # fit the one hot vector on our dataframe\n",
    "    \n",
    "    # convert the one-hot matrix into a dataframe\n",
    "    oneHotMatrix = pd.DataFrame(enc.transform(projFeatures.iloc[:,2:]).toarray())\n",
    "    projOHM = pd.concat([projFeatures.reset_index(drop = True), oneHotMatrix.reset_index(drop = True)], axis = 1)\n",
    "    projOHM = projOHM.drop(dropCol, axis = 1) # dropping the categorical columns because they have already been vectorized\n",
    "\n",
    "    # data dictionary to track the one hot matrix\n",
    "\n",
    "    dataDict = list(enc.get_feature_names(dropCol)) # please note that any new input should strictly should the indexes\n",
    "                                                    # mentioned in data dictionary\n",
    "\n",
    "    \n",
    "    # scale and normalize the dataset\n",
    "\n",
    "    ohmDF = pd.DataFrame(StandardScaler().fit_transform(projOHM.iloc[:,2:]))\n",
    "    ohmDFwProj = pd.concat([projOHM[['Project ID', 'Project Expiration Date']], ohmDF], axis = 1)\n",
    "    ohmDFwProj['Project Expiration Date'] =  pd.to_datetime(ohmDFwProj['Project Expiration Date'])\n",
    "    ohmDFwProj = ohmDFwProj.sort_values(by = ['Project Expiration Date'])\n",
    "    \n",
    "    return ohmDFwProj\n",
    "\n",
    "ohmDFwProj = oheDataFrame(df_final_cal)"
   ]
  },
  {
   "cell_type": "code",
   "execution_count": 225,
   "metadata": {
    "ExecuteTime": {
     "end_time": "2020-12-19T07:52:48.046243Z",
     "start_time": "2020-12-19T07:52:48.021533Z"
    }
   },
   "outputs": [
    {
     "data": {
      "text/html": [
       "<div>\n",
       "<style scoped>\n",
       "    .dataframe tbody tr th:only-of-type {\n",
       "        vertical-align: middle;\n",
       "    }\n",
       "\n",
       "    .dataframe tbody tr th {\n",
       "        vertical-align: top;\n",
       "    }\n",
       "\n",
       "    .dataframe thead th {\n",
       "        text-align: right;\n",
       "    }\n",
       "</style>\n",
       "<table border=\"1\" class=\"dataframe\">\n",
       "  <thead>\n",
       "    <tr style=\"text-align: right;\">\n",
       "      <th></th>\n",
       "      <th>Project ID</th>\n",
       "      <th>Project Expiration Date</th>\n",
       "      <th>0</th>\n",
       "      <th>1</th>\n",
       "      <th>2</th>\n",
       "      <th>3</th>\n",
       "      <th>4</th>\n",
       "      <th>5</th>\n",
       "      <th>6</th>\n",
       "      <th>7</th>\n",
       "      <th>...</th>\n",
       "      <th>80</th>\n",
       "      <th>81</th>\n",
       "      <th>82</th>\n",
       "      <th>83</th>\n",
       "      <th>84</th>\n",
       "      <th>85</th>\n",
       "      <th>86</th>\n",
       "      <th>87</th>\n",
       "      <th>88</th>\n",
       "      <th>89</th>\n",
       "    </tr>\n",
       "  </thead>\n",
       "  <tbody>\n",
       "    <tr>\n",
       "      <th>83173</th>\n",
       "      <td>daefd8bb3daf9045be45318cce63225e</td>\n",
       "      <td>2013-09-21</td>\n",
       "      <td>-0.719591</td>\n",
       "      <td>-0.32398</td>\n",
       "      <td>-0.209574</td>\n",
       "      <td>-0.147667</td>\n",
       "      <td>-0.175159</td>\n",
       "      <td>1.060486</td>\n",
       "      <td>-0.109236</td>\n",
       "      <td>-0.096734</td>\n",
       "      <td>...</td>\n",
       "      <td>-0.057115</td>\n",
       "      <td>-0.378367</td>\n",
       "      <td>0.401088</td>\n",
       "      <td>-0.116301</td>\n",
       "      <td>-0.14204</td>\n",
       "      <td>1.342352</td>\n",
       "      <td>-0.162189</td>\n",
       "      <td>-0.205339</td>\n",
       "      <td>-1.121844</td>\n",
       "      <td>0.0</td>\n",
       "    </tr>\n",
       "    <tr>\n",
       "      <th>10605</th>\n",
       "      <td>1b792072713faceb98b1007d37d7a7df</td>\n",
       "      <td>2017-11-22</td>\n",
       "      <td>1.389678</td>\n",
       "      <td>-0.32398</td>\n",
       "      <td>-0.209574</td>\n",
       "      <td>-0.147667</td>\n",
       "      <td>-0.175159</td>\n",
       "      <td>-0.942964</td>\n",
       "      <td>-0.109236</td>\n",
       "      <td>-0.096734</td>\n",
       "      <td>...</td>\n",
       "      <td>-0.057115</td>\n",
       "      <td>-0.378367</td>\n",
       "      <td>0.401088</td>\n",
       "      <td>-0.116301</td>\n",
       "      <td>-0.14204</td>\n",
       "      <td>-0.744961</td>\n",
       "      <td>-0.162189</td>\n",
       "      <td>-0.205339</td>\n",
       "      <td>0.891389</td>\n",
       "      <td>0.0</td>\n",
       "    </tr>\n",
       "    <tr>\n",
       "      <th>58633</th>\n",
       "      <td>9a92c32e4f9f0fc192631067ec8c14f2</td>\n",
       "      <td>2013-09-08</td>\n",
       "      <td>1.389678</td>\n",
       "      <td>-0.32398</td>\n",
       "      <td>-0.209574</td>\n",
       "      <td>-0.147667</td>\n",
       "      <td>-0.175159</td>\n",
       "      <td>-0.942964</td>\n",
       "      <td>-0.109236</td>\n",
       "      <td>-0.096734</td>\n",
       "      <td>...</td>\n",
       "      <td>-0.057115</td>\n",
       "      <td>-0.378367</td>\n",
       "      <td>0.401088</td>\n",
       "      <td>-0.116301</td>\n",
       "      <td>-0.14204</td>\n",
       "      <td>-0.744961</td>\n",
       "      <td>-0.162189</td>\n",
       "      <td>-0.205339</td>\n",
       "      <td>0.891389</td>\n",
       "      <td>0.0</td>\n",
       "    </tr>\n",
       "    <tr>\n",
       "      <th>64178</th>\n",
       "      <td>a94f2cf5b6660afbed0034ad26ed58b4</td>\n",
       "      <td>2018-08-27</td>\n",
       "      <td>-0.719591</td>\n",
       "      <td>-0.32398</td>\n",
       "      <td>-0.209574</td>\n",
       "      <td>-0.147667</td>\n",
       "      <td>-0.175159</td>\n",
       "      <td>1.060486</td>\n",
       "      <td>-0.109236</td>\n",
       "      <td>-0.096734</td>\n",
       "      <td>...</td>\n",
       "      <td>-0.057115</td>\n",
       "      <td>-0.378367</td>\n",
       "      <td>0.401088</td>\n",
       "      <td>-0.116301</td>\n",
       "      <td>-0.14204</td>\n",
       "      <td>1.342352</td>\n",
       "      <td>-0.162189</td>\n",
       "      <td>-0.205339</td>\n",
       "      <td>-1.121844</td>\n",
       "      <td>0.0</td>\n",
       "    </tr>\n",
       "    <tr>\n",
       "      <th>90790</th>\n",
       "      <td>ef489c9d47fab94c25aab0770e501d74</td>\n",
       "      <td>2015-06-17</td>\n",
       "      <td>1.389678</td>\n",
       "      <td>-0.32398</td>\n",
       "      <td>-0.209574</td>\n",
       "      <td>-0.147667</td>\n",
       "      <td>-0.175159</td>\n",
       "      <td>-0.942964</td>\n",
       "      <td>-0.109236</td>\n",
       "      <td>-0.096734</td>\n",
       "      <td>...</td>\n",
       "      <td>-0.057115</td>\n",
       "      <td>2.642939</td>\n",
       "      <td>-2.493219</td>\n",
       "      <td>-0.116301</td>\n",
       "      <td>-0.14204</td>\n",
       "      <td>1.342352</td>\n",
       "      <td>-0.162189</td>\n",
       "      <td>-0.205339</td>\n",
       "      <td>-1.121844</td>\n",
       "      <td>0.0</td>\n",
       "    </tr>\n",
       "  </tbody>\n",
       "</table>\n",
       "<p>5 rows × 92 columns</p>\n",
       "</div>"
      ],
      "text/plain": [
       "                             Project ID Project Expiration Date         0  \\\n",
       "83173  daefd8bb3daf9045be45318cce63225e              2013-09-21 -0.719591   \n",
       "10605  1b792072713faceb98b1007d37d7a7df              2017-11-22  1.389678   \n",
       "58633  9a92c32e4f9f0fc192631067ec8c14f2              2013-09-08  1.389678   \n",
       "64178  a94f2cf5b6660afbed0034ad26ed58b4              2018-08-27 -0.719591   \n",
       "90790  ef489c9d47fab94c25aab0770e501d74              2015-06-17  1.389678   \n",
       "\n",
       "             1         2         3         4         5         6         7  \\\n",
       "83173 -0.32398 -0.209574 -0.147667 -0.175159  1.060486 -0.109236 -0.096734   \n",
       "10605 -0.32398 -0.209574 -0.147667 -0.175159 -0.942964 -0.109236 -0.096734   \n",
       "58633 -0.32398 -0.209574 -0.147667 -0.175159 -0.942964 -0.109236 -0.096734   \n",
       "64178 -0.32398 -0.209574 -0.147667 -0.175159  1.060486 -0.109236 -0.096734   \n",
       "90790 -0.32398 -0.209574 -0.147667 -0.175159 -0.942964 -0.109236 -0.096734   \n",
       "\n",
       "       ...        80        81        82        83       84        85  \\\n",
       "83173  ... -0.057115 -0.378367  0.401088 -0.116301 -0.14204  1.342352   \n",
       "10605  ... -0.057115 -0.378367  0.401088 -0.116301 -0.14204 -0.744961   \n",
       "58633  ... -0.057115 -0.378367  0.401088 -0.116301 -0.14204 -0.744961   \n",
       "64178  ... -0.057115 -0.378367  0.401088 -0.116301 -0.14204  1.342352   \n",
       "90790  ... -0.057115  2.642939 -2.493219 -0.116301 -0.14204  1.342352   \n",
       "\n",
       "             86        87        88   89  \n",
       "83173 -0.162189 -0.205339 -1.121844  0.0  \n",
       "10605 -0.162189 -0.205339  0.891389  0.0  \n",
       "58633 -0.162189 -0.205339  0.891389  0.0  \n",
       "64178 -0.162189 -0.205339 -1.121844  0.0  \n",
       "90790 -0.162189 -0.205339 -1.121844  0.0  \n",
       "\n",
       "[5 rows x 92 columns]"
      ]
     },
     "execution_count": 225,
     "metadata": {},
     "output_type": "execute_result"
    }
   ],
   "source": [
    "ohmDFwProj.sample(5)"
   ]
  },
  {
   "cell_type": "code",
   "execution_count": 226,
   "metadata": {
    "ExecuteTime": {
     "end_time": "2020-12-19T07:52:49.451454Z",
     "start_time": "2020-12-19T07:52:49.436044Z"
    }
   },
   "outputs": [],
   "source": [
    "# this function takes a list of donated projects and averages their feature to compile a donation profile\n",
    "\n",
    "def donationProfile(ohe_df, train_projects): #train_projects is the list of donated projects\n",
    "                                                #ohe_df is the one-hot encoded df of all projects\n",
    "        \n",
    "    projs = ohe_df[ohe_df['Project ID'].isin(train_projects)]\n",
    "    projs_avg = pd.DataFrame(projs.iloc[:,2:].mean(axis = 0)).T\n",
    "    \n",
    "    return projs_avg\n",
    "\n",
    "projs_avg = donationProfile(ohmDFwProj, train_projects)"
   ]
  },
  {
   "cell_type": "code",
   "execution_count": 286,
   "metadata": {
    "ExecuteTime": {
     "end_time": "2020-12-19T08:23:13.014794Z",
     "start_time": "2020-12-19T08:23:13.009581Z"
    }
   },
   "outputs": [],
   "source": [
    "def cosineSimilarity(ohe_df, project, train_projects, last_donation, numRec): # only works for one observation (project) at a time\n",
    "                                                # project here is the average project\n",
    "        \n",
    "    \n",
    "    ohe_df = ohe_df[-ohe_df['Project ID'].isin(train_projects)]\n",
    "    \n",
    "    \n",
    "    # getting the cosine similarity between our feature matrix and test sample\n",
    "    cosSim = cosine_similarity(ohe_df.iloc[:,2:], project) # one-hot encoded dataframe is the dataframe here\n",
    "    recProjects = pd.concat([ohe_df.iloc[:,:2], pd.DataFrame(cosSim)], axis = 1)\n",
    "\n",
    "    recProjects = recProjects[recProjects['Project Expiration Date'] > last_donation] # only recommend projects that expire after the donation date\n",
    "    \n",
    "    recProjects = recProjects.sort_values(by = 0, ascending = False) # sorting the similarity in descending order\n",
    "    \n",
    "    topRec = list(recProjects.head(numRec).iloc[:,0]) # the first column is the project ID\n",
    "    \n",
    "    return topRec"
   ]
  },
  {
   "cell_type": "code",
   "execution_count": 256,
   "metadata": {
    "ExecuteTime": {
     "end_time": "2020-12-19T08:14:27.155398Z",
     "start_time": "2020-12-19T08:14:27.150949Z"
    }
   },
   "outputs": [],
   "source": [
    "def getTopPrecision(df_donor, donor_id, numRec, ohe_df = ohmDFwProj):\n",
    "    train_projects, test_projects, last_donation_date = trainTestSplit(df_donor, donor_id)\n",
    "    \n",
    "    projs_avg = donationProfile(ohe_df, train_projects)\n",
    "    \n",
    "    top10Rec = cosineSimilarity(ohe_df, projs_avg, train_projects, last_donation_date, numRec)\n",
    "    \n",
    "    hits = 0\n",
    "    \n",
    "    for i in top10Rec:\n",
    "        if i in test_projects:\n",
    "            hits += 1\n",
    "    \n",
    "    return hits\n",
    "\n",
    "# getTopPrecision(df_donor, '0002806acba3480d65cec587c1afb1ee', 10, ohmDFwProj)"
   ]
  },
  {
   "cell_type": "code",
   "execution_count": 301,
   "metadata": {
    "ExecuteTime": {
     "end_time": "2020-12-19T12:25:11.845361Z",
     "start_time": "2020-12-19T12:25:11.842793Z"
    }
   },
   "outputs": [
    {
     "name": "stdout",
     "output_type": "stream",
     "text": [
      "{5: 0.0, 10: 0.0, 25: 8e-05, 50: 8e-05, 100: 8e-05}\n"
     ]
    }
   ],
   "source": [
    "# rec_precision_results = getPrecision(donor_list, df_donor, ohmDFwProj)\n",
    "\n",
    "print(rec_precision_results)"
   ]
  },
  {
   "cell_type": "markdown",
   "metadata": {},
   "source": [
    "## Recommendation System Execution"
   ]
  },
  {
   "cell_type": "code",
   "execution_count": 299,
   "metadata": {
    "ExecuteTime": {
     "end_time": "2020-12-19T08:28:49.630252Z",
     "start_time": "2020-12-19T08:28:49.625456Z"
    }
   },
   "outputs": [],
   "source": [
    "num_recs = [5, 10, 25, 50, 100] # number of recommendations\n",
    "training_datapoints = 1000 # the number of donors we wanna look at\n",
    "hits = 0\n",
    "\n",
    "precision_results = {}\n",
    "\n",
    "for i in num_recs:\n",
    "    for j in rd.sample(donor_list, training_datapoints):\n",
    "        hits += getTopPrecision(df_donor, j, i, ohe_df)\n",
    "\n",
    "    precision = hits / (i * training_datapoints)\n",
    "    precision_results[i] = precision"
   ]
  },
  {
   "cell_type": "code",
   "execution_count": 302,
   "metadata": {
    "ExecuteTime": {
     "end_time": "2020-12-19T14:49:38.461215Z",
     "start_time": "2020-12-19T14:49:38.458126Z"
    }
   },
   "outputs": [
    {
     "name": "stdout",
     "output_type": "stream",
     "text": [
      "{5: 0.0, 10: 0.0, 25: 8e-05, 50: 8e-05, 100: 8e-05}\n"
     ]
    }
   ],
   "source": [
    "# rec_precision_results = getPrecision(donor_list, df_donor, ohmDFwProj)\n",
    "\n",
    "print(rec_precision_results)"
   ]
  },
  {
   "cell_type": "code",
   "execution_count": 332,
   "metadata": {
    "ExecuteTime": {
     "end_time": "2020-12-19T14:58:05.045170Z",
     "start_time": "2020-12-19T14:58:05.039559Z"
    }
   },
   "outputs": [],
   "source": [
    "rec_results = pd.DataFrame.from_dict(rec_precision_results, orient = 'index').reset_index()\n",
    "rec_results[0] = rec_results[0] * 100\n",
    "rec_results.columns = ['# of Recommendations', 'Recommendation System Precision']"
   ]
  },
  {
   "cell_type": "code",
   "execution_count": 333,
   "metadata": {
    "ExecuteTime": {
     "end_time": "2020-12-19T14:58:05.264136Z",
     "start_time": "2020-12-19T14:58:05.257633Z"
    }
   },
   "outputs": [],
   "source": [
    "randomrec_results = pd.DataFrame({5: [0], 10: [0], 25: [0], 50: [0], 100: [0]})\n",
    "\n",
    "randomrec_results = randomrec_results.T.reset_index()\n",
    "randomrec_results.columns = ['# of Recommendations', 'Random Recommendation Precision']"
   ]
  },
  {
   "cell_type": "code",
   "execution_count": 334,
   "metadata": {
    "ExecuteTime": {
     "end_time": "2020-12-19T14:58:05.530973Z",
     "start_time": "2020-12-19T14:58:05.519188Z"
    }
   },
   "outputs": [
    {
     "data": {
      "text/html": [
       "<div>\n",
       "<style scoped>\n",
       "    .dataframe tbody tr th:only-of-type {\n",
       "        vertical-align: middle;\n",
       "    }\n",
       "\n",
       "    .dataframe tbody tr th {\n",
       "        vertical-align: top;\n",
       "    }\n",
       "\n",
       "    .dataframe thead th {\n",
       "        text-align: right;\n",
       "    }\n",
       "</style>\n",
       "<table border=\"1\" class=\"dataframe\">\n",
       "  <thead>\n",
       "    <tr style=\"text-align: right;\">\n",
       "      <th></th>\n",
       "      <th># of Recommendations</th>\n",
       "      <th>Random Recommendation Precision</th>\n",
       "      <th>Recommendation System Precision</th>\n",
       "    </tr>\n",
       "  </thead>\n",
       "  <tbody>\n",
       "    <tr>\n",
       "      <th>0</th>\n",
       "      <td>5</td>\n",
       "      <td>0</td>\n",
       "      <td>0.000</td>\n",
       "    </tr>\n",
       "    <tr>\n",
       "      <th>1</th>\n",
       "      <td>10</td>\n",
       "      <td>0</td>\n",
       "      <td>0.000</td>\n",
       "    </tr>\n",
       "    <tr>\n",
       "      <th>2</th>\n",
       "      <td>25</td>\n",
       "      <td>0</td>\n",
       "      <td>0.008</td>\n",
       "    </tr>\n",
       "    <tr>\n",
       "      <th>3</th>\n",
       "      <td>50</td>\n",
       "      <td>0</td>\n",
       "      <td>0.008</td>\n",
       "    </tr>\n",
       "    <tr>\n",
       "      <th>4</th>\n",
       "      <td>100</td>\n",
       "      <td>0</td>\n",
       "      <td>0.008</td>\n",
       "    </tr>\n",
       "  </tbody>\n",
       "</table>\n",
       "</div>"
      ],
      "text/plain": [
       "   # of Recommendations  Random Recommendation Precision  \\\n",
       "0                     5                                0   \n",
       "1                    10                                0   \n",
       "2                    25                                0   \n",
       "3                    50                                0   \n",
       "4                   100                                0   \n",
       "\n",
       "   Recommendation System Precision  \n",
       "0                            0.000  \n",
       "1                            0.000  \n",
       "2                            0.008  \n",
       "3                            0.008  \n",
       "4                            0.008  "
      ]
     },
     "execution_count": 334,
     "metadata": {},
     "output_type": "execute_result"
    }
   ],
   "source": [
    "rec_results_final = randomrec_results.merge(rec_results, on = '# of Recommendations')\n",
    "rec_results_final"
   ]
  },
  {
   "cell_type": "code",
   "execution_count": 335,
   "metadata": {
    "ExecuteTime": {
     "end_time": "2020-12-19T15:42:26.096520Z",
     "start_time": "2020-12-19T15:42:26.073888Z"
    }
   },
   "outputs": [
    {
     "data": {
      "text/html": [
       "<div>\n",
       "<style scoped>\n",
       "    .dataframe tbody tr th:only-of-type {\n",
       "        vertical-align: middle;\n",
       "    }\n",
       "\n",
       "    .dataframe tbody tr th {\n",
       "        vertical-align: top;\n",
       "    }\n",
       "\n",
       "    .dataframe thead th {\n",
       "        text-align: right;\n",
       "    }\n",
       "</style>\n",
       "<table border=\"1\" class=\"dataframe\">\n",
       "  <thead>\n",
       "    <tr style=\"text-align: right;\">\n",
       "      <th></th>\n",
       "      <th>Donor ID</th>\n",
       "      <th>Donation Received Date</th>\n",
       "      <th>Donor City</th>\n",
       "      <th>Donor State</th>\n",
       "      <th>Donor Is Teacher</th>\n",
       "      <th>Donor Zip</th>\n",
       "      <th>Project ID</th>\n",
       "      <th>Donation ID</th>\n",
       "      <th>Donation Included Optional Donation</th>\n",
       "      <th>Donation Amount</th>\n",
       "      <th>...</th>\n",
       "      <th>Project Current Status</th>\n",
       "      <th>Project Fully Funded Date</th>\n",
       "      <th>School Name</th>\n",
       "      <th>School Metro Type</th>\n",
       "      <th>School Percentage Free Lunch</th>\n",
       "      <th>School State</th>\n",
       "      <th>School Zip</th>\n",
       "      <th>School City</th>\n",
       "      <th>School County</th>\n",
       "      <th>School District</th>\n",
       "    </tr>\n",
       "  </thead>\n",
       "  <tbody>\n",
       "    <tr>\n",
       "      <th>8</th>\n",
       "      <td>00002d44003ed46b066607c5455a999a</td>\n",
       "      <td>2016-10-25 20:15:11</td>\n",
       "      <td>Winton</td>\n",
       "      <td>California</td>\n",
       "      <td>Yes</td>\n",
       "      <td>953</td>\n",
       "      <td>e2beb818569f66adaa4ced21ca299ac6</td>\n",
       "      <td>08ed72ce14c548e8131a7dd7b8561988</td>\n",
       "      <td>Yes</td>\n",
       "      <td>10.0</td>\n",
       "      <td>...</td>\n",
       "      <td>Fully Funded</td>\n",
       "      <td>2016-12-26</td>\n",
       "      <td>Herbert Hoover Middle School</td>\n",
       "      <td>urban</td>\n",
       "      <td>82.0</td>\n",
       "      <td>California</td>\n",
       "      <td>95340</td>\n",
       "      <td>Merced</td>\n",
       "      <td>Merced</td>\n",
       "      <td>Merced City School District</td>\n",
       "    </tr>\n",
       "  </tbody>\n",
       "</table>\n",
       "<p>1 rows × 36 columns</p>\n",
       "</div>"
      ],
      "text/plain": [
       "                           Donor ID Donation Received Date Donor City  \\\n",
       "8  00002d44003ed46b066607c5455a999a    2016-10-25 20:15:11     Winton   \n",
       "\n",
       "  Donor State Donor Is Teacher Donor Zip                        Project ID  \\\n",
       "8  California              Yes       953  e2beb818569f66adaa4ced21ca299ac6   \n",
       "\n",
       "                        Donation ID Donation Included Optional Donation  \\\n",
       "8  08ed72ce14c548e8131a7dd7b8561988                                 Yes   \n",
       "\n",
       "   Donation Amount  ...  Project Current Status Project Fully Funded Date  \\\n",
       "8             10.0  ...            Fully Funded                2016-12-26   \n",
       "\n",
       "                    School Name  School Metro Type  \\\n",
       "8  Herbert Hoover Middle School              urban   \n",
       "\n",
       "  School Percentage Free Lunch School State School Zip School City  \\\n",
       "8                         82.0   California      95340      Merced   \n",
       "\n",
       "  School County              School District  \n",
       "8        Merced  Merced City School District  \n",
       "\n",
       "[1 rows x 36 columns]"
      ]
     },
     "execution_count": 335,
     "metadata": {},
     "output_type": "execute_result"
    }
   ],
   "source": [
    "df_final_cal.head(1)"
   ]
  },
  {
   "cell_type": "code",
   "execution_count": 341,
   "metadata": {
    "ExecuteTime": {
     "end_time": "2020-12-19T15:46:03.574603Z",
     "start_time": "2020-12-19T15:46:03.409848Z"
    }
   },
   "outputs": [
    {
     "data": {
      "text/html": [
       "<div>\n",
       "<style scoped>\n",
       "    .dataframe tbody tr th:only-of-type {\n",
       "        vertical-align: middle;\n",
       "    }\n",
       "\n",
       "    .dataframe tbody tr th {\n",
       "        vertical-align: top;\n",
       "    }\n",
       "\n",
       "    .dataframe thead th {\n",
       "        text-align: right;\n",
       "    }\n",
       "</style>\n",
       "<table border=\"1\" class=\"dataframe\">\n",
       "  <thead>\n",
       "    <tr style=\"text-align: right;\">\n",
       "      <th></th>\n",
       "      <th>Donor ID</th>\n",
       "      <th>Project ID</th>\n",
       "      <th>Donation Received Date</th>\n",
       "    </tr>\n",
       "  </thead>\n",
       "  <tbody>\n",
       "    <tr>\n",
       "      <th>8</th>\n",
       "      <td>00002d44003ed46b066607c5455a999a</td>\n",
       "      <td>e2beb818569f66adaa4ced21ca299ac6</td>\n",
       "      <td>2016-10-25 20:15:11</td>\n",
       "    </tr>\n",
       "    <tr>\n",
       "      <th>106</th>\n",
       "      <td>00002d44003ed46b066607c5455a999a</td>\n",
       "      <td>64f54f1efcbeb986114a7a13e6b27257</td>\n",
       "      <td>2017-01-16 14:20:10</td>\n",
       "    </tr>\n",
       "    <tr>\n",
       "      <th>3</th>\n",
       "      <td>00002d44003ed46b066607c5455a999a</td>\n",
       "      <td>e09933470f4256cc2643341c1d299e55</td>\n",
       "      <td>2017-02-01 18:53:25</td>\n",
       "    </tr>\n",
       "    <tr>\n",
       "      <th>1</th>\n",
       "      <td>00002d44003ed46b066607c5455a999a</td>\n",
       "      <td>2f53e5f31890e647048ac217cda3b83f</td>\n",
       "      <td>2017-04-01 01:08:50</td>\n",
       "    </tr>\n",
       "    <tr>\n",
       "      <th>112</th>\n",
       "      <td>00002d44003ed46b066607c5455a999a</td>\n",
       "      <td>c5821d32012efd7df4f6fa12e230e991</td>\n",
       "      <td>2017-10-18 14:34:11</td>\n",
       "    </tr>\n",
       "  </tbody>\n",
       "</table>\n",
       "</div>"
      ],
      "text/plain": [
       "                             Donor ID                        Project ID  \\\n",
       "8    00002d44003ed46b066607c5455a999a  e2beb818569f66adaa4ced21ca299ac6   \n",
       "106  00002d44003ed46b066607c5455a999a  64f54f1efcbeb986114a7a13e6b27257   \n",
       "3    00002d44003ed46b066607c5455a999a  e09933470f4256cc2643341c1d299e55   \n",
       "1    00002d44003ed46b066607c5455a999a  2f53e5f31890e647048ac217cda3b83f   \n",
       "112  00002d44003ed46b066607c5455a999a  c5821d32012efd7df4f6fa12e230e991   \n",
       "\n",
       "    Donation Received Date  \n",
       "8      2016-10-25 20:15:11  \n",
       "106    2017-01-16 14:20:10  \n",
       "3      2017-02-01 18:53:25  \n",
       "1      2017-04-01 01:08:50  \n",
       "112    2017-10-18 14:34:11  "
      ]
     },
     "execution_count": 341,
     "metadata": {},
     "output_type": "execute_result"
    }
   ],
   "source": [
    "f = ['Donor ID', 'Project ID', 'Donation Received Date']\n",
    "\n",
    "t = df_final_cal[f]\n",
    "t = removeDuplicates(t, 'Project ID')\n",
    "t[t['Donor ID'] == '00002d44003ed46b066607c5455a999a']"
   ]
  },
  {
   "cell_type": "code",
   "execution_count": 348,
   "metadata": {
    "ExecuteTime": {
     "end_time": "2020-12-19T15:55:53.163039Z",
     "start_time": "2020-12-19T15:55:53.131677Z"
    }
   },
   "outputs": [
    {
     "data": {
      "text/html": [
       "<div>\n",
       "<style scoped>\n",
       "    .dataframe tbody tr th:only-of-type {\n",
       "        vertical-align: middle;\n",
       "    }\n",
       "\n",
       "    .dataframe tbody tr th {\n",
       "        vertical-align: top;\n",
       "    }\n",
       "\n",
       "    .dataframe thead th {\n",
       "        text-align: right;\n",
       "    }\n",
       "</style>\n",
       "<table border=\"1\" class=\"dataframe\">\n",
       "  <thead>\n",
       "    <tr style=\"text-align: right;\">\n",
       "      <th></th>\n",
       "      <th>Recommended Projects</th>\n",
       "    </tr>\n",
       "  </thead>\n",
       "  <tbody>\n",
       "    <tr>\n",
       "      <th>0</th>\n",
       "      <td>fcbaf20dd4acc6db01b41d57048b988d</td>\n",
       "    </tr>\n",
       "    <tr>\n",
       "      <th>1</th>\n",
       "      <td>48314c7720ad2402d0ede9b3b4bcfce2</td>\n",
       "    </tr>\n",
       "    <tr>\n",
       "      <th>2</th>\n",
       "      <td>cc0da336e6dbe04f8e7a24076d37bee4</td>\n",
       "    </tr>\n",
       "    <tr>\n",
       "      <th>3</th>\n",
       "      <td>812b74963373d4923412eab4667a18e4</td>\n",
       "    </tr>\n",
       "    <tr>\n",
       "      <th>4</th>\n",
       "      <td>d6eaf1127585aac68dedb15e5700bfff</td>\n",
       "    </tr>\n",
       "  </tbody>\n",
       "</table>\n",
       "</div>"
      ],
      "text/plain": [
       "               Recommended Projects\n",
       "0  fcbaf20dd4acc6db01b41d57048b988d\n",
       "1  48314c7720ad2402d0ede9b3b4bcfce2\n",
       "2  cc0da336e6dbe04f8e7a24076d37bee4\n",
       "3  812b74963373d4923412eab4667a18e4\n",
       "4  d6eaf1127585aac68dedb15e5700bfff"
      ]
     },
     "execution_count": 348,
     "metadata": {},
     "output_type": "execute_result"
    }
   ],
   "source": [
    "project_lst = list(t['Project ID'])\n",
    "\n",
    "rand = pd.DataFrame(rd.sample(project_lst, 5))\n",
    "rand.columns = ['Recommended Projects']\n",
    "\n",
    "rand"
   ]
  },
  {
   "cell_type": "code",
   "execution_count": 355,
   "metadata": {
    "ExecuteTime": {
     "end_time": "2020-12-19T16:35:01.762825Z",
     "start_time": "2020-12-19T16:35:01.758437Z"
    }
   },
   "outputs": [
    {
     "data": {
      "text/plain": [
       "(97187, 92)"
      ]
     },
     "execution_count": 355,
     "metadata": {},
     "output_type": "execute_result"
    }
   ],
   "source": [
    "ohmDFwProj.shape"
   ]
  },
  {
   "cell_type": "code",
   "execution_count": 358,
   "metadata": {
    "ExecuteTime": {
     "end_time": "2020-12-19T16:44:21.886083Z",
     "start_time": "2020-12-19T16:44:21.580850Z"
    }
   },
   "outputs": [
    {
     "data": {
      "text/plain": [
       "34902"
      ]
     },
     "execution_count": 358,
     "metadata": {},
     "output_type": "execute_result"
    }
   ],
   "source": [
    "len(np.unique(df_final_cal['Donor ID']))"
   ]
  },
  {
   "cell_type": "code",
   "execution_count": 361,
   "metadata": {
    "ExecuteTime": {
     "end_time": "2020-12-19T17:04:32.427117Z",
     "start_time": "2020-12-19T17:04:32.346986Z"
    }
   },
   "outputs": [],
   "source": [
    "def trainTestSplit(df_donor, donor_id): # one donor_id at a time\n",
    "    donated_projects = list(df_donor[df_donor['Donor ID'] == donor_id]['Project ID'])\n",
    "    \n",
    "    \n",
    "    train = 0\n",
    "    train = int(round(0.8 * len(donated_projects), 0))\n",
    "    train_projects = donated_projects[:train]\n",
    "    test_projects = donated_projects[train:]\n",
    "    \n",
    "    last_donation_date = df_donor[(df_donor['Donor ID'] == donor_id) & (df_donor['Project ID'] == train_projects[-1])]['Donation Received Date']\n",
    "    last_donation_date = pd.Timestamp(str(last_donation_date).split()[1])\n",
    "    \n",
    "    \n",
    "    return donated_projects, train_projects, test_projects, last_donation_date\n",
    "\n",
    "# test the function here\n",
    "donated_projects, train_projects, test_projects, last_donation_date = trainTestSplit(df_donor, '00002d44003ed46b066607c5455a999a')"
   ]
  },
  {
   "cell_type": "code",
   "execution_count": 366,
   "metadata": {
    "ExecuteTime": {
     "end_time": "2020-12-19T18:45:58.481627Z",
     "start_time": "2020-12-19T18:45:58.454847Z"
    }
   },
   "outputs": [
    {
     "data": {
      "text/plain": [
       "741.5240377669335"
      ]
     },
     "execution_count": 366,
     "metadata": {},
     "output_type": "execute_result"
    }
   ],
   "source": [
    "np.mean(projectsDF['Project Cost'])"
   ]
  },
  {
   "cell_type": "code",
   "execution_count": 367,
   "metadata": {
    "ExecuteTime": {
     "end_time": "2020-12-19T18:51:46.683512Z",
     "start_time": "2020-12-19T18:51:46.678218Z"
    }
   },
   "outputs": [
    {
     "data": {
      "text/plain": [
       "Index(['Project ID', 'School ID', 'Teacher ID',\n",
       "       'Teacher Project Posted Sequence', 'Project Type', 'Project Title',\n",
       "       'Project Essay', 'Project Short Description', 'Project Need Statement',\n",
       "       'Project Subject Category Tree', 'Project Subject Subcategory Tree',\n",
       "       'Project Grade Level Category', 'Project Resource Category',\n",
       "       'Project Cost', 'Project Posted Date', 'Project Expiration Date',\n",
       "       'Project Current Status', 'Project Fully Funded Date'],\n",
       "      dtype='object')"
      ]
     },
     "execution_count": 367,
     "metadata": {},
     "output_type": "execute_result"
    }
   ],
   "source": [
    "projectsDF.columns"
   ]
  },
  {
   "cell_type": "code",
   "execution_count": 368,
   "metadata": {
    "ExecuteTime": {
     "end_time": "2020-12-19T18:52:07.145914Z",
     "start_time": "2020-12-19T18:52:07.141870Z"
    }
   },
   "outputs": [
    {
     "data": {
      "text/plain": [
       "Index(['School ID', 'School Name', 'School Metro Type',\n",
       "       'School Percentage Free Lunch', 'School State', 'School Zip',\n",
       "       'School City', 'School County', 'School District'],\n",
       "      dtype='object')"
      ]
     },
     "execution_count": 368,
     "metadata": {},
     "output_type": "execute_result"
    }
   ],
   "source": [
    "schoolsDF.columns"
   ]
  },
  {
   "cell_type": "code",
   "execution_count": 384,
   "metadata": {
    "ExecuteTime": {
     "end_time": "2020-12-19T18:59:47.175294Z",
     "start_time": "2020-12-19T18:59:44.184979Z"
    }
   },
   "outputs": [],
   "source": [
    "ab = pd.merge(projectsDF, schoolsDF, on = 'School ID', how = 'left')"
   ]
  },
  {
   "cell_type": "code",
   "execution_count": 385,
   "metadata": {
    "ExecuteTime": {
     "end_time": "2020-12-19T18:59:51.877897Z",
     "start_time": "2020-12-19T18:59:50.963819Z"
    }
   },
   "outputs": [
    {
     "data": {
      "text/plain": [
       "167107"
      ]
     },
     "execution_count": 385,
     "metadata": {},
     "output_type": "execute_result"
    }
   ],
   "source": [
    "len(ab[ab['School State'] == 'California'])"
   ]
  },
  {
   "cell_type": "code",
   "execution_count": 374,
   "metadata": {
    "ExecuteTime": {
     "end_time": "2020-12-19T18:55:09.186858Z",
     "start_time": "2020-12-19T18:55:09.167052Z"
    }
   },
   "outputs": [
    {
     "data": {
      "text/plain": [
       "8457"
      ]
     },
     "execution_count": 374,
     "metadata": {},
     "output_type": "execute_result"
    }
   ],
   "source": [
    "len(schoolsDF[schoolsDF['School State'] == 'California'])"
   ]
  },
  {
   "cell_type": "code",
   "execution_count": 377,
   "metadata": {
    "ExecuteTime": {
     "end_time": "2020-12-19T18:56:51.096821Z",
     "start_time": "2020-12-19T18:56:51.091485Z"
    }
   },
   "outputs": [
    {
     "data": {
      "text/plain": [
       "Index(['Project ID', 'Resource Item Name', 'Resource Quantity',\n",
       "       'Resource Unit Price', 'Resource Vendor Name'],\n",
       "      dtype='object')"
      ]
     },
     "execution_count": 377,
     "metadata": {},
     "output_type": "execute_result"
    }
   ],
   "source": [
    "resourcesDF.columns"
   ]
  },
  {
   "cell_type": "code",
   "execution_count": 386,
   "metadata": {
    "ExecuteTime": {
     "end_time": "2020-12-19T19:00:16.489822Z",
     "start_time": "2020-12-19T19:00:01.063615Z"
    }
   },
   "outputs": [],
   "source": [
    "ab = ab.merge(resourcesDF, on = 'Project ID')"
   ]
  },
  {
   "cell_type": "code",
   "execution_count": 387,
   "metadata": {
    "ExecuteTime": {
     "end_time": "2020-12-19T19:00:40.329248Z",
     "start_time": "2020-12-19T19:00:33.983768Z"
    }
   },
   "outputs": [
    {
     "data": {
      "text/plain": [
       "999796"
      ]
     },
     "execution_count": 387,
     "metadata": {},
     "output_type": "execute_result"
    }
   ],
   "source": [
    "len(ab[ab['School State'] == 'California'])"
   ]
  },
  {
   "cell_type": "code",
   "execution_count": 389,
   "metadata": {
    "ExecuteTime": {
     "end_time": "2020-12-19T19:01:23.308502Z",
     "start_time": "2020-12-19T19:01:22.397400Z"
    }
   },
   "outputs": [],
   "source": [
    "cd = removeDuplicates(ab, 'School ID')"
   ]
  },
  {
   "cell_type": "code",
   "execution_count": 390,
   "metadata": {
    "ExecuteTime": {
     "end_time": "2020-12-19T19:01:33.553218Z",
     "start_time": "2020-12-19T19:01:33.533966Z"
    }
   },
   "outputs": [
    {
     "data": {
      "text/plain": [
       "8417"
      ]
     },
     "execution_count": 390,
     "metadata": {},
     "output_type": "execute_result"
    }
   ],
   "source": [
    "len(cd[cd['School State'] == 'California'])"
   ]
  },
  {
   "cell_type": "code",
   "execution_count": 391,
   "metadata": {
    "ExecuteTime": {
     "end_time": "2020-12-19T19:02:48.430729Z",
     "start_time": "2020-12-19T19:02:48.425981Z"
    }
   },
   "outputs": [
    {
     "data": {
      "text/plain": [
       "7210448"
      ]
     },
     "execution_count": 391,
     "metadata": {},
     "output_type": "execute_result"
    }
   ],
   "source": [
    "len(resourcesDF)"
   ]
  },
  {
   "cell_type": "code",
   "execution_count": 392,
   "metadata": {
    "ExecuteTime": {
     "end_time": "2020-12-19T19:03:19.932729Z",
     "start_time": "2020-12-19T19:03:19.926902Z"
    }
   },
   "outputs": [
    {
     "data": {
      "text/plain": [
       "Index(['Donor ID', 'Donation Received Date', 'Donor City', 'Donor State',\n",
       "       'Donor Is Teacher', 'Donor Zip', 'Project ID', 'Donation ID',\n",
       "       'Donation Included Optional Donation', 'Donation Amount',\n",
       "       'Donor Cart Sequence', 'School ID', 'Teacher ID',\n",
       "       'Teacher Project Posted Sequence', 'Project Type', 'Project Title',\n",
       "       'Project Essay', 'Project Short Description', 'Project Need Statement',\n",
       "       'Project Subject Category Tree', 'Project Subject Subcategory Tree',\n",
       "       'Project Grade Level Category', 'Project Resource Category',\n",
       "       'Project Cost (Up to)', 'Project Posted Date',\n",
       "       'Project Expiration Date', 'Project Current Status',\n",
       "       'Project Fully Funded Date', 'School Name', 'School Metro Type',\n",
       "       'School Percentage Free Lunch', 'School State', 'School Zip',\n",
       "       'School City', 'School County', 'School District'],\n",
       "      dtype='object')"
      ]
     },
     "execution_count": 392,
     "metadata": {},
     "output_type": "execute_result"
    }
   ],
   "source": [
    "df_final_cal.columns"
   ]
  },
  {
   "cell_type": "code",
   "execution_count": 394,
   "metadata": {
    "ExecuteTime": {
     "end_time": "2020-12-19T19:04:13.407820Z",
     "start_time": "2020-12-19T19:04:10.763513Z"
    }
   },
   "outputs": [
    {
     "data": {
      "text/plain": [
       "230798"
      ]
     },
     "execution_count": 394,
     "metadata": {},
     "output_type": "execute_result"
    }
   ],
   "source": [
    "len(df_final_cal[df_final_cal['Donor State'] == 'California'])"
   ]
  },
  {
   "cell_type": "code",
   "execution_count": 397,
   "metadata": {
    "ExecuteTime": {
     "end_time": "2020-12-19T19:07:15.413031Z",
     "start_time": "2020-12-19T19:07:15.000175Z"
    }
   },
   "outputs": [
    {
     "data": {
      "text/plain": [
       "Index(['Teacher ID', 'Teacher Prefix', 'Teacher First Project Posted Date'], dtype='object')"
      ]
     },
     "execution_count": 397,
     "metadata": {},
     "output_type": "execute_result"
    }
   ],
   "source": [
    "teachersDF = pd.read_csv('Teachers.csv')\n",
    "\n",
    "teachersDF.columns"
   ]
  },
  {
   "cell_type": "code",
   "execution_count": 405,
   "metadata": {
    "ExecuteTime": {
     "end_time": "2020-12-19T19:11:23.947955Z",
     "start_time": "2020-12-19T19:11:23.944211Z"
    }
   },
   "outputs": [
    {
     "data": {
      "text/plain": [
       "(402900, 3)"
      ]
     },
     "execution_count": 405,
     "metadata": {},
     "output_type": "execute_result"
    }
   ],
   "source": [
    "teachersDF.shape"
   ]
  },
  {
   "cell_type": "code",
   "execution_count": 414,
   "metadata": {
    "ExecuteTime": {
     "end_time": "2020-12-19T19:16:01.755485Z",
     "start_time": "2020-12-19T19:16:01.661513Z"
    }
   },
   "outputs": [
    {
     "data": {
      "text/plain": [
       "97189"
      ]
     },
     "execution_count": 414,
     "metadata": {},
     "output_type": "execute_result"
    }
   ],
   "source": [
    "len(t[t['School State'] == 'California'])"
   ]
  },
  {
   "cell_type": "code",
   "execution_count": 412,
   "metadata": {
    "ExecuteTime": {
     "end_time": "2020-12-19T19:15:54.741671Z",
     "start_time": "2020-12-19T19:15:45.687630Z"
    }
   },
   "outputs": [],
   "source": [
    "t = pd.merge(df_final_cal, resourcesDF, on = 'Project ID')\n",
    "\n",
    "t = removeDuplicates(df_final_cal, 'Project ID')\n",
    "\n"
   ]
  },
  {
   "cell_type": "code",
   "execution_count": 416,
   "metadata": {
    "ExecuteTime": {
     "end_time": "2020-12-19T20:58:46.488180Z",
     "start_time": "2020-12-19T20:58:46.472777Z"
    }
   },
   "outputs": [
    {
     "ename": "NameError",
     "evalue": "name 'df_final' is not defined",
     "output_type": "error",
     "traceback": [
      "\u001b[0;31m---------------------------------------------------------------------------\u001b[0m",
      "\u001b[0;31mNameError\u001b[0m                                 Traceback (most recent call last)",
      "\u001b[0;32m<ipython-input-416-f94a45fdf73e>\u001b[0m in \u001b[0;36m<module>\u001b[0;34m\u001b[0m\n\u001b[0;32m----> 1\u001b[0;31m \u001b[0mdf_final\u001b[0m\u001b[0;34m\u001b[0m\u001b[0;34m\u001b[0m\u001b[0m\n\u001b[0m",
      "\u001b[0;31mNameError\u001b[0m: name 'df_final' is not defined"
     ]
    }
   ],
   "source": [
    "df_final"
   ]
  },
  {
   "cell_type": "code",
   "execution_count": null,
   "metadata": {},
   "outputs": [],
   "source": []
  }
 ],
 "metadata": {
  "hide_input": false,
  "kernelspec": {
   "display_name": "Python 3",
   "language": "python",
   "name": "python3"
  },
  "language_info": {
   "codemirror_mode": {
    "name": "ipython",
    "version": 3
   },
   "file_extension": ".py",
   "mimetype": "text/x-python",
   "name": "python",
   "nbconvert_exporter": "python",
   "pygments_lexer": "ipython3",
   "version": "3.7.6"
  },
  "latex_envs": {
   "LaTeX_envs_menu_present": true,
   "autoclose": false,
   "autocomplete": true,
   "bibliofile": "biblio.bib",
   "cite_by": "apalike",
   "current_citInitial": 1,
   "eqLabelWithNumbers": true,
   "eqNumInitial": 1,
   "hotkeys": {
    "equation": "Ctrl-E",
    "itemize": "Ctrl-I"
   },
   "labels_anchors": false,
   "latex_user_defs": false,
   "report_style_numbering": false,
   "user_envs_cfg": false
  },
  "toc": {
   "base_numbering": 1,
   "nav_menu": {},
   "number_sections": true,
   "sideBar": true,
   "skip_h1_title": false,
   "title_cell": "Table of Contents",
   "title_sidebar": "Contents",
   "toc_cell": false,
   "toc_position": {
    "height": "calc(100% - 180px)",
    "left": "10px",
    "top": "150px",
    "width": "228.821px"
   },
   "toc_section_display": true,
   "toc_window_display": true
  },
  "varInspector": {
   "cols": {
    "lenName": 16,
    "lenType": 16,
    "lenVar": 40
   },
   "kernels_config": {
    "python": {
     "delete_cmd_postfix": "",
     "delete_cmd_prefix": "del ",
     "library": "var_list.py",
     "varRefreshCmd": "print(var_dic_list())"
    },
    "r": {
     "delete_cmd_postfix": ") ",
     "delete_cmd_prefix": "rm(",
     "library": "var_list.r",
     "varRefreshCmd": "cat(var_dic_list()) "
    }
   },
   "types_to_exclude": [
    "module",
    "function",
    "builtin_function_or_method",
    "instance",
    "_Feature"
   ],
   "window_display": false
  }
 },
 "nbformat": 4,
 "nbformat_minor": 4
}
