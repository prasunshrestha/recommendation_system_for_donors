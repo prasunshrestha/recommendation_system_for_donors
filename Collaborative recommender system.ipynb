{
 "cells": [
  {
   "cell_type": "markdown",
   "metadata": {
    "ExecuteTime": {
     "end_time": "2020-11-05T09:12:31.292544Z",
     "start_time": "2020-11-05T09:12:31.286663Z"
    }
   },
   "source": [
    "# Collaborative Recommendation System"
   ]
  },
  {
   "cell_type": "markdown",
   "metadata": {},
   "source": [
    "## Import packages and dataframes"
   ]
  },
  {
   "cell_type": "code",
   "execution_count": 25,
   "metadata": {
    "ExecuteTime": {
     "end_time": "2020-12-10T05:47:08.955927Z",
     "start_time": "2020-12-10T05:47:08.947948Z"
    }
   },
   "outputs": [],
   "source": [
    "import numpy as np\n",
    "import pandas as pd\n",
    "import random as rd\n",
    "from sklearn.preprocessing import OneHotEncoder as OHE\n",
    "from sklearn.metrics.pairwise import cosine_similarity\n",
    "from sklearn.preprocessing import StandardScaler\n",
    "from sklearn.metrics.pairwise import cosine_similarity\n",
    "from sklearn.metrics.pairwise import euclidean_distances\n",
    "# ignore warnings\n",
    "import warnings\n",
    "warnings.filterwarnings('ignore')\n",
    "\n",
    "pd.set_option('display.max_columns', 500)\n",
    "\n",
    "rd.seed(123)"
   ]
  },
  {
   "cell_type": "code",
   "execution_count": 2,
   "metadata": {
    "ExecuteTime": {
     "end_time": "2020-12-10T04:21:16.961683Z",
     "start_time": "2020-12-10T04:20:31.852595Z"
    }
   },
   "outputs": [],
   "source": [
    "# import all the files\n",
    "\n",
    "donationsDF = pd.read_csv('Donations.csv')\n",
    "donorsDF = pd.read_csv('Donors.csv')\n",
    "projectsDF = pd.read_csv('Projects.csv')\n",
    "schoolsDF = pd.read_csv('Schools.csv')\n",
    "resourcesDF = pd.read_csv('Resources.csv')"
   ]
  },
  {
   "cell_type": "code",
   "execution_count": 3,
   "metadata": {
    "ExecuteTime": {
     "end_time": "2020-12-05T21:28:09.189601Z",
     "start_time": "2020-12-05T21:28:09.145862Z"
    }
   },
   "outputs": [],
   "source": [
    "acs_df = pd.read_csv('zip_wise_acs_2015.csv')"
   ]
  },
  {
   "cell_type": "markdown",
   "metadata": {},
   "source": [
    "## Snapshot of the dataframes"
   ]
  },
  {
   "cell_type": "code",
   "execution_count": null,
   "metadata": {},
   "outputs": [],
   "source": [
    "donationsDF.head(2)"
   ]
  },
  {
   "cell_type": "code",
   "execution_count": null,
   "metadata": {},
   "outputs": [],
   "source": [
    "donorsDF['Donor Zip'].sort_values"
   ]
  },
  {
   "cell_type": "code",
   "execution_count": null,
   "metadata": {},
   "outputs": [],
   "source": [
    "projectsDF.head(2)"
   ]
  },
  {
   "cell_type": "markdown",
   "metadata": {},
   "source": [
    "## Remove one-time donors"
   ]
  },
  {
   "cell_type": "code",
   "execution_count": 3,
   "metadata": {
    "ExecuteTime": {
     "end_time": "2020-12-10T04:21:33.333227Z",
     "start_time": "2020-12-10T04:21:17.073440Z"
    }
   },
   "outputs": [
    {
     "name": "stdout",
     "output_type": "stream",
     "text": [
      "We got rid of 1466290 single-donors.\n"
     ]
    }
   ],
   "source": [
    "donorsDF_merged = donorsDF.merge(donationsDF, on = 'Donor ID', how = 'inner') # donation ID is the primary key here\n",
    "# Get the count of donations a donor has made\n",
    "df_temp1 = donorsDF_merged.groupby( ['Donor ID']).size().reset_index(name='Num Donations')\n",
    "df_temp2 = df_temp1[df_temp1['Num Donations'] > 1] # removing all the single-donors\n",
    "\n",
    "print(\"We got rid of %d single-donors.\" % (df_temp1.shape[0] - df_temp2.shape[0]))"
   ]
  },
  {
   "cell_type": "markdown",
   "metadata": {},
   "source": [
    "## Building dataframe for modeling"
   ]
  },
  {
   "cell_type": "code",
   "execution_count": 4,
   "metadata": {
    "ExecuteTime": {
     "end_time": "2020-12-10T04:22:00.059859Z",
     "start_time": "2020-12-10T04:21:33.459487Z"
    }
   },
   "outputs": [
    {
     "data": {
      "text/plain": [
       "(3156864, 36)"
      ]
     },
     "execution_count": 4,
     "metadata": {},
     "output_type": "execute_result"
    }
   ],
   "source": [
    "uniqDonorIDList = list(df_temp2['Donor ID']) # list of recurring donors\n",
    "df_final = donorsDF_merged[donorsDF_merged['Donor ID'].isin(uniqDonorIDList)]\n",
    "df_final = df_final.drop_duplicates(subset = ['Donation ID']) # removes duplicate Donation IDs\n",
    "df_final = df_final.merge(projectsDF, on = \"Project ID\", how = \"inner\") # adding projects to the final dataframe\n",
    "df_final = df_final.merge(schoolsDF, on = \"School ID\", how = \"inner\") # adding projects to the final dataframe\n",
    "df_final.shape"
   ]
  },
  {
   "cell_type": "markdown",
   "metadata": {},
   "source": [
    "### Training and test split"
   ]
  },
  {
   "cell_type": "code",
   "execution_count": 6,
   "metadata": {
    "ExecuteTime": {
     "end_time": "2020-12-10T04:22:58.209398Z",
     "start_time": "2020-12-10T04:22:38.115420Z"
    }
   },
   "outputs": [],
   "source": [
    "columnsList = ['Donor ID', 'Donation Received Date', 'Donor City', 'Donor State',\n",
    "       'Donor Is Teacher', 'Donor Zip', 'Project ID', 'Donation ID',\n",
    "       'Donation Included Optional Donation', 'Donation Amount',\n",
    "       'Donor Cart Sequence', 'School ID', 'Teacher ID',\n",
    "       'Teacher Project Posted Sequence', 'Project Type', 'Project Title',\n",
    "       'Project Essay', 'Project Short Description', 'Project Need Statement',\n",
    "       'Project Subject Category Tree', 'Project Subject Subcategory Tree',\n",
    "       'Project Grade Level Category', 'Project Resource Category',\n",
    "       'Project Cost', 'Project Posted Date', 'Project Expiration Date',\n",
    "       'Project Current Status', 'Project Fully Funded Date', 'School Name',\n",
    "       'School Metro Type', 'School Percentage Free Lunch', 'School State',\n",
    "       'School Zip', 'School City', 'School County', 'School District']\n",
    "\n",
    "df_final = df_final[columnsList]\n",
    "\n",
    "df_final = df_final.sort_values(by = ['Donor ID', 'Donation Received Date']) # sorts dataframe by donors and their\n",
    "                                                                            # first donation date\n",
    "donorsKeep = df_final.drop_duplicates(subset=['Donor ID'], keep='first') # keep just the first donation for each donor\n",
    "\n",
    "donorsKeep = donorsKeep.sort_values(['Donation Received Date']) # sort the donation by donation date"
   ]
  },
  {
   "cell_type": "code",
   "execution_count": 7,
   "metadata": {
    "ExecuteTime": {
     "end_time": "2020-12-10T04:23:05.218319Z",
     "start_time": "2020-12-10T04:23:03.014168Z"
    }
   },
   "outputs": [],
   "source": [
    "# Adding categories for all data so that test-train level mismatch is avoided\n",
    "categorical_columns = ['Project Type','Project Subject Category Tree','Project Grade Level Category', 'Project Resource Category','Project Current Status','School Metro Type', 'School State']\n",
    "        \n",
    "for col in categorical_columns:\n",
    "        cat_val = [str(cat) for cat in list(donorsKeep[col].unique()) if cat is not None]\n",
    "\n",
    "        donorsKeep[col] = donorsKeep[col].astype(pd.CategoricalDtype(categories=cat_val))"
   ]
  },
  {
   "cell_type": "code",
   "execution_count": 8,
   "metadata": {
    "ExecuteTime": {
     "end_time": "2020-12-10T04:23:25.166541Z",
     "start_time": "2020-12-10T04:23:09.993894Z"
    },
    "scrolled": true
   },
   "outputs": [
    {
     "data": {
      "text/html": [
       "<div>\n",
       "<style scoped>\n",
       "    .dataframe tbody tr th:only-of-type {\n",
       "        vertical-align: middle;\n",
       "    }\n",
       "\n",
       "    .dataframe tbody tr th {\n",
       "        vertical-align: top;\n",
       "    }\n",
       "\n",
       "    .dataframe thead th {\n",
       "        text-align: right;\n",
       "    }\n",
       "</style>\n",
       "<table border=\"1\" class=\"dataframe\">\n",
       "  <thead>\n",
       "    <tr style=\"text-align: right;\">\n",
       "      <th></th>\n",
       "      <th>Donor ID</th>\n",
       "      <th>Donation Received Date</th>\n",
       "      <th>Donor City</th>\n",
       "      <th>Donor State</th>\n",
       "      <th>Donor Is Teacher</th>\n",
       "      <th>Donor Zip</th>\n",
       "      <th>Project ID</th>\n",
       "      <th>Donation ID</th>\n",
       "      <th>Donation Included Optional Donation</th>\n",
       "      <th>Donation Amount</th>\n",
       "      <th>...</th>\n",
       "      <th>Project Current Status</th>\n",
       "      <th>Project Fully Funded Date</th>\n",
       "      <th>School Name</th>\n",
       "      <th>School Metro Type</th>\n",
       "      <th>School Percentage Free Lunch</th>\n",
       "      <th>School State</th>\n",
       "      <th>School Zip</th>\n",
       "      <th>School City</th>\n",
       "      <th>School County</th>\n",
       "      <th>School District</th>\n",
       "    </tr>\n",
       "  </thead>\n",
       "  <tbody>\n",
       "    <tr>\n",
       "      <th>9</th>\n",
       "      <td>00002d44003ed46b066607c5455a999a</td>\n",
       "      <td>2016-10-25 20:15:11</td>\n",
       "      <td>Winton</td>\n",
       "      <td>California</td>\n",
       "      <td>Yes</td>\n",
       "      <td>953</td>\n",
       "      <td>e2beb818569f66adaa4ced21ca299ac6</td>\n",
       "      <td>08ed72ce14c548e8131a7dd7b8561988</td>\n",
       "      <td>Yes</td>\n",
       "      <td>10.00</td>\n",
       "      <td>...</td>\n",
       "      <td>Fully Funded</td>\n",
       "      <td>2016-12-26</td>\n",
       "      <td>Herbert Hoover Middle School</td>\n",
       "      <td>urban</td>\n",
       "      <td>82.0</td>\n",
       "      <td>California</td>\n",
       "      <td>95340</td>\n",
       "      <td>Merced</td>\n",
       "      <td>Merced</td>\n",
       "      <td>Merced City School District</td>\n",
       "    </tr>\n",
       "    <tr>\n",
       "      <th>500</th>\n",
       "      <td>00002d44003ed46b066607c5455a999a</td>\n",
       "      <td>2017-01-16 01:11:20</td>\n",
       "      <td>Winton</td>\n",
       "      <td>California</td>\n",
       "      <td>Yes</td>\n",
       "      <td>953</td>\n",
       "      <td>eb6d91cbeab5037ca2f45fc3f6a4de8c</td>\n",
       "      <td>158f00637416b7c41fcde429b10c3c41</td>\n",
       "      <td>Yes</td>\n",
       "      <td>15.51</td>\n",
       "      <td>...</td>\n",
       "      <td>Fully Funded</td>\n",
       "      <td>2017-01-16</td>\n",
       "      <td>Clara B Ford Academy</td>\n",
       "      <td>suburban</td>\n",
       "      <td>95.0</td>\n",
       "      <td>Michigan</td>\n",
       "      <td>48127</td>\n",
       "      <td>Dearborn Hts</td>\n",
       "      <td>Wayne</td>\n",
       "      <td>Michigan Dept Of Education</td>\n",
       "    </tr>\n",
       "    <tr>\n",
       "      <th>164</th>\n",
       "      <td>00002d44003ed46b066607c5455a999a</td>\n",
       "      <td>2017-01-16 14:20:10</td>\n",
       "      <td>Winton</td>\n",
       "      <td>California</td>\n",
       "      <td>Yes</td>\n",
       "      <td>953</td>\n",
       "      <td>64f54f1efcbeb986114a7a13e6b27257</td>\n",
       "      <td>e3162fdec64ed91de1aa096cf75ba032</td>\n",
       "      <td>Yes</td>\n",
       "      <td>100.00</td>\n",
       "      <td>...</td>\n",
       "      <td>Expired</td>\n",
       "      <td>NaN</td>\n",
       "      <td>Donn B Chenoweth Elementary School</td>\n",
       "      <td>urban</td>\n",
       "      <td>57.0</td>\n",
       "      <td>California</td>\n",
       "      <td>95340</td>\n",
       "      <td>Merced</td>\n",
       "      <td>Merced</td>\n",
       "      <td>Merced City School District</td>\n",
       "    </tr>\n",
       "    <tr>\n",
       "      <th>175</th>\n",
       "      <td>00002d44003ed46b066607c5455a999a</td>\n",
       "      <td>2017-01-16 14:26:19</td>\n",
       "      <td>Winton</td>\n",
       "      <td>California</td>\n",
       "      <td>Yes</td>\n",
       "      <td>953</td>\n",
       "      <td>dfdaf35bb33f9c105530c82984960ff3</td>\n",
       "      <td>45ffd222223dfb2ed7728014eafe328c</td>\n",
       "      <td>Yes</td>\n",
       "      <td>9.69</td>\n",
       "      <td>...</td>\n",
       "      <td>Fully Funded</td>\n",
       "      <td>2017-01-16</td>\n",
       "      <td>Shoally Creek Elementary</td>\n",
       "      <td>unknown</td>\n",
       "      <td>61.0</td>\n",
       "      <td>South Carolina</td>\n",
       "      <td>29316</td>\n",
       "      <td>Boiling Spgs</td>\n",
       "      <td>Spartanburg</td>\n",
       "      <td>Spartanburg School District 2</td>\n",
       "    </tr>\n",
       "    <tr>\n",
       "      <th>25</th>\n",
       "      <td>00002d44003ed46b066607c5455a999a</td>\n",
       "      <td>2017-01-16 15:46:57</td>\n",
       "      <td>Winton</td>\n",
       "      <td>California</td>\n",
       "      <td>Yes</td>\n",
       "      <td>953</td>\n",
       "      <td>2f7996f08052785e9b146f72c0c4990d</td>\n",
       "      <td>c73207489356a7bcf3ef0b8660c61b04</td>\n",
       "      <td>Yes</td>\n",
       "      <td>13.75</td>\n",
       "      <td>...</td>\n",
       "      <td>Fully Funded</td>\n",
       "      <td>2017-01-16</td>\n",
       "      <td>Portland Elementary School</td>\n",
       "      <td>urban</td>\n",
       "      <td>92.0</td>\n",
       "      <td>Kentucky</td>\n",
       "      <td>40212</td>\n",
       "      <td>Louisville</td>\n",
       "      <td>Jefferson</td>\n",
       "      <td>Jefferson Co School District</td>\n",
       "    </tr>\n",
       "    <tr>\n",
       "      <th>3</th>\n",
       "      <td>00002d44003ed46b066607c5455a999a</td>\n",
       "      <td>2017-02-01 18:53:25</td>\n",
       "      <td>Winton</td>\n",
       "      <td>California</td>\n",
       "      <td>Yes</td>\n",
       "      <td>953</td>\n",
       "      <td>e09933470f4256cc2643341c1d299e55</td>\n",
       "      <td>93c0af8b821e432857e5a63687524dd9</td>\n",
       "      <td>No</td>\n",
       "      <td>150.00</td>\n",
       "      <td>...</td>\n",
       "      <td>Fully Funded</td>\n",
       "      <td>2017-02-19</td>\n",
       "      <td>Herbert Hoover Middle School</td>\n",
       "      <td>urban</td>\n",
       "      <td>82.0</td>\n",
       "      <td>California</td>\n",
       "      <td>95340</td>\n",
       "      <td>Merced</td>\n",
       "      <td>Merced</td>\n",
       "      <td>Merced City School District</td>\n",
       "    </tr>\n",
       "    <tr>\n",
       "      <th>4</th>\n",
       "      <td>00002d44003ed46b066607c5455a999a</td>\n",
       "      <td>2017-02-03 14:20:57</td>\n",
       "      <td>Winton</td>\n",
       "      <td>California</td>\n",
       "      <td>Yes</td>\n",
       "      <td>953</td>\n",
       "      <td>e09933470f4256cc2643341c1d299e55</td>\n",
       "      <td>23d388c20fb9ba1a714632d51aa8ad32</td>\n",
       "      <td>No</td>\n",
       "      <td>10.00</td>\n",
       "      <td>...</td>\n",
       "      <td>Fully Funded</td>\n",
       "      <td>2017-02-19</td>\n",
       "      <td>Herbert Hoover Middle School</td>\n",
       "      <td>urban</td>\n",
       "      <td>82.0</td>\n",
       "      <td>California</td>\n",
       "      <td>95340</td>\n",
       "      <td>Merced</td>\n",
       "      <td>Merced</td>\n",
       "      <td>Merced City School District</td>\n",
       "    </tr>\n",
       "    <tr>\n",
       "      <th>1</th>\n",
       "      <td>00002d44003ed46b066607c5455a999a</td>\n",
       "      <td>2017-04-01 01:08:50</td>\n",
       "      <td>Winton</td>\n",
       "      <td>California</td>\n",
       "      <td>Yes</td>\n",
       "      <td>953</td>\n",
       "      <td>2f53e5f31890e647048ac217cda3b83f</td>\n",
       "      <td>ee15bb7f179142fdff3f24cff8e88483</td>\n",
       "      <td>No</td>\n",
       "      <td>100.00</td>\n",
       "      <td>...</td>\n",
       "      <td>Fully Funded</td>\n",
       "      <td>2017-05-12</td>\n",
       "      <td>Herbert Hoover Middle School</td>\n",
       "      <td>urban</td>\n",
       "      <td>82.0</td>\n",
       "      <td>California</td>\n",
       "      <td>95340</td>\n",
       "      <td>Merced</td>\n",
       "      <td>Merced</td>\n",
       "      <td>Merced City School District</td>\n",
       "    </tr>\n",
       "    <tr>\n",
       "      <th>0</th>\n",
       "      <td>00002d44003ed46b066607c5455a999a</td>\n",
       "      <td>2017-05-02 12:34:09</td>\n",
       "      <td>Winton</td>\n",
       "      <td>California</td>\n",
       "      <td>Yes</td>\n",
       "      <td>953</td>\n",
       "      <td>2f53e5f31890e647048ac217cda3b83f</td>\n",
       "      <td>7831f66a25935db8b7424170355edabf</td>\n",
       "      <td>No</td>\n",
       "      <td>26.00</td>\n",
       "      <td>...</td>\n",
       "      <td>Fully Funded</td>\n",
       "      <td>2017-05-12</td>\n",
       "      <td>Herbert Hoover Middle School</td>\n",
       "      <td>urban</td>\n",
       "      <td>82.0</td>\n",
       "      <td>California</td>\n",
       "      <td>95340</td>\n",
       "      <td>Merced</td>\n",
       "      <td>Merced</td>\n",
       "      <td>Merced City School District</td>\n",
       "    </tr>\n",
       "    <tr>\n",
       "      <th>171</th>\n",
       "      <td>00002d44003ed46b066607c5455a999a</td>\n",
       "      <td>2017-10-18 14:34:11</td>\n",
       "      <td>Winton</td>\n",
       "      <td>California</td>\n",
       "      <td>Yes</td>\n",
       "      <td>953</td>\n",
       "      <td>c5821d32012efd7df4f6fa12e230e991</td>\n",
       "      <td>615d39f9c40cd3137a9854c29ad0dbe2</td>\n",
       "      <td>No</td>\n",
       "      <td>100.00</td>\n",
       "      <td>...</td>\n",
       "      <td>Fully Funded</td>\n",
       "      <td>2017-12-10</td>\n",
       "      <td>ADA Givens Elementary School</td>\n",
       "      <td>urban</td>\n",
       "      <td>81.0</td>\n",
       "      <td>California</td>\n",
       "      <td>95340</td>\n",
       "      <td>Merced</td>\n",
       "      <td>Merced</td>\n",
       "      <td>Merced City School District</td>\n",
       "    </tr>\n",
       "  </tbody>\n",
       "</table>\n",
       "<p>10 rows × 36 columns</p>\n",
       "</div>"
      ],
      "text/plain": [
       "                             Donor ID Donation Received Date Donor City  \\\n",
       "9    00002d44003ed46b066607c5455a999a    2016-10-25 20:15:11     Winton   \n",
       "500  00002d44003ed46b066607c5455a999a    2017-01-16 01:11:20     Winton   \n",
       "164  00002d44003ed46b066607c5455a999a    2017-01-16 14:20:10     Winton   \n",
       "175  00002d44003ed46b066607c5455a999a    2017-01-16 14:26:19     Winton   \n",
       "25   00002d44003ed46b066607c5455a999a    2017-01-16 15:46:57     Winton   \n",
       "3    00002d44003ed46b066607c5455a999a    2017-02-01 18:53:25     Winton   \n",
       "4    00002d44003ed46b066607c5455a999a    2017-02-03 14:20:57     Winton   \n",
       "1    00002d44003ed46b066607c5455a999a    2017-04-01 01:08:50     Winton   \n",
       "0    00002d44003ed46b066607c5455a999a    2017-05-02 12:34:09     Winton   \n",
       "171  00002d44003ed46b066607c5455a999a    2017-10-18 14:34:11     Winton   \n",
       "\n",
       "    Donor State Donor Is Teacher Donor Zip                        Project ID  \\\n",
       "9    California              Yes       953  e2beb818569f66adaa4ced21ca299ac6   \n",
       "500  California              Yes       953  eb6d91cbeab5037ca2f45fc3f6a4de8c   \n",
       "164  California              Yes       953  64f54f1efcbeb986114a7a13e6b27257   \n",
       "175  California              Yes       953  dfdaf35bb33f9c105530c82984960ff3   \n",
       "25   California              Yes       953  2f7996f08052785e9b146f72c0c4990d   \n",
       "3    California              Yes       953  e09933470f4256cc2643341c1d299e55   \n",
       "4    California              Yes       953  e09933470f4256cc2643341c1d299e55   \n",
       "1    California              Yes       953  2f53e5f31890e647048ac217cda3b83f   \n",
       "0    California              Yes       953  2f53e5f31890e647048ac217cda3b83f   \n",
       "171  California              Yes       953  c5821d32012efd7df4f6fa12e230e991   \n",
       "\n",
       "                          Donation ID Donation Included Optional Donation  \\\n",
       "9    08ed72ce14c548e8131a7dd7b8561988                                 Yes   \n",
       "500  158f00637416b7c41fcde429b10c3c41                                 Yes   \n",
       "164  e3162fdec64ed91de1aa096cf75ba032                                 Yes   \n",
       "175  45ffd222223dfb2ed7728014eafe328c                                 Yes   \n",
       "25   c73207489356a7bcf3ef0b8660c61b04                                 Yes   \n",
       "3    93c0af8b821e432857e5a63687524dd9                                  No   \n",
       "4    23d388c20fb9ba1a714632d51aa8ad32                                  No   \n",
       "1    ee15bb7f179142fdff3f24cff8e88483                                  No   \n",
       "0    7831f66a25935db8b7424170355edabf                                  No   \n",
       "171  615d39f9c40cd3137a9854c29ad0dbe2                                  No   \n",
       "\n",
       "     Donation Amount  ...  Project Current Status Project Fully Funded Date  \\\n",
       "9              10.00  ...            Fully Funded                2016-12-26   \n",
       "500            15.51  ...            Fully Funded                2017-01-16   \n",
       "164           100.00  ...                 Expired                       NaN   \n",
       "175             9.69  ...            Fully Funded                2017-01-16   \n",
       "25             13.75  ...            Fully Funded                2017-01-16   \n",
       "3             150.00  ...            Fully Funded                2017-02-19   \n",
       "4              10.00  ...            Fully Funded                2017-02-19   \n",
       "1             100.00  ...            Fully Funded                2017-05-12   \n",
       "0              26.00  ...            Fully Funded                2017-05-12   \n",
       "171           100.00  ...            Fully Funded                2017-12-10   \n",
       "\n",
       "                            School Name  School Metro Type  \\\n",
       "9          Herbert Hoover Middle School              urban   \n",
       "500                Clara B Ford Academy           suburban   \n",
       "164  Donn B Chenoweth Elementary School              urban   \n",
       "175            Shoally Creek Elementary            unknown   \n",
       "25           Portland Elementary School              urban   \n",
       "3          Herbert Hoover Middle School              urban   \n",
       "4          Herbert Hoover Middle School              urban   \n",
       "1          Herbert Hoover Middle School              urban   \n",
       "0          Herbert Hoover Middle School              urban   \n",
       "171        ADA Givens Elementary School              urban   \n",
       "\n",
       "    School Percentage Free Lunch    School State School Zip   School City  \\\n",
       "9                           82.0      California      95340        Merced   \n",
       "500                         95.0        Michigan      48127  Dearborn Hts   \n",
       "164                         57.0      California      95340        Merced   \n",
       "175                         61.0  South Carolina      29316  Boiling Spgs   \n",
       "25                          92.0        Kentucky      40212    Louisville   \n",
       "3                           82.0      California      95340        Merced   \n",
       "4                           82.0      California      95340        Merced   \n",
       "1                           82.0      California      95340        Merced   \n",
       "0                           82.0      California      95340        Merced   \n",
       "171                         81.0      California      95340        Merced   \n",
       "\n",
       "    School County                School District  \n",
       "9          Merced    Merced City School District  \n",
       "500         Wayne     Michigan Dept Of Education  \n",
       "164        Merced    Merced City School District  \n",
       "175   Spartanburg  Spartanburg School District 2  \n",
       "25      Jefferson   Jefferson Co School District  \n",
       "3          Merced    Merced City School District  \n",
       "4          Merced    Merced City School District  \n",
       "1          Merced    Merced City School District  \n",
       "0          Merced    Merced City School District  \n",
       "171        Merced    Merced City School District  \n",
       "\n",
       "[10 rows x 36 columns]"
      ]
     },
     "execution_count": 8,
     "metadata": {},
     "output_type": "execute_result"
    }
   ],
   "source": [
    "donationsTrainNum = int(round(0.8 * len(donorsKeep), 0)) # the top ~80% is the training data\n",
    "donationsTrain = donorsKeep.iloc[:donationsTrainNum,:]\n",
    "\n",
    "donationsValid = donorsKeep.iloc[donationsTrainNum:,] # the bottom ~20% is the validation data\n",
    "\n",
    "donorsTrainList = list(donationsTrain['Donor ID'])\n",
    "\n",
    "# donorsTrainList\n",
    "donationsTrainFinal = df_final[df_final['Donor ID'].isin(donorsTrainList)] # expanding the training data\n",
    "\n",
    "donationsTrainFinal = donationsTrainFinal.sort_values(by = ['Donor ID', 'Donation Received Date']) \n",
    "\n",
    "donationsTrainFinal.head(10)"
   ]
  },
  {
   "cell_type": "code",
   "execution_count": 9,
   "metadata": {
    "ExecuteTime": {
     "end_time": "2020-12-10T04:23:36.448721Z",
     "start_time": "2020-12-10T04:23:34.271518Z"
    },
    "scrolled": true
   },
   "outputs": [
    {
     "data": {
      "text/html": [
       "<div>\n",
       "<style scoped>\n",
       "    .dataframe tbody tr th:only-of-type {\n",
       "        vertical-align: middle;\n",
       "    }\n",
       "\n",
       "    .dataframe tbody tr th {\n",
       "        vertical-align: top;\n",
       "    }\n",
       "\n",
       "    .dataframe thead th {\n",
       "        text-align: right;\n",
       "    }\n",
       "</style>\n",
       "<table border=\"1\" class=\"dataframe\">\n",
       "  <thead>\n",
       "    <tr style=\"text-align: right;\">\n",
       "      <th></th>\n",
       "      <th>Donor ID</th>\n",
       "      <th>Donation Received Date</th>\n",
       "      <th>Donor City</th>\n",
       "      <th>Donor State</th>\n",
       "      <th>Donor Is Teacher</th>\n",
       "      <th>Donor Zip</th>\n",
       "      <th>Project ID</th>\n",
       "      <th>Donation ID</th>\n",
       "      <th>Donation Included Optional Donation</th>\n",
       "      <th>Donation Amount</th>\n",
       "      <th>...</th>\n",
       "      <th>Project Current Status</th>\n",
       "      <th>Project Fully Funded Date</th>\n",
       "      <th>School Name</th>\n",
       "      <th>School Metro Type</th>\n",
       "      <th>School Percentage Free Lunch</th>\n",
       "      <th>School State</th>\n",
       "      <th>School Zip</th>\n",
       "      <th>School City</th>\n",
       "      <th>School County</th>\n",
       "      <th>School District</th>\n",
       "    </tr>\n",
       "  </thead>\n",
       "  <tbody>\n",
       "    <tr>\n",
       "      <th>1523</th>\n",
       "      <td>00006084c3d92d904a22e0a70f5c119a</td>\n",
       "      <td>2017-04-07 17:50:19</td>\n",
       "      <td>Brick</td>\n",
       "      <td>New Jersey</td>\n",
       "      <td>Yes</td>\n",
       "      <td>087</td>\n",
       "      <td>7771a382bf28d33e0046d74f495afda7</td>\n",
       "      <td>0e7de979325e84ad03163e26d59c075a</td>\n",
       "      <td>Yes</td>\n",
       "      <td>25.0</td>\n",
       "      <td>...</td>\n",
       "      <td>Fully Funded</td>\n",
       "      <td>2017-04-10</td>\n",
       "      <td>Red Bank Middle School</td>\n",
       "      <td>suburban</td>\n",
       "      <td>89.0</td>\n",
       "      <td>New Jersey</td>\n",
       "      <td>7701</td>\n",
       "      <td>Red Bank</td>\n",
       "      <td>Monmouth</td>\n",
       "      <td>Red Bank Borough Public Sd</td>\n",
       "    </tr>\n",
       "    <tr>\n",
       "      <th>1515</th>\n",
       "      <td>00006084c3d92d904a22e0a70f5c119a</td>\n",
       "      <td>2017-04-07 17:50:20</td>\n",
       "      <td>Brick</td>\n",
       "      <td>New Jersey</td>\n",
       "      <td>Yes</td>\n",
       "      <td>087</td>\n",
       "      <td>7771a382bf28d33e0046d74f495afda7</td>\n",
       "      <td>4768c31e21e89f79ada2a05e7b1336df</td>\n",
       "      <td>Yes</td>\n",
       "      <td>25.0</td>\n",
       "      <td>...</td>\n",
       "      <td>Fully Funded</td>\n",
       "      <td>2017-04-10</td>\n",
       "      <td>Red Bank Middle School</td>\n",
       "      <td>suburban</td>\n",
       "      <td>89.0</td>\n",
       "      <td>New Jersey</td>\n",
       "      <td>7701</td>\n",
       "      <td>Red Bank</td>\n",
       "      <td>Monmouth</td>\n",
       "      <td>Red Bank Borough Public Sd</td>\n",
       "    </tr>\n",
       "    <tr>\n",
       "      <th>1518</th>\n",
       "      <td>00006084c3d92d904a22e0a70f5c119a</td>\n",
       "      <td>2017-04-07 17:50:20</td>\n",
       "      <td>Brick</td>\n",
       "      <td>New Jersey</td>\n",
       "      <td>Yes</td>\n",
       "      <td>087</td>\n",
       "      <td>7771a382bf28d33e0046d74f495afda7</td>\n",
       "      <td>7e436d1b26e60246a9bd81ac059c6e9b</td>\n",
       "      <td>Yes</td>\n",
       "      <td>50.0</td>\n",
       "      <td>...</td>\n",
       "      <td>Fully Funded</td>\n",
       "      <td>2017-04-10</td>\n",
       "      <td>Red Bank Middle School</td>\n",
       "      <td>suburban</td>\n",
       "      <td>89.0</td>\n",
       "      <td>New Jersey</td>\n",
       "      <td>7701</td>\n",
       "      <td>Red Bank</td>\n",
       "      <td>Monmouth</td>\n",
       "      <td>Red Bank Borough Public Sd</td>\n",
       "    </tr>\n",
       "    <tr>\n",
       "      <th>1519</th>\n",
       "      <td>00006084c3d92d904a22e0a70f5c119a</td>\n",
       "      <td>2017-04-07 17:50:20</td>\n",
       "      <td>Brick</td>\n",
       "      <td>New Jersey</td>\n",
       "      <td>Yes</td>\n",
       "      <td>087</td>\n",
       "      <td>7771a382bf28d33e0046d74f495afda7</td>\n",
       "      <td>698df43826119cf99d9f24488039dd64</td>\n",
       "      <td>Yes</td>\n",
       "      <td>25.0</td>\n",
       "      <td>...</td>\n",
       "      <td>Fully Funded</td>\n",
       "      <td>2017-04-10</td>\n",
       "      <td>Red Bank Middle School</td>\n",
       "      <td>suburban</td>\n",
       "      <td>89.0</td>\n",
       "      <td>New Jersey</td>\n",
       "      <td>7701</td>\n",
       "      <td>Red Bank</td>\n",
       "      <td>Monmouth</td>\n",
       "      <td>Red Bank Borough Public Sd</td>\n",
       "    </tr>\n",
       "    <tr>\n",
       "      <th>1521</th>\n",
       "      <td>00006084c3d92d904a22e0a70f5c119a</td>\n",
       "      <td>2017-04-07 17:50:20</td>\n",
       "      <td>Brick</td>\n",
       "      <td>New Jersey</td>\n",
       "      <td>Yes</td>\n",
       "      <td>087</td>\n",
       "      <td>7771a382bf28d33e0046d74f495afda7</td>\n",
       "      <td>6a618527b395daf5830e41ea4417341d</td>\n",
       "      <td>Yes</td>\n",
       "      <td>25.0</td>\n",
       "      <td>...</td>\n",
       "      <td>Fully Funded</td>\n",
       "      <td>2017-04-10</td>\n",
       "      <td>Red Bank Middle School</td>\n",
       "      <td>suburban</td>\n",
       "      <td>89.0</td>\n",
       "      <td>New Jersey</td>\n",
       "      <td>7701</td>\n",
       "      <td>Red Bank</td>\n",
       "      <td>Monmouth</td>\n",
       "      <td>Red Bank Borough Public Sd</td>\n",
       "    </tr>\n",
       "    <tr>\n",
       "      <th>1522</th>\n",
       "      <td>00006084c3d92d904a22e0a70f5c119a</td>\n",
       "      <td>2017-04-07 17:50:20</td>\n",
       "      <td>Brick</td>\n",
       "      <td>New Jersey</td>\n",
       "      <td>Yes</td>\n",
       "      <td>087</td>\n",
       "      <td>7771a382bf28d33e0046d74f495afda7</td>\n",
       "      <td>aca915b2420c0b1851da1e42642e9e27</td>\n",
       "      <td>Yes</td>\n",
       "      <td>25.0</td>\n",
       "      <td>...</td>\n",
       "      <td>Fully Funded</td>\n",
       "      <td>2017-04-10</td>\n",
       "      <td>Red Bank Middle School</td>\n",
       "      <td>suburban</td>\n",
       "      <td>89.0</td>\n",
       "      <td>New Jersey</td>\n",
       "      <td>7701</td>\n",
       "      <td>Red Bank</td>\n",
       "      <td>Monmouth</td>\n",
       "      <td>Red Bank Borough Public Sd</td>\n",
       "    </tr>\n",
       "    <tr>\n",
       "      <th>1516</th>\n",
       "      <td>00006084c3d92d904a22e0a70f5c119a</td>\n",
       "      <td>2017-04-07 17:50:21</td>\n",
       "      <td>Brick</td>\n",
       "      <td>New Jersey</td>\n",
       "      <td>Yes</td>\n",
       "      <td>087</td>\n",
       "      <td>7771a382bf28d33e0046d74f495afda7</td>\n",
       "      <td>7001340658440b07f622d175c6991179</td>\n",
       "      <td>Yes</td>\n",
       "      <td>50.0</td>\n",
       "      <td>...</td>\n",
       "      <td>Fully Funded</td>\n",
       "      <td>2017-04-10</td>\n",
       "      <td>Red Bank Middle School</td>\n",
       "      <td>suburban</td>\n",
       "      <td>89.0</td>\n",
       "      <td>New Jersey</td>\n",
       "      <td>7701</td>\n",
       "      <td>Red Bank</td>\n",
       "      <td>Monmouth</td>\n",
       "      <td>Red Bank Borough Public Sd</td>\n",
       "    </tr>\n",
       "    <tr>\n",
       "      <th>1517</th>\n",
       "      <td>00006084c3d92d904a22e0a70f5c119a</td>\n",
       "      <td>2017-04-09 17:57:41</td>\n",
       "      <td>Brick</td>\n",
       "      <td>New Jersey</td>\n",
       "      <td>Yes</td>\n",
       "      <td>087</td>\n",
       "      <td>7771a382bf28d33e0046d74f495afda7</td>\n",
       "      <td>dc010aa5685ccfb8d6db4098730bae57</td>\n",
       "      <td>Yes</td>\n",
       "      <td>50.0</td>\n",
       "      <td>...</td>\n",
       "      <td>Fully Funded</td>\n",
       "      <td>2017-04-10</td>\n",
       "      <td>Red Bank Middle School</td>\n",
       "      <td>suburban</td>\n",
       "      <td>89.0</td>\n",
       "      <td>New Jersey</td>\n",
       "      <td>7701</td>\n",
       "      <td>Red Bank</td>\n",
       "      <td>Monmouth</td>\n",
       "      <td>Red Bank Borough Public Sd</td>\n",
       "    </tr>\n",
       "    <tr>\n",
       "      <th>1525</th>\n",
       "      <td>00006084c3d92d904a22e0a70f5c119a</td>\n",
       "      <td>2017-04-09 17:58:43</td>\n",
       "      <td>Brick</td>\n",
       "      <td>New Jersey</td>\n",
       "      <td>Yes</td>\n",
       "      <td>087</td>\n",
       "      <td>7771a382bf28d33e0046d74f495afda7</td>\n",
       "      <td>bfc1f1fc38ff8b57894f283afb8fc29d</td>\n",
       "      <td>Yes</td>\n",
       "      <td>50.0</td>\n",
       "      <td>...</td>\n",
       "      <td>Fully Funded</td>\n",
       "      <td>2017-04-10</td>\n",
       "      <td>Red Bank Middle School</td>\n",
       "      <td>suburban</td>\n",
       "      <td>89.0</td>\n",
       "      <td>New Jersey</td>\n",
       "      <td>7701</td>\n",
       "      <td>Red Bank</td>\n",
       "      <td>Monmouth</td>\n",
       "      <td>Red Bank Borough Public Sd</td>\n",
       "    </tr>\n",
       "    <tr>\n",
       "      <th>1520</th>\n",
       "      <td>00006084c3d92d904a22e0a70f5c119a</td>\n",
       "      <td>2017-04-09 17:59:32</td>\n",
       "      <td>Brick</td>\n",
       "      <td>New Jersey</td>\n",
       "      <td>Yes</td>\n",
       "      <td>087</td>\n",
       "      <td>7771a382bf28d33e0046d74f495afda7</td>\n",
       "      <td>f0ae22e51a49d1f54b5d50a0b0a11910</td>\n",
       "      <td>Yes</td>\n",
       "      <td>50.0</td>\n",
       "      <td>...</td>\n",
       "      <td>Fully Funded</td>\n",
       "      <td>2017-04-10</td>\n",
       "      <td>Red Bank Middle School</td>\n",
       "      <td>suburban</td>\n",
       "      <td>89.0</td>\n",
       "      <td>New Jersey</td>\n",
       "      <td>7701</td>\n",
       "      <td>Red Bank</td>\n",
       "      <td>Monmouth</td>\n",
       "      <td>Red Bank Borough Public Sd</td>\n",
       "    </tr>\n",
       "  </tbody>\n",
       "</table>\n",
       "<p>10 rows × 36 columns</p>\n",
       "</div>"
      ],
      "text/plain": [
       "                              Donor ID Donation Received Date Donor City  \\\n",
       "1523  00006084c3d92d904a22e0a70f5c119a    2017-04-07 17:50:19      Brick   \n",
       "1515  00006084c3d92d904a22e0a70f5c119a    2017-04-07 17:50:20      Brick   \n",
       "1518  00006084c3d92d904a22e0a70f5c119a    2017-04-07 17:50:20      Brick   \n",
       "1519  00006084c3d92d904a22e0a70f5c119a    2017-04-07 17:50:20      Brick   \n",
       "1521  00006084c3d92d904a22e0a70f5c119a    2017-04-07 17:50:20      Brick   \n",
       "1522  00006084c3d92d904a22e0a70f5c119a    2017-04-07 17:50:20      Brick   \n",
       "1516  00006084c3d92d904a22e0a70f5c119a    2017-04-07 17:50:21      Brick   \n",
       "1517  00006084c3d92d904a22e0a70f5c119a    2017-04-09 17:57:41      Brick   \n",
       "1525  00006084c3d92d904a22e0a70f5c119a    2017-04-09 17:58:43      Brick   \n",
       "1520  00006084c3d92d904a22e0a70f5c119a    2017-04-09 17:59:32      Brick   \n",
       "\n",
       "     Donor State Donor Is Teacher Donor Zip                        Project ID  \\\n",
       "1523  New Jersey              Yes       087  7771a382bf28d33e0046d74f495afda7   \n",
       "1515  New Jersey              Yes       087  7771a382bf28d33e0046d74f495afda7   \n",
       "1518  New Jersey              Yes       087  7771a382bf28d33e0046d74f495afda7   \n",
       "1519  New Jersey              Yes       087  7771a382bf28d33e0046d74f495afda7   \n",
       "1521  New Jersey              Yes       087  7771a382bf28d33e0046d74f495afda7   \n",
       "1522  New Jersey              Yes       087  7771a382bf28d33e0046d74f495afda7   \n",
       "1516  New Jersey              Yes       087  7771a382bf28d33e0046d74f495afda7   \n",
       "1517  New Jersey              Yes       087  7771a382bf28d33e0046d74f495afda7   \n",
       "1525  New Jersey              Yes       087  7771a382bf28d33e0046d74f495afda7   \n",
       "1520  New Jersey              Yes       087  7771a382bf28d33e0046d74f495afda7   \n",
       "\n",
       "                           Donation ID Donation Included Optional Donation  \\\n",
       "1523  0e7de979325e84ad03163e26d59c075a                                 Yes   \n",
       "1515  4768c31e21e89f79ada2a05e7b1336df                                 Yes   \n",
       "1518  7e436d1b26e60246a9bd81ac059c6e9b                                 Yes   \n",
       "1519  698df43826119cf99d9f24488039dd64                                 Yes   \n",
       "1521  6a618527b395daf5830e41ea4417341d                                 Yes   \n",
       "1522  aca915b2420c0b1851da1e42642e9e27                                 Yes   \n",
       "1516  7001340658440b07f622d175c6991179                                 Yes   \n",
       "1517  dc010aa5685ccfb8d6db4098730bae57                                 Yes   \n",
       "1525  bfc1f1fc38ff8b57894f283afb8fc29d                                 Yes   \n",
       "1520  f0ae22e51a49d1f54b5d50a0b0a11910                                 Yes   \n",
       "\n",
       "      Donation Amount  ...  Project Current Status Project Fully Funded Date  \\\n",
       "1523             25.0  ...            Fully Funded                2017-04-10   \n",
       "1515             25.0  ...            Fully Funded                2017-04-10   \n",
       "1518             50.0  ...            Fully Funded                2017-04-10   \n",
       "1519             25.0  ...            Fully Funded                2017-04-10   \n",
       "1521             25.0  ...            Fully Funded                2017-04-10   \n",
       "1522             25.0  ...            Fully Funded                2017-04-10   \n",
       "1516             50.0  ...            Fully Funded                2017-04-10   \n",
       "1517             50.0  ...            Fully Funded                2017-04-10   \n",
       "1525             50.0  ...            Fully Funded                2017-04-10   \n",
       "1520             50.0  ...            Fully Funded                2017-04-10   \n",
       "\n",
       "                 School Name  School Metro Type School Percentage Free Lunch  \\\n",
       "1523  Red Bank Middle School           suburban                         89.0   \n",
       "1515  Red Bank Middle School           suburban                         89.0   \n",
       "1518  Red Bank Middle School           suburban                         89.0   \n",
       "1519  Red Bank Middle School           suburban                         89.0   \n",
       "1521  Red Bank Middle School           suburban                         89.0   \n",
       "1522  Red Bank Middle School           suburban                         89.0   \n",
       "1516  Red Bank Middle School           suburban                         89.0   \n",
       "1517  Red Bank Middle School           suburban                         89.0   \n",
       "1525  Red Bank Middle School           suburban                         89.0   \n",
       "1520  Red Bank Middle School           suburban                         89.0   \n",
       "\n",
       "     School State School Zip School City School County  \\\n",
       "1523   New Jersey       7701    Red Bank      Monmouth   \n",
       "1515   New Jersey       7701    Red Bank      Monmouth   \n",
       "1518   New Jersey       7701    Red Bank      Monmouth   \n",
       "1519   New Jersey       7701    Red Bank      Monmouth   \n",
       "1521   New Jersey       7701    Red Bank      Monmouth   \n",
       "1522   New Jersey       7701    Red Bank      Monmouth   \n",
       "1516   New Jersey       7701    Red Bank      Monmouth   \n",
       "1517   New Jersey       7701    Red Bank      Monmouth   \n",
       "1525   New Jersey       7701    Red Bank      Monmouth   \n",
       "1520   New Jersey       7701    Red Bank      Monmouth   \n",
       "\n",
       "                 School District  \n",
       "1523  Red Bank Borough Public Sd  \n",
       "1515  Red Bank Borough Public Sd  \n",
       "1518  Red Bank Borough Public Sd  \n",
       "1519  Red Bank Borough Public Sd  \n",
       "1521  Red Bank Borough Public Sd  \n",
       "1522  Red Bank Borough Public Sd  \n",
       "1516  Red Bank Borough Public Sd  \n",
       "1517  Red Bank Borough Public Sd  \n",
       "1525  Red Bank Borough Public Sd  \n",
       "1520  Red Bank Borough Public Sd  \n",
       "\n",
       "[10 rows x 36 columns]"
      ]
     },
     "execution_count": 9,
     "metadata": {},
     "output_type": "execute_result"
    }
   ],
   "source": [
    "donorsValidList = list(donationsValid['Donor ID'])\n",
    "\n",
    "donationsValidFinal = df_final[df_final['Donor ID'].isin(donorsValidList)] # expanding the validation data as well\n",
    "\n",
    "donationsValidFinal = donationsValidFinal.sort_values(by = ['Donor ID', 'Donation Received Date'])\n",
    "\n",
    "donationsValidFinal.head(10)"
   ]
  },
  {
   "cell_type": "code",
   "execution_count": 10,
   "metadata": {
    "ExecuteTime": {
     "end_time": "2020-12-10T04:23:46.717173Z",
     "start_time": "2020-12-10T04:23:46.098392Z"
    }
   },
   "outputs": [],
   "source": [
    "# Subset california data\n",
    "donations_cal_train = donationsTrainFinal[donationsTrainFinal[\"Donor State\"] == 'California']\n",
    "donations_cal_valid = donationsValidFinal[donationsValidFinal[\"Donor State\"] == 'California'].sort_values(by=['Donation Received Date'])"
   ]
  },
  {
   "cell_type": "code",
   "execution_count": 11,
   "metadata": {
    "ExecuteTime": {
     "end_time": "2020-12-10T04:23:57.159130Z",
     "start_time": "2020-12-10T04:23:57.146130Z"
    }
   },
   "outputs": [
    {
     "name": "stdout",
     "output_type": "stream",
     "text": [
      "Training data shape: \n",
      " (447507, 36)\n",
      "Validation data shape: \n",
      " (47695, 36)\n"
     ]
    }
   ],
   "source": [
    "print(\"Training data shape: \\n\", donations_cal_train.shape)\n",
    "print(\"Validation data shape: \\n\", donations_cal_valid.shape)"
   ]
  },
  {
   "cell_type": "code",
   "execution_count": 12,
   "metadata": {
    "ExecuteTime": {
     "end_time": "2020-12-10T04:53:28.352436Z",
     "start_time": "2020-12-10T04:53:28.334442Z"
    }
   },
   "outputs": [],
   "source": [
    "from sklearn import preprocessing\n",
    "#x = np.reshape(donations_cal_train[\"Project Cost\"].values,(-1,447507))\n",
    "# min_max_scaler = preprocessing.MinMaxScaler()\n",
    "# x_scaled = min_max_scaler.fit_transform(x)\n",
    "# Proj_cost_Scaled = x_scaled.tolist\n",
    "\n",
    "donations_cal_train['Project_cost_scaled'] = preprocessing.MinMaxScaler().fit_transform(donations_cal_train['Project Cost'].values.reshape(-1,1))"
   ]
  },
  {
   "cell_type": "code",
   "execution_count": 13,
   "metadata": {
    "ExecuteTime": {
     "end_time": "2020-12-10T04:53:39.900380Z",
     "start_time": "2020-12-10T04:53:39.863396Z"
    }
   },
   "outputs": [
    {
     "data": {
      "text/html": [
       "<div>\n",
       "<style scoped>\n",
       "    .dataframe tbody tr th:only-of-type {\n",
       "        vertical-align: middle;\n",
       "    }\n",
       "\n",
       "    .dataframe tbody tr th {\n",
       "        vertical-align: top;\n",
       "    }\n",
       "\n",
       "    .dataframe thead th {\n",
       "        text-align: right;\n",
       "    }\n",
       "</style>\n",
       "<table border=\"1\" class=\"dataframe\">\n",
       "  <thead>\n",
       "    <tr style=\"text-align: right;\">\n",
       "      <th></th>\n",
       "      <th>Donor ID</th>\n",
       "      <th>Donation Received Date</th>\n",
       "      <th>Donor City</th>\n",
       "      <th>Donor State</th>\n",
       "      <th>Donor Is Teacher</th>\n",
       "      <th>Donor Zip</th>\n",
       "      <th>Project ID</th>\n",
       "      <th>Donation ID</th>\n",
       "      <th>Donation Included Optional Donation</th>\n",
       "      <th>Donation Amount</th>\n",
       "      <th>...</th>\n",
       "      <th>Project Fully Funded Date</th>\n",
       "      <th>School Name</th>\n",
       "      <th>School Metro Type</th>\n",
       "      <th>School Percentage Free Lunch</th>\n",
       "      <th>School State</th>\n",
       "      <th>School Zip</th>\n",
       "      <th>School City</th>\n",
       "      <th>School County</th>\n",
       "      <th>School District</th>\n",
       "      <th>Project_cost_scaled</th>\n",
       "    </tr>\n",
       "  </thead>\n",
       "  <tbody>\n",
       "    <tr>\n",
       "      <th>9</th>\n",
       "      <td>00002d44003ed46b066607c5455a999a</td>\n",
       "      <td>2016-10-25 20:15:11</td>\n",
       "      <td>Winton</td>\n",
       "      <td>California</td>\n",
       "      <td>Yes</td>\n",
       "      <td>953</td>\n",
       "      <td>e2beb818569f66adaa4ced21ca299ac6</td>\n",
       "      <td>08ed72ce14c548e8131a7dd7b8561988</td>\n",
       "      <td>Yes</td>\n",
       "      <td>10.00</td>\n",
       "      <td>...</td>\n",
       "      <td>2016-12-26</td>\n",
       "      <td>Herbert Hoover Middle School</td>\n",
       "      <td>urban</td>\n",
       "      <td>82.0</td>\n",
       "      <td>California</td>\n",
       "      <td>95340</td>\n",
       "      <td>Merced</td>\n",
       "      <td>Merced</td>\n",
       "      <td>Merced City School District</td>\n",
       "      <td>0.001848</td>\n",
       "    </tr>\n",
       "    <tr>\n",
       "      <th>500</th>\n",
       "      <td>00002d44003ed46b066607c5455a999a</td>\n",
       "      <td>2017-01-16 01:11:20</td>\n",
       "      <td>Winton</td>\n",
       "      <td>California</td>\n",
       "      <td>Yes</td>\n",
       "      <td>953</td>\n",
       "      <td>eb6d91cbeab5037ca2f45fc3f6a4de8c</td>\n",
       "      <td>158f00637416b7c41fcde429b10c3c41</td>\n",
       "      <td>Yes</td>\n",
       "      <td>15.51</td>\n",
       "      <td>...</td>\n",
       "      <td>2017-01-16</td>\n",
       "      <td>Clara B Ford Academy</td>\n",
       "      <td>suburban</td>\n",
       "      <td>95.0</td>\n",
       "      <td>Michigan</td>\n",
       "      <td>48127</td>\n",
       "      <td>Dearborn Hts</td>\n",
       "      <td>Wayne</td>\n",
       "      <td>Michigan Dept Of Education</td>\n",
       "      <td>0.000871</td>\n",
       "    </tr>\n",
       "  </tbody>\n",
       "</table>\n",
       "<p>2 rows × 37 columns</p>\n",
       "</div>"
      ],
      "text/plain": [
       "                             Donor ID Donation Received Date Donor City  \\\n",
       "9    00002d44003ed46b066607c5455a999a    2016-10-25 20:15:11     Winton   \n",
       "500  00002d44003ed46b066607c5455a999a    2017-01-16 01:11:20     Winton   \n",
       "\n",
       "    Donor State Donor Is Teacher Donor Zip                        Project ID  \\\n",
       "9    California              Yes       953  e2beb818569f66adaa4ced21ca299ac6   \n",
       "500  California              Yes       953  eb6d91cbeab5037ca2f45fc3f6a4de8c   \n",
       "\n",
       "                          Donation ID Donation Included Optional Donation  \\\n",
       "9    08ed72ce14c548e8131a7dd7b8561988                                 Yes   \n",
       "500  158f00637416b7c41fcde429b10c3c41                                 Yes   \n",
       "\n",
       "     Donation Amount  ...  Project Fully Funded Date  \\\n",
       "9              10.00  ...                 2016-12-26   \n",
       "500            15.51  ...                 2017-01-16   \n",
       "\n",
       "                      School Name School Metro Type  \\\n",
       "9    Herbert Hoover Middle School             urban   \n",
       "500          Clara B Ford Academy          suburban   \n",
       "\n",
       "     School Percentage Free Lunch School State School Zip   School City  \\\n",
       "9                            82.0   California      95340        Merced   \n",
       "500                          95.0     Michigan      48127  Dearborn Hts   \n",
       "\n",
       "    School County              School District Project_cost_scaled  \n",
       "9          Merced  Merced City School District            0.001848  \n",
       "500         Wayne   Michigan Dept Of Education            0.000871  \n",
       "\n",
       "[2 rows x 37 columns]"
      ]
     },
     "execution_count": 13,
     "metadata": {},
     "output_type": "execute_result"
    }
   ],
   "source": [
    "donations_cal_train.head(2)"
   ]
  },
  {
   "cell_type": "code",
   "execution_count": 14,
   "metadata": {
    "ExecuteTime": {
     "end_time": "2020-12-10T04:54:24.602327Z",
     "start_time": "2020-12-10T04:54:24.590359Z"
    }
   },
   "outputs": [
    {
     "data": {
      "text/plain": [
       "Index(['Donor ID', 'Donation Received Date', 'Donor City', 'Donor State',\n",
       "       'Donor Is Teacher', 'Donor Zip', 'Project ID', 'Donation ID',\n",
       "       'Donation Included Optional Donation', 'Donation Amount',\n",
       "       'Donor Cart Sequence', 'School ID', 'Teacher ID',\n",
       "       'Teacher Project Posted Sequence', 'Project Type', 'Project Title',\n",
       "       'Project Essay', 'Project Short Description', 'Project Need Statement',\n",
       "       'Project Subject Category Tree', 'Project Subject Subcategory Tree',\n",
       "       'Project Grade Level Category', 'Project Resource Category',\n",
       "       'Project Cost', 'Project Posted Date', 'Project Expiration Date',\n",
       "       'Project Current Status', 'Project Fully Funded Date', 'School Name',\n",
       "       'School Metro Type', 'School Percentage Free Lunch', 'School State',\n",
       "       'School Zip', 'School City', 'School County', 'School District',\n",
       "       'Project_cost_scaled'],\n",
       "      dtype='object')"
      ]
     },
     "execution_count": 14,
     "metadata": {},
     "output_type": "execute_result"
    }
   ],
   "source": [
    "donations_cal_train.columns"
   ]
  },
  {
   "cell_type": "code",
   "execution_count": 30,
   "metadata": {
    "ExecuteTime": {
     "end_time": "2020-12-03T14:09:14.032358Z",
     "start_time": "2020-12-03T14:09:13.996416Z"
    }
   },
   "outputs": [
    {
     "data": {
      "text/html": [
       "<div>\n",
       "<style scoped>\n",
       "    .dataframe tbody tr th:only-of-type {\n",
       "        vertical-align: middle;\n",
       "    }\n",
       "\n",
       "    .dataframe tbody tr th {\n",
       "        vertical-align: top;\n",
       "    }\n",
       "\n",
       "    .dataframe thead th {\n",
       "        text-align: right;\n",
       "    }\n",
       "</style>\n",
       "<table border=\"1\" class=\"dataframe\">\n",
       "  <thead>\n",
       "    <tr style=\"text-align: right;\">\n",
       "      <th></th>\n",
       "      <th>Donor ID</th>\n",
       "      <th>Donation Received Date</th>\n",
       "      <th>Donor City</th>\n",
       "      <th>Donor State</th>\n",
       "      <th>Donor Is Teacher</th>\n",
       "      <th>Donor Zip</th>\n",
       "      <th>Project ID</th>\n",
       "      <th>Donation ID</th>\n",
       "      <th>Donation Included Optional Donation</th>\n",
       "      <th>Donation Amount</th>\n",
       "      <th>...</th>\n",
       "      <th>Project Fully Funded Date</th>\n",
       "      <th>School Name</th>\n",
       "      <th>School Metro Type</th>\n",
       "      <th>School Percentage Free Lunch</th>\n",
       "      <th>School State</th>\n",
       "      <th>School Zip</th>\n",
       "      <th>School City</th>\n",
       "      <th>School County</th>\n",
       "      <th>School District</th>\n",
       "      <th>Project_cost_scaled</th>\n",
       "    </tr>\n",
       "  </thead>\n",
       "  <tbody>\n",
       "    <tr>\n",
       "      <th>9</th>\n",
       "      <td>00002d44003ed46b066607c5455a999a</td>\n",
       "      <td>2016-10-25 20:15:11</td>\n",
       "      <td>Winton</td>\n",
       "      <td>California</td>\n",
       "      <td>Yes</td>\n",
       "      <td>953</td>\n",
       "      <td>e2beb818569f66adaa4ced21ca299ac6</td>\n",
       "      <td>08ed72ce14c548e8131a7dd7b8561988</td>\n",
       "      <td>Yes</td>\n",
       "      <td>10.00</td>\n",
       "      <td>...</td>\n",
       "      <td>2016-12-26</td>\n",
       "      <td>Herbert Hoover Middle School</td>\n",
       "      <td>urban</td>\n",
       "      <td>82.0</td>\n",
       "      <td>California</td>\n",
       "      <td>95340</td>\n",
       "      <td>Merced</td>\n",
       "      <td>Merced</td>\n",
       "      <td>Merced City School District</td>\n",
       "      <td>&lt;built-in method tolist of numpy.ndarray objec...</td>\n",
       "    </tr>\n",
       "    <tr>\n",
       "      <th>500</th>\n",
       "      <td>00002d44003ed46b066607c5455a999a</td>\n",
       "      <td>2017-01-16 01:11:20</td>\n",
       "      <td>Winton</td>\n",
       "      <td>California</td>\n",
       "      <td>Yes</td>\n",
       "      <td>953</td>\n",
       "      <td>eb6d91cbeab5037ca2f45fc3f6a4de8c</td>\n",
       "      <td>158f00637416b7c41fcde429b10c3c41</td>\n",
       "      <td>Yes</td>\n",
       "      <td>15.51</td>\n",
       "      <td>...</td>\n",
       "      <td>2017-01-16</td>\n",
       "      <td>Clara B Ford Academy</td>\n",
       "      <td>suburban</td>\n",
       "      <td>95.0</td>\n",
       "      <td>Michigan</td>\n",
       "      <td>48127</td>\n",
       "      <td>Dearborn Hts</td>\n",
       "      <td>Wayne</td>\n",
       "      <td>Michigan Dept Of Education</td>\n",
       "      <td>&lt;built-in method tolist of numpy.ndarray objec...</td>\n",
       "    </tr>\n",
       "  </tbody>\n",
       "</table>\n",
       "<p>2 rows × 37 columns</p>\n",
       "</div>"
      ],
      "text/plain": [
       "                             Donor ID Donation Received Date Donor City  \\\n",
       "9    00002d44003ed46b066607c5455a999a    2016-10-25 20:15:11     Winton   \n",
       "500  00002d44003ed46b066607c5455a999a    2017-01-16 01:11:20     Winton   \n",
       "\n",
       "    Donor State Donor Is Teacher Donor Zip                        Project ID  \\\n",
       "9    California              Yes       953  e2beb818569f66adaa4ced21ca299ac6   \n",
       "500  California              Yes       953  eb6d91cbeab5037ca2f45fc3f6a4de8c   \n",
       "\n",
       "                          Donation ID Donation Included Optional Donation  \\\n",
       "9    08ed72ce14c548e8131a7dd7b8561988                                 Yes   \n",
       "500  158f00637416b7c41fcde429b10c3c41                                 Yes   \n",
       "\n",
       "     Donation Amount  ...  Project Fully Funded Date  \\\n",
       "9              10.00  ...                 2016-12-26   \n",
       "500            15.51  ...                 2017-01-16   \n",
       "\n",
       "                      School Name School Metro Type  \\\n",
       "9    Herbert Hoover Middle School             urban   \n",
       "500          Clara B Ford Academy          suburban   \n",
       "\n",
       "     School Percentage Free Lunch School State School Zip   School City  \\\n",
       "9                            82.0   California      95340        Merced   \n",
       "500                          95.0     Michigan      48127  Dearborn Hts   \n",
       "\n",
       "    School County              School District  \\\n",
       "9          Merced  Merced City School District   \n",
       "500         Wayne   Michigan Dept Of Education   \n",
       "\n",
       "                                   Project_cost_scaled  \n",
       "9    <built-in method tolist of numpy.ndarray objec...  \n",
       "500  <built-in method tolist of numpy.ndarray objec...  \n",
       "\n",
       "[2 rows x 37 columns]"
      ]
     },
     "execution_count": 30,
     "metadata": {},
     "output_type": "execute_result"
    }
   ],
   "source": [
    "donations_cal_train.head(2)"
   ]
  },
  {
   "cell_type": "code",
   "execution_count": 15,
   "metadata": {
    "ExecuteTime": {
     "end_time": "2020-12-10T05:38:02.459991Z",
     "start_time": "2020-12-10T05:37:58.892670Z"
    }
   },
   "outputs": [],
   "source": [
    "from scipy import sparse\n",
    "\n",
    "donations_cal_train_gp = donations_cal_train.groupby(['Donor ID', 'Project ID'])['Donation Amount'].sum().reset_index()\n",
    "\n",
    "donations_cal_train_gp[\"Donated\"] = 1\n",
    "\n",
    "rows=donations_cal_train_gp[\"Donor ID\"].drop_duplicates().sort_values().reset_index().drop('index',axis=1).\\\n",
    "        reset_index().rename(columns={'index':'row_num'})\n",
    "cols=donations_cal_train_gp[\"Project ID\"].drop_duplicates().sort_values().reset_index().drop('index',axis=1).\\\n",
    "        reset_index().rename(columns={'index':'col_num'})\n",
    "\n",
    "donations_cal_train_gp_new =donations_cal_train_gp.merge(rows,how='left',on=\"Donor ID\").merge(cols,how='left',on=\"Project ID\")\n",
    "\n",
    "data = list(donations_cal_train_gp_new.Donated)\n",
    "row = list(donations_cal_train_gp_new.row_num)\n",
    "col = list(donations_cal_train_gp_new.col_num)\n",
    "\n",
    "# Create sparse matrix of donor project pair\n",
    "S = sparse.coo_matrix((data,(row,col)))\n",
    "R = S.tocsr()\n",
    "\n",
    "#Profile_profile = sparse.csr_matrix(df_features,dtype='int64')\n",
    "#donations_cal_train_pvt = donations_cal_train_gp.pivot(index='Donor ID', columns='Project ID', values='Donated')\n",
    "#donations_cal_train_pvt.head()\n",
    "# donations_cal_train_new = donations_cal_train_gp.set_index(['Donor ID', 'Project ID'])\n",
    "# mat = sparse.coo_matrix((donations_cal_train_new['Donated'],(donations_cal_train_new.index.labels[0], donations_cal_train_new.index.labels[1])))\n",
    "# R = mat.tocsr()\n",
    "\n",
    "# Create sparse matrix of project profile\n",
    "ohFeatures = ['Project ID', 'Project_cost_scaled', 'Project Type','Project Subject Category Tree',\\\n",
    "              'Project Grade Level Category', 'Project Resource Category','Project Current Status',\\\n",
    "              'School Metro Type', 'School State']\n",
    "projFeatures = donations_cal_train[ohFeatures].drop_duplicates(subset = ['Project ID'])\n",
    "\n",
    "cat_col = ['Project Type','Project Subject Category Tree','Project Grade Level Category', \\\n",
    "           'Project Resource Category','Project Current Status','School Metro Type', 'School State']\n",
    "for col in cat_col:\n",
    "    cat_val = [str(cat) for cat in list(donations_cal_train[col].unique()) if cat is not None]\n",
    "    projFeatures[col] = projFeatures[col].astype(pd.CategoricalDtype(categories=cat_val))\n",
    "    \n",
    "traindonor_cal_ohm = pd.get_dummies(projFeatures, columns=['Project Type',\\\n",
    "                                                           'Project Subject Category Tree',\\\n",
    "                                                           'Project Grade Level Category', \\\n",
    "                                                           'Project Resource Category','Project Current Status',\\\n",
    "                                                           'School Metro Type', 'School State'])\n",
    "#traindonor_cal_ohm.drop(['Project Type','Project Subject Category Tree','Project Grade Level Category', 'Project Resource Category','Project Current Status','School Metro Type', 'School State'], axis=1, inplace=True)\n",
    "traindonor_cal_ohm= traindonor_cal_ohm.fillna(0)\n",
    "traindonor_cal_ohm.set_index('Project ID', inplace=True)\n",
    "Proj_Profile = sparse.csr_matrix(traindonor_cal_ohm,dtype='int64')\n",
    "\n",
    "# Dot product to create Donor profile\n",
    "Donor_profile = R.dot(Proj_Profile)\n",
    "\n",
    "# Normalize donor profile based on number of donations made\n",
    "donations_made = pd.DataFrame(donations_cal_train_gp_new.groupby('Donor ID').Donated.count())\n",
    "donations_made.rename(index=str, columns={'Donor ID':'Donor ID', 'Donated':'Num_donations'}, inplace= True)\n",
    "donations = [x for x in donations_made.Num_donations]\n",
    "donations = np.asarray(donations)\n",
    "donations = np.reshape(donations, (-Donor_profile.shape[0], 1))\n",
    "Donor_profile = Donor_profile.multiply(1/donations)"
   ]
  },
  {
   "cell_type": "code",
   "execution_count": 16,
   "metadata": {
    "ExecuteTime": {
     "end_time": "2020-12-10T05:38:13.498325Z",
     "start_time": "2020-12-10T05:38:13.483330Z"
    },
    "scrolled": true
   },
   "outputs": [
    {
     "name": "stdout",
     "output_type": "stream",
     "text": [
      "  (0, 72)\t0.125\n",
      "  (0, 23)\t0.125\n",
      "  (0, 79)\t0.125\n",
      "  (0, 16)\t0.125\n",
      "  (0, 124)\t0.25\n",
      "  (0, 121)\t0.125\n",
      "  (0, 61)\t0.25\n",
      "  (0, 13)\t0.125\n",
      "  (0, 60)\t0.25\n",
      "  (0, 11)\t0.25\n",
      "  (0, 56)\t0.125\n",
      "  (0, 12)\t0.125\n",
      "  (0, 86)\t0.5\n",
      "  (0, 81)\t0.75\n",
      "  (0, 62)\t0.25\n",
      "  (0, 55)\t0.5\n",
      "  (0, 28)\t0.125\n",
      "  (0, 102)\t0.125\n",
      "  (0, 82)\t0.25\n",
      "  (0, 78)\t0.875\n",
      "  (0, 64)\t0.125\n",
      "  (0, 57)\t0.375\n",
      "  (0, 7)\t0.125\n",
      "  (0, 1)\t1.0\n",
      "  (1, 86)\t0.5\n",
      "  :\t:\n",
      "  (70587, 4)\t0.25\n",
      "  (70587, 86)\t0.75\n",
      "  (70587, 62)\t0.5\n",
      "  (70587, 57)\t0.25\n",
      "  (70587, 9)\t0.25\n",
      "  (70587, 91)\t0.25\n",
      "  (70587, 81)\t0.5\n",
      "  (70587, 78)\t1.0\n",
      "  (70587, 61)\t0.25\n",
      "  (70587, 58)\t0.5\n",
      "  (70587, 12)\t0.5\n",
      "  (70587, 1)\t1.0\n",
      "  (70588, 86)\t0.5\n",
      "  (70588, 82)\t0.5\n",
      "  (70588, 79)\t0.5\n",
      "  (70588, 62)\t0.5\n",
      "  (70588, 55)\t0.5\n",
      "  (70588, 18)\t0.5\n",
      "  (70588, 95)\t0.5\n",
      "  (70588, 81)\t0.5\n",
      "  (70588, 78)\t0.5\n",
      "  (70588, 60)\t0.5\n",
      "  (70588, 57)\t0.5\n",
      "  (70588, 11)\t0.5\n",
      "  (70588, 1)\t1.0\n"
     ]
    }
   ],
   "source": [
    "# donations_cal_train_gp_new.head()\n",
    "# donations_cal_train_gp[donations_cal_train_gp['Donor ID']=='fffb3518ef82b296d28fe0dc6b50f270']\n",
    "# print(donations_cal_train_gp_new[donations_cal_train_gp_new[\"row_num\"]==70583][\"Donor ID\"].values[0])\n",
    "# print(donations_cal_train_gp_new[donations_cal_train_gp_new[\"col_num\"]==58804][\"Project ID\"].values[0])\n",
    "# print(R)\n",
    "print(Donor_profile)"
   ]
  },
  {
   "cell_type": "code",
   "execution_count": 32,
   "metadata": {
    "ExecuteTime": {
     "end_time": "2020-12-10T05:52:48.164980Z",
     "start_time": "2020-12-10T05:52:48.101907Z"
    }
   },
   "outputs": [
    {
     "name": "stdout",
     "output_type": "stream",
     "text": [
      "0008ab1b251bf22f7d11fb6540327825\n"
     ]
    }
   ],
   "source": [
    "donors_val = donations_cal_valid.groupby([\"Donor ID\"])[\"Project ID\"].count().reset_index(name=\"count\")\n",
    "donors_val_list = donors_val[donors_val[\"count\"]>1][\"Donor ID\"].tolist()\n",
    "print(donors_val_list[1])\n",
    "donations_cal_valid['Project_cost_scaled'] = preprocessing.MinMaxScaler().fit_transform(donations_cal_valid['Project Cost'].values.reshape(-1,1))\n",
    "donations_cal_valid[donations_cal_valid[\"Donor ID\"] ==\"0008ab1b251bf22f7d11fb6540327825\"]\n",
    "donor_1 = donations_cal_valid[donations_cal_valid[\"Donor ID\"] ==\"0008ab1b251bf22f7d11fb6540327825\"].head(1)\n"
   ]
  },
  {
   "cell_type": "code",
   "execution_count": 33,
   "metadata": {
    "ExecuteTime": {
     "end_time": "2020-12-10T05:52:52.139203Z",
     "start_time": "2020-12-10T05:52:51.926405Z"
    }
   },
   "outputs": [],
   "source": [
    "# Single donor profile\n",
    "donor_1_gp = donor_1.groupby(['Donor ID', 'Project ID'])['Donation Amount'].sum().reset_index()\n",
    "\n",
    "donor_1_gp[\"Donated\"] = 1\n",
    "\n",
    "rows=donor_1_gp[\"Donor ID\"].drop_duplicates().sort_values().reset_index().drop('index',axis=1).\\\n",
    "        reset_index().rename(columns={'index':'row_num'})\n",
    "cols=donor_1_gp[\"Project ID\"].drop_duplicates().sort_values().reset_index().drop('index',axis=1).\\\n",
    "        reset_index().rename(columns={'index':'col_num'})\n",
    "\n",
    "donor_1_gp_new =donor_1_gp.merge(rows,how='left',on=\"Donor ID\").merge(cols,how='left',on=\"Project ID\")\n",
    "\n",
    "data = list(donor_1_gp_new.Donated)\n",
    "row = list(donor_1_gp_new.row_num)\n",
    "col = list(donor_1_gp_new.col_num)\n",
    "\n",
    "# Create sparse matrix of donor project pair\n",
    "S = sparse.coo_matrix((data,(row,col)))\n",
    "R = S.tocsr()\n",
    "\n",
    "#Profile_profile = sparse.csr_matrix(df_features,dtype='int64')\n",
    "#donations_cal_train_pvt = donations_cal_train_gp.pivot(index='Donor ID', columns='Project ID', values='Donated')\n",
    "#donations_cal_train_pvt.head()\n",
    "# donations_cal_train_new = donations_cal_train_gp.set_index(['Donor ID', 'Project ID'])\n",
    "# mat = sparse.coo_matrix((donations_cal_train_new['Donated'],(donations_cal_train_new.index.labels[0], donations_cal_train_new.index.labels[1])))\n",
    "# R = mat.tocsr()\n",
    "# Get categories\n",
    "\n",
    "\n",
    "# Create sparse matrix of project profile\n",
    "ohFeatures = ['Project ID', 'Project_cost_scaled', 'Project Type','Project Subject Category Tree','Project Grade Level Category', 'Project Resource Category','Project Current Status','School Metro Type', 'School State']\n",
    "projFeatures = donor_1[ohFeatures].drop_duplicates(subset = ['Project ID'])\n",
    "cat_col = ['Project Type','Project Subject Category Tree','Project Grade Level Category', 'Project Resource Category','Project Current Status','School Metro Type', 'School State']\n",
    "for col in cat_col:\n",
    "    cat_val = [str(cat) for cat in list(donations_cal_train[col].unique()) if cat is not None]\n",
    "    projFeatures[col] = projFeatures[col].astype(pd.CategoricalDtype(categories=cat_val))\n",
    "\n",
    "donor_1_ohm = pd.get_dummies(projFeatures, columns=['Project Type','Project Subject Category Tree','Project Grade Level Category', 'Project Resource Category','Project Current Status','School Metro Type', 'School State'])\n",
    "#traindonor_cal_ohm.drop(['Project Type','Project Subject Category Tree','Project Grade Level Category', 'Project Resource Category','Project Current Status','School Metro Type', 'School State'], axis=1, inplace=True)\n",
    "\n",
    "donor_1_ohm= donor_1_ohm.fillna(0)\n",
    "donor_1_ohm.set_index('Project ID', inplace=True)\n",
    "#print(donor_1_ohm.columns)\n",
    "Proj_Profile = sparse.csr_matrix(donor_1_ohm,dtype='int64')\n",
    "\n",
    "# Dot product to create Donor profile\n",
    "Donor_1_profile = R.dot(Proj_Profile)"
   ]
  },
  {
   "cell_type": "code",
   "execution_count": 34,
   "metadata": {
    "ExecuteTime": {
     "end_time": "2020-12-10T05:52:54.761040Z",
     "start_time": "2020-12-10T05:52:54.688833Z"
    }
   },
   "outputs": [
    {
     "name": "stdout",
     "output_type": "stream",
     "text": [
      "11356\n"
     ]
    }
   ],
   "source": [
    "\n",
    "cos_sim = cosine_similarity(Donor_profile,Donor_1_profile)\n",
    "print(cos_sim.argmax())\n",
    "#cos_sim.argsort()[-5:][::-1]\n",
    "#idx = (-cos_sim).argsort()[:5]\n",
    "#print(type(cos_sim))\n",
    "#cos_df = pd.DataFrame(cos_sim)\n",
    "#print(cos_df)"
   ]
  },
  {
   "cell_type": "code",
   "execution_count": 22,
   "metadata": {
    "ExecuteTime": {
     "end_time": "2020-12-10T05:44:36.661601Z",
     "start_time": "2020-12-10T05:44:36.649615Z"
    }
   },
   "outputs": [
    {
     "data": {
      "text/plain": [
       "numpy.ndarray"
      ]
     },
     "execution_count": 22,
     "metadata": {},
     "output_type": "execute_result"
    }
   ],
   "source": [
    "type(cos_sim)\n",
    "numpy.sort"
   ]
  },
  {
   "cell_type": "code",
   "execution_count": 35,
   "metadata": {
    "ExecuteTime": {
     "end_time": "2020-12-10T05:53:00.103605Z",
     "start_time": "2020-12-10T05:53:00.048710Z"
    }
   },
   "outputs": [
    {
     "data": {
      "text/plain": [
       "11356"
      ]
     },
     "execution_count": 35,
     "metadata": {},
     "output_type": "execute_result"
    }
   ],
   "source": [
    "\n",
    "euc_dis = euclidean_distances(Donor_profile,Donor_1_profile)\n",
    "euc_dis.argmin()\n"
   ]
  },
  {
   "cell_type": "code",
   "execution_count": 36,
   "metadata": {
    "ExecuteTime": {
     "end_time": "2020-12-10T05:53:02.791137Z",
     "start_time": "2020-12-10T05:53:02.745419Z"
    }
   },
   "outputs": [
    {
     "name": "stdout",
     "output_type": "stream",
     "text": [
      "0008ab1b251bf22f7d11fb6540327825\n"
     ]
    },
    {
     "data": {
      "text/html": [
       "<div>\n",
       "<style scoped>\n",
       "    .dataframe tbody tr th:only-of-type {\n",
       "        vertical-align: middle;\n",
       "    }\n",
       "\n",
       "    .dataframe tbody tr th {\n",
       "        vertical-align: top;\n",
       "    }\n",
       "\n",
       "    .dataframe thead th {\n",
       "        text-align: right;\n",
       "    }\n",
       "</style>\n",
       "<table border=\"1\" class=\"dataframe\">\n",
       "  <thead>\n",
       "    <tr style=\"text-align: right;\">\n",
       "      <th></th>\n",
       "      <th>Donor ID</th>\n",
       "      <th>Donation Received Date</th>\n",
       "      <th>Donor City</th>\n",
       "      <th>Donor State</th>\n",
       "      <th>Donor Is Teacher</th>\n",
       "      <th>Donor Zip</th>\n",
       "      <th>Project ID</th>\n",
       "      <th>Donation ID</th>\n",
       "      <th>Donation Included Optional Donation</th>\n",
       "      <th>Donation Amount</th>\n",
       "      <th>Donor Cart Sequence</th>\n",
       "      <th>School ID</th>\n",
       "      <th>Teacher ID</th>\n",
       "      <th>Teacher Project Posted Sequence</th>\n",
       "      <th>Project Type</th>\n",
       "      <th>Project Title</th>\n",
       "      <th>Project Essay</th>\n",
       "      <th>Project Short Description</th>\n",
       "      <th>Project Need Statement</th>\n",
       "      <th>Project Subject Category Tree</th>\n",
       "      <th>Project Subject Subcategory Tree</th>\n",
       "      <th>Project Grade Level Category</th>\n",
       "      <th>Project Resource Category</th>\n",
       "      <th>Project Cost</th>\n",
       "      <th>Project Posted Date</th>\n",
       "      <th>Project Expiration Date</th>\n",
       "      <th>Project Current Status</th>\n",
       "      <th>Project Fully Funded Date</th>\n",
       "      <th>School Name</th>\n",
       "      <th>School Metro Type</th>\n",
       "      <th>School Percentage Free Lunch</th>\n",
       "      <th>School State</th>\n",
       "      <th>School Zip</th>\n",
       "      <th>School City</th>\n",
       "      <th>School County</th>\n",
       "      <th>School District</th>\n",
       "      <th>Project_cost_scaled</th>\n",
       "    </tr>\n",
       "  </thead>\n",
       "  <tbody>\n",
       "    <tr>\n",
       "      <th>41460</th>\n",
       "      <td>0008ab1b251bf22f7d11fb6540327825</td>\n",
       "      <td>2017-09-05 10:01:46</td>\n",
       "      <td>Sacramento</td>\n",
       "      <td>California</td>\n",
       "      <td>Yes</td>\n",
       "      <td>958</td>\n",
       "      <td>136a79ea37c63eeb4c170a5c1a4f90c7</td>\n",
       "      <td>fb468ffea57c853bea1648076b54df47</td>\n",
       "      <td>Yes</td>\n",
       "      <td>25.0</td>\n",
       "      <td>1</td>\n",
       "      <td>adeff7eebec13b6b8872f63735b7dad3</td>\n",
       "      <td>0008ab1b251bf22f7d11fb6540327825</td>\n",
       "      <td>3</td>\n",
       "      <td>Teacher-Led</td>\n",
       "      <td>Newcomer Students Picking Up STEAM.</td>\n",
       "      <td>My students are third and fourth grade newcome...</td>\n",
       "      <td>My students are third and fourth grade newcome...</td>\n",
       "      <td>My students need STEM building kits and block ...</td>\n",
       "      <td>Math &amp; Science, Music &amp; The Arts</td>\n",
       "      <td>Applied Sciences, Visual Arts</td>\n",
       "      <td>Grades 3-5</td>\n",
       "      <td>Supplies</td>\n",
       "      <td>495.21</td>\n",
       "      <td>2017-09-05</td>\n",
       "      <td>2018-01-04</td>\n",
       "      <td>Fully Funded</td>\n",
       "      <td>2017-09-06</td>\n",
       "      <td>Woodridge Elementary School</td>\n",
       "      <td>suburban</td>\n",
       "      <td>95.0</td>\n",
       "      <td>California</td>\n",
       "      <td>95842</td>\n",
       "      <td>Sacramento</td>\n",
       "      <td>Sacramento</td>\n",
       "      <td>Twin Rivers Unified Sch Dist</td>\n",
       "      <td>0.018279</td>\n",
       "    </tr>\n",
       "  </tbody>\n",
       "</table>\n",
       "</div>"
      ],
      "text/plain": [
       "                               Donor ID Donation Received Date  Donor City  \\\n",
       "41460  0008ab1b251bf22f7d11fb6540327825    2017-09-05 10:01:46  Sacramento   \n",
       "\n",
       "      Donor State Donor Is Teacher Donor Zip  \\\n",
       "41460  California              Yes       958   \n",
       "\n",
       "                             Project ID                       Donation ID  \\\n",
       "41460  136a79ea37c63eeb4c170a5c1a4f90c7  fb468ffea57c853bea1648076b54df47   \n",
       "\n",
       "      Donation Included Optional Donation  Donation Amount  \\\n",
       "41460                                 Yes             25.0   \n",
       "\n",
       "       Donor Cart Sequence                         School ID  \\\n",
       "41460                    1  adeff7eebec13b6b8872f63735b7dad3   \n",
       "\n",
       "                             Teacher ID  Teacher Project Posted Sequence  \\\n",
       "41460  0008ab1b251bf22f7d11fb6540327825                                3   \n",
       "\n",
       "      Project Type                        Project Title  \\\n",
       "41460  Teacher-Led  Newcomer Students Picking Up STEAM.   \n",
       "\n",
       "                                           Project Essay  \\\n",
       "41460  My students are third and fourth grade newcome...   \n",
       "\n",
       "                               Project Short Description  \\\n",
       "41460  My students are third and fourth grade newcome...   \n",
       "\n",
       "                                  Project Need Statement  \\\n",
       "41460  My students need STEM building kits and block ...   \n",
       "\n",
       "          Project Subject Category Tree Project Subject Subcategory Tree  \\\n",
       "41460  Math & Science, Music & The Arts    Applied Sciences, Visual Arts   \n",
       "\n",
       "      Project Grade Level Category Project Resource Category  Project Cost  \\\n",
       "41460                   Grades 3-5                  Supplies        495.21   \n",
       "\n",
       "      Project Posted Date Project Expiration Date Project Current Status  \\\n",
       "41460          2017-09-05              2018-01-04           Fully Funded   \n",
       "\n",
       "      Project Fully Funded Date                  School Name  \\\n",
       "41460                2017-09-06  Woodridge Elementary School   \n",
       "\n",
       "      School Metro Type  School Percentage Free Lunch School State  \\\n",
       "41460          suburban                          95.0   California   \n",
       "\n",
       "       School Zip School City School County               School District  \\\n",
       "41460       95842  Sacramento    Sacramento  Twin Rivers Unified Sch Dist   \n",
       "\n",
       "       Project_cost_scaled  \n",
       "41460             0.018279  "
      ]
     },
     "execution_count": 36,
     "metadata": {},
     "output_type": "execute_result"
    }
   ],
   "source": [
    "# Selected donor\n",
    "print(donors_val_list[1])\n",
    "donations_cal_valid[donations_cal_valid[\"Donor ID\"] ==\"0008ab1b251bf22f7d11fb6540327825\"].head(1)\n",
    "#[['Project ID', 'Project Cost', 'Project Type','Project Subject Category Tree','Project Grade Level Category', 'Project Resource Category','Project Current Status','School Metro Type', 'School State']]\n"
   ]
  },
  {
   "cell_type": "code",
   "execution_count": 37,
   "metadata": {
    "ExecuteTime": {
     "end_time": "2020-12-10T05:53:06.322056Z",
     "start_time": "2020-12-10T05:53:06.242230Z"
    },
    "scrolled": true
   },
   "outputs": [
    {
     "name": "stdout",
     "output_type": "stream",
     "text": [
      "29230db7d19074f071979f6beb5d911c\n"
     ]
    },
    {
     "data": {
      "text/html": [
       "<div>\n",
       "<style scoped>\n",
       "    .dataframe tbody tr th:only-of-type {\n",
       "        vertical-align: middle;\n",
       "    }\n",
       "\n",
       "    .dataframe tbody tr th {\n",
       "        vertical-align: top;\n",
       "    }\n",
       "\n",
       "    .dataframe thead th {\n",
       "        text-align: right;\n",
       "    }\n",
       "</style>\n",
       "<table border=\"1\" class=\"dataframe\">\n",
       "  <thead>\n",
       "    <tr style=\"text-align: right;\">\n",
       "      <th></th>\n",
       "      <th>Donor ID</th>\n",
       "      <th>Donation Received Date</th>\n",
       "      <th>Donor City</th>\n",
       "      <th>Donor State</th>\n",
       "      <th>Donor Is Teacher</th>\n",
       "      <th>Donor Zip</th>\n",
       "      <th>Project ID</th>\n",
       "      <th>Donation ID</th>\n",
       "      <th>Donation Included Optional Donation</th>\n",
       "      <th>Donation Amount</th>\n",
       "      <th>Donor Cart Sequence</th>\n",
       "      <th>School ID</th>\n",
       "      <th>Teacher ID</th>\n",
       "      <th>Teacher Project Posted Sequence</th>\n",
       "      <th>Project Type</th>\n",
       "      <th>Project Title</th>\n",
       "      <th>Project Essay</th>\n",
       "      <th>Project Short Description</th>\n",
       "      <th>Project Need Statement</th>\n",
       "      <th>Project Subject Category Tree</th>\n",
       "      <th>Project Subject Subcategory Tree</th>\n",
       "      <th>Project Grade Level Category</th>\n",
       "      <th>Project Resource Category</th>\n",
       "      <th>Project Cost</th>\n",
       "      <th>Project Posted Date</th>\n",
       "      <th>Project Expiration Date</th>\n",
       "      <th>Project Current Status</th>\n",
       "      <th>Project Fully Funded Date</th>\n",
       "      <th>School Name</th>\n",
       "      <th>School Metro Type</th>\n",
       "      <th>School Percentage Free Lunch</th>\n",
       "      <th>School State</th>\n",
       "      <th>School Zip</th>\n",
       "      <th>School City</th>\n",
       "      <th>School County</th>\n",
       "      <th>School District</th>\n",
       "      <th>Project_cost_scaled</th>\n",
       "    </tr>\n",
       "  </thead>\n",
       "  <tbody>\n",
       "    <tr>\n",
       "      <th>3023513</th>\n",
       "      <td>29230db7d19074f071979f6beb5d911c</td>\n",
       "      <td>2015-12-21 13:57:57</td>\n",
       "      <td>Valencia</td>\n",
       "      <td>California</td>\n",
       "      <td>No</td>\n",
       "      <td>913</td>\n",
       "      <td>09c7aaf4908ab2cbe8b4931b2190f665</td>\n",
       "      <td>1a01fb88b81832d8919b5d39ee4754c3</td>\n",
       "      <td>No</td>\n",
       "      <td>50.0</td>\n",
       "      <td>1</td>\n",
       "      <td>1de3deaed03787f560ac5fb631202043</td>\n",
       "      <td>ae9f436a0cef55c3030292f10498a603</td>\n",
       "      <td>2</td>\n",
       "      <td>Teacher-Led</td>\n",
       "      <td>Making Makers: Bits for Innovation</td>\n",
       "      <td>I teach Astronomy and AP Physics to high schoo...</td>\n",
       "      <td>I teach Astronomy and AP Physics to high schoo...</td>\n",
       "      <td>My students need 4 Little Bits Electronics kit...</td>\n",
       "      <td>Math &amp; Science, Music &amp; The Arts</td>\n",
       "      <td>Applied Sciences, Visual Arts</td>\n",
       "      <td>Grades 9-12</td>\n",
       "      <td>Technology</td>\n",
       "      <td>1669.61</td>\n",
       "      <td>2015-12-13</td>\n",
       "      <td>2016-04-11</td>\n",
       "      <td>Fully Funded</td>\n",
       "      <td>2016-03-11</td>\n",
       "      <td>Lake Brantley High School</td>\n",
       "      <td>suburban</td>\n",
       "      <td>35.0</td>\n",
       "      <td>Florida</td>\n",
       "      <td>32714</td>\n",
       "      <td>Altamonte Spg</td>\n",
       "      <td>Seminole</td>\n",
       "      <td>Seminole Co Public School Dist</td>\n",
       "      <td>0.006206</td>\n",
       "    </tr>\n",
       "    <tr>\n",
       "      <th>3023512</th>\n",
       "      <td>29230db7d19074f071979f6beb5d911c</td>\n",
       "      <td>2015-12-23 23:56:45</td>\n",
       "      <td>Valencia</td>\n",
       "      <td>California</td>\n",
       "      <td>No</td>\n",
       "      <td>913</td>\n",
       "      <td>09c7aaf4908ab2cbe8b4931b2190f665</td>\n",
       "      <td>88cb94dd1bf48df0d924468ce9fee892</td>\n",
       "      <td>No</td>\n",
       "      <td>50.0</td>\n",
       "      <td>2</td>\n",
       "      <td>1de3deaed03787f560ac5fb631202043</td>\n",
       "      <td>ae9f436a0cef55c3030292f10498a603</td>\n",
       "      <td>2</td>\n",
       "      <td>Teacher-Led</td>\n",
       "      <td>Making Makers: Bits for Innovation</td>\n",
       "      <td>I teach Astronomy and AP Physics to high schoo...</td>\n",
       "      <td>I teach Astronomy and AP Physics to high schoo...</td>\n",
       "      <td>My students need 4 Little Bits Electronics kit...</td>\n",
       "      <td>Math &amp; Science, Music &amp; The Arts</td>\n",
       "      <td>Applied Sciences, Visual Arts</td>\n",
       "      <td>Grades 9-12</td>\n",
       "      <td>Technology</td>\n",
       "      <td>1669.61</td>\n",
       "      <td>2015-12-13</td>\n",
       "      <td>2016-04-11</td>\n",
       "      <td>Fully Funded</td>\n",
       "      <td>2016-03-11</td>\n",
       "      <td>Lake Brantley High School</td>\n",
       "      <td>suburban</td>\n",
       "      <td>35.0</td>\n",
       "      <td>Florida</td>\n",
       "      <td>32714</td>\n",
       "      <td>Altamonte Spg</td>\n",
       "      <td>Seminole</td>\n",
       "      <td>Seminole Co Public School Dist</td>\n",
       "      <td>0.006206</td>\n",
       "    </tr>\n",
       "  </tbody>\n",
       "</table>\n",
       "</div>"
      ],
      "text/plain": [
       "                                 Donor ID Donation Received Date Donor City  \\\n",
       "3023513  29230db7d19074f071979f6beb5d911c    2015-12-21 13:57:57   Valencia   \n",
       "3023512  29230db7d19074f071979f6beb5d911c    2015-12-23 23:56:45   Valencia   \n",
       "\n",
       "        Donor State Donor Is Teacher Donor Zip  \\\n",
       "3023513  California               No       913   \n",
       "3023512  California               No       913   \n",
       "\n",
       "                               Project ID                       Donation ID  \\\n",
       "3023513  09c7aaf4908ab2cbe8b4931b2190f665  1a01fb88b81832d8919b5d39ee4754c3   \n",
       "3023512  09c7aaf4908ab2cbe8b4931b2190f665  88cb94dd1bf48df0d924468ce9fee892   \n",
       "\n",
       "        Donation Included Optional Donation  Donation Amount  \\\n",
       "3023513                                  No             50.0   \n",
       "3023512                                  No             50.0   \n",
       "\n",
       "         Donor Cart Sequence                         School ID  \\\n",
       "3023513                    1  1de3deaed03787f560ac5fb631202043   \n",
       "3023512                    2  1de3deaed03787f560ac5fb631202043   \n",
       "\n",
       "                               Teacher ID  Teacher Project Posted Sequence  \\\n",
       "3023513  ae9f436a0cef55c3030292f10498a603                                2   \n",
       "3023512  ae9f436a0cef55c3030292f10498a603                                2   \n",
       "\n",
       "        Project Type                       Project Title  \\\n",
       "3023513  Teacher-Led  Making Makers: Bits for Innovation   \n",
       "3023512  Teacher-Led  Making Makers: Bits for Innovation   \n",
       "\n",
       "                                             Project Essay  \\\n",
       "3023513  I teach Astronomy and AP Physics to high schoo...   \n",
       "3023512  I teach Astronomy and AP Physics to high schoo...   \n",
       "\n",
       "                                 Project Short Description  \\\n",
       "3023513  I teach Astronomy and AP Physics to high schoo...   \n",
       "3023512  I teach Astronomy and AP Physics to high schoo...   \n",
       "\n",
       "                                    Project Need Statement  \\\n",
       "3023513  My students need 4 Little Bits Electronics kit...   \n",
       "3023512  My students need 4 Little Bits Electronics kit...   \n",
       "\n",
       "            Project Subject Category Tree Project Subject Subcategory Tree  \\\n",
       "3023513  Math & Science, Music & The Arts    Applied Sciences, Visual Arts   \n",
       "3023512  Math & Science, Music & The Arts    Applied Sciences, Visual Arts   \n",
       "\n",
       "        Project Grade Level Category Project Resource Category  Project Cost  \\\n",
       "3023513                  Grades 9-12                Technology       1669.61   \n",
       "3023512                  Grades 9-12                Technology       1669.61   \n",
       "\n",
       "        Project Posted Date Project Expiration Date Project Current Status  \\\n",
       "3023513          2015-12-13              2016-04-11           Fully Funded   \n",
       "3023512          2015-12-13              2016-04-11           Fully Funded   \n",
       "\n",
       "        Project Fully Funded Date                School Name  \\\n",
       "3023513                2016-03-11  Lake Brantley High School   \n",
       "3023512                2016-03-11  Lake Brantley High School   \n",
       "\n",
       "        School Metro Type  School Percentage Free Lunch School State  \\\n",
       "3023513          suburban                          35.0      Florida   \n",
       "3023512          suburban                          35.0      Florida   \n",
       "\n",
       "         School Zip    School City School County  \\\n",
       "3023513       32714  Altamonte Spg      Seminole   \n",
       "3023512       32714  Altamonte Spg      Seminole   \n",
       "\n",
       "                        School District  Project_cost_scaled  \n",
       "3023513  Seminole Co Public School Dist             0.006206  \n",
       "3023512  Seminole Co Public School Dist             0.006206  "
      ]
     },
     "execution_count": 37,
     "metadata": {},
     "output_type": "execute_result"
    }
   ],
   "source": [
    "#11356 Cosine\n",
    "print(donations_cal_train_gp_new[donations_cal_train_gp_new[\"row_num\"]==11356][\"Donor ID\"].values[0])\n",
    "donations_cal_train[donations_cal_train[\"Donor ID\"] ==\"29230db7d19074f071979f6beb5d911c\"]\n",
    "#[['Project ID', 'Project Cost', 'Project Type','Project Subject Category Tree','Project Grade Level Category', 'Project Resource Category','Project Current Status','School Metro Type', 'School State']]\n"
   ]
  },
  {
   "cell_type": "code",
   "execution_count": null,
   "metadata": {},
   "outputs": [],
   "source": []
  },
  {
   "cell_type": "code",
   "execution_count": null,
   "metadata": {},
   "outputs": [],
   "source": []
  },
  {
   "cell_type": "code",
   "execution_count": 39,
   "metadata": {
    "ExecuteTime": {
     "end_time": "2020-12-03T14:19:57.386912Z",
     "start_time": "2020-12-03T14:19:57.105894Z"
    }
   },
   "outputs": [],
   "source": []
  },
  {
   "cell_type": "code",
   "execution_count": 38,
   "metadata": {
    "ExecuteTime": {
     "end_time": "2020-12-10T05:53:40.651803Z",
     "start_time": "2020-12-10T05:53:40.640310Z"
    }
   },
   "outputs": [
    {
     "name": "stdout",
     "output_type": "stream",
     "text": [
      "  (0, 1)\t1\n",
      "  (0, 28)\t1\n",
      "  (0, 57)\t1\n",
      "  (0, 61)\t1\n",
      "  (0, 78)\t1\n",
      "  (0, 82)\t1\n",
      "  (0, 86)\t1\n"
     ]
    }
   ],
   "source": [
    "print(Donor_1_profile)"
   ]
  },
  {
   "cell_type": "code",
   "execution_count": 40,
   "metadata": {
    "ExecuteTime": {
     "end_time": "2020-12-03T14:20:10.603878Z",
     "start_time": "2020-12-03T14:20:10.513057Z"
    },
    "scrolled": true
   },
   "outputs": [
    {
     "name": "stdout",
     "output_type": "stream",
     "text": [
      "61920\n"
     ]
    }
   ],
   "source": []
  },
  {
   "cell_type": "code",
   "execution_count": 41,
   "metadata": {
    "ExecuteTime": {
     "end_time": "2020-12-03T14:20:23.170236Z",
     "start_time": "2020-12-03T14:20:23.095026Z"
    }
   },
   "outputs": [
    {
     "data": {
      "text/plain": [
       "40813"
      ]
     },
     "execution_count": 41,
     "metadata": {},
     "output_type": "execute_result"
    }
   ],
   "source": []
  },
  {
   "cell_type": "code",
   "execution_count": 40,
   "metadata": {
    "ExecuteTime": {
     "end_time": "2020-12-10T05:55:16.479605Z",
     "start_time": "2020-12-10T05:55:16.253974Z"
    }
   },
   "outputs": [],
   "source": [
    "# Donor profile of cos similar donor\n",
    "# Single donor profile\n",
    "donor_cos = donations_cal_train[donations_cal_train[\"Donor ID\"]==\"29230db7d19074f071979f6beb5d911c\"]\n",
    "donor_cos_gp = donor_cos.groupby(['Donor ID', 'Project ID'])['Donation Amount'].sum().reset_index()\n",
    "\n",
    "donor_cos_gp[\"Donated\"] = 1\n",
    "\n",
    "rows=donor_cos_gp[\"Donor ID\"].drop_duplicates().sort_values().reset_index().drop('index',axis=1).\\\n",
    "        reset_index().rename(columns={'index':'row_num'})\n",
    "cols=donor_cos_gp[\"Project ID\"].drop_duplicates().sort_values().reset_index().drop('index',axis=1).\\\n",
    "        reset_index().rename(columns={'index':'col_num'})\n",
    "\n",
    "donor_cos_gp_new =donor_cos_gp.merge(rows,how='left',on=\"Donor ID\").merge(cols,how='left',on=\"Project ID\")\n",
    "\n",
    "data = list(donor_cos_gp_new.Donated)\n",
    "row = list(donor_cos_gp_new.row_num)\n",
    "col = list(donor_cos_gp_new.col_num)\n",
    "\n",
    "# Create sparse matrix of donor project pair\n",
    "S = sparse.coo_matrix((data,(row,col)))\n",
    "R = S.tocsr()\n",
    "\n",
    "\n",
    "# Create sparse matrix of project profile\n",
    "ohFeatures = ['Project ID', 'Project_cost_scaled', 'Project Type','Project Subject Category Tree','Project Grade Level Category', 'Project Resource Category','Project Current Status','School Metro Type', 'School State']\n",
    "projFeatures = donor_cos[ohFeatures].drop_duplicates(subset = ['Project ID'])\n",
    "cat_col = ['Project Type','Project Subject Category Tree','Project Grade Level Category', 'Project Resource Category','Project Current Status','School Metro Type', 'School State']\n",
    "for col in cat_col:\n",
    "    cat_val = [str(cat) for cat in list(donations_cal_train[col].unique()) if cat is not None]\n",
    "    projFeatures[col] = projFeatures[col].astype(pd.CategoricalDtype(categories=cat_val))\n",
    "\n",
    "donor_cos_ohm = pd.get_dummies(projFeatures, columns=['Project Type','Project Subject Category Tree','Project Grade Level Category', 'Project Resource Category','Project Current Status','School Metro Type', 'School State'])\n",
    "#traindonor_cal_ohm.drop(['Project Type','Project Subject Category Tree','Project Grade Level Category', 'Project Resource Category','Project Current Status','School Metro Type', 'School State'], axis=1, inplace=True)\n",
    "\n",
    "donor_cos_ohm= donor_cos_ohm.fillna(0)\n",
    "donor_cos_ohm.set_index('Project ID', inplace=True)\n",
    "#print(donor_1_ohm.columns)\n",
    "Proj_Profile = sparse.csr_matrix(donor_cos_ohm,dtype='int64')\n",
    "\n",
    "# Dot product to create Donor profile\n",
    "Donor_cos_profile = R.dot(Proj_Profile)"
   ]
  },
  {
   "cell_type": "code",
   "execution_count": 41,
   "metadata": {
    "ExecuteTime": {
     "end_time": "2020-12-10T05:55:24.149899Z",
     "start_time": "2020-12-10T05:55:23.918543Z"
    }
   },
   "outputs": [],
   "source": [
    "# Donor profile of euc donor\n",
    "\n",
    "# Single donor profile\n",
    "donor_euc = donations_cal_train[donations_cal_train[\"Donor ID\"]==\"29230db7d19074f071979f6beb5d911c\"]\n",
    "donor_euc_gp = donor_euc.groupby(['Donor ID', 'Project ID'])['Donation Amount'].sum().reset_index()\n",
    "\n",
    "donor_euc_gp[\"Donated\"] = 1\n",
    "\n",
    "rows=donor_euc_gp[\"Donor ID\"].drop_duplicates().sort_values().reset_index().drop('index',axis=1).\\\n",
    "        reset_index().rename(columns={'index':'row_num'})\n",
    "cols=donor_euc_gp[\"Project ID\"].drop_duplicates().sort_values().reset_index().drop('index',axis=1).\\\n",
    "        reset_index().rename(columns={'index':'col_num'})\n",
    "\n",
    "donor_euc_gp_new =donor_euc_gp.merge(rows,how='left',on=\"Donor ID\").merge(cols,how='left',on=\"Project ID\")\n",
    "\n",
    "data = list(donor_euc_gp_new.Donated)\n",
    "row = list(donor_euc_gp_new.row_num)\n",
    "col = list(donor_euc_gp_new.col_num)\n",
    "\n",
    "# Create sparse matrix of donor project pair\n",
    "S = sparse.coo_matrix((data,(row,col)))\n",
    "R = S.tocsr()\n",
    "\n",
    "\n",
    "# Create sparse matrix of project profile\n",
    "ohFeatures = ['Project ID', 'Project_cost_scaled', 'Project Type','Project Subject Category Tree','Project Grade Level Category', 'Project Resource Category','Project Current Status','School Metro Type', 'School State']\n",
    "projFeatures = donor_euc[ohFeatures].drop_duplicates(subset = ['Project ID'])\n",
    "cat_col = ['Project Type','Project Subject Category Tree','Project Grade Level Category', 'Project Resource Category','Project Current Status','School Metro Type', 'School State']\n",
    "for col in cat_col:\n",
    "    cat_val = [str(cat) for cat in list(donations_cal_train[col].unique()) if cat is not None]\n",
    "    projFeatures[col] = projFeatures[col].astype(pd.CategoricalDtype(categories=cat_val))\n",
    "\n",
    "donor_euc_ohm = pd.get_dummies(projFeatures, columns=['Project Type','Project Subject Category Tree','Project Grade Level Category', 'Project Resource Category','Project Current Status','School Metro Type', 'School State'])\n",
    "#traindonor_cal_ohm.drop(['Project Type','Project Subject Category Tree','Project Grade Level Category', 'Project Resource Category','Project Current Status','School Metro Type', 'School State'], axis=1, inplace=True)\n",
    "\n",
    "donor_euc_ohm= donor_euc_ohm.fillna(0)\n",
    "donor_euc_ohm.set_index('Project ID', inplace=True)\n",
    "#print(donor_1_ohm.columns)\n",
    "Proj_Profile = sparse.csr_matrix(donor_euc_ohm,dtype='int64')\n",
    "\n",
    "# Dot product to create Donor profile\n",
    "Donor_euc_profile = R.dot(Proj_Profile)"
   ]
  },
  {
   "cell_type": "code",
   "execution_count": 47,
   "metadata": {
    "ExecuteTime": {
     "end_time": "2020-12-10T06:11:25.320384Z",
     "start_time": "2020-12-10T06:11:25.004098Z"
    }
   },
   "outputs": [],
   "source": [
    "# Create sparse matrix of project profile\n",
    "ohFeatures = ['Project ID', 'Project_cost_scaled', 'Project Type','Project Subject Category Tree','Project Grade Level Category', 'Project Resource Category','Project Current Status','School Metro Type', 'School State']\n",
    "projFeatures = donations_cal_valid[ohFeatures].drop_duplicates(subset = ['Project ID'])\n",
    "cat_col = ['Project Type','Project Subject Category Tree','Project Grade Level Category', 'Project Resource Category','Project Current Status','School Metro Type', 'School State']\n",
    "for col in cat_col:\n",
    "    cat_val = [str(cat) for cat in list(donations_cal_train[col].unique()) if cat is not None]\n",
    "    projFeatures[col] = projFeatures[col].astype(pd.CategoricalDtype(categories=cat_val))\n",
    "\n",
    "donor_cos_ohm = pd.get_dummies(projFeatures, columns=['Project Type','Project Subject Category Tree','Project Grade Level Category', 'Project Resource Category','Project Current Status','School Metro Type', 'School State'])\n",
    "#traindonor_cal_ohm.drop(['Project Type','Project Subject Category Tree','Project Grade Level Category', 'Project Resource Category','Project Current Status','School Metro Type', 'School State'], axis=1, inplace=True)\n",
    "\n",
    "donor_cos_ohm= donor_cos_ohm.fillna(0)\n",
    "donor_cos_ohm.set_index('Project ID', inplace=True)\n",
    "#print(donor_1_ohm.columns)\n",
    "Proj_Profile = sparse.csr_matrix(donor_cos_ohm,dtype='int64')"
   ]
  },
  {
   "cell_type": "code",
   "execution_count": 51,
   "metadata": {
    "ExecuteTime": {
     "end_time": "2020-12-10T06:28:32.959249Z",
     "start_time": "2020-12-10T06:28:32.938216Z"
    }
   },
   "outputs": [],
   "source": [
    "cos_sim = cosine_similarity(Proj_Profile,Donor_euc_profile)\n",
    "#print(cos_sim)\n",
    "top_10_rec = (-cos_sim).argsort()[:10]"
   ]
  },
  {
   "cell_type": "code",
   "execution_count": 63,
   "metadata": {
    "ExecuteTime": {
     "end_time": "2020-12-10T07:28:42.712833Z",
     "start_time": "2020-12-10T07:28:42.705346Z"
    },
    "scrolled": true
   },
   "outputs": [
    {
     "name": "stdout",
     "output_type": "stream",
     "text": [
      "<class 'numpy.ndarray'>\n"
     ]
    }
   ],
   "source": [
    "print(type(cos_sim))"
   ]
  },
  {
   "cell_type": "code",
   "execution_count": 65,
   "metadata": {
    "ExecuteTime": {
     "end_time": "2020-12-10T07:32:01.537767Z",
     "start_time": "2020-12-10T07:32:01.524163Z"
    },
    "scrolled": true
   },
   "outputs": [
    {
     "data": {
      "text/plain": [
       "0.0006793840589075194"
      ]
     },
     "execution_count": 65,
     "metadata": {},
     "output_type": "execute_result"
    }
   ],
   "source": [
    "cos_sim.reshape(-1)[0]"
   ]
  },
  {
   "cell_type": "code",
   "execution_count": 66,
   "metadata": {
    "ExecuteTime": {
     "end_time": "2020-12-10T07:37:03.920585Z",
     "start_time": "2020-12-10T07:37:03.900968Z"
    }
   },
   "outputs": [
    {
     "data": {
      "text/plain": [
       "array([[0],\n",
       "       [0],\n",
       "       [0],\n",
       "       [0],\n",
       "       [0],\n",
       "       [0],\n",
       "       [0],\n",
       "       [0],\n",
       "       [0],\n",
       "       [0]], dtype=int64)"
      ]
     },
     "execution_count": 66,
     "metadata": {},
     "output_type": "execute_result"
    }
   ],
   "source": [
    "top_10_rec"
   ]
  },
  {
   "cell_type": "code",
   "execution_count": null,
   "metadata": {},
   "outputs": [],
   "source": []
  },
  {
   "cell_type": "code",
   "execution_count": null,
   "metadata": {},
   "outputs": [],
   "source": [
    "#donations_cal_train_gp.head(2)\n",
    "donations_cal_train = donationsTrainFinal[donationsTrainFinal[\"Donor State\"] == 'California']\n",
    "test = donations_cal_train.groupby(['Donor ID', 'Project ID'])['Donation Amount'].sum().reset_index()\n",
    "test['Project ID'].nunique()\n",
    "#donations_cal_train_gp['Project ID'].unique.count"
   ]
  },
  {
   "cell_type": "code",
   "execution_count": null,
   "metadata": {},
   "outputs": [],
   "source": [
    "projFeatures['Project ID'].nunique()\n",
    "#print(list(traindonor_cal_ohm.columns))\n",
    "#traindonor_cal_ohm.head(1)"
   ]
  },
  {
   "cell_type": "code",
   "execution_count": null,
   "metadata": {},
   "outputs": [],
   "source": []
  },
  {
   "cell_type": "code",
   "execution_count": null,
   "metadata": {},
   "outputs": [],
   "source": [
    "# Train donor OHE\n",
    "donorstrain =donationsTrainFinal[[\"Donor ID\",\"Donor City\",\"Donor State\",\"Donor Is Teacher\",\"Donor Zip\"]]\n",
    "donorstrain.head(1)\n",
    "print(len(donorstrain))\n",
    "donorstrainuniq = donorstrain.drop_duplicates(subset = ['Donor ID'])\n",
    "print(len(donorstrainuniq))"
   ]
  },
  {
   "cell_type": "code",
   "execution_count": null,
   "metadata": {},
   "outputs": [],
   "source": [
    "# Val donor OHE\n",
    "donorsval = donationsValidFinal[[\"Donor ID\",\"Donor City\",\"Donor State\",\"Donor Is Teacher\",\"Donor Zip\"]]\n",
    "donorsval.head(1)\n",
    "print(len(donorsval))\n",
    "donorsvaluniq = donorsval.drop_duplicates(subset = ['Donor ID'])\n",
    "print(len(donorsvaluniq))\n"
   ]
  },
  {
   "cell_type": "code",
   "execution_count": null,
   "metadata": {},
   "outputs": [],
   "source": [
    "# Train donor missing values\n",
    "donornullcol = donorstrainuniq.columns[donorstrainuniq.isnull().any()]\n",
    "donorstrainuniq[donornullcol].isnull().sum()"
   ]
  },
  {
   "cell_type": "code",
   "execution_count": null,
   "metadata": {},
   "outputs": [],
   "source": [
    "# Val donor missing values\n",
    "donornullcol = donorsvaluniq.columns[donorsvaluniq.isnull().any()]\n",
    "donorsvaluniq[donornullcol].isnull().sum()"
   ]
  },
  {
   "cell_type": "code",
   "execution_count": null,
   "metadata": {},
   "outputs": [],
   "source": [
    "# Train donors replace missing value\n",
    "donorstrainuniq.dropna(inplace = True)"
   ]
  },
  {
   "cell_type": "code",
   "execution_count": null,
   "metadata": {},
   "outputs": [],
   "source": [
    "# Val donors replace missing value\n",
    "donorsvaluniq.dropna(inplace = True)"
   ]
  },
  {
   "cell_type": "code",
   "execution_count": null,
   "metadata": {},
   "outputs": [],
   "source": [
    "# Train donors check missing values\n",
    "donorstrainuniq[donornullcol].isnull().sum()"
   ]
  },
  {
   "cell_type": "code",
   "execution_count": null,
   "metadata": {},
   "outputs": [],
   "source": [
    "# Val donors check missing values\n",
    "donorsvaluniq[donornullcol].isnull().sum()"
   ]
  },
  {
   "cell_type": "code",
   "execution_count": null,
   "metadata": {},
   "outputs": [],
   "source": [
    "# columns of train and val donors\n",
    "print(donorstrainuniq.columns)\n",
    "print(donorsvaluniq.columns)"
   ]
  },
  {
   "cell_type": "code",
   "execution_count": null,
   "metadata": {},
   "outputs": [],
   "source": [
    "#acs_df.head()\n",
    "# acs_df=acs_df.rename(columns = {'ZIP':'Donor Zip'})"
   ]
  },
  {
   "cell_type": "code",
   "execution_count": null,
   "metadata": {},
   "outputs": [],
   "source": [
    "# acs_df['Donor Zip'] = acs_df['Donor Zip'].astype(int)"
   ]
  },
  {
   "cell_type": "code",
   "execution_count": null,
   "metadata": {},
   "outputs": [],
   "source": [
    "# acs_df.info()"
   ]
  },
  {
   "cell_type": "code",
   "execution_count": null,
   "metadata": {},
   "outputs": [],
   "source": [
    "#donorstrainuniq['Donor Zip'] = donorstrainuniq['Donor Zip'].astype(str).astype(int)\n",
    "# donorstrainuniq['Donor Zip'] = donorstrainuniq['Donor Zip'].astype(str)\n",
    "# donorsvaluniq['Donor Zip'] = donorsvaluniq['Donor Zip'].astype(str)"
   ]
  },
  {
   "cell_type": "code",
   "execution_count": null,
   "metadata": {},
   "outputs": [],
   "source": [
    "# len(donorstrainuniq[\"Donor Zip\"].unique())"
   ]
  },
  {
   "cell_type": "code",
   "execution_count": null,
   "metadata": {},
   "outputs": [],
   "source": [
    "# donors_train = donorstrainuniq.merge(acs_df, on = \"Donor Zip\", how = \"left\")\n",
    "#donors_val = donorsvaluniq.merge(acs_df, on = \"Donor Zip\", how = \"inner\")\n",
    "\n",
    "#donors_train = pd.merge(donorstrainuniq, acs_df,how='left', on='Donor Zip')"
   ]
  },
  {
   "cell_type": "code",
   "execution_count": null,
   "metadata": {},
   "outputs": [],
   "source": [
    "# donors_train.isnull().sum()"
   ]
  },
  {
   "cell_type": "code",
   "execution_count": null,
   "metadata": {
    "scrolled": true
   },
   "outputs": [],
   "source": [
    "# acs_df.sort_values(by='Donor Zip', ascending=True)"
   ]
  },
  {
   "cell_type": "code",
   "execution_count": null,
   "metadata": {
    "scrolled": true
   },
   "outputs": [],
   "source": [
    "# donors_train[donors_train['Donor State'] != 'other'].sort_values(by='Donor Zip', ascending = True)"
   ]
  },
  {
   "cell_type": "code",
   "execution_count": null,
   "metadata": {
    "scrolled": true
   },
   "outputs": [],
   "source": [
    "# donors_train['Donor Zip'].sort_values(by='Donor Zip', ascending = True)"
   ]
  },
  {
   "cell_type": "code",
   "execution_count": null,
   "metadata": {},
   "outputs": [],
   "source": [
    "# donors_train['Percent_families_BPL'].fillna((donors_train['Percent_families_BPL'].mean()), inplace=True)\n",
    "# donors_train['Percent_over_5yrs_not_speak_english_well'].fillna((donors_train['Percent_over_5yrs_not_speak_english_well'].mean()), inplace=True)\n",
    "# donors_train['Percent_HS_grad_25yrs_above'].fillna((donors_train['Percent_HS_grad_25yrs_above'].mean()), inplace=True)\n",
    "# donors_train['Percent_with_health_insurance'].fillna((donors_train['Percent_with_health_insurance'].mean()), inplace=True)\n",
    "\n",
    "# donors_val['Percent_families_BPL'].fillna((donors_val['Percent_families_BPL'].mean()), inplace=True)\n",
    "# donors_val['Percent_over_5yrs_not_speak_english_well'].fillna((donors_val['Percent_over_5yrs_not_speak_english_well'].mean()), inplace=True)\n",
    "# donors_val['Percent_HS_grad_25yrs_above'].fillna((donors_val['Percent_HS_grad_25yrs_above'].mean()), inplace=True)\n",
    "# donors_val['Percent_with_health_insurance'].fillna((donors_val['Percent_with_health_insurance'].mean()), inplace=True)\n",
    "\n",
    "#donors_train.dropna(inplace=True)\n",
    "#donors_val.dropna(inplace=True)"
   ]
  },
  {
   "cell_type": "code",
   "execution_count": null,
   "metadata": {},
   "outputs": [],
   "source": [
    "traindonor_ohm = pd.get_dummies(donorstrainuniq, columns=['Donor State', 'Donor Is Teacher'])\n",
    "\n",
    "traindonor_ohm.head()"
   ]
  },
  {
   "cell_type": "code",
   "execution_count": null,
   "metadata": {},
   "outputs": [],
   "source": [
    "traindonor_ohm.drop(['Donor City','Donor Zip'], axis=1, inplace=True)\n",
    "#traindonor_ohm.drop('Donor Zip', axis=1, inplace=True)"
   ]
  },
  {
   "cell_type": "code",
   "execution_count": null,
   "metadata": {},
   "outputs": [],
   "source": [
    "valdonor_ohm = pd.get_dummies(donorsvaluniq, columns=['Donor State', 'Donor Is Teacher'])\n",
    "\n",
    "valdonor_ohm.head()"
   ]
  },
  {
   "cell_type": "code",
   "execution_count": null,
   "metadata": {},
   "outputs": [],
   "source": [
    "valdonor_ohm.drop(['Donor City','Donor Zip'], axis=1, inplace=True)\n"
   ]
  },
  {
   "cell_type": "code",
   "execution_count": null,
   "metadata": {},
   "outputs": [],
   "source": [
    "#import gc\n",
    "#del valdonor_ohm\n",
    "#del traindonor_ohm\n",
    "#gc.collect()"
   ]
  },
  {
   "cell_type": "code",
   "execution_count": null,
   "metadata": {},
   "outputs": [],
   "source": [
    "#traindonor_ohm.set_index('Donor ID', inplace=True)"
   ]
  },
  {
   "cell_type": "code",
   "execution_count": null,
   "metadata": {},
   "outputs": [],
   "source": [
    "traindonor_ohm.head()"
   ]
  },
  {
   "cell_type": "code",
   "execution_count": null,
   "metadata": {},
   "outputs": [],
   "source": [
    "#valdonor_ohm.set_index('Donor ID', inplace=True)"
   ]
  },
  {
   "cell_type": "code",
   "execution_count": null,
   "metadata": {},
   "outputs": [],
   "source": [
    "valdonor_ohm.head()"
   ]
  },
  {
   "cell_type": "code",
   "execution_count": null,
   "metadata": {},
   "outputs": [],
   "source": [
    "# from sklearn.decomposition import PCA\n",
    "# import matplotlib.pyplot as plt\n",
    "# pca=PCA()\n",
    "# X_trans = pca.fit_transform(traindonor_ohm)\n",
    "\n",
    "# plt.figure(figsize=(12,8))\n",
    "# plt.plot(np.cumsum(pca.explained_variance_ratio_));\n",
    "# plt.title(\"Cumulative variance retained for top N components\");\n",
    "# plt.xlabel(\"Number of components\");\n",
    "# plt.ylabel(\"Cumulative Variance\");"
   ]
  },
  {
   "cell_type": "code",
   "execution_count": null,
   "metadata": {},
   "outputs": [],
   "source": [
    "train_scaled_DF =pd.DataFrame(StandardScaler().fit_transform(traindonor_ohm.iloc[:,1:]))"
   ]
  },
  {
   "cell_type": "code",
   "execution_count": null,
   "metadata": {},
   "outputs": [],
   "source": [
    "val_scaled_DF = pd.DataFrame(StandardScaler().fit_transform(traindonor_ohm.iloc[:,1:]))"
   ]
  },
  {
   "cell_type": "code",
   "execution_count": null,
   "metadata": {},
   "outputs": [],
   "source": [
    "train_scaled_DF.head()"
   ]
  },
  {
   "cell_type": "code",
   "execution_count": null,
   "metadata": {},
   "outputs": [],
   "source": []
  },
  {
   "cell_type": "code",
   "execution_count": null,
   "metadata": {},
   "outputs": [],
   "source": [
    "cos_val_list_main =[]\n",
    "for index1, row1 in train_scaled_DF.iterrows():\n",
    "    cos_val_list=[]\n",
    "    for index2,row2 in train_scaled_DF.iterrows():\n",
    "# #         row1 = np.reshape(row1,(-1,2))\n",
    "# #         row2 = np.reshape(row2,(-1,2))\n",
    "#         print(np.ararow1)\n",
    "#         print(type(row1))\n",
    "#         print(row2)\n",
    "#         print(type(row2))\n",
    "        cosval = cosine_similarity(np.array(row1).reshape(1,-1), np.array(row2).reshape(1,-1))\n",
    "        cos_val_list.append(cosval)\n",
    "    cos_val_list_main.append(cos_val_list)\n",
    "    \n",
    "cos_val_df =pd.DataFrame(cos_val_list_main, columns = range(len(train_scaled_DF)))\n",
    "    "
   ]
  },
  {
   "cell_type": "code",
   "execution_count": null,
   "metadata": {},
   "outputs": [],
   "source": [
    "cos_val_df.head()"
   ]
  },
  {
   "cell_type": "markdown",
   "metadata": {},
   "source": [
    "## One-Hot Vectorization of Features"
   ]
  },
  {
   "cell_type": "code",
   "execution_count": null,
   "metadata": {},
   "outputs": [],
   "source": [
    "# checking for null values in the dataframe\n",
    "\n",
    "trainNullCol = donationsTrainFinal.columns[donationsTrainFinal.isnull().any()]\n",
    "donationsTrainFinal[trainNullCol].isnull().sum()"
   ]
  },
  {
   "cell_type": "code",
   "execution_count": null,
   "metadata": {},
   "outputs": [],
   "source": [
    "# because we are doing content-based filtering, here are the features of the projects we are interested in:\n",
    "\n",
    "ohFeatures = ['Project ID', 'Project Cost', 'Project Type','Project Subject Category Tree',\n",
    "       'Project Grade Level Category', 'Project Resource Category',\n",
    "       'Project Current Status',\n",
    "       'School Metro Type', 'School State']"
   ]
  },
  {
   "cell_type": "code",
   "execution_count": null,
   "metadata": {},
   "outputs": [],
   "source": []
  },
  {
   "cell_type": "code",
   "execution_count": null,
   "metadata": {},
   "outputs": [],
   "source": [
    "# drop duplicates of projects because 'Project ID' has to be the primary key\n",
    "\n",
    "projFeatures = donationsTrainFinal[ohFeatures].drop_duplicates(subset = ['Project ID'])\n",
    "\n",
    "projFeatures = projFeatures.dropna() # drop the null values as well\n",
    "\n",
    "print(projFeatures.shape)"
   ]
  },
  {
   "cell_type": "code",
   "execution_count": null,
   "metadata": {},
   "outputs": [],
   "source": [
    "# no null values or duplicates\n",
    "\n",
    "trainNullCol = projFeatures.columns[projFeatures.isnull().any()]\n",
    "projFeatures[trainNullCol].isnull().sum()"
   ]
  },
  {
   "cell_type": "code",
   "execution_count": null,
   "metadata": {},
   "outputs": [],
   "source": [
    "enc = OHE(handle_unknown='ignore')\n",
    "enc.fit(projFeatures.iloc[:,2:]) # fit the one hot vector on our dataframe"
   ]
  },
  {
   "cell_type": "code",
   "execution_count": null,
   "metadata": {
    "scrolled": true
   },
   "outputs": [],
   "source": [
    "enc.categories_ # data dictionary of the OHM"
   ]
  },
  {
   "cell_type": "code",
   "execution_count": null,
   "metadata": {},
   "outputs": [],
   "source": [
    "oneHotMatrix = pd.DataFrame(enc.transform(projFeatures.iloc[:,2:]).toarray()) # convert the one-hot matrix into a dataframe"
   ]
  },
  {
   "cell_type": "code",
   "execution_count": null,
   "metadata": {
    "scrolled": true
   },
   "outputs": [],
   "source": [
    "# this is what the OHM looks like\n",
    "\n",
    "oneHotMatrix"
   ]
  },
  {
   "cell_type": "markdown",
   "metadata": {},
   "source": [
    "## Merging one-hot matrix with the dataframe"
   ]
  },
  {
   "cell_type": "code",
   "execution_count": null,
   "metadata": {},
   "outputs": [],
   "source": [
    "projOHM = pd.concat([projFeatures.reset_index(drop = True), oneHotMatrix.reset_index(drop = True)], axis = 1)\n",
    "\n",
    "projOHM.head(1)\n"
   ]
  },
  {
   "cell_type": "code",
   "execution_count": null,
   "metadata": {},
   "outputs": [],
   "source": [
    "dropCol = ['Project Type', 'Project Subject Category Tree', 'Project Grade Level Category',\n",
    "           'Project Resource Category', 'Project Current Status',\n",
    "           'School Metro Type', 'School State']"
   ]
  },
  {
   "cell_type": "code",
   "execution_count": null,
   "metadata": {},
   "outputs": [],
   "source": [
    "# because we wanted to keep the project cost as one of the features,\n",
    "# we vectorized the rest of features and vertically stacked the project cost\n",
    "\n",
    "projOHM = projOHM.drop(dropCol, axis = 1)\n",
    "\n",
    "projOHM.head(1)"
   ]
  },
  {
   "cell_type": "code",
   "execution_count": null,
   "metadata": {},
   "outputs": [],
   "source": [
    "# data dictionary to track the one hot matrix\n",
    "\n",
    "dataDict = enc.get_feature_names(dropCol) # please note that any new input should strictly should the indexes\n",
    "                                            # mentioned in data dictionary"
   ]
  },
  {
   "cell_type": "code",
   "execution_count": null,
   "metadata": {},
   "outputs": [],
   "source": [
    "del projOHM"
   ]
  },
  {
   "cell_type": "code",
   "execution_count": null,
   "metadata": {},
   "outputs": [],
   "source": [
    "gc.collect()"
   ]
  },
  {
   "cell_type": "markdown",
   "metadata": {},
   "source": [
    "## Building the recommendation system"
   ]
  },
  {
   "cell_type": "code",
   "execution_count": null,
   "metadata": {},
   "outputs": [],
   "source": [
    "# scale and normalize the dataset\n",
    "\n",
    "ohmDF = pd.DataFrame(StandardScaler().fit_transform(projOHM.iloc[:,1:]))"
   ]
  },
  {
   "cell_type": "code",
   "execution_count": null,
   "metadata": {},
   "outputs": [],
   "source": [
    "# taking the first row as a sample row for the recommendation system\n",
    "\n",
    "testRow = np.array(ohmDF.iloc[:1,:])\n",
    "\n",
    "testRow"
   ]
  },
  {
   "cell_type": "code",
   "execution_count": null,
   "metadata": {},
   "outputs": [],
   "source": [
    "# getting the cosine similarity between our feature matrix and test sample\n",
    "\n",
    "test2 = cosine_similarity(ohmDF, testRow)\n",
    "\n",
    "test2"
   ]
  },
  {
   "cell_type": "code",
   "execution_count": null,
   "metadata": {},
   "outputs": [],
   "source": [
    "# tracing back the cosine similarity with their corresponding project ID\n",
    "# so that we know what project does the similarity correspond to\n",
    "\n",
    "test3 = pd.concat([projOHM.iloc[:,:1], pd.DataFrame(test2)], axis = 1)\n",
    "\n",
    "test3 = test3.sort_values(by = 0, ascending = False) # sorting the similarity in descending order"
   ]
  },
  {
   "cell_type": "code",
   "execution_count": null,
   "metadata": {},
   "outputs": [],
   "source": [
    "# checking if the recommendation system fares well\n",
    "# here the recommended project has the same features, except the project cost\n",
    "\n",
    "projFeatures[projFeatures['Project ID'] == '7d889853a64bcb23d0abc52bb21770b7']"
   ]
  },
  {
   "cell_type": "code",
   "execution_count": null,
   "metadata": {},
   "outputs": [],
   "source": [
    "# checking if the recommendation system fares well v2\n",
    "\n",
    "projFeatures[projFeatures['Project ID'] == 'e2beb818569f66adaa4ced21ca299ac6']"
   ]
  },
  {
   "cell_type": "markdown",
   "metadata": {},
   "source": [
    "# Collaborative filtering"
   ]
  },
  {
   "cell_type": "code",
   "execution_count": null,
   "metadata": {},
   "outputs": [],
   "source": [
    "# scale and normalize the dataset\n",
    "# Train dataset\n",
    "train_ohmDF = pd.DataFrame(StandardScaler().fit_transform(traindonor_ohm.iloc[:,1:]))\n",
    "# Validation dataset\n",
    "val_ohmDF = pd.DataFrame(StandardScaler().fit_transform(valdonor_ohm.iloc[:,1:]))\n",
    "# Normalizing gives memory error"
   ]
  },
  {
   "cell_type": "code",
   "execution_count": null,
   "metadata": {},
   "outputs": [],
   "source": [
    "# Valid donor selected : 00006084c3d92d904a22e0a70f5c119a"
   ]
  },
  {
   "cell_type": "code",
   "execution_count": null,
   "metadata": {},
   "outputs": [],
   "source": [
    "# taking the first row of test data as a sample row for the recommendation system\n",
    "\n",
    "testRow = np.array(val_ohmDF.iloc[:1,:])\n",
    "\n",
    "testRow"
   ]
  },
  {
   "cell_type": "code",
   "execution_count": null,
   "metadata": {},
   "outputs": [],
   "source": [
    "# getting the cosine similarity between our train donors matrix and test sample\n",
    "\n",
    "test2 = cosine_similarity(train_ohmDF, testRow)\n",
    "\n",
    "test2\n",
    "# tracing back the cosine similarity with their corresponding donor ID\n",
    "# so that we know which donor does the similarity correspond to\n",
    "\n",
    "test3 = pd.concat([train_ohmDF.iloc[:,:1], pd.DataFrame(test2)], axis = 1)\n",
    "test3.columns = [1,2]\n",
    "test3.head()\n",
    "test3 = test3.sort_values(by =2, ascending = False) # sorting the similarity in descending order\n",
    "\n",
    "# checking if the recommendation system fares well\n",
    "# here the recommended project has the same features, except the project cost\n",
    "\n",
    "projFeatures[projFeatures['Project ID'] == '7d889853a64bcb23d0abc52bb21770b7']"
   ]
  },
  {
   "cell_type": "code",
   "execution_count": null,
   "metadata": {},
   "outputs": [],
   "source": [
    "# getting the cosine similarity between our train donors matrix and test sample\n",
    "\n",
    "test2 = cosine_similarity(train_ohmDF, testRow)\n",
    "\n",
    "test2"
   ]
  },
  {
   "cell_type": "code",
   "execution_count": null,
   "metadata": {},
   "outputs": [],
   "source": [
    "# tracing back the cosine similarity with their corresponding donor ID\n",
    "# so that we know which donor does the similarity correspond to\n",
    "\n",
    "test3 = pd.concat([train_ohmDF.iloc[:,:1], pd.DataFrame(test2)], axis = 1)\n",
    "test3.columns = [1,2]\n",
    "test3.head()"
   ]
  },
  {
   "cell_type": "code",
   "execution_count": null,
   "metadata": {},
   "outputs": [],
   "source": [
    "test3 = test3.sort_values(by =2, ascending = False) # sorting the similarity in descending order"
   ]
  },
  {
   "cell_type": "code",
   "execution_count": null,
   "metadata": {},
   "outputs": [],
   "source": []
  },
  {
   "cell_type": "code",
   "execution_count": null,
   "metadata": {},
   "outputs": [],
   "source": []
  },
  {
   "cell_type": "code",
   "execution_count": null,
   "metadata": {},
   "outputs": [],
   "source": [
    "# checking if the recommendation system fares well\n",
    "# here the recommended project has the same features, except the project cost\n",
    "\n",
    "projFeatures[projFeatures['Project ID'] == '7d889853a64bcb23d0abc52bb21770b7']"
   ]
  },
  {
   "cell_type": "code",
   "execution_count": null,
   "metadata": {},
   "outputs": [],
   "source": [
    "# checking if the recommendation system fares well v2\n",
    "\n",
    "projFeatures[projFeatures['Project ID'] == 'e2beb818569f66adaa4ced21ca299ac6']"
   ]
  }
 ],
 "metadata": {
  "kernelspec": {
   "display_name": "Python 3",
   "language": "python",
   "name": "python3"
  },
  "language_info": {
   "codemirror_mode": {
    "name": "ipython",
    "version": 3
   },
   "file_extension": ".py",
   "mimetype": "text/x-python",
   "name": "python",
   "nbconvert_exporter": "python",
   "pygments_lexer": "ipython3",
   "version": "3.8.5"
  },
  "latex_envs": {
   "LaTeX_envs_menu_present": true,
   "autoclose": false,
   "autocomplete": true,
   "bibliofile": "biblio.bib",
   "cite_by": "apalike",
   "current_citInitial": 1,
   "eqLabelWithNumbers": true,
   "eqNumInitial": 1,
   "hotkeys": {
    "equation": "Ctrl-E",
    "itemize": "Ctrl-I"
   },
   "labels_anchors": false,
   "latex_user_defs": false,
   "report_style_numbering": false,
   "user_envs_cfg": false
  },
  "toc": {
   "base_numbering": 1,
   "nav_menu": {},
   "number_sections": true,
   "sideBar": true,
   "skip_h1_title": false,
   "title_cell": "Table of Contents",
   "title_sidebar": "Contents",
   "toc_cell": false,
   "toc_position": {},
   "toc_section_display": true,
   "toc_window_display": true
  },
  "varInspector": {
   "cols": {
    "lenName": 16,
    "lenType": 16,
    "lenVar": 40
   },
   "kernels_config": {
    "python": {
     "delete_cmd_postfix": "",
     "delete_cmd_prefix": "del ",
     "library": "var_list.py",
     "varRefreshCmd": "print(var_dic_list())"
    },
    "r": {
     "delete_cmd_postfix": ") ",
     "delete_cmd_prefix": "rm(",
     "library": "var_list.r",
     "varRefreshCmd": "cat(var_dic_list()) "
    }
   },
   "types_to_exclude": [
    "module",
    "function",
    "builtin_function_or_method",
    "instance",
    "_Feature"
   ],
   "window_display": false
  }
 },
 "nbformat": 4,
 "nbformat_minor": 4
}
