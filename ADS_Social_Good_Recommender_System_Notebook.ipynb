{
 "cells": [
  {
   "cell_type": "markdown",
   "metadata": {},
   "source": [
    "Social Good Recommendation System"
   ]
  },
  {
   "cell_type": "markdown",
   "metadata": {},
   "source": [
    "Team - C\n",
    "Members: Ajay Valecha, Prasun Srestha, Premkumar Loganathan"
   ]
  },
  {
   "cell_type": "markdown",
   "metadata": {
    "ExecuteTime": {
     "end_time": "2020-10-22T01:35:24.288767Z",
     "start_time": "2020-10-22T01:35:24.279219Z"
    },
    "heading_collapsed": true
   },
   "source": [
    "# Initialization codes & loading data"
   ]
  },
  {
   "cell_type": "code",
   "execution_count": 9,
   "metadata": {
    "ExecuteTime": {
     "end_time": "2020-10-22T01:35:24.288767Z",
     "start_time": "2020-10-22T01:35:24.279219Z"
    },
    "code_folding": [],
    "hidden": true
   },
   "outputs": [],
   "source": [
    "# Import libraries\n",
    "\n",
    "# Data wrangling libraries\n",
    "import pandas as pd\n",
    "import numpy as np\n",
    "import random as rnd\n",
    "\n",
    "# Visualization libraries\n",
    "import seaborn as sns\n",
    "import matplotlib.pyplot as plt\n",
    "\n",
    "\n",
    "# Pre-processing\n",
    "\n",
    "from sklearn import preprocessing\n",
    "from sklearn.preprocessing import OneHotEncoder, LabelEncoder\n",
    "\n",
    "\n",
    "# ML models \n",
    "from sklearn.linear_model import LogisticRegression\n",
    "from sklearn.svm import SVC, LinearSVC\n",
    "from sklearn.ensemble import RandomForestClassifier\n",
    "from sklearn.neighbors import KNeighborsClassifier\n",
    "from sklearn.naive_bayes import GaussianNB\n",
    "from sklearn.linear_model import Perceptron\n",
    "from sklearn.linear_model import SGDClassifier\n",
    "from sklearn.tree import DecisionTreeClassifier\n",
    "from sklearn.ensemble import BaggingClassifier\n",
    "from sklearn.ensemble import VotingClassifier\n",
    "\n",
    "# ignore warnings\n",
    "import warnings\n",
    "warnings.filterwarnings('ignore')\n",
    "\n",
    "# pip install varname\n"
   ]
  },
  {
   "cell_type": "code",
   "execution_count": 6,
   "metadata": {
    "ExecuteTime": {
     "end_time": "2020-10-22T01:32:59.067710Z",
     "start_time": "2020-10-22T01:32:59.046752Z"
    },
    "code_folding": [
     0
    ],
    "hidden": true
   },
   "outputs": [],
   "source": [
    "# Set Display parameters\n",
    "\n",
    "from IPython.core.interactiveshell import InteractiveShell\n",
    "InteractiveShell.ast_node_interactivity = \"all\"\n",
    "\n",
    "pd.set_option('max_columns', 120)\n",
    "pd.set_option('max_colwidth', 5000)\n",
    "pd.set_option('display.max_rows', 500)\n",
    "\n"
   ]
  },
  {
   "cell_type": "code",
   "execution_count": 12,
   "metadata": {
    "ExecuteTime": {
     "end_time": "2020-10-22T01:37:56.846709Z",
     "start_time": "2020-10-22T01:37:10.454348Z"
    },
    "code_folding": [],
    "hidden": true
   },
   "outputs": [],
   "source": [
    "# Loading the dataset \n",
    "df_donors_raw = pd.read_csv('Donors.csv')\n",
    "df_donations_raw = pd.read_csv('Donations.csv')\n",
    "df_projects_raw = pd.read_csv('Projects.csv')\n",
    "df_resources_raw = pd.read_csv('Resources.csv')\n",
    "df_schools_raw = pd.read_csv('Schools.csv')\n",
    "df_teachers_raw = pd.read_csv('Teachers.csv')\n",
    "df_zip_raw = pd.read_csv('US Zip Codes from 2013 Government Data.csv')\n"
   ]
  },
  {
   "cell_type": "markdown",
   "metadata": {
    "ExecuteTime": {
     "end_time": "2020-10-22T01:35:35.644518Z",
     "start_time": "2020-10-22T01:35:35.618609Z"
    }
   },
   "source": [
    "# Exploratory Data Analysis"
   ]
  },
  {
   "cell_type": "markdown",
   "metadata": {
    "ExecuteTime": {
     "end_time": "2020-10-22T01:35:35.644518Z",
     "start_time": "2020-10-22T01:35:35.618609Z"
    }
   },
   "source": [
    "## Glimpse of data "
   ]
  },
  {
   "cell_type": "markdown",
   "metadata": {
    "ExecuteTime": {
     "end_time": "2020-10-22T01:35:35.644518Z",
     "start_time": "2020-10-22T01:35:35.618609Z"
    },
    "heading_collapsed": true
   },
   "source": [
    "### Donor data"
   ]
  },
  {
   "cell_type": "code",
   "execution_count": 11,
   "metadata": {
    "ExecuteTime": {
     "end_time": "2020-10-22T01:35:35.644518Z",
     "start_time": "2020-10-22T01:35:35.618609Z"
    },
    "hidden": true
   },
   "outputs": [
    {
     "data": {
      "text/html": [
       "<div>\n",
       "<style scoped>\n",
       "    .dataframe tbody tr th:only-of-type {\n",
       "        vertical-align: middle;\n",
       "    }\n",
       "\n",
       "    .dataframe tbody tr th {\n",
       "        vertical-align: top;\n",
       "    }\n",
       "\n",
       "    .dataframe thead th {\n",
       "        text-align: right;\n",
       "    }\n",
       "</style>\n",
       "<table border=\"1\" class=\"dataframe\">\n",
       "  <thead>\n",
       "    <tr style=\"text-align: right;\">\n",
       "      <th></th>\n",
       "      <th>Donor ID</th>\n",
       "      <th>Donor City</th>\n",
       "      <th>Donor State</th>\n",
       "      <th>Donor Is Teacher</th>\n",
       "      <th>Donor Zip</th>\n",
       "    </tr>\n",
       "  </thead>\n",
       "  <tbody>\n",
       "    <tr>\n",
       "      <th>0</th>\n",
       "      <td>00000ce845c00cbf0686c992fc369df4</td>\n",
       "      <td>Evanston</td>\n",
       "      <td>Illinois</td>\n",
       "      <td>No</td>\n",
       "      <td>602</td>\n",
       "    </tr>\n",
       "    <tr>\n",
       "      <th>1</th>\n",
       "      <td>00002783bc5d108510f3f9666c8b1edd</td>\n",
       "      <td>Appomattox</td>\n",
       "      <td>other</td>\n",
       "      <td>No</td>\n",
       "      <td>245</td>\n",
       "    </tr>\n",
       "    <tr>\n",
       "      <th>2</th>\n",
       "      <td>00002d44003ed46b066607c5455a999a</td>\n",
       "      <td>Winton</td>\n",
       "      <td>California</td>\n",
       "      <td>Yes</td>\n",
       "      <td>953</td>\n",
       "    </tr>\n",
       "    <tr>\n",
       "      <th>3</th>\n",
       "      <td>00002eb25d60a09c318efbd0797bffb5</td>\n",
       "      <td>Indianapolis</td>\n",
       "      <td>Indiana</td>\n",
       "      <td>No</td>\n",
       "      <td>462</td>\n",
       "    </tr>\n",
       "    <tr>\n",
       "      <th>4</th>\n",
       "      <td>0000300773fe015f870914b42528541b</td>\n",
       "      <td>Paterson</td>\n",
       "      <td>New Jersey</td>\n",
       "      <td>No</td>\n",
       "      <td>075</td>\n",
       "    </tr>\n",
       "  </tbody>\n",
       "</table>\n",
       "</div>"
      ],
      "text/plain": [
       "                           Donor ID    Donor City Donor State  \\\n",
       "0  00000ce845c00cbf0686c992fc369df4      Evanston    Illinois   \n",
       "1  00002783bc5d108510f3f9666c8b1edd    Appomattox       other   \n",
       "2  00002d44003ed46b066607c5455a999a        Winton  California   \n",
       "3  00002eb25d60a09c318efbd0797bffb5  Indianapolis     Indiana   \n",
       "4  0000300773fe015f870914b42528541b      Paterson  New Jersey   \n",
       "\n",
       "  Donor Is Teacher Donor Zip  \n",
       "0               No       602  \n",
       "1               No       245  \n",
       "2              Yes       953  \n",
       "3               No       462  \n",
       "4               No       075  "
      ]
     },
     "execution_count": 11,
     "metadata": {},
     "output_type": "execute_result"
    }
   ],
   "source": [
    "df_donors_raw.head()"
   ]
  },
  {
   "cell_type": "code",
   "execution_count": 20,
   "metadata": {
    "ExecuteTime": {
     "end_time": "2020-10-22T02:28:55.839972Z",
     "start_time": "2020-10-22T02:28:50.703970Z"
    },
    "hidden": true
   },
   "outputs": [
    {
     "data": {
      "text/html": [
       "<div>\n",
       "<style scoped>\n",
       "    .dataframe tbody tr th:only-of-type {\n",
       "        vertical-align: middle;\n",
       "    }\n",
       "\n",
       "    .dataframe tbody tr th {\n",
       "        vertical-align: top;\n",
       "    }\n",
       "\n",
       "    .dataframe thead th {\n",
       "        text-align: right;\n",
       "    }\n",
       "</style>\n",
       "<table border=\"1\" class=\"dataframe\">\n",
       "  <thead>\n",
       "    <tr style=\"text-align: right;\">\n",
       "      <th></th>\n",
       "      <th>count</th>\n",
       "      <th>unique</th>\n",
       "      <th>top</th>\n",
       "      <th>freq</th>\n",
       "    </tr>\n",
       "  </thead>\n",
       "  <tbody>\n",
       "    <tr>\n",
       "      <th>Donor ID</th>\n",
       "      <td>2122640</td>\n",
       "      <td>2122640</td>\n",
       "      <td>3028c7d74aab20451098b5fa5f284653</td>\n",
       "      <td>1</td>\n",
       "    </tr>\n",
       "    <tr>\n",
       "      <th>Donor City</th>\n",
       "      <td>1909543</td>\n",
       "      <td>15204</td>\n",
       "      <td>Chicago</td>\n",
       "      <td>34352</td>\n",
       "    </tr>\n",
       "    <tr>\n",
       "      <th>Donor State</th>\n",
       "      <td>2122640</td>\n",
       "      <td>52</td>\n",
       "      <td>California</td>\n",
       "      <td>294695</td>\n",
       "    </tr>\n",
       "    <tr>\n",
       "      <th>Donor Is Teacher</th>\n",
       "      <td>2122640</td>\n",
       "      <td>2</td>\n",
       "      <td>No</td>\n",
       "      <td>1910355</td>\n",
       "    </tr>\n",
       "    <tr>\n",
       "      <th>Donor Zip</th>\n",
       "      <td>1942580</td>\n",
       "      <td>1934</td>\n",
       "      <td>606</td>\n",
       "      <td>34628</td>\n",
       "    </tr>\n",
       "  </tbody>\n",
       "</table>\n",
       "</div>"
      ],
      "text/plain": [
       "                    count   unique                               top     freq\n",
       "Donor ID          2122640  2122640  3028c7d74aab20451098b5fa5f284653        1\n",
       "Donor City        1909543    15204                           Chicago    34352\n",
       "Donor State       2122640       52                        California   294695\n",
       "Donor Is Teacher  2122640        2                                No  1910355\n",
       "Donor Zip         1942580     1934                               606    34628"
      ]
     },
     "execution_count": 20,
     "metadata": {},
     "output_type": "execute_result"
    }
   ],
   "source": [
    "df_donors_raw.describe(include=['object']).transpose()"
   ]
  },
  {
   "cell_type": "markdown",
   "metadata": {
    "ExecuteTime": {
     "end_time": "2020-10-22T02:23:47.235479Z",
     "start_time": "2020-10-22T02:23:47.214938Z"
    },
    "heading_collapsed": true
   },
   "source": [
    "### Donations data"
   ]
  },
  {
   "cell_type": "code",
   "execution_count": 13,
   "metadata": {
    "ExecuteTime": {
     "end_time": "2020-10-22T02:23:47.235479Z",
     "start_time": "2020-10-22T02:23:47.214938Z"
    },
    "hidden": true
   },
   "outputs": [
    {
     "data": {
      "text/html": [
       "<div>\n",
       "<style scoped>\n",
       "    .dataframe tbody tr th:only-of-type {\n",
       "        vertical-align: middle;\n",
       "    }\n",
       "\n",
       "    .dataframe tbody tr th {\n",
       "        vertical-align: top;\n",
       "    }\n",
       "\n",
       "    .dataframe thead th {\n",
       "        text-align: right;\n",
       "    }\n",
       "</style>\n",
       "<table border=\"1\" class=\"dataframe\">\n",
       "  <thead>\n",
       "    <tr style=\"text-align: right;\">\n",
       "      <th></th>\n",
       "      <th>Project ID</th>\n",
       "      <th>Donation ID</th>\n",
       "      <th>Donor ID</th>\n",
       "      <th>Donation Included Optional Donation</th>\n",
       "      <th>Donation Amount</th>\n",
       "      <th>Donor Cart Sequence</th>\n",
       "      <th>Donation Received Date</th>\n",
       "    </tr>\n",
       "  </thead>\n",
       "  <tbody>\n",
       "    <tr>\n",
       "      <th>0</th>\n",
       "      <td>000009891526c0ade7180f8423792063</td>\n",
       "      <td>688729120858666221208529ee3fc18e</td>\n",
       "      <td>1f4b5b6e68445c6c4a0509b3aca93f38</td>\n",
       "      <td>No</td>\n",
       "      <td>178.37</td>\n",
       "      <td>11</td>\n",
       "      <td>2016-08-23 13:15:57</td>\n",
       "    </tr>\n",
       "    <tr>\n",
       "      <th>1</th>\n",
       "      <td>000009891526c0ade7180f8423792063</td>\n",
       "      <td>dcf1071da3aa3561f91ac689d1f73dee</td>\n",
       "      <td>4aaab6d244bf3599682239ed5591af8a</td>\n",
       "      <td>Yes</td>\n",
       "      <td>25.00</td>\n",
       "      <td>2</td>\n",
       "      <td>2016-06-06 20:05:23</td>\n",
       "    </tr>\n",
       "    <tr>\n",
       "      <th>2</th>\n",
       "      <td>000009891526c0ade7180f8423792063</td>\n",
       "      <td>18a234b9d1e538c431761d521ea7799d</td>\n",
       "      <td>0b0765dc9c759adc48a07688ba25e94e</td>\n",
       "      <td>Yes</td>\n",
       "      <td>20.00</td>\n",
       "      <td>3</td>\n",
       "      <td>2016-06-06 14:08:46</td>\n",
       "    </tr>\n",
       "    <tr>\n",
       "      <th>3</th>\n",
       "      <td>000009891526c0ade7180f8423792063</td>\n",
       "      <td>38d2744bf9138b0b57ed581c76c0e2da</td>\n",
       "      <td>377944ad61f72d800b25ec1862aec363</td>\n",
       "      <td>Yes</td>\n",
       "      <td>25.00</td>\n",
       "      <td>1</td>\n",
       "      <td>2016-05-15 10:23:04</td>\n",
       "    </tr>\n",
       "    <tr>\n",
       "      <th>4</th>\n",
       "      <td>000009891526c0ade7180f8423792063</td>\n",
       "      <td>5a032791e31167a70206bfb86fb60035</td>\n",
       "      <td>6d5b22d39e68c656071a842732c63a0c</td>\n",
       "      <td>Yes</td>\n",
       "      <td>25.00</td>\n",
       "      <td>2</td>\n",
       "      <td>2016-05-17 01:23:38</td>\n",
       "    </tr>\n",
       "  </tbody>\n",
       "</table>\n",
       "</div>"
      ],
      "text/plain": [
       "                         Project ID                       Donation ID  \\\n",
       "0  000009891526c0ade7180f8423792063  688729120858666221208529ee3fc18e   \n",
       "1  000009891526c0ade7180f8423792063  dcf1071da3aa3561f91ac689d1f73dee   \n",
       "2  000009891526c0ade7180f8423792063  18a234b9d1e538c431761d521ea7799d   \n",
       "3  000009891526c0ade7180f8423792063  38d2744bf9138b0b57ed581c76c0e2da   \n",
       "4  000009891526c0ade7180f8423792063  5a032791e31167a70206bfb86fb60035   \n",
       "\n",
       "                           Donor ID Donation Included Optional Donation  \\\n",
       "0  1f4b5b6e68445c6c4a0509b3aca93f38                                  No   \n",
       "1  4aaab6d244bf3599682239ed5591af8a                                 Yes   \n",
       "2  0b0765dc9c759adc48a07688ba25e94e                                 Yes   \n",
       "3  377944ad61f72d800b25ec1862aec363                                 Yes   \n",
       "4  6d5b22d39e68c656071a842732c63a0c                                 Yes   \n",
       "\n",
       "   Donation Amount  Donor Cart Sequence Donation Received Date  \n",
       "0           178.37                   11    2016-08-23 13:15:57  \n",
       "1            25.00                    2    2016-06-06 20:05:23  \n",
       "2            20.00                    3    2016-06-06 14:08:46  \n",
       "3            25.00                    1    2016-05-15 10:23:04  \n",
       "4            25.00                    2    2016-05-17 01:23:38  "
      ]
     },
     "execution_count": 13,
     "metadata": {},
     "output_type": "execute_result"
    }
   ],
   "source": [
    "df_donations_raw.head()"
   ]
  },
  {
   "cell_type": "code",
   "execution_count": 21,
   "metadata": {
    "ExecuteTime": {
     "end_time": "2020-10-22T03:00:04.342968Z",
     "start_time": "2020-10-22T03:00:03.937547Z"
    },
    "hidden": true
   },
   "outputs": [
    {
     "data": {
      "text/html": [
       "<div>\n",
       "<style scoped>\n",
       "    .dataframe tbody tr th:only-of-type {\n",
       "        vertical-align: middle;\n",
       "    }\n",
       "\n",
       "    .dataframe tbody tr th {\n",
       "        vertical-align: top;\n",
       "    }\n",
       "\n",
       "    .dataframe thead th {\n",
       "        text-align: right;\n",
       "    }\n",
       "</style>\n",
       "<table border=\"1\" class=\"dataframe\">\n",
       "  <thead>\n",
       "    <tr style=\"text-align: right;\">\n",
       "      <th></th>\n",
       "      <th>count</th>\n",
       "      <th>mean</th>\n",
       "      <th>std</th>\n",
       "      <th>min</th>\n",
       "      <th>25%</th>\n",
       "      <th>50%</th>\n",
       "      <th>75%</th>\n",
       "      <th>max</th>\n",
       "    </tr>\n",
       "  </thead>\n",
       "  <tbody>\n",
       "    <tr>\n",
       "      <th>Donation Amount</th>\n",
       "      <td>4687884.0</td>\n",
       "      <td>60.668789</td>\n",
       "      <td>166.899615</td>\n",
       "      <td>0.01</td>\n",
       "      <td>14.82</td>\n",
       "      <td>25.0</td>\n",
       "      <td>50.0</td>\n",
       "      <td>60000.0</td>\n",
       "    </tr>\n",
       "    <tr>\n",
       "      <th>Donor Cart Sequence</th>\n",
       "      <td>4687884.0</td>\n",
       "      <td>143.054495</td>\n",
       "      <td>872.308646</td>\n",
       "      <td>1.00</td>\n",
       "      <td>1.00</td>\n",
       "      <td>2.0</td>\n",
       "      <td>12.0</td>\n",
       "      <td>18116.0</td>\n",
       "    </tr>\n",
       "  </tbody>\n",
       "</table>\n",
       "</div>"
      ],
      "text/plain": [
       "                         count        mean         std   min    25%   50%  \\\n",
       "Donation Amount      4687884.0   60.668789  166.899615  0.01  14.82  25.0   \n",
       "Donor Cart Sequence  4687884.0  143.054495  872.308646  1.00   1.00   2.0   \n",
       "\n",
       "                      75%      max  \n",
       "Donation Amount      50.0  60000.0  \n",
       "Donor Cart Sequence  12.0  18116.0  "
      ]
     },
     "execution_count": 21,
     "metadata": {},
     "output_type": "execute_result"
    }
   ],
   "source": [
    "# Distribution of all int and float variables\n",
    "df_donations_raw.describe(include=['int64','float']).transpose()"
   ]
  },
  {
   "cell_type": "code",
   "execution_count": 22,
   "metadata": {
    "ExecuteTime": {
     "end_time": "2020-10-22T03:00:32.564397Z",
     "start_time": "2020-10-22T03:00:06.900235Z"
    },
    "hidden": true
   },
   "outputs": [
    {
     "data": {
      "text/html": [
       "<div>\n",
       "<style scoped>\n",
       "    .dataframe tbody tr th:only-of-type {\n",
       "        vertical-align: middle;\n",
       "    }\n",
       "\n",
       "    .dataframe tbody tr th {\n",
       "        vertical-align: top;\n",
       "    }\n",
       "\n",
       "    .dataframe thead th {\n",
       "        text-align: right;\n",
       "    }\n",
       "</style>\n",
       "<table border=\"1\" class=\"dataframe\">\n",
       "  <thead>\n",
       "    <tr style=\"text-align: right;\">\n",
       "      <th></th>\n",
       "      <th>count</th>\n",
       "      <th>unique</th>\n",
       "      <th>top</th>\n",
       "      <th>freq</th>\n",
       "    </tr>\n",
       "  </thead>\n",
       "  <tbody>\n",
       "    <tr>\n",
       "      <th>Project ID</th>\n",
       "      <td>4687884</td>\n",
       "      <td>901965</td>\n",
       "      <td>c34218abf3fecd36be01305d67ed7fbb</td>\n",
       "      <td>863</td>\n",
       "    </tr>\n",
       "    <tr>\n",
       "      <th>Donation ID</th>\n",
       "      <td>4687884</td>\n",
       "      <td>4687844</td>\n",
       "      <td>4b251681fec025fa4a365a7e7e39d4fc</td>\n",
       "      <td>2</td>\n",
       "    </tr>\n",
       "    <tr>\n",
       "      <th>Donor ID</th>\n",
       "      <td>4687884</td>\n",
       "      <td>2024554</td>\n",
       "      <td>39df9399f5384334a42905bcf0acdcbf</td>\n",
       "      <td>18035</td>\n",
       "    </tr>\n",
       "    <tr>\n",
       "      <th>Donation Included Optional Donation</th>\n",
       "      <td>4687884</td>\n",
       "      <td>2</td>\n",
       "      <td>Yes</td>\n",
       "      <td>4001709</td>\n",
       "    </tr>\n",
       "    <tr>\n",
       "      <th>Donation Received Date</th>\n",
       "      <td>4687884</td>\n",
       "      <td>4066370</td>\n",
       "      <td>2018-03-08 12:51:27</td>\n",
       "      <td>72</td>\n",
       "    </tr>\n",
       "  </tbody>\n",
       "</table>\n",
       "</div>"
      ],
      "text/plain": [
       "                                       count   unique  \\\n",
       "Project ID                           4687884   901965   \n",
       "Donation ID                          4687884  4687844   \n",
       "Donor ID                             4687884  2024554   \n",
       "Donation Included Optional Donation  4687884        2   \n",
       "Donation Received Date               4687884  4066370   \n",
       "\n",
       "                                                                  top     freq  \n",
       "Project ID                           c34218abf3fecd36be01305d67ed7fbb      863  \n",
       "Donation ID                          4b251681fec025fa4a365a7e7e39d4fc        2  \n",
       "Donor ID                             39df9399f5384334a42905bcf0acdcbf    18035  \n",
       "Donation Included Optional Donation                               Yes  4001709  \n",
       "Donation Received Date                            2018-03-08 12:51:27       72  "
      ]
     },
     "execution_count": 22,
     "metadata": {},
     "output_type": "execute_result"
    }
   ],
   "source": [
    "df_donations_raw.describe(include=['object']).transpose()"
   ]
  },
  {
   "cell_type": "markdown",
   "metadata": {
    "ExecuteTime": {
     "end_time": "2020-10-22T02:23:59.355948Z",
     "start_time": "2020-10-22T02:23:59.322064Z"
    },
    "heading_collapsed": true
   },
   "source": [
    "### Projects data "
   ]
  },
  {
   "cell_type": "code",
   "execution_count": 14,
   "metadata": {
    "ExecuteTime": {
     "end_time": "2020-10-22T02:23:59.355948Z",
     "start_time": "2020-10-22T02:23:59.322064Z"
    },
    "hidden": true
   },
   "outputs": [
    {
     "data": {
      "text/html": [
       "<div>\n",
       "<style scoped>\n",
       "    .dataframe tbody tr th:only-of-type {\n",
       "        vertical-align: middle;\n",
       "    }\n",
       "\n",
       "    .dataframe tbody tr th {\n",
       "        vertical-align: top;\n",
       "    }\n",
       "\n",
       "    .dataframe thead th {\n",
       "        text-align: right;\n",
       "    }\n",
       "</style>\n",
       "<table border=\"1\" class=\"dataframe\">\n",
       "  <thead>\n",
       "    <tr style=\"text-align: right;\">\n",
       "      <th></th>\n",
       "      <th>Project ID</th>\n",
       "      <th>School ID</th>\n",
       "      <th>Teacher ID</th>\n",
       "      <th>Teacher Project Posted Sequence</th>\n",
       "      <th>Project Type</th>\n",
       "      <th>Project Title</th>\n",
       "      <th>Project Essay</th>\n",
       "      <th>Project Short Description</th>\n",
       "      <th>Project Need Statement</th>\n",
       "      <th>Project Subject Category Tree</th>\n",
       "      <th>Project Subject Subcategory Tree</th>\n",
       "      <th>Project Grade Level Category</th>\n",
       "      <th>Project Resource Category</th>\n",
       "      <th>Project Cost</th>\n",
       "      <th>Project Posted Date</th>\n",
       "      <th>Project Expiration Date</th>\n",
       "      <th>Project Current Status</th>\n",
       "      <th>Project Fully Funded Date</th>\n",
       "    </tr>\n",
       "  </thead>\n",
       "  <tbody>\n",
       "    <tr>\n",
       "      <th>0</th>\n",
       "      <td>7685f0265a19d7b52a470ee4bac883ba</td>\n",
       "      <td>e180c7424cb9c68cb49f141b092a988f</td>\n",
       "      <td>4ee5200e89d9e2998ec8baad8a3c5968</td>\n",
       "      <td>25</td>\n",
       "      <td>Teacher-Led</td>\n",
       "      <td>Stand Up to Bullying: Together We Can!</td>\n",
       "      <td>Did you know that 1-7 students in grades K-12 is either a bully or a victim of bullying? My goal is to raise prevention through being educated and aware of the effects and consequences of bullying. They need to know how to access a science-base, research-validated curriculum via Internet and books. &lt;!--DONOTREMOVEESSAYDIVIDER--&gt;We are part of a small pre-k and kindergarten primary center. Our student population is less than 300 students. My students are learning to stand up to bullying. They are great kids discovering the world and learning to read and write. But I worry that next year when they leave our primary center and attend their neighborhood school (student population over 500) they will face a very different environment. I hope that the lessons that they have learned about friendships, kindness, and working cooperatively will reduce any instances of bullying. I want to raise awareness and educate my students so they can ask for help when they needed. Vigilance and discipline is the key! &lt;!--DONOTREMOVEESSAYDIVIDER--&gt;We know that knowledge is power; I want my students to know how to access information that will help them stand up to bullying. My project is to work with them in group discussions using their book, \"Bullying in Schools\" as they will all have a copy to keep and share with their parents. I will use the tablet with a small group of four kids at a time. Together we will navigate web sites to watch videos and testimonials. They can then talk about it, share with their parents, and I can lead class discussions. \\n\\nThere is access to information, articles and poems, and making them aware will educate them further on bullying. We must rise up and be the change to reach bullying in the heart of the problem. Bullying takes many forms and can happen in many contexts. Bullying is complex and there is no one size fits all solution for it, but knowledge is power. My students need to know how to find answers and information when they need it. &lt;!--DONOTREMOVEESSAYDIVIDER--&gt;This problem of bullying in schools is not one without a solution. We need every one helping teachers, parents, administrators and people in our community. The facts show that it is estimated that 160,000 children miss school every day due to fear of attack or intimidation by other students. Being aware of these facts should raise awareness and support. Your efforts will certainly have an impact. Together we can stand up to bullying.</td>\n",
       "      <td>Did you know that 1-7 students in grades K-12 is either a bully or a victim of bullying? My goal is to raise prevention through being educated and aware of the effects and consequences of...</td>\n",
       "      <td>My students need 25 copies of \"Bullying in Schools\" for each to keep, \"Stand Up For Yourself and Your Friends: Dealing With Bullies\", \"A Smart Kid's Guide to Online Bullying\" and a tablet to research specific websites that talk about prevention strategies on bullying.</td>\n",
       "      <td>Applied Learning</td>\n",
       "      <td>Character Education, Early Development</td>\n",
       "      <td>Grades PreK-2</td>\n",
       "      <td>Technology</td>\n",
       "      <td>361.80</td>\n",
       "      <td>2013-01-01</td>\n",
       "      <td>2013-05-30</td>\n",
       "      <td>Fully Funded</td>\n",
       "      <td>2013-01-11</td>\n",
       "    </tr>\n",
       "    <tr>\n",
       "      <th>1</th>\n",
       "      <td>f9f4af7099061fb4bf44642a03e5c331</td>\n",
       "      <td>08b20f1e2125103ed7aa17e8d76c71d4</td>\n",
       "      <td>cca2d1d277fb4adb50147b49cdc3b156</td>\n",
       "      <td>3</td>\n",
       "      <td>Teacher-Led</td>\n",
       "      <td>Learning in Color!</td>\n",
       "      <td>Help us have a fun, interactive listening center in our class! Did you struggle to read when you were younger?  Did it help to see the words and hear them read to you at the same time?  This listening center will help the students in my class that need a little extra auditory and visual guidance.\\n\\n &lt;!--DONOTREMOVEESSAYDIVIDER--&gt;I teach 22 awesome second-grade students in Georgia. We are a Title I school with over 94% free or reduced lunch. The students come to school excited and ready to learn every day. My students love to read, but a large portion of them struggle to read on grade level. They are awesome at math, but need concrete examples and hands-on activities to help them retain the information. &lt;!--DONOTREMOVEESSAYDIVIDER--&gt;I am requesting a listening center, read along books on CD, and headphones for our computers.  Many students in my class need to hear, see, and interact with the reading material to gain meaning from it.  Our CD player broke a while back and the students miss listening to the books on CD.  The new 6 person listening center will allow the students to listen to the same book and then complete meaningful activities together about the story and its parts.  The new headphones for the computers will allow the students to play educational games and listen to stories without the noise from the rest of the class. interrupting them.  We are ready to listen up and learn!\\n\\n &lt;!--DONOTREMOVEESSAYDIVIDER--&gt;This project is important to the success of the students in my class. Having the the listening center in the class will allow the students the opportunity to listen to and interact with the reading materials with more confidence and ease.  The listening center will be a great addition to our center rotation time.</td>\n",
       "      <td>Help us have a fun, interactive listening center in our class! Did you struggle to read when you were younger? Did it help to see the words and hear them read to you at the same time? This...</td>\n",
       "      <td>My students need a listening center, read along books on CD, and headphones for the computers.</td>\n",
       "      <td>Applied Learning, Literacy &amp; Language</td>\n",
       "      <td>Early Development, Literacy</td>\n",
       "      <td>Grades PreK-2</td>\n",
       "      <td>Technology</td>\n",
       "      <td>512.85</td>\n",
       "      <td>2013-01-01</td>\n",
       "      <td>2013-05-31</td>\n",
       "      <td>Expired</td>\n",
       "      <td>NaN</td>\n",
       "    </tr>\n",
       "    <tr>\n",
       "      <th>2</th>\n",
       "      <td>afd99a01739ad5557b51b1ba0174e832</td>\n",
       "      <td>1287f5128b1f36bf8434e5705a7cc04d</td>\n",
       "      <td>6c5bd0d4f20547a001628aefd71de89e</td>\n",
       "      <td>1</td>\n",
       "      <td>Teacher-Led</td>\n",
       "      <td>Help Second Grade ESL Students Develop Language to Speak and Read</td>\n",
       "      <td>Visiting or moving to a new place can be very exciting yet frightening at the same time especially if you are unfamiliar with the native language. Learning a second language is a difficult challenge to overcome when there is not enough resources or support. &lt;!--DONOTREMOVEESSAYDIVIDER--&gt;Let me introduce you to my 28 second grade shining stars. The class ranges from beginner ESL students to advance ESL students located in an urban neighborhood in New York City. These students come from all over the world and are eager to learn and tackle the challenges of the school day.   &lt;!--DONOTREMOVEESSAYDIVIDER--&gt;By the time the students have reached the second grade they are already used to a normal school day routine. In second grade students are enriching their language, social, math and reading skills. However, the students that have just arrived to the country are shy, not used to NYC public schools and cannot communicate due to lack of language. The students must learn the language first before they can master fluency and reading comprehension. With the audio cards the students will be able to see pictures, read, and hear vocabulary words to enhance their language skills and learn how to use them in sentences. The students will develop fluency, recognize letters, sounds and sight words.  &lt;!--DONOTREMOVEESSAYDIVIDER--&gt;Teaching students English is very important. I want to provide the students with the tools they need to understand the English language and provide a structured environment for continuous growth. Once the students have acquired the language they'll feel more confident in school and can move on to develop the skills needed to give them a successful life. It is vital that they have as many resources available to help them become confident English speakers and develop an everlasting love of learning.</td>\n",
       "      <td>Visiting or moving to a new place can be very exciting yet frightening at the same time especially if you are unfamiliar with the native language. Learning a second language is a difficult...</td>\n",
       "      <td>My students need beginning vocabulary audio cards and a CD player so they can be able to see and hear words in the correct use for language development.</td>\n",
       "      <td>Literacy &amp; Language</td>\n",
       "      <td>ESL</td>\n",
       "      <td>Grades PreK-2</td>\n",
       "      <td>Supplies</td>\n",
       "      <td>435.92</td>\n",
       "      <td>2013-01-01</td>\n",
       "      <td>2013-05-30</td>\n",
       "      <td>Fully Funded</td>\n",
       "      <td>2013-05-22</td>\n",
       "    </tr>\n",
       "    <tr>\n",
       "      <th>3</th>\n",
       "      <td>c614a38bb1a5e68e2ae6ad9d94bb2492</td>\n",
       "      <td>900fec9cd7a3188acbc90586a09584ef</td>\n",
       "      <td>8ed6f8181d092a8f4c008b18d18e54ad</td>\n",
       "      <td>40</td>\n",
       "      <td>Teacher-Led</td>\n",
       "      <td>Help Bilingual Students Strengthen Reading Comprehension</td>\n",
       "      <td>Students at our school are still working hard to become proficient in English. A great series like The Sisters Grimm will help students improve reading comprehension by providing elements that support struggling readers: high-interest, familiar characters, humor, and suspense. &lt;!--DONOTREMOVEESSAYDIVIDER--&gt;Students at our school face many challenges on a daily basis. Many students at our school are working hard to learn English. Students deal with issues of poverty as well. However, the students at our school are very resilient and determined. They work very hard and are making gains, but they still need support from donors like you. &lt;!--DONOTREMOVEESSAYDIVIDER--&gt;Students at our school often have few books to read at home, and studies show that reading at home is an important factor in student's growth as a reader. The books you provide will be added directly to the students' classroom library, where they will be able to check out books for in-class and at-home reading. Additionally, the books in this great series, The Sisters Grimm, are ideal for students who still find reading a bit daunting, because the students become familiar with the characters and format of the books. &lt;!--DONOTREMOVEESSAYDIVIDER--&gt;Thank you very much for considering a donation to these wonderful children. They truly strive to succeed each day, and almost all have dreams of going to college one day. Your kindness in the form of a donation would make an impact in the lives of these deserving young people.</td>\n",
       "      <td>Students at our school are still working hard to become proficient in English. A great series like The Sisters Grimm will help students improve reading comprehension by providing elements that...</td>\n",
       "      <td>My students need one copy of each book in The Sisters Grimm series to support literacy growth.</td>\n",
       "      <td>Literacy &amp; Language</td>\n",
       "      <td>ESL, Literacy</td>\n",
       "      <td>Grades 3-5</td>\n",
       "      <td>Books</td>\n",
       "      <td>161.26</td>\n",
       "      <td>2013-01-01</td>\n",
       "      <td>2013-05-31</td>\n",
       "      <td>Fully Funded</td>\n",
       "      <td>2013-02-06</td>\n",
       "    </tr>\n",
       "    <tr>\n",
       "      <th>4</th>\n",
       "      <td>ec82a697fab916c0db0cdad746338df9</td>\n",
       "      <td>3b200e7fe3e6dde3c169c02e5fb5ae86</td>\n",
       "      <td>893173d62775f8be7c30bf4220ad0c33</td>\n",
       "      <td>2</td>\n",
       "      <td>Teacher-Led</td>\n",
       "      <td>Help Us Make Each Minute Count!</td>\n",
       "      <td>\"Idle hands\" were something that Issac Watts spoke of, but when students with special needs are left with idle hands, it can result in mischievous actions. Help us keep our hands busy with work!   &lt;!--DONOTREMOVEESSAYDIVIDER--&gt;My students have short attention spans for most kind of things, but things that they can get their hands into and work on hold their attention for longer times than I always can. We are busy bodies, and we need things to help keep our hands busy during the day to stay out of trouble and learn how to work independently on things.  &lt;!--DONOTREMOVEESSAYDIVIDER--&gt;My students need items such as Velcro, two pounds of multicolored Theraputty  and a dozen Gator Grabber Tweezers, to work independently and to make different work stations.  Our school may not always have the money to get things to keep us hands-on all of the time, so help us stay busy and focused by helping us get these items! Our lives are enhanced by having the ability to learn how to complete tasks independently and by learning hands on pre-vocational skills. The light covers will also help us to be able to sit at our desks and tolerate the lights that sometimes can be hard for our overloaded sensory systems to handle.  &lt;!--DONOTREMOVEESSAYDIVIDER--&gt;Help us to learn the skills we need to keep our hands and our minds busy! We thrive from being able to do hands-on projects and tasks. Our teacher wants to be able to provide us with the activities and tasks to help us to be successful!</td>\n",
       "      <td>\"Idle hands\" were something that Issac Watts spoke of, but when students with special needs are left with idle hands, it can result in mischievous actions. Help us keep our hands busy with work!...</td>\n",
       "      <td>My students need items such as Velcro, two pounds of multicolored Theraputty  and a dozen Gator Grabber Tweezers, to work independently and to make different work stations.</td>\n",
       "      <td>Special Needs</td>\n",
       "      <td>Special Needs</td>\n",
       "      <td>Grades 3-5</td>\n",
       "      <td>Supplies</td>\n",
       "      <td>264.19</td>\n",
       "      <td>2013-01-01</td>\n",
       "      <td>2013-05-30</td>\n",
       "      <td>Fully Funded</td>\n",
       "      <td>2013-01-01</td>\n",
       "    </tr>\n",
       "  </tbody>\n",
       "</table>\n",
       "</div>"
      ],
      "text/plain": [
       "                         Project ID                         School ID  \\\n",
       "0  7685f0265a19d7b52a470ee4bac883ba  e180c7424cb9c68cb49f141b092a988f   \n",
       "1  f9f4af7099061fb4bf44642a03e5c331  08b20f1e2125103ed7aa17e8d76c71d4   \n",
       "2  afd99a01739ad5557b51b1ba0174e832  1287f5128b1f36bf8434e5705a7cc04d   \n",
       "3  c614a38bb1a5e68e2ae6ad9d94bb2492  900fec9cd7a3188acbc90586a09584ef   \n",
       "4  ec82a697fab916c0db0cdad746338df9  3b200e7fe3e6dde3c169c02e5fb5ae86   \n",
       "\n",
       "                         Teacher ID  Teacher Project Posted Sequence  \\\n",
       "0  4ee5200e89d9e2998ec8baad8a3c5968                               25   \n",
       "1  cca2d1d277fb4adb50147b49cdc3b156                                3   \n",
       "2  6c5bd0d4f20547a001628aefd71de89e                                1   \n",
       "3  8ed6f8181d092a8f4c008b18d18e54ad                               40   \n",
       "4  893173d62775f8be7c30bf4220ad0c33                                2   \n",
       "\n",
       "  Project Type  \\\n",
       "0  Teacher-Led   \n",
       "1  Teacher-Led   \n",
       "2  Teacher-Led   \n",
       "3  Teacher-Led   \n",
       "4  Teacher-Led   \n",
       "\n",
       "                                                       Project Title  \\\n",
       "0                             Stand Up to Bullying: Together We Can!   \n",
       "1                                                 Learning in Color!   \n",
       "2  Help Second Grade ESL Students Develop Language to Speak and Read   \n",
       "3           Help Bilingual Students Strengthen Reading Comprehension   \n",
       "4                                   Help Us Make Each Minute Count!    \n",
       "\n",
       "                                                                                                                                                                                                                                                                                                                                                                                                                                                                                                                                                                                                                                                                                                                                                                                                                                                                                                                                                                                                                                                                                                                                                                                                                                                                                                                                                                                                                                                                                                                                                                                                                                                                                                                                                                                                                                                                                                                                                                                                                                                                                                                                                                                                                                                                                                                                                                                                                                                                                                                                           Project Essay  \\\n",
       "0  Did you know that 1-7 students in grades K-12 is either a bully or a victim of bullying? My goal is to raise prevention through being educated and aware of the effects and consequences of bullying. They need to know how to access a science-base, research-validated curriculum via Internet and books. <!--DONOTREMOVEESSAYDIVIDER-->We are part of a small pre-k and kindergarten primary center. Our student population is less than 300 students. My students are learning to stand up to bullying. They are great kids discovering the world and learning to read and write. But I worry that next year when they leave our primary center and attend their neighborhood school (student population over 500) they will face a very different environment. I hope that the lessons that they have learned about friendships, kindness, and working cooperatively will reduce any instances of bullying. I want to raise awareness and educate my students so they can ask for help when they needed. Vigilance and discipline is the key! <!--DONOTREMOVEESSAYDIVIDER-->We know that knowledge is power; I want my students to know how to access information that will help them stand up to bullying. My project is to work with them in group discussions using their book, \"Bullying in Schools\" as they will all have a copy to keep and share with their parents. I will use the tablet with a small group of four kids at a time. Together we will navigate web sites to watch videos and testimonials. They can then talk about it, share with their parents, and I can lead class discussions. \\n\\nThere is access to information, articles and poems, and making them aware will educate them further on bullying. We must rise up and be the change to reach bullying in the heart of the problem. Bullying takes many forms and can happen in many contexts. Bullying is complex and there is no one size fits all solution for it, but knowledge is power. My students need to know how to find answers and information when they need it. <!--DONOTREMOVEESSAYDIVIDER-->This problem of bullying in schools is not one without a solution. We need every one helping teachers, parents, administrators and people in our community. The facts show that it is estimated that 160,000 children miss school every day due to fear of attack or intimidation by other students. Being aware of these facts should raise awareness and support. Your efforts will certainly have an impact. Together we can stand up to bullying.    \n",
       "1                                                                                                                                                                                                                                                                                                                                                                                                                                                                                                                                                                                                                                                                                                                      Help us have a fun, interactive listening center in our class! Did you struggle to read when you were younger?  Did it help to see the words and hear them read to you at the same time?  This listening center will help the students in my class that need a little extra auditory and visual guidance.\\n\\n <!--DONOTREMOVEESSAYDIVIDER-->I teach 22 awesome second-grade students in Georgia. We are a Title I school with over 94% free or reduced lunch. The students come to school excited and ready to learn every day. My students love to read, but a large portion of them struggle to read on grade level. They are awesome at math, but need concrete examples and hands-on activities to help them retain the information. <!--DONOTREMOVEESSAYDIVIDER-->I am requesting a listening center, read along books on CD, and headphones for our computers.  Many students in my class need to hear, see, and interact with the reading material to gain meaning from it.  Our CD player broke a while back and the students miss listening to the books on CD.  The new 6 person listening center will allow the students to listen to the same book and then complete meaningful activities together about the story and its parts.  The new headphones for the computers will allow the students to play educational games and listen to stories without the noise from the rest of the class. interrupting them.  We are ready to listen up and learn!\\n\\n <!--DONOTREMOVEESSAYDIVIDER-->This project is important to the success of the students in my class. Having the the listening center in the class will allow the students the opportunity to listen to and interact with the reading materials with more confidence and ease.  The listening center will be a great addition to our center rotation time.    \n",
       "2                                                                                                                                                                                                                                                                                                                                                                                                                                                                                                                                                                                                                                           Visiting or moving to a new place can be very exciting yet frightening at the same time especially if you are unfamiliar with the native language. Learning a second language is a difficult challenge to overcome when there is not enough resources or support. <!--DONOTREMOVEESSAYDIVIDER-->Let me introduce you to my 28 second grade shining stars. The class ranges from beginner ESL students to advance ESL students located in an urban neighborhood in New York City. These students come from all over the world and are eager to learn and tackle the challenges of the school day.   <!--DONOTREMOVEESSAYDIVIDER-->By the time the students have reached the second grade they are already used to a normal school day routine. In second grade students are enriching their language, social, math and reading skills. However, the students that have just arrived to the country are shy, not used to NYC public schools and cannot communicate due to lack of language. The students must learn the language first before they can master fluency and reading comprehension. With the audio cards the students will be able to see pictures, read, and hear vocabulary words to enhance their language skills and learn how to use them in sentences. The students will develop fluency, recognize letters, sounds and sight words.  <!--DONOTREMOVEESSAYDIVIDER-->Teaching students English is very important. I want to provide the students with the tools they need to understand the English language and provide a structured environment for continuous growth. Once the students have acquired the language they'll feel more confident in school and can move on to develop the skills needed to give them a successful life. It is vital that they have as many resources available to help them become confident English speakers and develop an everlasting love of learning.    \n",
       "3                                                                                                                                                                                                                                                                                                                                                                                                                                                                                                                                                                                                                                                                                                                                                                                                                                                                                                                                                                                         Students at our school are still working hard to become proficient in English. A great series like The Sisters Grimm will help students improve reading comprehension by providing elements that support struggling readers: high-interest, familiar characters, humor, and suspense. <!--DONOTREMOVEESSAYDIVIDER-->Students at our school face many challenges on a daily basis. Many students at our school are working hard to learn English. Students deal with issues of poverty as well. However, the students at our school are very resilient and determined. They work very hard and are making gains, but they still need support from donors like you. <!--DONOTREMOVEESSAYDIVIDER-->Students at our school often have few books to read at home, and studies show that reading at home is an important factor in student's growth as a reader. The books you provide will be added directly to the students' classroom library, where they will be able to check out books for in-class and at-home reading. Additionally, the books in this great series, The Sisters Grimm, are ideal for students who still find reading a bit daunting, because the students become familiar with the characters and format of the books. <!--DONOTREMOVEESSAYDIVIDER-->Thank you very much for considering a donation to these wonderful children. They truly strive to succeed each day, and almost all have dreams of going to college one day. Your kindness in the form of a donation would make an impact in the lives of these deserving young people.    \n",
       "4                                                                                                                                                                                                                                                                                                                                                                                                                                                                                                                                                                                                                                                                                                                                                                                                                                                                                                                                                                                                      \"Idle hands\" were something that Issac Watts spoke of, but when students with special needs are left with idle hands, it can result in mischievous actions. Help us keep our hands busy with work!   <!--DONOTREMOVEESSAYDIVIDER-->My students have short attention spans for most kind of things, but things that they can get their hands into and work on hold their attention for longer times than I always can. We are busy bodies, and we need things to help keep our hands busy during the day to stay out of trouble and learn how to work independently on things.  <!--DONOTREMOVEESSAYDIVIDER-->My students need items such as Velcro, two pounds of multicolored Theraputty  and a dozen Gator Grabber Tweezers, to work independently and to make different work stations.  Our school may not always have the money to get things to keep us hands-on all of the time, so help us stay busy and focused by helping us get these items! Our lives are enhanced by having the ability to learn how to complete tasks independently and by learning hands on pre-vocational skills. The light covers will also help us to be able to sit at our desks and tolerate the lights that sometimes can be hard for our overloaded sensory systems to handle.  <!--DONOTREMOVEESSAYDIVIDER-->Help us to learn the skills we need to keep our hands and our minds busy! We thrive from being able to do hands-on projects and tasks. Our teacher wants to be able to provide us with the activities and tasks to help us to be successful!     \n",
       "\n",
       "                                                                                                                                                                               Project Short Description  \\\n",
       "0         Did you know that 1-7 students in grades K-12 is either a bully or a victim of bullying? My goal is to raise prevention through being educated and aware of the effects and consequences of...   \n",
       "1        Help us have a fun, interactive listening center in our class! Did you struggle to read when you were younger? Did it help to see the words and hear them read to you at the same time? This...   \n",
       "2        Visiting or moving to a new place can be very exciting yet frightening at the same time especially if you are unfamiliar with the native language. Learning a second language is a difficult...   \n",
       "3    Students at our school are still working hard to become proficient in English. A great series like The Sisters Grimm will help students improve reading comprehension by providing elements that...   \n",
       "4  \"Idle hands\" were something that Issac Watts spoke of, but when students with special needs are left with idle hands, it can result in mischievous actions. Help us keep our hands busy with work!...   \n",
       "\n",
       "                                                                                                                                                                                                                                                         Project Need Statement  \\\n",
       "0  My students need 25 copies of \"Bullying in Schools\" for each to keep, \"Stand Up For Yourself and Your Friends: Dealing With Bullies\", \"A Smart Kid's Guide to Online Bullying\" and a tablet to research specific websites that talk about prevention strategies on bullying.   \n",
       "1                                                                                                                                                                                My students need a listening center, read along books on CD, and headphones for the computers.   \n",
       "2                                                                                                                     My students need beginning vocabulary audio cards and a CD player so they can be able to see and hear words in the correct use for language development.    \n",
       "3                                                                                                                                                                                My students need one copy of each book in The Sisters Grimm series to support literacy growth.   \n",
       "4                                                                                                 My students need items such as Velcro, two pounds of multicolored Theraputty  and a dozen Gator Grabber Tweezers, to work independently and to make different work stations.    \n",
       "\n",
       "           Project Subject Category Tree  \\\n",
       "0                       Applied Learning   \n",
       "1  Applied Learning, Literacy & Language   \n",
       "2                    Literacy & Language   \n",
       "3                    Literacy & Language   \n",
       "4                          Special Needs   \n",
       "\n",
       "         Project Subject Subcategory Tree Project Grade Level Category  \\\n",
       "0  Character Education, Early Development                Grades PreK-2   \n",
       "1             Early Development, Literacy                Grades PreK-2   \n",
       "2                                     ESL                Grades PreK-2   \n",
       "3                           ESL, Literacy                   Grades 3-5   \n",
       "4                           Special Needs                   Grades 3-5   \n",
       "\n",
       "  Project Resource Category  Project Cost Project Posted Date  \\\n",
       "0                Technology        361.80          2013-01-01   \n",
       "1                Technology        512.85          2013-01-01   \n",
       "2                  Supplies        435.92          2013-01-01   \n",
       "3                     Books        161.26          2013-01-01   \n",
       "4                  Supplies        264.19          2013-01-01   \n",
       "\n",
       "  Project Expiration Date Project Current Status Project Fully Funded Date  \n",
       "0              2013-05-30           Fully Funded                2013-01-11  \n",
       "1              2013-05-31                Expired                       NaN  \n",
       "2              2013-05-30           Fully Funded                2013-05-22  \n",
       "3              2013-05-31           Fully Funded                2013-02-06  \n",
       "4              2013-05-30           Fully Funded                2013-01-01  "
      ]
     },
     "execution_count": 14,
     "metadata": {},
     "output_type": "execute_result"
    }
   ],
   "source": [
    "df_projects_raw.head()"
   ]
  },
  {
   "cell_type": "code",
   "execution_count": 23,
   "metadata": {
    "ExecuteTime": {
     "end_time": "2020-10-22T03:00:57.260450Z",
     "start_time": "2020-10-22T03:00:57.128802Z"
    },
    "hidden": true
   },
   "outputs": [
    {
     "data": {
      "text/html": [
       "<div>\n",
       "<style scoped>\n",
       "    .dataframe tbody tr th:only-of-type {\n",
       "        vertical-align: middle;\n",
       "    }\n",
       "\n",
       "    .dataframe tbody tr th {\n",
       "        vertical-align: top;\n",
       "    }\n",
       "\n",
       "    .dataframe thead th {\n",
       "        text-align: right;\n",
       "    }\n",
       "</style>\n",
       "<table border=\"1\" class=\"dataframe\">\n",
       "  <thead>\n",
       "    <tr style=\"text-align: right;\">\n",
       "      <th></th>\n",
       "      <th>count</th>\n",
       "      <th>mean</th>\n",
       "      <th>std</th>\n",
       "      <th>min</th>\n",
       "      <th>25%</th>\n",
       "      <th>50%</th>\n",
       "      <th>75%</th>\n",
       "      <th>max</th>\n",
       "    </tr>\n",
       "  </thead>\n",
       "  <tbody>\n",
       "    <tr>\n",
       "      <th>Teacher Project Posted Sequence</th>\n",
       "      <td>1110017.0</td>\n",
       "      <td>11.240499</td>\n",
       "      <td>25.954748</td>\n",
       "      <td>1.00</td>\n",
       "      <td>1.00</td>\n",
       "      <td>3.00</td>\n",
       "      <td>9.00</td>\n",
       "      <td>497.00</td>\n",
       "    </tr>\n",
       "    <tr>\n",
       "      <th>Project Cost</th>\n",
       "      <td>1110017.0</td>\n",
       "      <td>741.524038</td>\n",
       "      <td>1083.255570</td>\n",
       "      <td>35.29</td>\n",
       "      <td>335.12</td>\n",
       "      <td>515.35</td>\n",
       "      <td>867.52</td>\n",
       "      <td>255737.67</td>\n",
       "    </tr>\n",
       "  </tbody>\n",
       "</table>\n",
       "</div>"
      ],
      "text/plain": [
       "                                     count        mean          std    min  \\\n",
       "Teacher Project Posted Sequence  1110017.0   11.240499    25.954748   1.00   \n",
       "Project Cost                     1110017.0  741.524038  1083.255570  35.29   \n",
       "\n",
       "                                    25%     50%     75%        max  \n",
       "Teacher Project Posted Sequence    1.00    3.00    9.00     497.00  \n",
       "Project Cost                     335.12  515.35  867.52  255737.67  "
      ]
     },
     "execution_count": 23,
     "metadata": {},
     "output_type": "execute_result"
    }
   ],
   "source": [
    "# Distribution of all int and float variables\n",
    "df_projects_raw.describe(include=['int64','float']).transpose()"
   ]
  },
  {
   "cell_type": "code",
   "execution_count": 24,
   "metadata": {
    "ExecuteTime": {
     "end_time": "2020-10-22T03:01:13.451759Z",
     "start_time": "2020-10-22T03:01:01.379176Z"
    },
    "hidden": true,
    "scrolled": true
   },
   "outputs": [
    {
     "data": {
      "text/html": [
       "<div>\n",
       "<style scoped>\n",
       "    .dataframe tbody tr th:only-of-type {\n",
       "        vertical-align: middle;\n",
       "    }\n",
       "\n",
       "    .dataframe tbody tr th {\n",
       "        vertical-align: top;\n",
       "    }\n",
       "\n",
       "    .dataframe thead th {\n",
       "        text-align: right;\n",
       "    }\n",
       "</style>\n",
       "<table border=\"1\" class=\"dataframe\">\n",
       "  <thead>\n",
       "    <tr style=\"text-align: right;\">\n",
       "      <th></th>\n",
       "      <th>count</th>\n",
       "      <th>unique</th>\n",
       "      <th>top</th>\n",
       "      <th>freq</th>\n",
       "    </tr>\n",
       "  </thead>\n",
       "  <tbody>\n",
       "    <tr>\n",
       "      <th>Project ID</th>\n",
       "      <td>1110017</td>\n",
       "      <td>1110015</td>\n",
       "      <td>c940d0e78b7559573aca536db90c0646</td>\n",
       "      <td>2</td>\n",
       "    </tr>\n",
       "    <tr>\n",
       "      <th>School ID</th>\n",
       "      <td>1110017</td>\n",
       "      <td>72361</td>\n",
       "      <td>7f0412c9ac3cea57048543879e4e6318</td>\n",
       "      <td>1752</td>\n",
       "    </tr>\n",
       "    <tr>\n",
       "      <th>Teacher ID</th>\n",
       "      <td>1110017</td>\n",
       "      <td>395706</td>\n",
       "      <td>fa2f220b537e8653fb48878ebb38044d</td>\n",
       "      <td>320</td>\n",
       "    </tr>\n",
       "    <tr>\n",
       "      <th>Project Type</th>\n",
       "      <td>1110017</td>\n",
       "      <td>3</td>\n",
       "      <td>Teacher-Led</td>\n",
       "      <td>1092163</td>\n",
       "    </tr>\n",
       "    <tr>\n",
       "      <th>Project Title</th>\n",
       "      <td>1110011</td>\n",
       "      <td>926127</td>\n",
       "      <td>Flexible Seating</td>\n",
       "      <td>1107</td>\n",
       "    </tr>\n",
       "    <tr>\n",
       "      <th>Project Essay</th>\n",
       "      <td>1110016</td>\n",
       "      <td>1108272</td>\n",
       "      <td>Remember all the required reading you did as a student? Remember trudging through page after page of a book you didn't choose only so that in the end you can do an assignment that you don't value? Now, imagine picking your own books in order to discuss and analyze the issues that matter most!  &lt;!--DONOTREMOVEESSAYDIVIDER--&gt;I teach the most amazing 8th graders in the state of Texas. My students are zesty, passionate, hilarious, and aspiring literary critics. They are authors, scientists, and social revolutionaries. They are scholars. More than 75% of my students began the year reading 2 or more years below grade level. Make no mistake. Being behind does not mean that you aren't brilliant. Some of the brightest students I have ever taught have started significantly behind, caught up, and surpassed grade level norms all within a single year. With your help, we can all reach our goal of growing our reading by 2 grade levels and scoring in the 75th percentile on nationally normed tests.  &lt;!--DONOTREMOVEESSAYDIVIDER--&gt;This year, my students and I are annihilating low expectations by setting the bar that EVERY student grows at least 2 grade levels and reads more than 10 novels. In order to achieve this, students will be supplementing our class time together with 30 minutes of reading each night. Students get to pick the books that they can best connect with. With more copies of best young adult fiction, we are sure to reach infinitely more students and inspire years of reading to come!  &lt;!--DONOTREMOVEESSAYDIVIDER--&gt;Please make a difference for my students! It is my goal to grow our school library by over 2000 books this year and provide a variety of choices that are sure to challenge students at all readiness and interest levels! By helping us acquire copies of high interest books, you are you are helping us achieve each of the following: exposing students to a new genre, inspiring critical thinking and character study, and lighting the match that will spark much more reading!</td>\n",
       "      <td>14</td>\n",
       "    </tr>\n",
       "    <tr>\n",
       "      <th>Project Short Description</th>\n",
       "      <td>1110014</td>\n",
       "      <td>841893</td>\n",
       "      <td>As a teacher in a low-income/high poverty school district, my students are faced with several challenges both in and out of the classroom. Despite the many challenges they face, I am looking to...</td>\n",
       "      <td>2139</td>\n",
       "    </tr>\n",
       "    <tr>\n",
       "      <th>Project Need Statement</th>\n",
       "      <td>1110014</td>\n",
       "      <td>1080023</td>\n",
       "      <td>My students need a document camera.</td>\n",
       "      <td>578</td>\n",
       "    </tr>\n",
       "    <tr>\n",
       "      <th>Project Subject Category Tree</th>\n",
       "      <td>1109988</td>\n",
       "      <td>51</td>\n",
       "      <td>Literacy &amp; Language</td>\n",
       "      <td>250504</td>\n",
       "    </tr>\n",
       "    <tr>\n",
       "      <th>Project Subject Subcategory Tree</th>\n",
       "      <td>1109988</td>\n",
       "      <td>432</td>\n",
       "      <td>Literacy, Mathematics</td>\n",
       "      <td>93286</td>\n",
       "    </tr>\n",
       "    <tr>\n",
       "      <th>Project Grade Level Category</th>\n",
       "      <td>1110017</td>\n",
       "      <td>5</td>\n",
       "      <td>Grades PreK-2</td>\n",
       "      <td>432002</td>\n",
       "    </tr>\n",
       "    <tr>\n",
       "      <th>Project Resource Category</th>\n",
       "      <td>1109981</td>\n",
       "      <td>17</td>\n",
       "      <td>Supplies</td>\n",
       "      <td>386074</td>\n",
       "    </tr>\n",
       "    <tr>\n",
       "      <th>Project Posted Date</th>\n",
       "      <td>1110017</td>\n",
       "      <td>1947</td>\n",
       "      <td>2018-03-30</td>\n",
       "      <td>8479</td>\n",
       "    </tr>\n",
       "    <tr>\n",
       "      <th>Project Expiration Date</th>\n",
       "      <td>1110003</td>\n",
       "      <td>2102</td>\n",
       "      <td>2018-07-28</td>\n",
       "      <td>13637</td>\n",
       "    </tr>\n",
       "    <tr>\n",
       "      <th>Project Current Status</th>\n",
       "      <td>1110017</td>\n",
       "      <td>3</td>\n",
       "      <td>Fully Funded</td>\n",
       "      <td>826764</td>\n",
       "    </tr>\n",
       "    <tr>\n",
       "      <th>Project Fully Funded Date</th>\n",
       "      <td>826764</td>\n",
       "      <td>1957</td>\n",
       "      <td>2018-03-27</td>\n",
       "      <td>36039</td>\n",
       "    </tr>\n",
       "  </tbody>\n",
       "</table>\n",
       "</div>"
      ],
      "text/plain": [
       "                                    count   unique  \\\n",
       "Project ID                        1110017  1110015   \n",
       "School ID                         1110017    72361   \n",
       "Teacher ID                        1110017   395706   \n",
       "Project Type                      1110017        3   \n",
       "Project Title                     1110011   926127   \n",
       "Project Essay                     1110016  1108272   \n",
       "Project Short Description         1110014   841893   \n",
       "Project Need Statement            1110014  1080023   \n",
       "Project Subject Category Tree     1109988       51   \n",
       "Project Subject Subcategory Tree  1109988      432   \n",
       "Project Grade Level Category      1110017        5   \n",
       "Project Resource Category         1109981       17   \n",
       "Project Posted Date               1110017     1947   \n",
       "Project Expiration Date           1110003     2102   \n",
       "Project Current Status            1110017        3   \n",
       "Project Fully Funded Date          826764     1957   \n",
       "\n",
       "                                                                                                                                                                                                                                                                                                                                                                                                                                                                                                                                                                                                                                                                                                                                                                                                                                                                                                                                                                                                                                                                                                                                                                                                                                                                                                                                                                                                                                                                                                                                                                                                                                                                                                                                                                                                                                                                                                                                                                                                                                                                                                                      top  \\\n",
       "Project ID                                                                                                                                                                                                                                                                                                                                                                                                                                                                                                                                                                                                                                                                                                                                                                                                                                                                                                                                                                                                                                                                                                                                                                                                                                                                                                                                                                                                                                                                                                                                                                                                                                                                                                                                                                                                                                                                                                                                                                                                                                                                               c940d0e78b7559573aca536db90c0646   \n",
       "School ID                                                                                                                                                                                                                                                                                                                                                                                                                                                                                                                                                                                                                                                                                                                                                                                                                                                                                                                                                                                                                                                                                                                                                                                                                                                                                                                                                                                                                                                                                                                                                                                                                                                                                                                                                                                                                                                                                                                                                                                                                                                                                7f0412c9ac3cea57048543879e4e6318   \n",
       "Teacher ID                                                                                                                                                                                                                                                                                                                                                                                                                                                                                                                                                                                                                                                                                                                                                                                                                                                                                                                                                                                                                                                                                                                                                                                                                                                                                                                                                                                                                                                                                                                                                                                                                                                                                                                                                                                                                                                                                                                                                                                                                                                                               fa2f220b537e8653fb48878ebb38044d   \n",
       "Project Type                                                                                                                                                                                                                                                                                                                                                                                                                                                                                                                                                                                                                                                                                                                                                                                                                                                                                                                                                                                                                                                                                                                                                                                                                                                                                                                                                                                                                                                                                                                                                                                                                                                                                                                                                                                                                                                                                                                                                                                                                                                                                                  Teacher-Led   \n",
       "Project Title                                                                                                                                                                                                                                                                                                                                                                                                                                                                                                                                                                                                                                                                                                                                                                                                                                                                                                                                                                                                                                                                                                                                                                                                                                                                                                                                                                                                                                                                                                                                                                                                                                                                                                                                                                                                                                                                                                                                                                                                                                                                                            Flexible Seating   \n",
       "Project Essay                     Remember all the required reading you did as a student? Remember trudging through page after page of a book you didn't choose only so that in the end you can do an assignment that you don't value? Now, imagine picking your own books in order to discuss and analyze the issues that matter most!  <!--DONOTREMOVEESSAYDIVIDER-->I teach the most amazing 8th graders in the state of Texas. My students are zesty, passionate, hilarious, and aspiring literary critics. They are authors, scientists, and social revolutionaries. They are scholars. More than 75% of my students began the year reading 2 or more years below grade level. Make no mistake. Being behind does not mean that you aren't brilliant. Some of the brightest students I have ever taught have started significantly behind, caught up, and surpassed grade level norms all within a single year. With your help, we can all reach our goal of growing our reading by 2 grade levels and scoring in the 75th percentile on nationally normed tests.  <!--DONOTREMOVEESSAYDIVIDER-->This year, my students and I are annihilating low expectations by setting the bar that EVERY student grows at least 2 grade levels and reads more than 10 novels. In order to achieve this, students will be supplementing our class time together with 30 minutes of reading each night. Students get to pick the books that they can best connect with. With more copies of best young adult fiction, we are sure to reach infinitely more students and inspire years of reading to come!  <!--DONOTREMOVEESSAYDIVIDER-->Please make a difference for my students! It is my goal to grow our school library by over 2000 books this year and provide a variety of choices that are sure to challenge students at all readiness and interest levels! By helping us acquire copies of high interest books, you are you are helping us achieve each of the following: exposing students to a new genre, inspiring critical thinking and character study, and lighting the match that will spark much more reading!     \n",
       "Project Short Description                                                                                                                                                                                                                                                                                                                                                                                                                                                                                                                                                                                                                                                                                                                                                                                                                                                                                                                                                                                                                                                                                                                                                                                                                                                                                                                                                                                                                                                                                                                                                                                                                                                                                                                                                                                                                                                                                            As a teacher in a low-income/high poverty school district, my students are faced with several challenges both in and out of the classroom. Despite the many challenges they face, I am looking to...   \n",
       "Project Need Statement                                                                                                                                                                                                                                                                                                                                                                                                                                                                                                                                                                                                                                                                                                                                                                                                                                                                                                                                                                                                                                                                                                                                                                                                                                                                                                                                                                                                                                                                                                                                                                                                                                                                                                                                                                                                                                                                                                                                                                                                                                                                My students need a document camera.   \n",
       "Project Subject Category Tree                                                                                                                                                                                                                                                                                                                                                                                                                                                                                                                                                                                                                                                                                                                                                                                                                                                                                                                                                                                                                                                                                                                                                                                                                                                                                                                                                                                                                                                                                                                                                                                                                                                                                                                                                                                                                                                                                                                                                                                                                                                                         Literacy & Language   \n",
       "Project Subject Subcategory Tree                                                                                                                                                                                                                                                                                                                                                                                                                                                                                                                                                                                                                                                                                                                                                                                                                                                                                                                                                                                                                                                                                                                                                                                                                                                                                                                                                                                                                                                                                                                                                                                                                                                                                                                                                                                                                                                                                                                                                                                                                                                                    Literacy, Mathematics   \n",
       "Project Grade Level Category                                                                                                                                                                                                                                                                                                                                                                                                                                                                                                                                                                                                                                                                                                                                                                                                                                                                                                                                                                                                                                                                                                                                                                                                                                                                                                                                                                                                                                                                                                                                                                                                                                                                                                                                                                                                                                                                                                                                                                                                                                                                                Grades PreK-2   \n",
       "Project Resource Category                                                                                                                                                                                                                                                                                                                                                                                                                                                                                                                                                                                                                                                                                                                                                                                                                                                                                                                                                                                                                                                                                                                                                                                                                                                                                                                                                                                                                                                                                                                                                                                                                                                                                                                                                                                                                                                                                                                                                                                                                                                                                        Supplies   \n",
       "Project Posted Date                                                                                                                                                                                                                                                                                                                                                                                                                                                                                                                                                                                                                                                                                                                                                                                                                                                                                                                                                                                                                                                                                                                                                                                                                                                                                                                                                                                                                                                                                                                                                                                                                                                                                                                                                                                                                                                                                                                                                                                                                                                                                            2018-03-30   \n",
       "Project Expiration Date                                                                                                                                                                                                                                                                                                                                                                                                                                                                                                                                                                                                                                                                                                                                                                                                                                                                                                                                                                                                                                                                                                                                                                                                                                                                                                                                                                                                                                                                                                                                                                                                                                                                                                                                                                                                                                                                                                                                                                                                                                                                                        2018-07-28   \n",
       "Project Current Status                                                                                                                                                                                                                                                                                                                                                                                                                                                                                                                                                                                                                                                                                                                                                                                                                                                                                                                                                                                                                                                                                                                                                                                                                                                                                                                                                                                                                                                                                                                                                                                                                                                                                                                                                                                                                                                                                                                                                                                                                                                                                       Fully Funded   \n",
       "Project Fully Funded Date                                                                                                                                                                                                                                                                                                                                                                                                                                                                                                                                                                                                                                                                                                                                                                                                                                                                                                                                                                                                                                                                                                                                                                                                                                                                                                                                                                                                                                                                                                                                                                                                                                                                                                                                                                                                                                                                                                                                                                                                                                                                                      2018-03-27   \n",
       "\n",
       "                                     freq  \n",
       "Project ID                              2  \n",
       "School ID                            1752  \n",
       "Teacher ID                            320  \n",
       "Project Type                      1092163  \n",
       "Project Title                        1107  \n",
       "Project Essay                          14  \n",
       "Project Short Description            2139  \n",
       "Project Need Statement                578  \n",
       "Project Subject Category Tree      250504  \n",
       "Project Subject Subcategory Tree    93286  \n",
       "Project Grade Level Category       432002  \n",
       "Project Resource Category          386074  \n",
       "Project Posted Date                  8479  \n",
       "Project Expiration Date             13637  \n",
       "Project Current Status             826764  \n",
       "Project Fully Funded Date           36039  "
      ]
     },
     "execution_count": 24,
     "metadata": {},
     "output_type": "execute_result"
    }
   ],
   "source": [
    "df_projects_raw.describe(include=['object']).transpose()"
   ]
  },
  {
   "cell_type": "markdown",
   "metadata": {
    "ExecuteTime": {
     "end_time": "2020-10-22T02:24:11.092412Z",
     "start_time": "2020-10-22T02:24:11.080001Z"
    },
    "heading_collapsed": true
   },
   "source": [
    "### Resources data"
   ]
  },
  {
   "cell_type": "code",
   "execution_count": 15,
   "metadata": {
    "ExecuteTime": {
     "end_time": "2020-10-22T02:24:11.092412Z",
     "start_time": "2020-10-22T02:24:11.080001Z"
    },
    "hidden": true
   },
   "outputs": [
    {
     "data": {
      "text/html": [
       "<div>\n",
       "<style scoped>\n",
       "    .dataframe tbody tr th:only-of-type {\n",
       "        vertical-align: middle;\n",
       "    }\n",
       "\n",
       "    .dataframe tbody tr th {\n",
       "        vertical-align: top;\n",
       "    }\n",
       "\n",
       "    .dataframe thead th {\n",
       "        text-align: right;\n",
       "    }\n",
       "</style>\n",
       "<table border=\"1\" class=\"dataframe\">\n",
       "  <thead>\n",
       "    <tr style=\"text-align: right;\">\n",
       "      <th></th>\n",
       "      <th>Project ID</th>\n",
       "      <th>Resource Item Name</th>\n",
       "      <th>Resource Quantity</th>\n",
       "      <th>Resource Unit Price</th>\n",
       "      <th>Resource Vendor Name</th>\n",
       "    </tr>\n",
       "  </thead>\n",
       "  <tbody>\n",
       "    <tr>\n",
       "      <th>0</th>\n",
       "      <td>000009891526c0ade7180f8423792063</td>\n",
       "      <td>chair move and store cart</td>\n",
       "      <td>1.0</td>\n",
       "      <td>350.00</td>\n",
       "      <td>NaN</td>\n",
       "    </tr>\n",
       "    <tr>\n",
       "      <th>1</th>\n",
       "      <td>00000ce845c00cbf0686c992fc369df4</td>\n",
       "      <td>sony mdr zx100 blk   headphones</td>\n",
       "      <td>40.0</td>\n",
       "      <td>12.86</td>\n",
       "      <td>CDW-G</td>\n",
       "    </tr>\n",
       "    <tr>\n",
       "      <th>2</th>\n",
       "      <td>00002d44003ed46b066607c5455a999a</td>\n",
       "      <td>gaiam kids stay-n-play balance ball, grey</td>\n",
       "      <td>4.0</td>\n",
       "      <td>19.00</td>\n",
       "      <td>Amazon Business</td>\n",
       "    </tr>\n",
       "    <tr>\n",
       "      <th>3</th>\n",
       "      <td>00002d44003ed46b066607c5455a999a</td>\n",
       "      <td>cf520x - giant comfy pillows - set of 4</td>\n",
       "      <td>1.0</td>\n",
       "      <td>269.00</td>\n",
       "      <td>Lakeshore Learning Materials</td>\n",
       "    </tr>\n",
       "    <tr>\n",
       "      <th>4</th>\n",
       "      <td>00002d44003ed46b066607c5455a999a</td>\n",
       "      <td>serta lounger, mini, sky blue</td>\n",
       "      <td>1.0</td>\n",
       "      <td>131.85</td>\n",
       "      <td>Amazon Business</td>\n",
       "    </tr>\n",
       "  </tbody>\n",
       "</table>\n",
       "</div>"
      ],
      "text/plain": [
       "                         Project ID  \\\n",
       "0  000009891526c0ade7180f8423792063   \n",
       "1  00000ce845c00cbf0686c992fc369df4   \n",
       "2  00002d44003ed46b066607c5455a999a   \n",
       "3  00002d44003ed46b066607c5455a999a   \n",
       "4  00002d44003ed46b066607c5455a999a   \n",
       "\n",
       "                          Resource Item Name  Resource Quantity  \\\n",
       "0                  chair move and store cart                1.0   \n",
       "1            sony mdr zx100 blk   headphones               40.0   \n",
       "2  gaiam kids stay-n-play balance ball, grey                4.0   \n",
       "3    cf520x - giant comfy pillows - set of 4                1.0   \n",
       "4              serta lounger, mini, sky blue                1.0   \n",
       "\n",
       "   Resource Unit Price          Resource Vendor Name  \n",
       "0               350.00                           NaN  \n",
       "1                12.86                         CDW-G  \n",
       "2                19.00               Amazon Business  \n",
       "3               269.00  Lakeshore Learning Materials  \n",
       "4               131.85               Amazon Business  "
      ]
     },
     "execution_count": 15,
     "metadata": {},
     "output_type": "execute_result"
    }
   ],
   "source": [
    "df_resources_raw.head()"
   ]
  },
  {
   "cell_type": "code",
   "execution_count": 25,
   "metadata": {
    "ExecuteTime": {
     "end_time": "2020-10-22T03:01:27.115635Z",
     "start_time": "2020-10-22T03:01:26.483232Z"
    },
    "hidden": true
   },
   "outputs": [
    {
     "data": {
      "text/html": [
       "<div>\n",
       "<style scoped>\n",
       "    .dataframe tbody tr th:only-of-type {\n",
       "        vertical-align: middle;\n",
       "    }\n",
       "\n",
       "    .dataframe tbody tr th {\n",
       "        vertical-align: top;\n",
       "    }\n",
       "\n",
       "    .dataframe thead th {\n",
       "        text-align: right;\n",
       "    }\n",
       "</style>\n",
       "<table border=\"1\" class=\"dataframe\">\n",
       "  <thead>\n",
       "    <tr style=\"text-align: right;\">\n",
       "      <th></th>\n",
       "      <th>count</th>\n",
       "      <th>mean</th>\n",
       "      <th>std</th>\n",
       "      <th>min</th>\n",
       "      <th>25%</th>\n",
       "      <th>50%</th>\n",
       "      <th>75%</th>\n",
       "      <th>max</th>\n",
       "    </tr>\n",
       "  </thead>\n",
       "  <tbody>\n",
       "    <tr>\n",
       "      <th>Resource Quantity</th>\n",
       "      <td>7186149.0</td>\n",
       "      <td>2.816518</td>\n",
       "      <td>8.866547</td>\n",
       "      <td>0.0</td>\n",
       "      <td>1.00</td>\n",
       "      <td>1.00</td>\n",
       "      <td>2.0</td>\n",
       "      <td>4125.0</td>\n",
       "    </tr>\n",
       "    <tr>\n",
       "      <th>Resource Unit Price</th>\n",
       "      <td>7186138.0</td>\n",
       "      <td>53.413367</td>\n",
       "      <td>186.324751</td>\n",
       "      <td>0.0</td>\n",
       "      <td>7.26</td>\n",
       "      <td>14.39</td>\n",
       "      <td>36.4</td>\n",
       "      <td>97085.5</td>\n",
       "    </tr>\n",
       "  </tbody>\n",
       "</table>\n",
       "</div>"
      ],
      "text/plain": [
       "                         count       mean         std  min   25%    50%   75%  \\\n",
       "Resource Quantity    7186149.0   2.816518    8.866547  0.0  1.00   1.00   2.0   \n",
       "Resource Unit Price  7186138.0  53.413367  186.324751  0.0  7.26  14.39  36.4   \n",
       "\n",
       "                         max  \n",
       "Resource Quantity     4125.0  \n",
       "Resource Unit Price  97085.5  "
      ]
     },
     "execution_count": 25,
     "metadata": {},
     "output_type": "execute_result"
    }
   ],
   "source": [
    "# Distribution of all int and float variables\n",
    "df_resources_raw.describe(include=['int64','float']).transpose()"
   ]
  },
  {
   "cell_type": "code",
   "execution_count": 26,
   "metadata": {
    "ExecuteTime": {
     "end_time": "2020-10-22T03:01:38.553818Z",
     "start_time": "2020-10-22T03:01:30.117446Z"
    },
    "hidden": true
   },
   "outputs": [
    {
     "data": {
      "text/html": [
       "<div>\n",
       "<style scoped>\n",
       "    .dataframe tbody tr th:only-of-type {\n",
       "        vertical-align: middle;\n",
       "    }\n",
       "\n",
       "    .dataframe tbody tr th {\n",
       "        vertical-align: top;\n",
       "    }\n",
       "\n",
       "    .dataframe thead th {\n",
       "        text-align: right;\n",
       "    }\n",
       "</style>\n",
       "<table border=\"1\" class=\"dataframe\">\n",
       "  <thead>\n",
       "    <tr style=\"text-align: right;\">\n",
       "      <th></th>\n",
       "      <th>count</th>\n",
       "      <th>unique</th>\n",
       "      <th>top</th>\n",
       "      <th>freq</th>\n",
       "    </tr>\n",
       "  </thead>\n",
       "  <tbody>\n",
       "    <tr>\n",
       "      <th>Project ID</th>\n",
       "      <td>7210448</td>\n",
       "      <td>1208649</td>\n",
       "      <td>07a021f92447be2ef4a6cb955bc4c1d1</td>\n",
       "      <td>367</td>\n",
       "    </tr>\n",
       "    <tr>\n",
       "      <th>Resource Item Name</th>\n",
       "      <td>7209887</td>\n",
       "      <td>1073886</td>\n",
       "      <td>trip</td>\n",
       "      <td>21233</td>\n",
       "    </tr>\n",
       "    <tr>\n",
       "      <th>Resource Vendor Name</th>\n",
       "      <td>7128454</td>\n",
       "      <td>31</td>\n",
       "      <td>Amazon Business</td>\n",
       "      <td>3203262</td>\n",
       "    </tr>\n",
       "  </tbody>\n",
       "</table>\n",
       "</div>"
      ],
      "text/plain": [
       "                        count   unique                               top  \\\n",
       "Project ID            7210448  1208649  07a021f92447be2ef4a6cb955bc4c1d1   \n",
       "Resource Item Name    7209887  1073886                              trip   \n",
       "Resource Vendor Name  7128454       31                   Amazon Business   \n",
       "\n",
       "                         freq  \n",
       "Project ID                367  \n",
       "Resource Item Name      21233  \n",
       "Resource Vendor Name  3203262  "
      ]
     },
     "execution_count": 26,
     "metadata": {},
     "output_type": "execute_result"
    }
   ],
   "source": [
    "df_resources_raw.describe(include=['object']).transpose()"
   ]
  },
  {
   "cell_type": "markdown",
   "metadata": {
    "ExecuteTime": {
     "end_time": "2020-10-22T02:24:23.292716Z",
     "start_time": "2020-10-22T02:24:23.270736Z"
    },
    "heading_collapsed": true
   },
   "source": [
    "### Schools data"
   ]
  },
  {
   "cell_type": "code",
   "execution_count": 16,
   "metadata": {
    "ExecuteTime": {
     "end_time": "2020-10-22T02:24:23.292716Z",
     "start_time": "2020-10-22T02:24:23.270736Z"
    },
    "hidden": true
   },
   "outputs": [
    {
     "data": {
      "text/html": [
       "<div>\n",
       "<style scoped>\n",
       "    .dataframe tbody tr th:only-of-type {\n",
       "        vertical-align: middle;\n",
       "    }\n",
       "\n",
       "    .dataframe tbody tr th {\n",
       "        vertical-align: top;\n",
       "    }\n",
       "\n",
       "    .dataframe thead th {\n",
       "        text-align: right;\n",
       "    }\n",
       "</style>\n",
       "<table border=\"1\" class=\"dataframe\">\n",
       "  <thead>\n",
       "    <tr style=\"text-align: right;\">\n",
       "      <th></th>\n",
       "      <th>School ID</th>\n",
       "      <th>School Name</th>\n",
       "      <th>School Metro Type</th>\n",
       "      <th>School Percentage Free Lunch</th>\n",
       "      <th>School State</th>\n",
       "      <th>School Zip</th>\n",
       "      <th>School City</th>\n",
       "      <th>School County</th>\n",
       "      <th>School District</th>\n",
       "    </tr>\n",
       "  </thead>\n",
       "  <tbody>\n",
       "    <tr>\n",
       "      <th>0</th>\n",
       "      <td>00003e0fdd601b8ea0a6eb44057b9c5e</td>\n",
       "      <td>Capon Bridge Middle School</td>\n",
       "      <td>rural</td>\n",
       "      <td>56.0</td>\n",
       "      <td>West Virginia</td>\n",
       "      <td>26711</td>\n",
       "      <td>Capon Bridge</td>\n",
       "      <td>Hampshire</td>\n",
       "      <td>Hampshire Co School District</td>\n",
       "    </tr>\n",
       "    <tr>\n",
       "      <th>1</th>\n",
       "      <td>00004e32a448b4832e1b993500bf0731</td>\n",
       "      <td>The Woodlands College Park High School</td>\n",
       "      <td>urban</td>\n",
       "      <td>41.0</td>\n",
       "      <td>Texas</td>\n",
       "      <td>77384</td>\n",
       "      <td>The Woodlands</td>\n",
       "      <td>Montgomery</td>\n",
       "      <td>Conroe Ind School District</td>\n",
       "    </tr>\n",
       "    <tr>\n",
       "      <th>2</th>\n",
       "      <td>0002021bb799f28de224f1acc1ff08c4</td>\n",
       "      <td>Samantha Smith Elementary School</td>\n",
       "      <td>suburban</td>\n",
       "      <td>2.0</td>\n",
       "      <td>Washington</td>\n",
       "      <td>98074</td>\n",
       "      <td>Sammamish</td>\n",
       "      <td>King</td>\n",
       "      <td>Lake Washington Sch Dist 414</td>\n",
       "    </tr>\n",
       "    <tr>\n",
       "      <th>3</th>\n",
       "      <td>0004604f675212a8cac1161338265196</td>\n",
       "      <td>Kingsbury Country Day School</td>\n",
       "      <td>unknown</td>\n",
       "      <td>76.0</td>\n",
       "      <td>Michigan</td>\n",
       "      <td>48370</td>\n",
       "      <td>Oxford</td>\n",
       "      <td>Oakland</td>\n",
       "      <td>Michigan Dept Of Education</td>\n",
       "    </tr>\n",
       "    <tr>\n",
       "      <th>4</th>\n",
       "      <td>0004c9d50bcf0cea990f844e58b5e2c3</td>\n",
       "      <td>Redwater Elementary School</td>\n",
       "      <td>rural</td>\n",
       "      <td>50.0</td>\n",
       "      <td>Texas</td>\n",
       "      <td>75573</td>\n",
       "      <td>Redwater</td>\n",
       "      <td>Bowie</td>\n",
       "      <td>Redwater Ind Sch District</td>\n",
       "    </tr>\n",
       "  </tbody>\n",
       "</table>\n",
       "</div>"
      ],
      "text/plain": [
       "                          School ID                             School Name  \\\n",
       "0  00003e0fdd601b8ea0a6eb44057b9c5e              Capon Bridge Middle School   \n",
       "1  00004e32a448b4832e1b993500bf0731  The Woodlands College Park High School   \n",
       "2  0002021bb799f28de224f1acc1ff08c4        Samantha Smith Elementary School   \n",
       "3  0004604f675212a8cac1161338265196            Kingsbury Country Day School   \n",
       "4  0004c9d50bcf0cea990f844e58b5e2c3              Redwater Elementary School   \n",
       "\n",
       "  School Metro Type  School Percentage Free Lunch   School State  School Zip  \\\n",
       "0             rural                          56.0  West Virginia       26711   \n",
       "1             urban                          41.0          Texas       77384   \n",
       "2          suburban                           2.0     Washington       98074   \n",
       "3           unknown                          76.0       Michigan       48370   \n",
       "4             rural                          50.0          Texas       75573   \n",
       "\n",
       "     School City School County               School District  \n",
       "0   Capon Bridge     Hampshire  Hampshire Co School District  \n",
       "1  The Woodlands    Montgomery    Conroe Ind School District  \n",
       "2      Sammamish          King  Lake Washington Sch Dist 414  \n",
       "3         Oxford       Oakland    Michigan Dept Of Education  \n",
       "4       Redwater         Bowie     Redwater Ind Sch District  "
      ]
     },
     "execution_count": 16,
     "metadata": {},
     "output_type": "execute_result"
    }
   ],
   "source": [
    "df_schools_raw.head()"
   ]
  },
  {
   "cell_type": "code",
   "execution_count": 27,
   "metadata": {
    "ExecuteTime": {
     "end_time": "2020-10-22T03:02:04.976719Z",
     "start_time": "2020-10-22T03:02:04.950800Z"
    },
    "hidden": true
   },
   "outputs": [
    {
     "data": {
      "text/html": [
       "<div>\n",
       "<style scoped>\n",
       "    .dataframe tbody tr th:only-of-type {\n",
       "        vertical-align: middle;\n",
       "    }\n",
       "\n",
       "    .dataframe tbody tr th {\n",
       "        vertical-align: top;\n",
       "    }\n",
       "\n",
       "    .dataframe thead th {\n",
       "        text-align: right;\n",
       "    }\n",
       "</style>\n",
       "<table border=\"1\" class=\"dataframe\">\n",
       "  <thead>\n",
       "    <tr style=\"text-align: right;\">\n",
       "      <th></th>\n",
       "      <th>count</th>\n",
       "      <th>mean</th>\n",
       "      <th>std</th>\n",
       "      <th>min</th>\n",
       "      <th>25%</th>\n",
       "      <th>50%</th>\n",
       "      <th>75%</th>\n",
       "      <th>max</th>\n",
       "    </tr>\n",
       "  </thead>\n",
       "  <tbody>\n",
       "    <tr>\n",
       "      <th>School Percentage Free Lunch</th>\n",
       "      <td>71852.0</td>\n",
       "      <td>58.556115</td>\n",
       "      <td>25.508378</td>\n",
       "      <td>0.0</td>\n",
       "      <td>40.0</td>\n",
       "      <td>61.0</td>\n",
       "      <td>80.0</td>\n",
       "      <td>100.0</td>\n",
       "    </tr>\n",
       "    <tr>\n",
       "      <th>School Zip</th>\n",
       "      <td>72993.0</td>\n",
       "      <td>53382.093406</td>\n",
       "      <td>29131.096568</td>\n",
       "      <td>705.0</td>\n",
       "      <td>29554.0</td>\n",
       "      <td>53095.0</td>\n",
       "      <td>78572.0</td>\n",
       "      <td>99950.0</td>\n",
       "    </tr>\n",
       "  </tbody>\n",
       "</table>\n",
       "</div>"
      ],
      "text/plain": [
       "                                count          mean           std    min  \\\n",
       "School Percentage Free Lunch  71852.0     58.556115     25.508378    0.0   \n",
       "School Zip                    72993.0  53382.093406  29131.096568  705.0   \n",
       "\n",
       "                                  25%      50%      75%      max  \n",
       "School Percentage Free Lunch     40.0     61.0     80.0    100.0  \n",
       "School Zip                    29554.0  53095.0  78572.0  99950.0  "
      ]
     },
     "execution_count": 27,
     "metadata": {},
     "output_type": "execute_result"
    }
   ],
   "source": [
    "# Distribution of all int and float variables\n",
    "df_schools_raw.describe(include=['int64','float']).transpose()"
   ]
  },
  {
   "cell_type": "code",
   "execution_count": 28,
   "metadata": {
    "ExecuteTime": {
     "end_time": "2020-10-22T03:02:07.634356Z",
     "start_time": "2020-10-22T03:02:07.448161Z"
    },
    "hidden": true
   },
   "outputs": [
    {
     "data": {
      "text/html": [
       "<div>\n",
       "<style scoped>\n",
       "    .dataframe tbody tr th:only-of-type {\n",
       "        vertical-align: middle;\n",
       "    }\n",
       "\n",
       "    .dataframe tbody tr th {\n",
       "        vertical-align: top;\n",
       "    }\n",
       "\n",
       "    .dataframe thead th {\n",
       "        text-align: right;\n",
       "    }\n",
       "</style>\n",
       "<table border=\"1\" class=\"dataframe\">\n",
       "  <thead>\n",
       "    <tr style=\"text-align: right;\">\n",
       "      <th></th>\n",
       "      <th>count</th>\n",
       "      <th>unique</th>\n",
       "      <th>top</th>\n",
       "      <th>freq</th>\n",
       "    </tr>\n",
       "  </thead>\n",
       "  <tbody>\n",
       "    <tr>\n",
       "      <th>School ID</th>\n",
       "      <td>72993</td>\n",
       "      <td>72993</td>\n",
       "      <td>c70c35c994c769fc984f2dfaf121bdfd</td>\n",
       "      <td>1</td>\n",
       "    </tr>\n",
       "    <tr>\n",
       "      <th>School Name</th>\n",
       "      <td>72993</td>\n",
       "      <td>56831</td>\n",
       "      <td>Lincoln Elementary School</td>\n",
       "      <td>203</td>\n",
       "    </tr>\n",
       "    <tr>\n",
       "      <th>School Metro Type</th>\n",
       "      <td>72993</td>\n",
       "      <td>5</td>\n",
       "      <td>suburban</td>\n",
       "      <td>22992</td>\n",
       "    </tr>\n",
       "    <tr>\n",
       "      <th>School State</th>\n",
       "      <td>72993</td>\n",
       "      <td>51</td>\n",
       "      <td>California</td>\n",
       "      <td>8457</td>\n",
       "    </tr>\n",
       "    <tr>\n",
       "      <th>School City</th>\n",
       "      <td>72766</td>\n",
       "      <td>10400</td>\n",
       "      <td>New York City</td>\n",
       "      <td>2051</td>\n",
       "    </tr>\n",
       "    <tr>\n",
       "      <th>School County</th>\n",
       "      <td>72991</td>\n",
       "      <td>1782</td>\n",
       "      <td>Los Angeles</td>\n",
       "      <td>2110</td>\n",
       "    </tr>\n",
       "    <tr>\n",
       "      <th>School District</th>\n",
       "      <td>72993</td>\n",
       "      <td>10852</td>\n",
       "      <td>New York City Dept Of Ed</td>\n",
       "      <td>1718</td>\n",
       "    </tr>\n",
       "  </tbody>\n",
       "</table>\n",
       "</div>"
      ],
      "text/plain": [
       "                   count unique                               top   freq\n",
       "School ID          72993  72993  c70c35c994c769fc984f2dfaf121bdfd      1\n",
       "School Name        72993  56831         Lincoln Elementary School    203\n",
       "School Metro Type  72993      5                          suburban  22992\n",
       "School State       72993     51                        California   8457\n",
       "School City        72766  10400                     New York City   2051\n",
       "School County      72991   1782                       Los Angeles   2110\n",
       "School District    72993  10852          New York City Dept Of Ed   1718"
      ]
     },
     "execution_count": 28,
     "metadata": {},
     "output_type": "execute_result"
    }
   ],
   "source": [
    "df_schools_raw.describe(include=['object']).transpose()"
   ]
  },
  {
   "cell_type": "markdown",
   "metadata": {
    "ExecuteTime": {
     "end_time": "2020-10-22T02:25:01.360384Z",
     "start_time": "2020-10-22T02:25:01.345238Z"
    },
    "heading_collapsed": true
   },
   "source": [
    "### Teachers data"
   ]
  },
  {
   "cell_type": "code",
   "execution_count": 17,
   "metadata": {
    "ExecuteTime": {
     "end_time": "2020-10-22T02:25:01.360384Z",
     "start_time": "2020-10-22T02:25:01.345238Z"
    },
    "hidden": true
   },
   "outputs": [
    {
     "data": {
      "text/html": [
       "<div>\n",
       "<style scoped>\n",
       "    .dataframe tbody tr th:only-of-type {\n",
       "        vertical-align: middle;\n",
       "    }\n",
       "\n",
       "    .dataframe tbody tr th {\n",
       "        vertical-align: top;\n",
       "    }\n",
       "\n",
       "    .dataframe thead th {\n",
       "        text-align: right;\n",
       "    }\n",
       "</style>\n",
       "<table border=\"1\" class=\"dataframe\">\n",
       "  <thead>\n",
       "    <tr style=\"text-align: right;\">\n",
       "      <th></th>\n",
       "      <th>Teacher ID</th>\n",
       "      <th>Teacher Prefix</th>\n",
       "      <th>Teacher First Project Posted Date</th>\n",
       "    </tr>\n",
       "  </thead>\n",
       "  <tbody>\n",
       "    <tr>\n",
       "      <th>0</th>\n",
       "      <td>00000f7264c27ba6fea0c837ed6aa0aa</td>\n",
       "      <td>Mrs.</td>\n",
       "      <td>2013-08-21</td>\n",
       "    </tr>\n",
       "    <tr>\n",
       "      <th>1</th>\n",
       "      <td>00002d44003ed46b066607c5455a999a</td>\n",
       "      <td>Mrs.</td>\n",
       "      <td>2016-10-23</td>\n",
       "    </tr>\n",
       "    <tr>\n",
       "      <th>2</th>\n",
       "      <td>00006084c3d92d904a22e0a70f5c119a</td>\n",
       "      <td>Mr.</td>\n",
       "      <td>2016-09-08</td>\n",
       "    </tr>\n",
       "    <tr>\n",
       "      <th>3</th>\n",
       "      <td>0000a9af8b6b9cc9e41f53322a8b8cf1</td>\n",
       "      <td>Ms.</td>\n",
       "      <td>2015-10-25</td>\n",
       "    </tr>\n",
       "    <tr>\n",
       "      <th>4</th>\n",
       "      <td>0000d4777d14b33a1406dd6c9019fe89</td>\n",
       "      <td>Ms.</td>\n",
       "      <td>2017-02-10</td>\n",
       "    </tr>\n",
       "  </tbody>\n",
       "</table>\n",
       "</div>"
      ],
      "text/plain": [
       "                         Teacher ID Teacher Prefix  \\\n",
       "0  00000f7264c27ba6fea0c837ed6aa0aa           Mrs.   \n",
       "1  00002d44003ed46b066607c5455a999a           Mrs.   \n",
       "2  00006084c3d92d904a22e0a70f5c119a            Mr.   \n",
       "3  0000a9af8b6b9cc9e41f53322a8b8cf1            Ms.   \n",
       "4  0000d4777d14b33a1406dd6c9019fe89            Ms.   \n",
       "\n",
       "  Teacher First Project Posted Date  \n",
       "0                        2013-08-21  \n",
       "1                        2016-10-23  \n",
       "2                        2016-09-08  \n",
       "3                        2015-10-25  \n",
       "4                        2017-02-10  "
      ]
     },
     "execution_count": 17,
     "metadata": {},
     "output_type": "execute_result"
    }
   ],
   "source": [
    "df_teachers_raw.head()"
   ]
  },
  {
   "cell_type": "code",
   "execution_count": 30,
   "metadata": {
    "ExecuteTime": {
     "end_time": "2020-10-22T03:02:16.079974Z",
     "start_time": "2020-10-22T03:02:15.432925Z"
    },
    "hidden": true
   },
   "outputs": [
    {
     "data": {
      "text/html": [
       "<div>\n",
       "<style scoped>\n",
       "    .dataframe tbody tr th:only-of-type {\n",
       "        vertical-align: middle;\n",
       "    }\n",
       "\n",
       "    .dataframe tbody tr th {\n",
       "        vertical-align: top;\n",
       "    }\n",
       "\n",
       "    .dataframe thead th {\n",
       "        text-align: right;\n",
       "    }\n",
       "</style>\n",
       "<table border=\"1\" class=\"dataframe\">\n",
       "  <thead>\n",
       "    <tr style=\"text-align: right;\">\n",
       "      <th></th>\n",
       "      <th>count</th>\n",
       "      <th>unique</th>\n",
       "      <th>top</th>\n",
       "      <th>freq</th>\n",
       "    </tr>\n",
       "  </thead>\n",
       "  <tbody>\n",
       "    <tr>\n",
       "      <th>Teacher ID</th>\n",
       "      <td>402900</td>\n",
       "      <td>402900</td>\n",
       "      <td>47bdee7ab122af912d44c5e6cf5e8621</td>\n",
       "      <td>1</td>\n",
       "    </tr>\n",
       "    <tr>\n",
       "      <th>Teacher Prefix</th>\n",
       "      <td>402872</td>\n",
       "      <td>6</td>\n",
       "      <td>Mrs.</td>\n",
       "      <td>202142</td>\n",
       "    </tr>\n",
       "    <tr>\n",
       "      <th>Teacher First Project Posted Date</th>\n",
       "      <td>402900</td>\n",
       "      <td>4699</td>\n",
       "      <td>2015-09-13</td>\n",
       "      <td>2067</td>\n",
       "    </tr>\n",
       "  </tbody>\n",
       "</table>\n",
       "</div>"
      ],
      "text/plain": [
       "                                    count  unique  \\\n",
       "Teacher ID                         402900  402900   \n",
       "Teacher Prefix                     402872       6   \n",
       "Teacher First Project Posted Date  402900    4699   \n",
       "\n",
       "                                                                top    freq  \n",
       "Teacher ID                         47bdee7ab122af912d44c5e6cf5e8621       1  \n",
       "Teacher Prefix                                                 Mrs.  202142  \n",
       "Teacher First Project Posted Date                        2015-09-13    2067  "
      ]
     },
     "execution_count": 30,
     "metadata": {},
     "output_type": "execute_result"
    }
   ],
   "source": [
    "df_teachers_raw.describe(include=['object']).transpose()"
   ]
  },
  {
   "cell_type": "markdown",
   "metadata": {
    "ExecuteTime": {
     "end_time": "2020-10-22T02:25:18.410670Z",
     "start_time": "2020-10-22T02:25:18.394597Z"
    },
    "heading_collapsed": true
   },
   "source": [
    "### Zip data"
   ]
  },
  {
   "cell_type": "code",
   "execution_count": 18,
   "metadata": {
    "ExecuteTime": {
     "end_time": "2020-10-22T02:25:18.410670Z",
     "start_time": "2020-10-22T02:25:18.394597Z"
    },
    "hidden": true
   },
   "outputs": [
    {
     "data": {
      "text/html": [
       "<div>\n",
       "<style scoped>\n",
       "    .dataframe tbody tr th:only-of-type {\n",
       "        vertical-align: middle;\n",
       "    }\n",
       "\n",
       "    .dataframe tbody tr th {\n",
       "        vertical-align: top;\n",
       "    }\n",
       "\n",
       "    .dataframe thead th {\n",
       "        text-align: right;\n",
       "    }\n",
       "</style>\n",
       "<table border=\"1\" class=\"dataframe\">\n",
       "  <thead>\n",
       "    <tr style=\"text-align: right;\">\n",
       "      <th></th>\n",
       "      <th>ZIP</th>\n",
       "      <th>LAT</th>\n",
       "      <th>LNG</th>\n",
       "    </tr>\n",
       "  </thead>\n",
       "  <tbody>\n",
       "    <tr>\n",
       "      <th>0</th>\n",
       "      <td>601</td>\n",
       "      <td>18.180555</td>\n",
       "      <td>-66.749961</td>\n",
       "    </tr>\n",
       "    <tr>\n",
       "      <th>1</th>\n",
       "      <td>602</td>\n",
       "      <td>18.361945</td>\n",
       "      <td>-67.175597</td>\n",
       "    </tr>\n",
       "    <tr>\n",
       "      <th>2</th>\n",
       "      <td>603</td>\n",
       "      <td>18.455183</td>\n",
       "      <td>-67.119887</td>\n",
       "    </tr>\n",
       "    <tr>\n",
       "      <th>3</th>\n",
       "      <td>606</td>\n",
       "      <td>18.158345</td>\n",
       "      <td>-66.932911</td>\n",
       "    </tr>\n",
       "    <tr>\n",
       "      <th>4</th>\n",
       "      <td>610</td>\n",
       "      <td>18.295366</td>\n",
       "      <td>-67.125135</td>\n",
       "    </tr>\n",
       "  </tbody>\n",
       "</table>\n",
       "</div>"
      ],
      "text/plain": [
       "   ZIP        LAT        LNG\n",
       "0  601  18.180555 -66.749961\n",
       "1  602  18.361945 -67.175597\n",
       "2  603  18.455183 -67.119887\n",
       "3  606  18.158345 -66.932911\n",
       "4  610  18.295366 -67.125135"
      ]
     },
     "execution_count": 18,
     "metadata": {},
     "output_type": "execute_result"
    }
   ],
   "source": [
    "df_zip_raw.head()"
   ]
  },
  {
   "cell_type": "markdown",
   "metadata": {},
   "source": [
    "## Missing data"
   ]
  },
  {
   "cell_type": "code",
   "execution_count": 48,
   "metadata": {
    "ExecuteTime": {
     "end_time": "2020-10-22T03:37:00.176331Z",
     "start_time": "2020-10-22T03:36:48.988847Z"
    },
    "scrolled": true
   },
   "outputs": [
    {
     "name": "stdout",
     "output_type": "stream",
     "text": [
      "\n",
      "Missing data in df_donors_raw:\n",
      "\n",
      "Length of Dataframe df_donors_raw: 2122640\n",
      "\n",
      "       Column_Names   Total  Percent\n",
      "0        Donor City  213097    10.04\n",
      "1         Donor Zip  180060     8.48\n",
      "2          Donor ID       0     0.00\n",
      "3  Donor Is Teacher       0     0.00\n",
      "4       Donor State       0     0.00\n",
      "\n",
      "Missing data in df_donations_raw:\n",
      "\n",
      "Length of Dataframe df_donations_raw: 4687884\n",
      "\n",
      "                          Column_Names  Total  Percent\n",
      "0                      Donation Amount      0      0.0\n",
      "1                          Donation ID      0      0.0\n",
      "2  Donation Included Optional Donation      0      0.0\n",
      "3               Donation Received Date      0      0.0\n",
      "4                  Donor Cart Sequence      0      0.0\n",
      "5                             Donor ID      0      0.0\n",
      "6                           Project ID      0      0.0\n",
      "\n",
      "Missing data in df_projects_raw:\n",
      "\n",
      "Length of Dataframe df_projects_raw: 1110017\n",
      "\n",
      "                        Column_Names   Total  Percent\n",
      "0          Project Fully Funded Date  283253    25.52\n",
      "1                       Project Cost       0     0.00\n",
      "2          Project Short Description       3     0.00\n",
      "3                         Teacher ID       0     0.00\n",
      "4                          School ID       0     0.00\n",
      "5                       Project Type       0     0.00\n",
      "6                      Project Title       6     0.00\n",
      "7   Project Subject Subcategory Tree      29     0.00\n",
      "8      Project Subject Category Tree      29     0.00\n",
      "9          Project Resource Category      36     0.00\n",
      "10            Project Current Status       0     0.00\n",
      "11               Project Posted Date       0     0.00\n",
      "12            Project Need Statement       3     0.00\n",
      "13                        Project ID       0     0.00\n",
      "14      Project Grade Level Category       0     0.00\n",
      "15           Project Expiration Date      14     0.00\n",
      "16                     Project Essay       1     0.00\n",
      "17   Teacher Project Posted Sequence       0     0.00\n",
      "\n",
      "Missing data in df_resources_raw:\n",
      "\n",
      "Length of Dataframe df_resources_raw: 7210448\n",
      "\n",
      "           Column_Names  Total  Percent\n",
      "0  Resource Vendor Name  81994     1.14\n",
      "1     Resource Quantity  24299     0.34\n",
      "2   Resource Unit Price  24310     0.34\n",
      "3    Resource Item Name    561     0.01\n",
      "4            Project ID      0     0.00\n",
      "\n",
      "Missing data in df_schools_raw:\n",
      "\n",
      "Length of Dataframe df_schools_raw: 72993\n",
      "\n",
      "                   Column_Names  Total  Percent\n",
      "0  School Percentage Free Lunch   1141     1.56\n",
      "1                   School City    227     0.31\n",
      "2                 School County      2     0.00\n",
      "3               School District      0     0.00\n",
      "4                     School ID      0     0.00\n",
      "5             School Metro Type      0     0.00\n",
      "6                   School Name      0     0.00\n",
      "7                  School State      0     0.00\n",
      "8                    School Zip      0     0.00\n",
      "\n",
      "Missing data in df_teachers_raw:\n",
      "\n",
      "Length of Dataframe df_teachers_raw: 402900\n",
      "\n",
      "                        Column_Names  Total  Percent\n",
      "0                     Teacher Prefix     28     0.01\n",
      "1  Teacher First Project Posted Date      0     0.00\n",
      "2                         Teacher ID      0     0.00\n"
     ]
    }
   ],
   "source": [
    "dataframes_list = [df_donors_raw,df_donations_raw,df_projects_raw,df_resources_raw,df_schools_raw,df_teachers_raw]\n",
    "dataframes_names = [\"df_donors_raw\",\"df_donations_raw\",\"df_projects_raw\",\"df_resources_raw\",\"df_schools_raw\",\"df_teachers_raw\"]\n",
    "for i in range(0,len(dataframes_list)):\n",
    "    # Count of missing values as percentage of total data\n",
    "    total = dataframes_list[i].isnull().sum().sort_values(ascending=False)\n",
    "    percent =round(((dataframes_list[i].isnull().sum()/dataframes_list[i].isnull().count())*100),2).sort_values(ascending=False)\n",
    "    columns_series = dataframes_list[i].columns.to_series()\n",
    "\n",
    "    missing_data_summary_df = pd.concat([columns_series,total, percent],axis = 1, keys=['Column_Names','Total', 'Percent'])\n",
    "    missing_data_summary_df.sort_values(['Percent'], inplace = True, ascending=False)\n",
    "    missing_data_summary_df.reset_index(drop=True, inplace=True)\n",
    "    print(\"\\nMissing data in {}:\\n\".format(dataframes_names[i]))\n",
    "    print(\"Length of Dataframe {}: {}\\n\".format(dataframes_names[i],len(dataframes_list[i])))\n",
    "    print(missing_data_summary_df)"
   ]
  },
  {
   "cell_type": "markdown",
   "metadata": {},
   "source": [
    "## Univariate analysis - Table wise "
   ]
  },
  {
   "cell_type": "markdown",
   "metadata": {},
   "source": [
    "### Donors"
   ]
  },
  {
   "cell_type": "markdown",
   "metadata": {},
   "source": []
  },
  {
   "cell_type": "code",
   "execution_count": null,
   "metadata": {},
   "outputs": [],
   "source": []
  },
  {
   "cell_type": "code",
   "execution_count": null,
   "metadata": {},
   "outputs": [],
   "source": []
  },
  {
   "cell_type": "markdown",
   "metadata": {
    "ExecuteTime": {
     "end_time": "2020-10-22T03:55:44.024467Z",
     "start_time": "2020-10-22T03:55:44.011550Z"
    }
   },
   "source": [
    "### Donations"
   ]
  },
  {
   "cell_type": "code",
   "execution_count": null,
   "metadata": {},
   "outputs": [],
   "source": []
  },
  {
   "cell_type": "code",
   "execution_count": null,
   "metadata": {},
   "outputs": [],
   "source": []
  },
  {
   "cell_type": "code",
   "execution_count": null,
   "metadata": {},
   "outputs": [],
   "source": []
  },
  {
   "cell_type": "code",
   "execution_count": null,
   "metadata": {},
   "outputs": [],
   "source": []
  },
  {
   "cell_type": "markdown",
   "metadata": {},
   "source": []
  },
  {
   "cell_type": "markdown",
   "metadata": {},
   "source": []
  },
  {
   "cell_type": "markdown",
   "metadata": {},
   "source": []
  },
  {
   "cell_type": "markdown",
   "metadata": {},
   "source": [
    "### Projects"
   ]
  },
  {
   "cell_type": "code",
   "execution_count": 50,
   "metadata": {
    "ExecuteTime": {
     "end_time": "2020-10-22T03:46:01.664290Z",
     "start_time": "2020-10-22T03:46:01.648324Z"
    },
    "scrolled": true
   },
   "outputs": [
    {
     "data": {
      "text/html": [
       "<div>\n",
       "<style scoped>\n",
       "    .dataframe tbody tr th:only-of-type {\n",
       "        vertical-align: middle;\n",
       "    }\n",
       "\n",
       "    .dataframe tbody tr th {\n",
       "        vertical-align: top;\n",
       "    }\n",
       "\n",
       "    .dataframe thead th {\n",
       "        text-align: right;\n",
       "    }\n",
       "</style>\n",
       "<table border=\"1\" class=\"dataframe\">\n",
       "  <thead>\n",
       "    <tr style=\"text-align: right;\">\n",
       "      <th></th>\n",
       "      <th>Project ID</th>\n",
       "      <th>School ID</th>\n",
       "      <th>Teacher ID</th>\n",
       "      <th>Teacher Project Posted Sequence</th>\n",
       "      <th>Project Type</th>\n",
       "      <th>Project Title</th>\n",
       "      <th>Project Essay</th>\n",
       "      <th>Project Short Description</th>\n",
       "      <th>Project Need Statement</th>\n",
       "      <th>Project Subject Category Tree</th>\n",
       "      <th>Project Subject Subcategory Tree</th>\n",
       "      <th>Project Grade Level Category</th>\n",
       "      <th>Project Resource Category</th>\n",
       "      <th>Project Cost</th>\n",
       "      <th>Project Posted Date</th>\n",
       "      <th>Project Expiration Date</th>\n",
       "      <th>Project Current Status</th>\n",
       "      <th>Project Fully Funded Date</th>\n",
       "    </tr>\n",
       "  </thead>\n",
       "  <tbody>\n",
       "    <tr>\n",
       "      <th>0</th>\n",
       "      <td>7685f0265a19d7b52a470ee4bac883ba</td>\n",
       "      <td>e180c7424cb9c68cb49f141b092a988f</td>\n",
       "      <td>4ee5200e89d9e2998ec8baad8a3c5968</td>\n",
       "      <td>25</td>\n",
       "      <td>Teacher-Led</td>\n",
       "      <td>Stand Up to Bullying: Together We Can!</td>\n",
       "      <td>Did you know that 1-7 students in grades K-12 is either a bully or a victim of bullying? My goal is to raise prevention through being educated and aware of the effects and consequences of bullying. They need to know how to access a science-base, research-validated curriculum via Internet and books. &lt;!--DONOTREMOVEESSAYDIVIDER--&gt;We are part of a small pre-k and kindergarten primary center. Our student population is less than 300 students. My students are learning to stand up to bullying. They are great kids discovering the world and learning to read and write. But I worry that next year when they leave our primary center and attend their neighborhood school (student population over 500) they will face a very different environment. I hope that the lessons that they have learned about friendships, kindness, and working cooperatively will reduce any instances of bullying. I want to raise awareness and educate my students so they can ask for help when they needed. Vigilance and discipline is the key! &lt;!--DONOTREMOVEESSAYDIVIDER--&gt;We know that knowledge is power; I want my students to know how to access information that will help them stand up to bullying. My project is to work with them in group discussions using their book, \"Bullying in Schools\" as they will all have a copy to keep and share with their parents. I will use the tablet with a small group of four kids at a time. Together we will navigate web sites to watch videos and testimonials. They can then talk about it, share with their parents, and I can lead class discussions. \\n\\nThere is access to information, articles and poems, and making them aware will educate them further on bullying. We must rise up and be the change to reach bullying in the heart of the problem. Bullying takes many forms and can happen in many contexts. Bullying is complex and there is no one size fits all solution for it, but knowledge is power. My students need to know how to find answers and information when they need it. &lt;!--DONOTREMOVEESSAYDIVIDER--&gt;This problem of bullying in schools is not one without a solution. We need every one helping teachers, parents, administrators and people in our community. The facts show that it is estimated that 160,000 children miss school every day due to fear of attack or intimidation by other students. Being aware of these facts should raise awareness and support. Your efforts will certainly have an impact. Together we can stand up to bullying.</td>\n",
       "      <td>Did you know that 1-7 students in grades K-12 is either a bully or a victim of bullying? My goal is to raise prevention through being educated and aware of the effects and consequences of...</td>\n",
       "      <td>My students need 25 copies of \"Bullying in Schools\" for each to keep, \"Stand Up For Yourself and Your Friends: Dealing With Bullies\", \"A Smart Kid's Guide to Online Bullying\" and a tablet to research specific websites that talk about prevention strategies on bullying.</td>\n",
       "      <td>Applied Learning</td>\n",
       "      <td>Character Education, Early Development</td>\n",
       "      <td>Grades PreK-2</td>\n",
       "      <td>Technology</td>\n",
       "      <td>361.8</td>\n",
       "      <td>2013-01-01</td>\n",
       "      <td>2013-05-30</td>\n",
       "      <td>Fully Funded</td>\n",
       "      <td>2013-01-11</td>\n",
       "    </tr>\n",
       "  </tbody>\n",
       "</table>\n",
       "</div>"
      ],
      "text/plain": [
       "                         Project ID                         School ID  \\\n",
       "0  7685f0265a19d7b52a470ee4bac883ba  e180c7424cb9c68cb49f141b092a988f   \n",
       "\n",
       "                         Teacher ID  Teacher Project Posted Sequence  \\\n",
       "0  4ee5200e89d9e2998ec8baad8a3c5968                               25   \n",
       "\n",
       "  Project Type                           Project Title  \\\n",
       "0  Teacher-Led  Stand Up to Bullying: Together We Can!   \n",
       "\n",
       "                                                                                                                                                                                                                                                                                                                                                                                                                                                                                                                                                                                                                                                                                                                                                                                                                                                                                                                                                                                                                                                                                                                                                                                                                                                                                                                                                                                                                                                                                                                                                                                                                                                                                                                                                                                                                                                                                                                                                                                                                                                                                                                                                                                                                                                                                                                                                                                                                                                                                                                                           Project Essay  \\\n",
       "0  Did you know that 1-7 students in grades K-12 is either a bully or a victim of bullying? My goal is to raise prevention through being educated and aware of the effects and consequences of bullying. They need to know how to access a science-base, research-validated curriculum via Internet and books. <!--DONOTREMOVEESSAYDIVIDER-->We are part of a small pre-k and kindergarten primary center. Our student population is less than 300 students. My students are learning to stand up to bullying. They are great kids discovering the world and learning to read and write. But I worry that next year when they leave our primary center and attend their neighborhood school (student population over 500) they will face a very different environment. I hope that the lessons that they have learned about friendships, kindness, and working cooperatively will reduce any instances of bullying. I want to raise awareness and educate my students so they can ask for help when they needed. Vigilance and discipline is the key! <!--DONOTREMOVEESSAYDIVIDER-->We know that knowledge is power; I want my students to know how to access information that will help them stand up to bullying. My project is to work with them in group discussions using their book, \"Bullying in Schools\" as they will all have a copy to keep and share with their parents. I will use the tablet with a small group of four kids at a time. Together we will navigate web sites to watch videos and testimonials. They can then talk about it, share with their parents, and I can lead class discussions. \\n\\nThere is access to information, articles and poems, and making them aware will educate them further on bullying. We must rise up and be the change to reach bullying in the heart of the problem. Bullying takes many forms and can happen in many contexts. Bullying is complex and there is no one size fits all solution for it, but knowledge is power. My students need to know how to find answers and information when they need it. <!--DONOTREMOVEESSAYDIVIDER-->This problem of bullying in schools is not one without a solution. We need every one helping teachers, parents, administrators and people in our community. The facts show that it is estimated that 160,000 children miss school every day due to fear of attack or intimidation by other students. Being aware of these facts should raise awareness and support. Your efforts will certainly have an impact. Together we can stand up to bullying.    \n",
       "\n",
       "                                                                                                                                                                        Project Short Description  \\\n",
       "0  Did you know that 1-7 students in grades K-12 is either a bully or a victim of bullying? My goal is to raise prevention through being educated and aware of the effects and consequences of...   \n",
       "\n",
       "                                                                                                                                                                                                                                                         Project Need Statement  \\\n",
       "0  My students need 25 copies of \"Bullying in Schools\" for each to keep, \"Stand Up For Yourself and Your Friends: Dealing With Bullies\", \"A Smart Kid's Guide to Online Bullying\" and a tablet to research specific websites that talk about prevention strategies on bullying.   \n",
       "\n",
       "  Project Subject Category Tree        Project Subject Subcategory Tree  \\\n",
       "0              Applied Learning  Character Education, Early Development   \n",
       "\n",
       "  Project Grade Level Category Project Resource Category  Project Cost  \\\n",
       "0                Grades PreK-2                Technology         361.8   \n",
       "\n",
       "  Project Posted Date Project Expiration Date Project Current Status  \\\n",
       "0          2013-01-01              2013-05-30           Fully Funded   \n",
       "\n",
       "  Project Fully Funded Date  \n",
       "0                2013-01-11  "
      ]
     },
     "execution_count": 50,
     "metadata": {},
     "output_type": "execute_result"
    }
   ],
   "source": [
    "df_projects_raw.head(1)"
   ]
  },
  {
   "cell_type": "code",
   "execution_count": 52,
   "metadata": {
    "ExecuteTime": {
     "end_time": "2020-10-22T03:52:38.788775Z",
     "start_time": "2020-10-22T03:52:38.695845Z"
    }
   },
   "outputs": [
    {
     "data": {
      "text/plain": [
       "Fully Funded    74.482103\n",
       "Expired         21.747595\n",
       "Live             3.770303\n",
       "Name: Project Current Status, dtype: float64"
      ]
     },
     "execution_count": 52,
     "metadata": {},
     "output_type": "execute_result"
    }
   ],
   "source": [
    "# Percentage of projects funded/not funded\n",
    "df_projects_raw['Project Current Status'].value_counts(normalize = True) * 100"
   ]
  },
  {
   "cell_type": "code",
   "execution_count": null,
   "metadata": {},
   "outputs": [],
   "source": []
  },
  {
   "cell_type": "code",
   "execution_count": null,
   "metadata": {},
   "outputs": [],
   "source": []
  },
  {
   "cell_type": "markdown",
   "metadata": {},
   "source": [
    "### Resources"
   ]
  },
  {
   "cell_type": "code",
   "execution_count": null,
   "metadata": {},
   "outputs": [],
   "source": []
  },
  {
   "cell_type": "code",
   "execution_count": null,
   "metadata": {},
   "outputs": [],
   "source": []
  },
  {
   "cell_type": "markdown",
   "metadata": {},
   "source": [
    "### Schools"
   ]
  },
  {
   "cell_type": "code",
   "execution_count": null,
   "metadata": {},
   "outputs": [],
   "source": []
  },
  {
   "cell_type": "code",
   "execution_count": null,
   "metadata": {},
   "outputs": [],
   "source": []
  },
  {
   "cell_type": "markdown",
   "metadata": {},
   "source": [
    "### Teachers"
   ]
  },
  {
   "cell_type": "code",
   "execution_count": null,
   "metadata": {},
   "outputs": [],
   "source": []
  }
 ],
 "metadata": {
  "kernelspec": {
   "display_name": "Python 3",
   "language": "python",
   "name": "python3"
  },
  "language_info": {
   "codemirror_mode": {
    "name": "ipython",
    "version": 3
   },
   "file_extension": ".py",
   "mimetype": "text/x-python",
   "name": "python",
   "nbconvert_exporter": "python",
   "pygments_lexer": "ipython3",
   "version": "3.7.3"
  },
  "toc": {
   "base_numbering": 1,
   "nav_menu": {},
   "number_sections": true,
   "sideBar": true,
   "skip_h1_title": false,
   "title_cell": "Table of Contents",
   "title_sidebar": "Contents",
   "toc_cell": false,
   "toc_position": {},
   "toc_section_display": true,
   "toc_window_display": true
  },
  "varInspector": {
   "cols": {
    "lenName": 16,
    "lenType": 16,
    "lenVar": 40
   },
   "kernels_config": {
    "python": {
     "delete_cmd_postfix": "",
     "delete_cmd_prefix": "del ",
     "library": "var_list.py",
     "varRefreshCmd": "print(var_dic_list())"
    },
    "r": {
     "delete_cmd_postfix": ") ",
     "delete_cmd_prefix": "rm(",
     "library": "var_list.r",
     "varRefreshCmd": "cat(var_dic_list()) "
    }
   },
   "types_to_exclude": [
    "module",
    "function",
    "builtin_function_or_method",
    "instance",
    "_Feature"
   ],
   "window_display": false
  }
 },
 "nbformat": 4,
 "nbformat_minor": 2
}
