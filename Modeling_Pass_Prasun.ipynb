{
 "cells": [
  {
   "cell_type": "markdown",
   "metadata": {
    "ExecuteTime": {
     "end_time": "2020-11-05T09:12:31.292544Z",
     "start_time": "2020-11-05T09:12:31.286663Z"
    }
   },
   "source": [
    "# Recommendation System - Model 1"
   ]
  },
  {
   "cell_type": "markdown",
   "metadata": {},
   "source": [
    "## Import packages and dataframes"
   ]
  },
  {
   "cell_type": "code",
   "execution_count": 1,
   "metadata": {
    "ExecuteTime": {
     "end_time": "2020-12-10T12:35:21.562379Z",
     "start_time": "2020-12-10T12:35:19.167807Z"
    }
   },
   "outputs": [],
   "source": [
    "import numpy as np\n",
    "import pandas as pd\n",
    "import random as rd\n",
    "import seaborn as sns\n",
    "import matplotlib.pyplot as plt\n",
    "from sklearn.preprocessing import OneHotEncoder as OHE\n",
    "from sklearn.metrics.pairwise import cosine_similarity\n",
    "from sklearn.preprocessing import StandardScaler\n",
    "\n",
    "rd.seed(123)"
   ]
  },
  {
   "cell_type": "code",
   "execution_count": 2,
   "metadata": {
    "ExecuteTime": {
     "end_time": "2020-12-10T12:36:07.692218Z",
     "start_time": "2020-12-10T12:35:21.565512Z"
    }
   },
   "outputs": [
    {
     "name": "stderr",
     "output_type": "stream",
     "text": [
      "/Users/prastha/opt/anaconda3/lib/python3.7/site-packages/IPython/core/interactiveshell.py:3147: DtypeWarning: Columns (4) have mixed types.Specify dtype option on import or set low_memory=False.\n",
      "  interactivity=interactivity, compiler=compiler, result=result)\n"
     ]
    }
   ],
   "source": [
    "# import all the files\n",
    "\n",
    "donationsDF = pd.read_csv('Donations.csv')\n",
    "donorsDF = pd.read_csv('Donors.csv')\n",
    "projectsDF = pd.read_csv('Projects.csv')\n",
    "schoolsDF = pd.read_csv('Schools.csv')\n",
    "resourcesDF = pd.read_csv('Resources.csv')"
   ]
  },
  {
   "cell_type": "markdown",
   "metadata": {},
   "source": [
    "## Snapshot of the dataframes"
   ]
  },
  {
   "cell_type": "code",
   "execution_count": 3,
   "metadata": {
    "ExecuteTime": {
     "end_time": "2020-12-10T12:36:07.774968Z",
     "start_time": "2020-12-10T12:36:07.697151Z"
    }
   },
   "outputs": [
    {
     "data": {
      "text/html": [
       "<div>\n",
       "<style scoped>\n",
       "    .dataframe tbody tr th:only-of-type {\n",
       "        vertical-align: middle;\n",
       "    }\n",
       "\n",
       "    .dataframe tbody tr th {\n",
       "        vertical-align: top;\n",
       "    }\n",
       "\n",
       "    .dataframe thead th {\n",
       "        text-align: right;\n",
       "    }\n",
       "</style>\n",
       "<table border=\"1\" class=\"dataframe\">\n",
       "  <thead>\n",
       "    <tr style=\"text-align: right;\">\n",
       "      <th></th>\n",
       "      <th>Project ID</th>\n",
       "      <th>Donation ID</th>\n",
       "      <th>Donor ID</th>\n",
       "      <th>Donation Included Optional Donation</th>\n",
       "      <th>Donation Amount</th>\n",
       "      <th>Donor Cart Sequence</th>\n",
       "      <th>Donation Received Date</th>\n",
       "    </tr>\n",
       "  </thead>\n",
       "  <tbody>\n",
       "    <tr>\n",
       "      <th>0</th>\n",
       "      <td>000009891526c0ade7180f8423792063</td>\n",
       "      <td>688729120858666221208529ee3fc18e</td>\n",
       "      <td>1f4b5b6e68445c6c4a0509b3aca93f38</td>\n",
       "      <td>No</td>\n",
       "      <td>178.37</td>\n",
       "      <td>11</td>\n",
       "      <td>2016-08-23 13:15:57</td>\n",
       "    </tr>\n",
       "    <tr>\n",
       "      <th>1</th>\n",
       "      <td>000009891526c0ade7180f8423792063</td>\n",
       "      <td>dcf1071da3aa3561f91ac689d1f73dee</td>\n",
       "      <td>4aaab6d244bf3599682239ed5591af8a</td>\n",
       "      <td>Yes</td>\n",
       "      <td>25.00</td>\n",
       "      <td>2</td>\n",
       "      <td>2016-06-06 20:05:23</td>\n",
       "    </tr>\n",
       "    <tr>\n",
       "      <th>2</th>\n",
       "      <td>000009891526c0ade7180f8423792063</td>\n",
       "      <td>18a234b9d1e538c431761d521ea7799d</td>\n",
       "      <td>0b0765dc9c759adc48a07688ba25e94e</td>\n",
       "      <td>Yes</td>\n",
       "      <td>20.00</td>\n",
       "      <td>3</td>\n",
       "      <td>2016-06-06 14:08:46</td>\n",
       "    </tr>\n",
       "    <tr>\n",
       "      <th>3</th>\n",
       "      <td>000009891526c0ade7180f8423792063</td>\n",
       "      <td>38d2744bf9138b0b57ed581c76c0e2da</td>\n",
       "      <td>377944ad61f72d800b25ec1862aec363</td>\n",
       "      <td>Yes</td>\n",
       "      <td>25.00</td>\n",
       "      <td>1</td>\n",
       "      <td>2016-05-15 10:23:04</td>\n",
       "    </tr>\n",
       "    <tr>\n",
       "      <th>4</th>\n",
       "      <td>000009891526c0ade7180f8423792063</td>\n",
       "      <td>5a032791e31167a70206bfb86fb60035</td>\n",
       "      <td>6d5b22d39e68c656071a842732c63a0c</td>\n",
       "      <td>Yes</td>\n",
       "      <td>25.00</td>\n",
       "      <td>2</td>\n",
       "      <td>2016-05-17 01:23:38</td>\n",
       "    </tr>\n",
       "  </tbody>\n",
       "</table>\n",
       "</div>"
      ],
      "text/plain": [
       "                         Project ID                       Donation ID  \\\n",
       "0  000009891526c0ade7180f8423792063  688729120858666221208529ee3fc18e   \n",
       "1  000009891526c0ade7180f8423792063  dcf1071da3aa3561f91ac689d1f73dee   \n",
       "2  000009891526c0ade7180f8423792063  18a234b9d1e538c431761d521ea7799d   \n",
       "3  000009891526c0ade7180f8423792063  38d2744bf9138b0b57ed581c76c0e2da   \n",
       "4  000009891526c0ade7180f8423792063  5a032791e31167a70206bfb86fb60035   \n",
       "\n",
       "                           Donor ID Donation Included Optional Donation  \\\n",
       "0  1f4b5b6e68445c6c4a0509b3aca93f38                                  No   \n",
       "1  4aaab6d244bf3599682239ed5591af8a                                 Yes   \n",
       "2  0b0765dc9c759adc48a07688ba25e94e                                 Yes   \n",
       "3  377944ad61f72d800b25ec1862aec363                                 Yes   \n",
       "4  6d5b22d39e68c656071a842732c63a0c                                 Yes   \n",
       "\n",
       "   Donation Amount  Donor Cart Sequence Donation Received Date  \n",
       "0           178.37                   11    2016-08-23 13:15:57  \n",
       "1            25.00                    2    2016-06-06 20:05:23  \n",
       "2            20.00                    3    2016-06-06 14:08:46  \n",
       "3            25.00                    1    2016-05-15 10:23:04  \n",
       "4            25.00                    2    2016-05-17 01:23:38  "
      ]
     },
     "execution_count": 3,
     "metadata": {},
     "output_type": "execute_result"
    }
   ],
   "source": [
    "donationsDF.head()"
   ]
  },
  {
   "cell_type": "code",
   "execution_count": 4,
   "metadata": {
    "ExecuteTime": {
     "end_time": "2020-12-10T12:36:07.789929Z",
     "start_time": "2020-12-10T12:36:07.777218Z"
    }
   },
   "outputs": [
    {
     "data": {
      "text/html": [
       "<div>\n",
       "<style scoped>\n",
       "    .dataframe tbody tr th:only-of-type {\n",
       "        vertical-align: middle;\n",
       "    }\n",
       "\n",
       "    .dataframe tbody tr th {\n",
       "        vertical-align: top;\n",
       "    }\n",
       "\n",
       "    .dataframe thead th {\n",
       "        text-align: right;\n",
       "    }\n",
       "</style>\n",
       "<table border=\"1\" class=\"dataframe\">\n",
       "  <thead>\n",
       "    <tr style=\"text-align: right;\">\n",
       "      <th></th>\n",
       "      <th>Donor ID</th>\n",
       "      <th>Donor City</th>\n",
       "      <th>Donor State</th>\n",
       "      <th>Donor Is Teacher</th>\n",
       "      <th>Donor Zip</th>\n",
       "    </tr>\n",
       "  </thead>\n",
       "  <tbody>\n",
       "    <tr>\n",
       "      <th>0</th>\n",
       "      <td>00000ce845c00cbf0686c992fc369df4</td>\n",
       "      <td>Evanston</td>\n",
       "      <td>Illinois</td>\n",
       "      <td>No</td>\n",
       "      <td>602</td>\n",
       "    </tr>\n",
       "    <tr>\n",
       "      <th>1</th>\n",
       "      <td>00002783bc5d108510f3f9666c8b1edd</td>\n",
       "      <td>Appomattox</td>\n",
       "      <td>other</td>\n",
       "      <td>No</td>\n",
       "      <td>245</td>\n",
       "    </tr>\n",
       "    <tr>\n",
       "      <th>2</th>\n",
       "      <td>00002d44003ed46b066607c5455a999a</td>\n",
       "      <td>Winton</td>\n",
       "      <td>California</td>\n",
       "      <td>Yes</td>\n",
       "      <td>953</td>\n",
       "    </tr>\n",
       "    <tr>\n",
       "      <th>3</th>\n",
       "      <td>00002eb25d60a09c318efbd0797bffb5</td>\n",
       "      <td>Indianapolis</td>\n",
       "      <td>Indiana</td>\n",
       "      <td>No</td>\n",
       "      <td>462</td>\n",
       "    </tr>\n",
       "    <tr>\n",
       "      <th>4</th>\n",
       "      <td>0000300773fe015f870914b42528541b</td>\n",
       "      <td>Paterson</td>\n",
       "      <td>New Jersey</td>\n",
       "      <td>No</td>\n",
       "      <td>075</td>\n",
       "    </tr>\n",
       "  </tbody>\n",
       "</table>\n",
       "</div>"
      ],
      "text/plain": [
       "                           Donor ID    Donor City Donor State  \\\n",
       "0  00000ce845c00cbf0686c992fc369df4      Evanston    Illinois   \n",
       "1  00002783bc5d108510f3f9666c8b1edd    Appomattox       other   \n",
       "2  00002d44003ed46b066607c5455a999a        Winton  California   \n",
       "3  00002eb25d60a09c318efbd0797bffb5  Indianapolis     Indiana   \n",
       "4  0000300773fe015f870914b42528541b      Paterson  New Jersey   \n",
       "\n",
       "  Donor Is Teacher Donor Zip  \n",
       "0               No       602  \n",
       "1               No       245  \n",
       "2              Yes       953  \n",
       "3               No       462  \n",
       "4               No       075  "
      ]
     },
     "execution_count": 4,
     "metadata": {},
     "output_type": "execute_result"
    }
   ],
   "source": [
    "donorsDF.head()"
   ]
  },
  {
   "cell_type": "code",
   "execution_count": 5,
   "metadata": {
    "ExecuteTime": {
     "end_time": "2020-12-10T12:36:07.808123Z",
     "start_time": "2020-12-10T12:36:07.791768Z"
    }
   },
   "outputs": [
    {
     "data": {
      "text/html": [
       "<div>\n",
       "<style scoped>\n",
       "    .dataframe tbody tr th:only-of-type {\n",
       "        vertical-align: middle;\n",
       "    }\n",
       "\n",
       "    .dataframe tbody tr th {\n",
       "        vertical-align: top;\n",
       "    }\n",
       "\n",
       "    .dataframe thead th {\n",
       "        text-align: right;\n",
       "    }\n",
       "</style>\n",
       "<table border=\"1\" class=\"dataframe\">\n",
       "  <thead>\n",
       "    <tr style=\"text-align: right;\">\n",
       "      <th></th>\n",
       "      <th>Project ID</th>\n",
       "      <th>School ID</th>\n",
       "      <th>Teacher ID</th>\n",
       "      <th>Teacher Project Posted Sequence</th>\n",
       "      <th>Project Type</th>\n",
       "      <th>Project Title</th>\n",
       "      <th>Project Essay</th>\n",
       "      <th>Project Short Description</th>\n",
       "      <th>Project Need Statement</th>\n",
       "      <th>Project Subject Category Tree</th>\n",
       "      <th>Project Subject Subcategory Tree</th>\n",
       "      <th>Project Grade Level Category</th>\n",
       "      <th>Project Resource Category</th>\n",
       "      <th>Project Cost</th>\n",
       "      <th>Project Posted Date</th>\n",
       "      <th>Project Expiration Date</th>\n",
       "      <th>Project Current Status</th>\n",
       "      <th>Project Fully Funded Date</th>\n",
       "    </tr>\n",
       "  </thead>\n",
       "  <tbody>\n",
       "    <tr>\n",
       "      <th>0</th>\n",
       "      <td>7685f0265a19d7b52a470ee4bac883ba</td>\n",
       "      <td>e180c7424cb9c68cb49f141b092a988f</td>\n",
       "      <td>4ee5200e89d9e2998ec8baad8a3c5968</td>\n",
       "      <td>25</td>\n",
       "      <td>Teacher-Led</td>\n",
       "      <td>Stand Up to Bullying: Together We Can!</td>\n",
       "      <td>Did you know that 1-7 students in grades K-12 ...</td>\n",
       "      <td>Did you know that 1-7 students in grades K-12 ...</td>\n",
       "      <td>My students need 25 copies of \"Bullying in Sch...</td>\n",
       "      <td>Applied Learning</td>\n",
       "      <td>Character Education, Early Development</td>\n",
       "      <td>Grades PreK-2</td>\n",
       "      <td>Technology</td>\n",
       "      <td>361.80</td>\n",
       "      <td>2013-01-01</td>\n",
       "      <td>2013-05-30</td>\n",
       "      <td>Fully Funded</td>\n",
       "      <td>2013-01-11</td>\n",
       "    </tr>\n",
       "    <tr>\n",
       "      <th>1</th>\n",
       "      <td>f9f4af7099061fb4bf44642a03e5c331</td>\n",
       "      <td>08b20f1e2125103ed7aa17e8d76c71d4</td>\n",
       "      <td>cca2d1d277fb4adb50147b49cdc3b156</td>\n",
       "      <td>3</td>\n",
       "      <td>Teacher-Led</td>\n",
       "      <td>Learning in Color!</td>\n",
       "      <td>Help us have a fun, interactive listening cent...</td>\n",
       "      <td>Help us have a fun, interactive listening cent...</td>\n",
       "      <td>My students need a listening center, read alon...</td>\n",
       "      <td>Applied Learning, Literacy &amp; Language</td>\n",
       "      <td>Early Development, Literacy</td>\n",
       "      <td>Grades PreK-2</td>\n",
       "      <td>Technology</td>\n",
       "      <td>512.85</td>\n",
       "      <td>2013-01-01</td>\n",
       "      <td>2013-05-31</td>\n",
       "      <td>Expired</td>\n",
       "      <td>NaN</td>\n",
       "    </tr>\n",
       "    <tr>\n",
       "      <th>2</th>\n",
       "      <td>afd99a01739ad5557b51b1ba0174e832</td>\n",
       "      <td>1287f5128b1f36bf8434e5705a7cc04d</td>\n",
       "      <td>6c5bd0d4f20547a001628aefd71de89e</td>\n",
       "      <td>1</td>\n",
       "      <td>Teacher-Led</td>\n",
       "      <td>Help Second Grade ESL Students Develop Languag...</td>\n",
       "      <td>Visiting or moving to a new place can be very ...</td>\n",
       "      <td>Visiting or moving to a new place can be very ...</td>\n",
       "      <td>My students need beginning vocabulary audio ca...</td>\n",
       "      <td>Literacy &amp; Language</td>\n",
       "      <td>ESL</td>\n",
       "      <td>Grades PreK-2</td>\n",
       "      <td>Supplies</td>\n",
       "      <td>435.92</td>\n",
       "      <td>2013-01-01</td>\n",
       "      <td>2013-05-30</td>\n",
       "      <td>Fully Funded</td>\n",
       "      <td>2013-05-22</td>\n",
       "    </tr>\n",
       "    <tr>\n",
       "      <th>3</th>\n",
       "      <td>c614a38bb1a5e68e2ae6ad9d94bb2492</td>\n",
       "      <td>900fec9cd7a3188acbc90586a09584ef</td>\n",
       "      <td>8ed6f8181d092a8f4c008b18d18e54ad</td>\n",
       "      <td>40</td>\n",
       "      <td>Teacher-Led</td>\n",
       "      <td>Help Bilingual Students Strengthen Reading Com...</td>\n",
       "      <td>Students at our school are still working hard ...</td>\n",
       "      <td>Students at our school are still working hard ...</td>\n",
       "      <td>My students need one copy of each book in The ...</td>\n",
       "      <td>Literacy &amp; Language</td>\n",
       "      <td>ESL, Literacy</td>\n",
       "      <td>Grades 3-5</td>\n",
       "      <td>Books</td>\n",
       "      <td>161.26</td>\n",
       "      <td>2013-01-01</td>\n",
       "      <td>2013-05-31</td>\n",
       "      <td>Fully Funded</td>\n",
       "      <td>2013-02-06</td>\n",
       "    </tr>\n",
       "    <tr>\n",
       "      <th>4</th>\n",
       "      <td>ec82a697fab916c0db0cdad746338df9</td>\n",
       "      <td>3b200e7fe3e6dde3c169c02e5fb5ae86</td>\n",
       "      <td>893173d62775f8be7c30bf4220ad0c33</td>\n",
       "      <td>2</td>\n",
       "      <td>Teacher-Led</td>\n",
       "      <td>Help Us Make Each Minute Count!</td>\n",
       "      <td>\"Idle hands\" were something that Issac Watts s...</td>\n",
       "      <td>\"Idle hands\" were something that Issac Watts s...</td>\n",
       "      <td>My students need items such as Velcro, two pou...</td>\n",
       "      <td>Special Needs</td>\n",
       "      <td>Special Needs</td>\n",
       "      <td>Grades 3-5</td>\n",
       "      <td>Supplies</td>\n",
       "      <td>264.19</td>\n",
       "      <td>2013-01-01</td>\n",
       "      <td>2013-05-30</td>\n",
       "      <td>Fully Funded</td>\n",
       "      <td>2013-01-01</td>\n",
       "    </tr>\n",
       "  </tbody>\n",
       "</table>\n",
       "</div>"
      ],
      "text/plain": [
       "                         Project ID                         School ID  \\\n",
       "0  7685f0265a19d7b52a470ee4bac883ba  e180c7424cb9c68cb49f141b092a988f   \n",
       "1  f9f4af7099061fb4bf44642a03e5c331  08b20f1e2125103ed7aa17e8d76c71d4   \n",
       "2  afd99a01739ad5557b51b1ba0174e832  1287f5128b1f36bf8434e5705a7cc04d   \n",
       "3  c614a38bb1a5e68e2ae6ad9d94bb2492  900fec9cd7a3188acbc90586a09584ef   \n",
       "4  ec82a697fab916c0db0cdad746338df9  3b200e7fe3e6dde3c169c02e5fb5ae86   \n",
       "\n",
       "                         Teacher ID  Teacher Project Posted Sequence  \\\n",
       "0  4ee5200e89d9e2998ec8baad8a3c5968                               25   \n",
       "1  cca2d1d277fb4adb50147b49cdc3b156                                3   \n",
       "2  6c5bd0d4f20547a001628aefd71de89e                                1   \n",
       "3  8ed6f8181d092a8f4c008b18d18e54ad                               40   \n",
       "4  893173d62775f8be7c30bf4220ad0c33                                2   \n",
       "\n",
       "  Project Type                                      Project Title  \\\n",
       "0  Teacher-Led             Stand Up to Bullying: Together We Can!   \n",
       "1  Teacher-Led                                 Learning in Color!   \n",
       "2  Teacher-Led  Help Second Grade ESL Students Develop Languag...   \n",
       "3  Teacher-Led  Help Bilingual Students Strengthen Reading Com...   \n",
       "4  Teacher-Led                   Help Us Make Each Minute Count!    \n",
       "\n",
       "                                       Project Essay  \\\n",
       "0  Did you know that 1-7 students in grades K-12 ...   \n",
       "1  Help us have a fun, interactive listening cent...   \n",
       "2  Visiting or moving to a new place can be very ...   \n",
       "3  Students at our school are still working hard ...   \n",
       "4  \"Idle hands\" were something that Issac Watts s...   \n",
       "\n",
       "                           Project Short Description  \\\n",
       "0  Did you know that 1-7 students in grades K-12 ...   \n",
       "1  Help us have a fun, interactive listening cent...   \n",
       "2  Visiting or moving to a new place can be very ...   \n",
       "3  Students at our school are still working hard ...   \n",
       "4  \"Idle hands\" were something that Issac Watts s...   \n",
       "\n",
       "                              Project Need Statement  \\\n",
       "0  My students need 25 copies of \"Bullying in Sch...   \n",
       "1  My students need a listening center, read alon...   \n",
       "2  My students need beginning vocabulary audio ca...   \n",
       "3  My students need one copy of each book in The ...   \n",
       "4  My students need items such as Velcro, two pou...   \n",
       "\n",
       "           Project Subject Category Tree  \\\n",
       "0                       Applied Learning   \n",
       "1  Applied Learning, Literacy & Language   \n",
       "2                    Literacy & Language   \n",
       "3                    Literacy & Language   \n",
       "4                          Special Needs   \n",
       "\n",
       "         Project Subject Subcategory Tree Project Grade Level Category  \\\n",
       "0  Character Education, Early Development                Grades PreK-2   \n",
       "1             Early Development, Literacy                Grades PreK-2   \n",
       "2                                     ESL                Grades PreK-2   \n",
       "3                           ESL, Literacy                   Grades 3-5   \n",
       "4                           Special Needs                   Grades 3-5   \n",
       "\n",
       "  Project Resource Category  Project Cost Project Posted Date  \\\n",
       "0                Technology        361.80          2013-01-01   \n",
       "1                Technology        512.85          2013-01-01   \n",
       "2                  Supplies        435.92          2013-01-01   \n",
       "3                     Books        161.26          2013-01-01   \n",
       "4                  Supplies        264.19          2013-01-01   \n",
       "\n",
       "  Project Expiration Date Project Current Status Project Fully Funded Date  \n",
       "0              2013-05-30           Fully Funded                2013-01-11  \n",
       "1              2013-05-31                Expired                       NaN  \n",
       "2              2013-05-30           Fully Funded                2013-05-22  \n",
       "3              2013-05-31           Fully Funded                2013-02-06  \n",
       "4              2013-05-30           Fully Funded                2013-01-01  "
      ]
     },
     "execution_count": 5,
     "metadata": {},
     "output_type": "execute_result"
    }
   ],
   "source": [
    "projectsDF.head()"
   ]
  },
  {
   "cell_type": "code",
   "execution_count": 6,
   "metadata": {
    "ExecuteTime": {
     "end_time": "2020-12-10T12:36:07.819659Z",
     "start_time": "2020-12-10T12:36:07.810001Z"
    }
   },
   "outputs": [
    {
     "data": {
      "text/html": [
       "<div>\n",
       "<style scoped>\n",
       "    .dataframe tbody tr th:only-of-type {\n",
       "        vertical-align: middle;\n",
       "    }\n",
       "\n",
       "    .dataframe tbody tr th {\n",
       "        vertical-align: top;\n",
       "    }\n",
       "\n",
       "    .dataframe thead th {\n",
       "        text-align: right;\n",
       "    }\n",
       "</style>\n",
       "<table border=\"1\" class=\"dataframe\">\n",
       "  <thead>\n",
       "    <tr style=\"text-align: right;\">\n",
       "      <th></th>\n",
       "      <th>Project ID</th>\n",
       "      <th>Resource Item Name</th>\n",
       "      <th>Resource Quantity</th>\n",
       "      <th>Resource Unit Price</th>\n",
       "      <th>Resource Vendor Name</th>\n",
       "    </tr>\n",
       "  </thead>\n",
       "  <tbody>\n",
       "    <tr>\n",
       "      <th>0</th>\n",
       "      <td>000009891526c0ade7180f8423792063</td>\n",
       "      <td>chair move and store cart</td>\n",
       "      <td>1.0</td>\n",
       "      <td>350.00</td>\n",
       "      <td>NaN</td>\n",
       "    </tr>\n",
       "    <tr>\n",
       "      <th>1</th>\n",
       "      <td>00000ce845c00cbf0686c992fc369df4</td>\n",
       "      <td>sony mdr zx100 blk   headphones</td>\n",
       "      <td>40.0</td>\n",
       "      <td>12.86</td>\n",
       "      <td>CDW-G</td>\n",
       "    </tr>\n",
       "    <tr>\n",
       "      <th>2</th>\n",
       "      <td>00002d44003ed46b066607c5455a999a</td>\n",
       "      <td>gaiam kids stay-n-play balance ball, grey</td>\n",
       "      <td>4.0</td>\n",
       "      <td>19.00</td>\n",
       "      <td>Amazon Business</td>\n",
       "    </tr>\n",
       "    <tr>\n",
       "      <th>3</th>\n",
       "      <td>00002d44003ed46b066607c5455a999a</td>\n",
       "      <td>cf520x - giant comfy pillows - set of 4</td>\n",
       "      <td>1.0</td>\n",
       "      <td>269.00</td>\n",
       "      <td>Lakeshore Learning Materials</td>\n",
       "    </tr>\n",
       "    <tr>\n",
       "      <th>4</th>\n",
       "      <td>00002d44003ed46b066607c5455a999a</td>\n",
       "      <td>serta lounger, mini, sky blue</td>\n",
       "      <td>1.0</td>\n",
       "      <td>131.85</td>\n",
       "      <td>Amazon Business</td>\n",
       "    </tr>\n",
       "  </tbody>\n",
       "</table>\n",
       "</div>"
      ],
      "text/plain": [
       "                         Project ID  \\\n",
       "0  000009891526c0ade7180f8423792063   \n",
       "1  00000ce845c00cbf0686c992fc369df4   \n",
       "2  00002d44003ed46b066607c5455a999a   \n",
       "3  00002d44003ed46b066607c5455a999a   \n",
       "4  00002d44003ed46b066607c5455a999a   \n",
       "\n",
       "                          Resource Item Name  Resource Quantity  \\\n",
       "0                  chair move and store cart                1.0   \n",
       "1            sony mdr zx100 blk   headphones               40.0   \n",
       "2  gaiam kids stay-n-play balance ball, grey                4.0   \n",
       "3    cf520x - giant comfy pillows - set of 4                1.0   \n",
       "4              serta lounger, mini, sky blue                1.0   \n",
       "\n",
       "   Resource Unit Price          Resource Vendor Name  \n",
       "0               350.00                           NaN  \n",
       "1                12.86                         CDW-G  \n",
       "2                19.00               Amazon Business  \n",
       "3               269.00  Lakeshore Learning Materials  \n",
       "4               131.85               Amazon Business  "
      ]
     },
     "execution_count": 6,
     "metadata": {},
     "output_type": "execute_result"
    }
   ],
   "source": [
    "resourcesDF.head()"
   ]
  },
  {
   "cell_type": "markdown",
   "metadata": {},
   "source": [
    "## Data Cleaning: Remove one-time donors"
   ]
  },
  {
   "cell_type": "code",
   "execution_count": 7,
   "metadata": {
    "ExecuteTime": {
     "end_time": "2020-12-10T12:36:21.606573Z",
     "start_time": "2020-12-10T12:36:07.822556Z"
    }
   },
   "outputs": [],
   "source": [
    "donorsDF_merged = donorsDF.merge(donationsDF, on = 'Donor ID', how = 'inner') # donation ID is the primary key here"
   ]
  },
  {
   "cell_type": "code",
   "execution_count": 8,
   "metadata": {
    "ExecuteTime": {
     "end_time": "2020-12-10T12:36:21.639382Z",
     "start_time": "2020-12-10T12:36:21.614585Z"
    }
   },
   "outputs": [
    {
     "data": {
      "text/html": [
       "<div>\n",
       "<style scoped>\n",
       "    .dataframe tbody tr th:only-of-type {\n",
       "        vertical-align: middle;\n",
       "    }\n",
       "\n",
       "    .dataframe tbody tr th {\n",
       "        vertical-align: top;\n",
       "    }\n",
       "\n",
       "    .dataframe thead th {\n",
       "        text-align: right;\n",
       "    }\n",
       "</style>\n",
       "<table border=\"1\" class=\"dataframe\">\n",
       "  <thead>\n",
       "    <tr style=\"text-align: right;\">\n",
       "      <th></th>\n",
       "      <th>Donor ID</th>\n",
       "      <th>Donor City</th>\n",
       "      <th>Donor State</th>\n",
       "      <th>Donor Is Teacher</th>\n",
       "      <th>Donor Zip</th>\n",
       "      <th>Project ID</th>\n",
       "      <th>Donation ID</th>\n",
       "      <th>Donation Included Optional Donation</th>\n",
       "      <th>Donation Amount</th>\n",
       "      <th>Donor Cart Sequence</th>\n",
       "      <th>Donation Received Date</th>\n",
       "    </tr>\n",
       "  </thead>\n",
       "  <tbody>\n",
       "    <tr>\n",
       "      <th>0</th>\n",
       "      <td>00000ce845c00cbf0686c992fc369df4</td>\n",
       "      <td>Evanston</td>\n",
       "      <td>Illinois</td>\n",
       "      <td>No</td>\n",
       "      <td>602</td>\n",
       "      <td>5bab6101eed588c396a59f6bd64274b6</td>\n",
       "      <td>598691d82438952e2e4f3ed50531fd2a</td>\n",
       "      <td>Yes</td>\n",
       "      <td>50.00</td>\n",
       "      <td>1</td>\n",
       "      <td>2013-12-17 21:47:14</td>\n",
       "    </tr>\n",
       "    <tr>\n",
       "      <th>1</th>\n",
       "      <td>00002783bc5d108510f3f9666c8b1edd</td>\n",
       "      <td>Appomattox</td>\n",
       "      <td>other</td>\n",
       "      <td>No</td>\n",
       "      <td>245</td>\n",
       "      <td>9db61b1b1e43a7b256eec9b20b42d854</td>\n",
       "      <td>024a4665bdb59f32027395aea3b0ed55</td>\n",
       "      <td>Yes</td>\n",
       "      <td>99.00</td>\n",
       "      <td>1</td>\n",
       "      <td>2016-02-02 18:34:27</td>\n",
       "    </tr>\n",
       "    <tr>\n",
       "      <th>2</th>\n",
       "      <td>00002d44003ed46b066607c5455a999a</td>\n",
       "      <td>Winton</td>\n",
       "      <td>California</td>\n",
       "      <td>Yes</td>\n",
       "      <td>953</td>\n",
       "      <td>2f53e5f31890e647048ac217cda3b83f</td>\n",
       "      <td>7831f66a25935db8b7424170355edabf</td>\n",
       "      <td>No</td>\n",
       "      <td>26.00</td>\n",
       "      <td>10</td>\n",
       "      <td>2017-05-02 12:34:09</td>\n",
       "    </tr>\n",
       "    <tr>\n",
       "      <th>3</th>\n",
       "      <td>00002d44003ed46b066607c5455a999a</td>\n",
       "      <td>Winton</td>\n",
       "      <td>California</td>\n",
       "      <td>Yes</td>\n",
       "      <td>953</td>\n",
       "      <td>2f53e5f31890e647048ac217cda3b83f</td>\n",
       "      <td>ee15bb7f179142fdff3f24cff8e88483</td>\n",
       "      <td>No</td>\n",
       "      <td>100.00</td>\n",
       "      <td>9</td>\n",
       "      <td>2017-04-01 01:08:50</td>\n",
       "    </tr>\n",
       "    <tr>\n",
       "      <th>4</th>\n",
       "      <td>00002d44003ed46b066607c5455a999a</td>\n",
       "      <td>Winton</td>\n",
       "      <td>California</td>\n",
       "      <td>Yes</td>\n",
       "      <td>953</td>\n",
       "      <td>2f7996f08052785e9b146f72c0c4990d</td>\n",
       "      <td>c73207489356a7bcf3ef0b8660c61b04</td>\n",
       "      <td>Yes</td>\n",
       "      <td>13.75</td>\n",
       "      <td>5</td>\n",
       "      <td>2017-01-16 15:46:57</td>\n",
       "    </tr>\n",
       "  </tbody>\n",
       "</table>\n",
       "</div>"
      ],
      "text/plain": [
       "                           Donor ID  Donor City Donor State Donor Is Teacher  \\\n",
       "0  00000ce845c00cbf0686c992fc369df4    Evanston    Illinois               No   \n",
       "1  00002783bc5d108510f3f9666c8b1edd  Appomattox       other               No   \n",
       "2  00002d44003ed46b066607c5455a999a      Winton  California              Yes   \n",
       "3  00002d44003ed46b066607c5455a999a      Winton  California              Yes   \n",
       "4  00002d44003ed46b066607c5455a999a      Winton  California              Yes   \n",
       "\n",
       "  Donor Zip                        Project ID  \\\n",
       "0       602  5bab6101eed588c396a59f6bd64274b6   \n",
       "1       245  9db61b1b1e43a7b256eec9b20b42d854   \n",
       "2       953  2f53e5f31890e647048ac217cda3b83f   \n",
       "3       953  2f53e5f31890e647048ac217cda3b83f   \n",
       "4       953  2f7996f08052785e9b146f72c0c4990d   \n",
       "\n",
       "                        Donation ID Donation Included Optional Donation  \\\n",
       "0  598691d82438952e2e4f3ed50531fd2a                                 Yes   \n",
       "1  024a4665bdb59f32027395aea3b0ed55                                 Yes   \n",
       "2  7831f66a25935db8b7424170355edabf                                  No   \n",
       "3  ee15bb7f179142fdff3f24cff8e88483                                  No   \n",
       "4  c73207489356a7bcf3ef0b8660c61b04                                 Yes   \n",
       "\n",
       "   Donation Amount  Donor Cart Sequence Donation Received Date  \n",
       "0            50.00                    1    2013-12-17 21:47:14  \n",
       "1            99.00                    1    2016-02-02 18:34:27  \n",
       "2            26.00                   10    2017-05-02 12:34:09  \n",
       "3           100.00                    9    2017-04-01 01:08:50  \n",
       "4            13.75                    5    2017-01-16 15:46:57  "
      ]
     },
     "execution_count": 8,
     "metadata": {},
     "output_type": "execute_result"
    }
   ],
   "source": [
    "donorsDF_merged.head()"
   ]
  },
  {
   "cell_type": "code",
   "execution_count": 9,
   "metadata": {
    "ExecuteTime": {
     "end_time": "2020-12-10T12:36:23.923492Z",
     "start_time": "2020-12-10T12:36:21.644011Z"
    }
   },
   "outputs": [
    {
     "data": {
      "text/html": [
       "<div>\n",
       "<style scoped>\n",
       "    .dataframe tbody tr th:only-of-type {\n",
       "        vertical-align: middle;\n",
       "    }\n",
       "\n",
       "    .dataframe tbody tr th {\n",
       "        vertical-align: top;\n",
       "    }\n",
       "\n",
       "    .dataframe thead th {\n",
       "        text-align: right;\n",
       "    }\n",
       "</style>\n",
       "<table border=\"1\" class=\"dataframe\">\n",
       "  <thead>\n",
       "    <tr style=\"text-align: right;\">\n",
       "      <th></th>\n",
       "      <th>Donor ID</th>\n",
       "      <th>Num Donations</th>\n",
       "    </tr>\n",
       "  </thead>\n",
       "  <tbody>\n",
       "    <tr>\n",
       "      <th>0</th>\n",
       "      <td>00000ce845c00cbf0686c992fc369df4</td>\n",
       "      <td>1</td>\n",
       "    </tr>\n",
       "    <tr>\n",
       "      <th>1</th>\n",
       "      <td>00002783bc5d108510f3f9666c8b1edd</td>\n",
       "      <td>1</td>\n",
       "    </tr>\n",
       "  </tbody>\n",
       "</table>\n",
       "</div>"
      ],
      "text/plain": [
       "                           Donor ID  Num Donations\n",
       "0  00000ce845c00cbf0686c992fc369df4              1\n",
       "1  00002783bc5d108510f3f9666c8b1edd              1"
      ]
     },
     "execution_count": 9,
     "metadata": {},
     "output_type": "execute_result"
    }
   ],
   "source": [
    "# Get the count of donations a donor has made\n",
    "df_temp1 = donorsDF_merged.groupby(['Donor ID']).size().reset_index(name='Num Donations')\n",
    "\n",
    "df_temp1.head(2)"
   ]
  },
  {
   "cell_type": "code",
   "execution_count": 10,
   "metadata": {
    "ExecuteTime": {
     "end_time": "2020-12-10T12:36:24.052497Z",
     "start_time": "2020-12-10T12:36:23.925661Z"
    }
   },
   "outputs": [
    {
     "name": "stdout",
     "output_type": "stream",
     "text": [
      "We got rid of 1466290 single-donors.\n",
      "The shape of the remaining dataframe: (552672, 2)\n"
     ]
    }
   ],
   "source": [
    "df_temp2 = df_temp1[df_temp1['Num Donations'] > 1] # removing all the single-donors\n",
    "\n",
    "print(\"We got rid of %d single-donors.\" % (df_temp1.shape[0] - df_temp2.shape[0]))\n",
    "print(\"The shape of the remaining dataframe:\", df_temp2.shape)"
   ]
  },
  {
   "cell_type": "markdown",
   "metadata": {},
   "source": [
    "## Recurring donors for modeling"
   ]
  },
  {
   "cell_type": "code",
   "execution_count": 11,
   "metadata": {
    "ExecuteTime": {
     "end_time": "2020-12-10T12:36:27.216416Z",
     "start_time": "2020-12-10T12:36:24.055003Z"
    }
   },
   "outputs": [
    {
     "data": {
      "text/plain": [
       "(3215610, 11)"
      ]
     },
     "execution_count": 11,
     "metadata": {},
     "output_type": "execute_result"
    }
   ],
   "source": [
    "uniqDonorIDList = list(df_temp2['Donor ID']) # list of recurring donors\n",
    "df_final = donorsDF_merged[donorsDF_merged['Donor ID'].isin(uniqDonorIDList)] # recurring donoros\n",
    "\n",
    "del df_temp1, df_temp2, donorsDF_merged\n",
    "df_final.shape"
   ]
  },
  {
   "cell_type": "code",
   "execution_count": 12,
   "metadata": {
    "ExecuteTime": {
     "end_time": "2020-12-10T12:36:27.221433Z",
     "start_time": "2020-12-10T12:36:27.218520Z"
    }
   },
   "outputs": [],
   "source": [
    "def removeDuplicates(df, col):\n",
    "    df = df.drop_duplicates(subset = [col]) # removes duplicates from the column `col`\n",
    "    return df"
   ]
  },
  {
   "cell_type": "code",
   "execution_count": 13,
   "metadata": {
    "ExecuteTime": {
     "end_time": "2020-12-10T12:36:30.474679Z",
     "start_time": "2020-12-10T12:36:27.223627Z"
    }
   },
   "outputs": [
    {
     "data": {
      "text/plain": [
       "(3215570, 11)"
      ]
     },
     "execution_count": 13,
     "metadata": {},
     "output_type": "execute_result"
    }
   ],
   "source": [
    "df_final = removeDuplicates(df_final, 'Donation ID') # removes duplicate Donation IDs\n",
    "\n",
    "df_final.shape"
   ]
  },
  {
   "cell_type": "code",
   "execution_count": 14,
   "metadata": {
    "ExecuteTime": {
     "end_time": "2020-12-10T12:36:43.120067Z",
     "start_time": "2020-12-10T12:36:30.476930Z"
    }
   },
   "outputs": [],
   "source": [
    "# donation ID is the primary key here\n",
    "df_final = df_final.merge(projectsDF, on = \"Project ID\", how = \"inner\") # adding projects to the final dataframe"
   ]
  },
  {
   "cell_type": "code",
   "execution_count": 15,
   "metadata": {
    "ExecuteTime": {
     "end_time": "2020-12-10T12:36:47.990485Z",
     "start_time": "2020-12-10T12:36:43.122306Z"
    }
   },
   "outputs": [],
   "source": [
    "df_final = df_final.merge(schoolsDF, on = \"School ID\", how = \"inner\") # adding schools to the final dataframe"
   ]
  },
  {
   "cell_type": "code",
   "execution_count": 16,
   "metadata": {
    "ExecuteTime": {
     "end_time": "2020-12-10T12:36:55.713592Z",
     "start_time": "2020-12-10T12:36:47.992797Z"
    }
   },
   "outputs": [
    {
     "name": "stdout",
     "output_type": "stream",
     "text": [
      "The original dataframe size:  (3156862, 36)\n",
      "The updated dataframe size including only California:  (479056, 36)\n"
     ]
    },
    {
     "data": {
      "text/html": [
       "<div>\n",
       "<style scoped>\n",
       "    .dataframe tbody tr th:only-of-type {\n",
       "        vertical-align: middle;\n",
       "    }\n",
       "\n",
       "    .dataframe tbody tr th {\n",
       "        vertical-align: top;\n",
       "    }\n",
       "\n",
       "    .dataframe thead th {\n",
       "        text-align: right;\n",
       "    }\n",
       "</style>\n",
       "<table border=\"1\" class=\"dataframe\">\n",
       "  <thead>\n",
       "    <tr style=\"text-align: right;\">\n",
       "      <th></th>\n",
       "      <th>Donor ID</th>\n",
       "      <th>Donor City</th>\n",
       "      <th>Donor State</th>\n",
       "      <th>Donor Is Teacher</th>\n",
       "      <th>Donor Zip</th>\n",
       "      <th>Project ID</th>\n",
       "      <th>Donation ID</th>\n",
       "      <th>Donation Included Optional Donation</th>\n",
       "      <th>Donation Amount</th>\n",
       "      <th>Donor Cart Sequence</th>\n",
       "      <th>...</th>\n",
       "      <th>Project Current Status</th>\n",
       "      <th>Project Fully Funded Date</th>\n",
       "      <th>School Name</th>\n",
       "      <th>School Metro Type</th>\n",
       "      <th>School Percentage Free Lunch</th>\n",
       "      <th>School State</th>\n",
       "      <th>School Zip</th>\n",
       "      <th>School City</th>\n",
       "      <th>School County</th>\n",
       "      <th>School District</th>\n",
       "    </tr>\n",
       "  </thead>\n",
       "  <tbody>\n",
       "    <tr>\n",
       "      <th>478692</th>\n",
       "      <td>3c60794fd40c08694c6b4418d88ad409</td>\n",
       "      <td>El Segundo</td>\n",
       "      <td>California</td>\n",
       "      <td>No</td>\n",
       "      <td>902</td>\n",
       "      <td>2839c6c075a08cc2bbfacfe270bb7f53</td>\n",
       "      <td>3ed9ff73bd2f1e4bd42e882107edfa10</td>\n",
       "      <td>Yes</td>\n",
       "      <td>55.00</td>\n",
       "      <td>12</td>\n",
       "      <td>...</td>\n",
       "      <td>Expired</td>\n",
       "      <td>NaN</td>\n",
       "      <td>Da Vinci School-Science</td>\n",
       "      <td>suburban</td>\n",
       "      <td>75.0</td>\n",
       "      <td>California</td>\n",
       "      <td>90245</td>\n",
       "      <td>El Segundo</td>\n",
       "      <td>Los Angeles</td>\n",
       "      <td>Wiseburn Unified School Dist</td>\n",
       "    </tr>\n",
       "    <tr>\n",
       "      <th>932047</th>\n",
       "      <td>30a82c722f5f2c5a55ac51eb43e0a8f2</td>\n",
       "      <td>Rosemead</td>\n",
       "      <td>California</td>\n",
       "      <td>Yes</td>\n",
       "      <td>917</td>\n",
       "      <td>aa6d95105ee10f1d4b0fdb3c8fde957a</td>\n",
       "      <td>2b0327b8668b7c847dade3f270cf4389</td>\n",
       "      <td>No</td>\n",
       "      <td>54.72</td>\n",
       "      <td>3</td>\n",
       "      <td>...</td>\n",
       "      <td>Fully Funded</td>\n",
       "      <td>2015-11-11</td>\n",
       "      <td>Marina Del Rey Middle School</td>\n",
       "      <td>urban</td>\n",
       "      <td>87.0</td>\n",
       "      <td>California</td>\n",
       "      <td>90066</td>\n",
       "      <td>Los Angeles</td>\n",
       "      <td>Los Angeles</td>\n",
       "      <td>Los Angeles Unif Sch Dist</td>\n",
       "    </tr>\n",
       "  </tbody>\n",
       "</table>\n",
       "<p>2 rows × 36 columns</p>\n",
       "</div>"
      ],
      "text/plain": [
       "                                Donor ID  Donor City Donor State  \\\n",
       "478692  3c60794fd40c08694c6b4418d88ad409  El Segundo  California   \n",
       "932047  30a82c722f5f2c5a55ac51eb43e0a8f2    Rosemead  California   \n",
       "\n",
       "       Donor Is Teacher Donor Zip                        Project ID  \\\n",
       "478692               No       902  2839c6c075a08cc2bbfacfe270bb7f53   \n",
       "932047              Yes       917  aa6d95105ee10f1d4b0fdb3c8fde957a   \n",
       "\n",
       "                             Donation ID Donation Included Optional Donation  \\\n",
       "478692  3ed9ff73bd2f1e4bd42e882107edfa10                                 Yes   \n",
       "932047  2b0327b8668b7c847dade3f270cf4389                                  No   \n",
       "\n",
       "        Donation Amount  Donor Cart Sequence  ... Project Current Status  \\\n",
       "478692            55.00                   12  ...                Expired   \n",
       "932047            54.72                    3  ...           Fully Funded   \n",
       "\n",
       "       Project Fully Funded Date                   School Name  \\\n",
       "478692                       NaN       Da Vinci School-Science   \n",
       "932047                2015-11-11  Marina Del Rey Middle School   \n",
       "\n",
       "        School Metro Type School Percentage Free Lunch School State  \\\n",
       "478692           suburban                         75.0   California   \n",
       "932047              urban                         87.0   California   \n",
       "\n",
       "       School Zip  School City School County               School District  \n",
       "478692      90245   El Segundo   Los Angeles  Wiseburn Unified School Dist  \n",
       "932047      90066  Los Angeles   Los Angeles     Los Angeles Unif Sch Dist  \n",
       "\n",
       "[2 rows x 36 columns]"
      ]
     },
     "execution_count": 16,
     "metadata": {},
     "output_type": "execute_result"
    }
   ],
   "source": [
    "#we are only considering all the donations that came to California\n",
    "\n",
    "df_final = removeDuplicates(df_final, 'Donation ID') # removes duplicate Donation IDs\n",
    "print(\"The original dataframe size: \", df_final.shape)\n",
    "\n",
    "df_final_cal = df_final[df_final['School State'] == 'California']\n",
    "print(\"The updated dataframe size including only California: \", df_final_cal.shape)\n",
    "\n",
    "df_final_cal.sample(2)"
   ]
  },
  {
   "cell_type": "markdown",
   "metadata": {},
   "source": [
    "### Training and Test Split"
   ]
  },
  {
   "cell_type": "code",
   "execution_count": 17,
   "metadata": {
    "ExecuteTime": {
     "end_time": "2020-12-10T12:36:58.234248Z",
     "start_time": "2020-12-10T12:36:55.715529Z"
    }
   },
   "outputs": [],
   "source": [
    "columnsList = ['Donor ID', 'Donation Received Date', 'Donor City', 'Donor State',\n",
    "       'Donor Is Teacher', 'Donor Zip', 'Project ID', 'Donation ID',\n",
    "       'Donation Included Optional Donation', 'Donation Amount',\n",
    "       'Donor Cart Sequence', 'School ID', 'Teacher ID',\n",
    "       'Teacher Project Posted Sequence', 'Project Type', 'Project Title',\n",
    "       'Project Essay', 'Project Short Description', 'Project Need Statement',\n",
    "       'Project Subject Category Tree', 'Project Subject Subcategory Tree',\n",
    "       'Project Grade Level Category', 'Project Resource Category',\n",
    "       'Project Cost', 'Project Posted Date', 'Project Expiration Date',\n",
    "       'Project Current Status', 'Project Fully Funded Date', 'School Name',\n",
    "       'School Metro Type', 'School Percentage Free Lunch', 'School State',\n",
    "       'School Zip', 'School City', 'School County', 'School District']\n",
    "\n",
    "df_final_cal = df_final_cal[columnsList]\n",
    "\n",
    "df_final_cal = df_final_cal.sort_values(by = ['Donor ID', 'Donation Received Date']) # sorts dataframe by donors and their\n",
    "                                                                            # first donation date\n"
   ]
  },
  {
   "cell_type": "code",
   "execution_count": 18,
   "metadata": {
    "ExecuteTime": {
     "end_time": "2020-12-10T12:36:58.270123Z",
     "start_time": "2020-12-10T12:36:58.236417Z"
    }
   },
   "outputs": [
    {
     "data": {
      "text/html": [
       "<div>\n",
       "<style scoped>\n",
       "    .dataframe tbody tr th:only-of-type {\n",
       "        vertical-align: middle;\n",
       "    }\n",
       "\n",
       "    .dataframe tbody tr th {\n",
       "        vertical-align: top;\n",
       "    }\n",
       "\n",
       "    .dataframe thead th {\n",
       "        text-align: right;\n",
       "    }\n",
       "</style>\n",
       "<table border=\"1\" class=\"dataframe\">\n",
       "  <thead>\n",
       "    <tr style=\"text-align: right;\">\n",
       "      <th></th>\n",
       "      <th>Donor ID</th>\n",
       "      <th>Donation Received Date</th>\n",
       "      <th>Donor City</th>\n",
       "      <th>Donor State</th>\n",
       "      <th>Donor Is Teacher</th>\n",
       "      <th>Donor Zip</th>\n",
       "      <th>Project ID</th>\n",
       "      <th>Donation ID</th>\n",
       "      <th>Donation Included Optional Donation</th>\n",
       "      <th>Donation Amount</th>\n",
       "      <th>...</th>\n",
       "      <th>Project Current Status</th>\n",
       "      <th>Project Fully Funded Date</th>\n",
       "      <th>School Name</th>\n",
       "      <th>School Metro Type</th>\n",
       "      <th>School Percentage Free Lunch</th>\n",
       "      <th>School State</th>\n",
       "      <th>School Zip</th>\n",
       "      <th>School City</th>\n",
       "      <th>School County</th>\n",
       "      <th>School District</th>\n",
       "    </tr>\n",
       "  </thead>\n",
       "  <tbody>\n",
       "    <tr>\n",
       "      <th>9</th>\n",
       "      <td>00002d44003ed46b066607c5455a999a</td>\n",
       "      <td>2016-10-25 20:15:11</td>\n",
       "      <td>Winton</td>\n",
       "      <td>California</td>\n",
       "      <td>Yes</td>\n",
       "      <td>953</td>\n",
       "      <td>e2beb818569f66adaa4ced21ca299ac6</td>\n",
       "      <td>08ed72ce14c548e8131a7dd7b8561988</td>\n",
       "      <td>Yes</td>\n",
       "      <td>10.0</td>\n",
       "      <td>...</td>\n",
       "      <td>Fully Funded</td>\n",
       "      <td>2016-12-26</td>\n",
       "      <td>Herbert Hoover Middle School</td>\n",
       "      <td>urban</td>\n",
       "      <td>82.0</td>\n",
       "      <td>California</td>\n",
       "      <td>95340</td>\n",
       "      <td>Merced</td>\n",
       "      <td>Merced</td>\n",
       "      <td>Merced City School District</td>\n",
       "    </tr>\n",
       "    <tr>\n",
       "      <th>164</th>\n",
       "      <td>00002d44003ed46b066607c5455a999a</td>\n",
       "      <td>2017-01-16 14:20:10</td>\n",
       "      <td>Winton</td>\n",
       "      <td>California</td>\n",
       "      <td>Yes</td>\n",
       "      <td>953</td>\n",
       "      <td>64f54f1efcbeb986114a7a13e6b27257</td>\n",
       "      <td>e3162fdec64ed91de1aa096cf75ba032</td>\n",
       "      <td>Yes</td>\n",
       "      <td>100.0</td>\n",
       "      <td>...</td>\n",
       "      <td>Expired</td>\n",
       "      <td>NaN</td>\n",
       "      <td>Donn B Chenoweth Elementary School</td>\n",
       "      <td>urban</td>\n",
       "      <td>57.0</td>\n",
       "      <td>California</td>\n",
       "      <td>95340</td>\n",
       "      <td>Merced</td>\n",
       "      <td>Merced</td>\n",
       "      <td>Merced City School District</td>\n",
       "    </tr>\n",
       "    <tr>\n",
       "      <th>3</th>\n",
       "      <td>00002d44003ed46b066607c5455a999a</td>\n",
       "      <td>2017-02-01 18:53:25</td>\n",
       "      <td>Winton</td>\n",
       "      <td>California</td>\n",
       "      <td>Yes</td>\n",
       "      <td>953</td>\n",
       "      <td>e09933470f4256cc2643341c1d299e55</td>\n",
       "      <td>93c0af8b821e432857e5a63687524dd9</td>\n",
       "      <td>No</td>\n",
       "      <td>150.0</td>\n",
       "      <td>...</td>\n",
       "      <td>Fully Funded</td>\n",
       "      <td>2017-02-19</td>\n",
       "      <td>Herbert Hoover Middle School</td>\n",
       "      <td>urban</td>\n",
       "      <td>82.0</td>\n",
       "      <td>California</td>\n",
       "      <td>95340</td>\n",
       "      <td>Merced</td>\n",
       "      <td>Merced</td>\n",
       "      <td>Merced City School District</td>\n",
       "    </tr>\n",
       "    <tr>\n",
       "      <th>4</th>\n",
       "      <td>00002d44003ed46b066607c5455a999a</td>\n",
       "      <td>2017-02-03 14:20:57</td>\n",
       "      <td>Winton</td>\n",
       "      <td>California</td>\n",
       "      <td>Yes</td>\n",
       "      <td>953</td>\n",
       "      <td>e09933470f4256cc2643341c1d299e55</td>\n",
       "      <td>23d388c20fb9ba1a714632d51aa8ad32</td>\n",
       "      <td>No</td>\n",
       "      <td>10.0</td>\n",
       "      <td>...</td>\n",
       "      <td>Fully Funded</td>\n",
       "      <td>2017-02-19</td>\n",
       "      <td>Herbert Hoover Middle School</td>\n",
       "      <td>urban</td>\n",
       "      <td>82.0</td>\n",
       "      <td>California</td>\n",
       "      <td>95340</td>\n",
       "      <td>Merced</td>\n",
       "      <td>Merced</td>\n",
       "      <td>Merced City School District</td>\n",
       "    </tr>\n",
       "    <tr>\n",
       "      <th>1</th>\n",
       "      <td>00002d44003ed46b066607c5455a999a</td>\n",
       "      <td>2017-04-01 01:08:50</td>\n",
       "      <td>Winton</td>\n",
       "      <td>California</td>\n",
       "      <td>Yes</td>\n",
       "      <td>953</td>\n",
       "      <td>2f53e5f31890e647048ac217cda3b83f</td>\n",
       "      <td>ee15bb7f179142fdff3f24cff8e88483</td>\n",
       "      <td>No</td>\n",
       "      <td>100.0</td>\n",
       "      <td>...</td>\n",
       "      <td>Fully Funded</td>\n",
       "      <td>2017-05-12</td>\n",
       "      <td>Herbert Hoover Middle School</td>\n",
       "      <td>urban</td>\n",
       "      <td>82.0</td>\n",
       "      <td>California</td>\n",
       "      <td>95340</td>\n",
       "      <td>Merced</td>\n",
       "      <td>Merced</td>\n",
       "      <td>Merced City School District</td>\n",
       "    </tr>\n",
       "  </tbody>\n",
       "</table>\n",
       "<p>5 rows × 36 columns</p>\n",
       "</div>"
      ],
      "text/plain": [
       "                             Donor ID Donation Received Date Donor City  \\\n",
       "9    00002d44003ed46b066607c5455a999a    2016-10-25 20:15:11     Winton   \n",
       "164  00002d44003ed46b066607c5455a999a    2017-01-16 14:20:10     Winton   \n",
       "3    00002d44003ed46b066607c5455a999a    2017-02-01 18:53:25     Winton   \n",
       "4    00002d44003ed46b066607c5455a999a    2017-02-03 14:20:57     Winton   \n",
       "1    00002d44003ed46b066607c5455a999a    2017-04-01 01:08:50     Winton   \n",
       "\n",
       "    Donor State Donor Is Teacher Donor Zip                        Project ID  \\\n",
       "9    California              Yes       953  e2beb818569f66adaa4ced21ca299ac6   \n",
       "164  California              Yes       953  64f54f1efcbeb986114a7a13e6b27257   \n",
       "3    California              Yes       953  e09933470f4256cc2643341c1d299e55   \n",
       "4    California              Yes       953  e09933470f4256cc2643341c1d299e55   \n",
       "1    California              Yes       953  2f53e5f31890e647048ac217cda3b83f   \n",
       "\n",
       "                          Donation ID Donation Included Optional Donation  \\\n",
       "9    08ed72ce14c548e8131a7dd7b8561988                                 Yes   \n",
       "164  e3162fdec64ed91de1aa096cf75ba032                                 Yes   \n",
       "3    93c0af8b821e432857e5a63687524dd9                                  No   \n",
       "4    23d388c20fb9ba1a714632d51aa8ad32                                  No   \n",
       "1    ee15bb7f179142fdff3f24cff8e88483                                  No   \n",
       "\n",
       "     Donation Amount  ...  Project Current Status Project Fully Funded Date  \\\n",
       "9               10.0  ...            Fully Funded                2016-12-26   \n",
       "164            100.0  ...                 Expired                       NaN   \n",
       "3              150.0  ...            Fully Funded                2017-02-19   \n",
       "4               10.0  ...            Fully Funded                2017-02-19   \n",
       "1              100.0  ...            Fully Funded                2017-05-12   \n",
       "\n",
       "                            School Name  School Metro Type  \\\n",
       "9          Herbert Hoover Middle School              urban   \n",
       "164  Donn B Chenoweth Elementary School              urban   \n",
       "3          Herbert Hoover Middle School              urban   \n",
       "4          Herbert Hoover Middle School              urban   \n",
       "1          Herbert Hoover Middle School              urban   \n",
       "\n",
       "    School Percentage Free Lunch School State School Zip School City  \\\n",
       "9                           82.0   California      95340      Merced   \n",
       "164                         57.0   California      95340      Merced   \n",
       "3                           82.0   California      95340      Merced   \n",
       "4                           82.0   California      95340      Merced   \n",
       "1                           82.0   California      95340      Merced   \n",
       "\n",
       "    School County              School District  \n",
       "9          Merced  Merced City School District  \n",
       "164        Merced  Merced City School District  \n",
       "3          Merced  Merced City School District  \n",
       "4          Merced  Merced City School District  \n",
       "1          Merced  Merced City School District  \n",
       "\n",
       "[5 rows x 36 columns]"
      ]
     },
     "execution_count": 18,
     "metadata": {},
     "output_type": "execute_result"
    }
   ],
   "source": [
    "df_final_cal.head()"
   ]
  },
  {
   "cell_type": "code",
   "execution_count": 19,
   "metadata": {
    "ExecuteTime": {
     "end_time": "2020-12-10T12:36:58.766615Z",
     "start_time": "2020-12-10T12:36:58.272150Z"
    }
   },
   "outputs": [
    {
     "data": {
      "text/html": [
       "<div>\n",
       "<style scoped>\n",
       "    .dataframe tbody tr th:only-of-type {\n",
       "        vertical-align: middle;\n",
       "    }\n",
       "\n",
       "    .dataframe tbody tr th {\n",
       "        vertical-align: top;\n",
       "    }\n",
       "\n",
       "    .dataframe thead th {\n",
       "        text-align: right;\n",
       "    }\n",
       "</style>\n",
       "<table border=\"1\" class=\"dataframe\">\n",
       "  <thead>\n",
       "    <tr style=\"text-align: right;\">\n",
       "      <th></th>\n",
       "      <th>Donor ID</th>\n",
       "      <th>Donation Received Date</th>\n",
       "      <th>Donor City</th>\n",
       "      <th>Donor State</th>\n",
       "      <th>Donor Is Teacher</th>\n",
       "      <th>Donor Zip</th>\n",
       "      <th>Project ID</th>\n",
       "      <th>Donation ID</th>\n",
       "      <th>Donation Included Optional Donation</th>\n",
       "      <th>Donation Amount</th>\n",
       "      <th>...</th>\n",
       "      <th>Project Current Status</th>\n",
       "      <th>Project Fully Funded Date</th>\n",
       "      <th>School Name</th>\n",
       "      <th>School Metro Type</th>\n",
       "      <th>School Percentage Free Lunch</th>\n",
       "      <th>School State</th>\n",
       "      <th>School Zip</th>\n",
       "      <th>School City</th>\n",
       "      <th>School County</th>\n",
       "      <th>School District</th>\n",
       "    </tr>\n",
       "  </thead>\n",
       "  <tbody>\n",
       "    <tr>\n",
       "      <th>1267688</th>\n",
       "      <td>cca23670ed0d03bddfcd9c16fa9dacb7</td>\n",
       "      <td>2012-12-17 11:22:56</td>\n",
       "      <td>Las Vegas</td>\n",
       "      <td>Nevada</td>\n",
       "      <td>No</td>\n",
       "      <td>891</td>\n",
       "      <td>05d7c3d0703441e6b16ba5dfdd878c47</td>\n",
       "      <td>e353b95ffda5f4650224b2f638721c26</td>\n",
       "      <td>Yes</td>\n",
       "      <td>100.0</td>\n",
       "      <td>...</td>\n",
       "      <td>Fully Funded</td>\n",
       "      <td>2013-02-28</td>\n",
       "      <td>Oliveira Elementary School</td>\n",
       "      <td>suburban</td>\n",
       "      <td>20.0</td>\n",
       "      <td>California</td>\n",
       "      <td>94536</td>\n",
       "      <td>Fremont</td>\n",
       "      <td>Alameda</td>\n",
       "      <td>Fremont Unif School District</td>\n",
       "    </tr>\n",
       "    <tr>\n",
       "      <th>2758782</th>\n",
       "      <td>8d345d4ded01a6c7f3b79e9686dfe741</td>\n",
       "      <td>2012-12-17 19:56:44</td>\n",
       "      <td>Oakland</td>\n",
       "      <td>California</td>\n",
       "      <td>Yes</td>\n",
       "      <td>946</td>\n",
       "      <td>4f921539c0a89df04b8a946fc31fb9b2</td>\n",
       "      <td>d2acc567eb8e09ccf87f85e8505d149f</td>\n",
       "      <td>Yes</td>\n",
       "      <td>20.0</td>\n",
       "      <td>...</td>\n",
       "      <td>Fully Funded</td>\n",
       "      <td>2013-08-29</td>\n",
       "      <td>Oakland Charter High School</td>\n",
       "      <td>urban</td>\n",
       "      <td>79.0</td>\n",
       "      <td>California</td>\n",
       "      <td>94601</td>\n",
       "      <td>Oakland</td>\n",
       "      <td>Alameda</td>\n",
       "      <td>Oakland Unified School Dist</td>\n",
       "    </tr>\n",
       "    <tr>\n",
       "      <th>2758777</th>\n",
       "      <td>45c45882b12febaf50ea7d25c464c33c</td>\n",
       "      <td>2012-12-19 18:23:19</td>\n",
       "      <td>San Bruno</td>\n",
       "      <td>California</td>\n",
       "      <td>No</td>\n",
       "      <td>940</td>\n",
       "      <td>4f921539c0a89df04b8a946fc31fb9b2</td>\n",
       "      <td>9cc5978ca69e102cea481a5db08a7f87</td>\n",
       "      <td>Yes</td>\n",
       "      <td>25.0</td>\n",
       "      <td>...</td>\n",
       "      <td>Fully Funded</td>\n",
       "      <td>2013-08-29</td>\n",
       "      <td>Oakland Charter High School</td>\n",
       "      <td>urban</td>\n",
       "      <td>79.0</td>\n",
       "      <td>California</td>\n",
       "      <td>94601</td>\n",
       "      <td>Oakland</td>\n",
       "      <td>Alameda</td>\n",
       "      <td>Oakland Unified School Dist</td>\n",
       "    </tr>\n",
       "    <tr>\n",
       "      <th>2758776</th>\n",
       "      <td>2ec1193b14119b158c1d3bfd67b2940b</td>\n",
       "      <td>2012-12-22 02:03:39</td>\n",
       "      <td>Oakland</td>\n",
       "      <td>California</td>\n",
       "      <td>No</td>\n",
       "      <td>946</td>\n",
       "      <td>4f921539c0a89df04b8a946fc31fb9b2</td>\n",
       "      <td>9d84a921ab8616dfad88ef15206bb2de</td>\n",
       "      <td>Yes</td>\n",
       "      <td>25.0</td>\n",
       "      <td>...</td>\n",
       "      <td>Fully Funded</td>\n",
       "      <td>2013-08-29</td>\n",
       "      <td>Oakland Charter High School</td>\n",
       "      <td>urban</td>\n",
       "      <td>79.0</td>\n",
       "      <td>California</td>\n",
       "      <td>94601</td>\n",
       "      <td>Oakland</td>\n",
       "      <td>Alameda</td>\n",
       "      <td>Oakland Unified School Dist</td>\n",
       "    </tr>\n",
       "    <tr>\n",
       "      <th>1704614</th>\n",
       "      <td>cc9cf018f0b68657c0ab7891df16c0fe</td>\n",
       "      <td>2013-01-01 14:35:18</td>\n",
       "      <td>San Francisco</td>\n",
       "      <td>California</td>\n",
       "      <td>Yes</td>\n",
       "      <td>941</td>\n",
       "      <td>7045b057d157ea53de41f5207ded655d</td>\n",
       "      <td>2e4ad8076f94da8b945e44c8fa8b9bb8</td>\n",
       "      <td>No</td>\n",
       "      <td>25.0</td>\n",
       "      <td>...</td>\n",
       "      <td>Fully Funded</td>\n",
       "      <td>2013-02-18</td>\n",
       "      <td>Lafayette Elementary School</td>\n",
       "      <td>urban</td>\n",
       "      <td>33.0</td>\n",
       "      <td>California</td>\n",
       "      <td>94121</td>\n",
       "      <td>San Francisco</td>\n",
       "      <td>San Francisco</td>\n",
       "      <td>San Francisco Unified Sch Dist</td>\n",
       "    </tr>\n",
       "  </tbody>\n",
       "</table>\n",
       "<p>5 rows × 36 columns</p>\n",
       "</div>"
      ],
      "text/plain": [
       "                                 Donor ID Donation Received Date  \\\n",
       "1267688  cca23670ed0d03bddfcd9c16fa9dacb7    2012-12-17 11:22:56   \n",
       "2758782  8d345d4ded01a6c7f3b79e9686dfe741    2012-12-17 19:56:44   \n",
       "2758777  45c45882b12febaf50ea7d25c464c33c    2012-12-19 18:23:19   \n",
       "2758776  2ec1193b14119b158c1d3bfd67b2940b    2012-12-22 02:03:39   \n",
       "1704614  cc9cf018f0b68657c0ab7891df16c0fe    2013-01-01 14:35:18   \n",
       "\n",
       "            Donor City Donor State Donor Is Teacher Donor Zip  \\\n",
       "1267688      Las Vegas      Nevada               No       891   \n",
       "2758782        Oakland  California              Yes       946   \n",
       "2758777      San Bruno  California               No       940   \n",
       "2758776        Oakland  California               No       946   \n",
       "1704614  San Francisco  California              Yes       941   \n",
       "\n",
       "                               Project ID                       Donation ID  \\\n",
       "1267688  05d7c3d0703441e6b16ba5dfdd878c47  e353b95ffda5f4650224b2f638721c26   \n",
       "2758782  4f921539c0a89df04b8a946fc31fb9b2  d2acc567eb8e09ccf87f85e8505d149f   \n",
       "2758777  4f921539c0a89df04b8a946fc31fb9b2  9cc5978ca69e102cea481a5db08a7f87   \n",
       "2758776  4f921539c0a89df04b8a946fc31fb9b2  9d84a921ab8616dfad88ef15206bb2de   \n",
       "1704614  7045b057d157ea53de41f5207ded655d  2e4ad8076f94da8b945e44c8fa8b9bb8   \n",
       "\n",
       "        Donation Included Optional Donation  Donation Amount  ...  \\\n",
       "1267688                                 Yes            100.0  ...   \n",
       "2758782                                 Yes             20.0  ...   \n",
       "2758777                                 Yes             25.0  ...   \n",
       "2758776                                 Yes             25.0  ...   \n",
       "1704614                                  No             25.0  ...   \n",
       "\n",
       "         Project Current Status Project Fully Funded Date  \\\n",
       "1267688            Fully Funded                2013-02-28   \n",
       "2758782            Fully Funded                2013-08-29   \n",
       "2758777            Fully Funded                2013-08-29   \n",
       "2758776            Fully Funded                2013-08-29   \n",
       "1704614            Fully Funded                2013-02-18   \n",
       "\n",
       "                         School Name  School Metro Type  \\\n",
       "1267688   Oliveira Elementary School           suburban   \n",
       "2758782  Oakland Charter High School              urban   \n",
       "2758777  Oakland Charter High School              urban   \n",
       "2758776  Oakland Charter High School              urban   \n",
       "1704614  Lafayette Elementary School              urban   \n",
       "\n",
       "        School Percentage Free Lunch School State School Zip    School City  \\\n",
       "1267688                         20.0   California      94536        Fremont   \n",
       "2758782                         79.0   California      94601        Oakland   \n",
       "2758777                         79.0   California      94601        Oakland   \n",
       "2758776                         79.0   California      94601        Oakland   \n",
       "1704614                         33.0   California      94121  San Francisco   \n",
       "\n",
       "         School County                 School District  \n",
       "1267688        Alameda    Fremont Unif School District  \n",
       "2758782        Alameda     Oakland Unified School Dist  \n",
       "2758777        Alameda     Oakland Unified School Dist  \n",
       "2758776        Alameda     Oakland Unified School Dist  \n",
       "1704614  San Francisco  San Francisco Unified Sch Dist  \n",
       "\n",
       "[5 rows x 36 columns]"
      ]
     },
     "execution_count": 19,
     "metadata": {},
     "output_type": "execute_result"
    }
   ],
   "source": [
    "donorsKeep = df_final_cal.drop_duplicates(subset=['Donor ID'], keep='first') # keep just the first donation for each donor\n",
    "\n",
    "donorsKeep = donorsKeep.sort_values(['Donation Received Date']) # sort the donation by donation date\n",
    "\n",
    "donorsKeep.head(5)"
   ]
  },
  {
   "cell_type": "code",
   "execution_count": 20,
   "metadata": {
    "ExecuteTime": {
     "end_time": "2020-12-10T12:36:58.773059Z",
     "start_time": "2020-12-10T12:36:58.768718Z"
    }
   },
   "outputs": [
    {
     "data": {
      "text/plain": [
       "76364"
      ]
     },
     "execution_count": 20,
     "metadata": {},
     "output_type": "execute_result"
    }
   ],
   "source": [
    "donationsTrainNum = int(round(0.7 * len(donorsKeep), 0)) # the top ~80% is the training data\n",
    "donationsTrainNum"
   ]
  },
  {
   "cell_type": "code",
   "execution_count": 21,
   "metadata": {
    "ExecuteTime": {
     "end_time": "2020-12-10T12:36:58.777970Z",
     "start_time": "2020-12-10T12:36:58.775015Z"
    }
   },
   "outputs": [],
   "source": [
    "donationsTrain = donorsKeep.iloc[:donationsTrainNum,:] # training data\n",
    "\n",
    "donationsValid = donorsKeep.iloc[donationsTrainNum:,] # the bottom ~20% is the validation data\n",
    "\n",
    "del donorsKeep"
   ]
  },
  {
   "cell_type": "code",
   "execution_count": 22,
   "metadata": {
    "ExecuteTime": {
     "end_time": "2020-12-10T12:36:58.783431Z",
     "start_time": "2020-12-10T12:36:58.779802Z"
    }
   },
   "outputs": [
    {
     "data": {
      "text/plain": [
       "(76364, 36)"
      ]
     },
     "execution_count": 22,
     "metadata": {},
     "output_type": "execute_result"
    }
   ],
   "source": [
    "donationsTrain.shape # this only contains the first donation of each donor"
   ]
  },
  {
   "cell_type": "code",
   "execution_count": 23,
   "metadata": {
    "ExecuteTime": {
     "end_time": "2020-12-10T12:36:58.818086Z",
     "start_time": "2020-12-10T12:36:58.792473Z"
    }
   },
   "outputs": [],
   "source": [
    "donorsTrainList = list(donationsTrain['Donor ID'])\n",
    "donorsValidList = list(donationsValid['Donor ID'])"
   ]
  },
  {
   "cell_type": "code",
   "execution_count": 24,
   "metadata": {
    "ExecuteTime": {
     "end_time": "2020-12-10T12:37:00.981502Z",
     "start_time": "2020-12-10T12:36:58.822929Z"
    }
   },
   "outputs": [],
   "source": [
    "# this contains \n",
    "donationsTrainFinal = df_final_cal[df_final_cal['Donor ID'].isin(donorsTrainList)] # expanding the training data\n",
    "donationsValidFinal = df_final_cal[df_final_cal['Donor ID'].isin(donorsValidList)] # expanding the validation data\n",
    "\n",
    "donationsTrainFinal = donationsTrainFinal.sort_values(by = ['Donor ID', 'Donation Received Date']) \n",
    "donationsValidFinal = donationsValidFinal.sort_values(by = ['Donor ID', 'Donation Received Date'])"
   ]
  },
  {
   "cell_type": "code",
   "execution_count": 25,
   "metadata": {
    "ExecuteTime": {
     "end_time": "2020-12-10T12:37:01.603848Z",
     "start_time": "2020-12-10T12:37:00.983718Z"
    }
   },
   "outputs": [],
   "source": [
    "# remove duplicates\n",
    "donationsTrainFinal = removeDuplicates(donationsTrainFinal, 'Donation ID') # donation ID is the primary key here\n",
    "donationsValidFinal = removeDuplicates(donationsValidFinal, 'Donation ID')"
   ]
  },
  {
   "cell_type": "code",
   "execution_count": 26,
   "metadata": {
    "ExecuteTime": {
     "end_time": "2020-12-10T12:37:01.610253Z",
     "start_time": "2020-12-10T12:37:01.606176Z"
    }
   },
   "outputs": [
    {
     "name": "stdout",
     "output_type": "stream",
     "text": [
      "Training data shape: \n",
      " (379181, 36)\n",
      "Validation data shape: \n",
      " (99875, 36)\n",
      "Percentage of training data:  0.7915170668982332\n"
     ]
    }
   ],
   "source": [
    "print(\"Training data shape: \\n\", donationsTrainFinal.shape)\n",
    "print(\"Validation data shape: \\n\", donationsValidFinal.shape)\n",
    "\n",
    "print(\"Percentage of training data: \", donationsTrainFinal.shape[0] / len(df_final_cal))"
   ]
  },
  {
   "cell_type": "markdown",
   "metadata": {},
   "source": [
    "## Feature Selection and OHE"
   ]
  },
  {
   "cell_type": "code",
   "execution_count": 27,
   "metadata": {
    "ExecuteTime": {
     "end_time": "2020-12-10T12:37:02.564903Z",
     "start_time": "2020-12-10T12:37:01.612476Z"
    }
   },
   "outputs": [
    {
     "data": {
      "text/plain": [
       "Donor City                          17526\n",
       "Donor Zip                           11448\n",
       "Project Title                           2\n",
       "Project Essay                           6\n",
       "Project Short Description               6\n",
       "Project Subject Category Tree           8\n",
       "Project Subject Subcategory Tree        8\n",
       "Project Resource Category              14\n",
       "Project Fully Funded Date           34509\n",
       "School Percentage Free Lunch          477\n",
       "dtype: int64"
      ]
     },
     "execution_count": 27,
     "metadata": {},
     "output_type": "execute_result"
    }
   ],
   "source": [
    "# checking for null values in the dataframe\n",
    "\n",
    "trainNullCol = donationsTrainFinal.columns[donationsTrainFinal.isnull().any()]\n",
    "donationsTrainFinal[trainNullCol].isnull().sum()"
   ]
  },
  {
   "cell_type": "code",
   "execution_count": null,
   "metadata": {},
   "outputs": [],
   "source": []
  },
  {
   "cell_type": "code",
   "execution_count": 28,
   "metadata": {
    "ExecuteTime": {
     "end_time": "2020-12-10T12:37:02.569865Z",
     "start_time": "2020-12-10T12:37:02.567022Z"
    }
   },
   "outputs": [],
   "source": [
    "# because we are doing content-based filtering, here are the features of the projects we are interested in:\n",
    "\n",
    "ohFeatures = ['Project ID', 'Project Expiration Date', 'Project Cost', 'Project Type','Project Subject Category Tree',\n",
    "       'Project Grade Level Category', 'Project Resource Category',\n",
    "       'Project Current Status',\n",
    "       'School Metro Type', 'School State']"
   ]
  },
  {
   "cell_type": "code",
   "execution_count": 172,
   "metadata": {
    "ExecuteTime": {
     "end_time": "2020-12-10T14:32:05.175439Z",
     "start_time": "2020-12-10T14:32:04.754060Z"
    }
   },
   "outputs": [
    {
     "name": "stdout",
     "output_type": "stream",
     "text": [
      "(103017, 10)\n"
     ]
    },
    {
     "data": {
      "text/html": [
       "<div>\n",
       "<style scoped>\n",
       "    .dataframe tbody tr th:only-of-type {\n",
       "        vertical-align: middle;\n",
       "    }\n",
       "\n",
       "    .dataframe tbody tr th {\n",
       "        vertical-align: top;\n",
       "    }\n",
       "\n",
       "    .dataframe thead th {\n",
       "        text-align: right;\n",
       "    }\n",
       "</style>\n",
       "<table border=\"1\" class=\"dataframe\">\n",
       "  <thead>\n",
       "    <tr style=\"text-align: right;\">\n",
       "      <th></th>\n",
       "      <th>Project ID</th>\n",
       "      <th>Project Expiration Date</th>\n",
       "      <th>Project Cost</th>\n",
       "      <th>Project Type</th>\n",
       "      <th>Project Subject Category Tree</th>\n",
       "      <th>Project Grade Level Category</th>\n",
       "      <th>Project Resource Category</th>\n",
       "      <th>Project Current Status</th>\n",
       "      <th>School Metro Type</th>\n",
       "      <th>School State</th>\n",
       "    </tr>\n",
       "  </thead>\n",
       "  <tbody>\n",
       "    <tr>\n",
       "      <th>2034340</th>\n",
       "      <td>ae42a503becb9f92c7a2d6f3828d34aa</td>\n",
       "      <td>2016-03-03</td>\n",
       "      <td>738.22</td>\n",
       "      <td>Teacher-Led</td>\n",
       "      <td>Literacy &amp; Language</td>\n",
       "      <td>Grades PreK-2</td>\n",
       "      <td>Technology</td>\n",
       "      <td>Fully Funded</td>\n",
       "      <td>suburban</td>\n",
       "      <td>California</td>\n",
       "    </tr>\n",
       "    <tr>\n",
       "      <th>1910584</th>\n",
       "      <td>28dc80fd8b59c4cb8718f7e8a8a155d8</td>\n",
       "      <td>2016-01-20</td>\n",
       "      <td>403.22</td>\n",
       "      <td>Teacher-Led</td>\n",
       "      <td>Health &amp; Sports</td>\n",
       "      <td>Grades PreK-2</td>\n",
       "      <td>Supplies</td>\n",
       "      <td>Fully Funded</td>\n",
       "      <td>suburban</td>\n",
       "      <td>California</td>\n",
       "    </tr>\n",
       "    <tr>\n",
       "      <th>2805804</th>\n",
       "      <td>eaeb7f1cfa36a3e8b30f7282df717bb5</td>\n",
       "      <td>2015-12-18</td>\n",
       "      <td>1651.34</td>\n",
       "      <td>Teacher-Led</td>\n",
       "      <td>Music &amp; The Arts</td>\n",
       "      <td>Grades 9-12</td>\n",
       "      <td>Supplies</td>\n",
       "      <td>Fully Funded</td>\n",
       "      <td>urban</td>\n",
       "      <td>California</td>\n",
       "    </tr>\n",
       "    <tr>\n",
       "      <th>2296767</th>\n",
       "      <td>96281c8e7667229faac840fe9c569e9d</td>\n",
       "      <td>2014-08-05</td>\n",
       "      <td>2589.96</td>\n",
       "      <td>Teacher-Led</td>\n",
       "      <td>Literacy &amp; Language, Applied Learning</td>\n",
       "      <td>Grades PreK-2</td>\n",
       "      <td>Technology</td>\n",
       "      <td>Expired</td>\n",
       "      <td>urban</td>\n",
       "      <td>California</td>\n",
       "    </tr>\n",
       "    <tr>\n",
       "      <th>1823948</th>\n",
       "      <td>61844702823bf19ca6cf0262ce95b8aa</td>\n",
       "      <td>2013-09-14</td>\n",
       "      <td>470.31</td>\n",
       "      <td>Teacher-Led</td>\n",
       "      <td>Literacy &amp; Language, Math &amp; Science</td>\n",
       "      <td>Grades PreK-2</td>\n",
       "      <td>Technology</td>\n",
       "      <td>Fully Funded</td>\n",
       "      <td>urban</td>\n",
       "      <td>California</td>\n",
       "    </tr>\n",
       "  </tbody>\n",
       "</table>\n",
       "</div>"
      ],
      "text/plain": [
       "                               Project ID Project Expiration Date  \\\n",
       "2034340  ae42a503becb9f92c7a2d6f3828d34aa              2016-03-03   \n",
       "1910584  28dc80fd8b59c4cb8718f7e8a8a155d8              2016-01-20   \n",
       "2805804  eaeb7f1cfa36a3e8b30f7282df717bb5              2015-12-18   \n",
       "2296767  96281c8e7667229faac840fe9c569e9d              2014-08-05   \n",
       "1823948  61844702823bf19ca6cf0262ce95b8aa              2013-09-14   \n",
       "\n",
       "         Project Cost Project Type          Project Subject Category Tree  \\\n",
       "2034340        738.22  Teacher-Led                    Literacy & Language   \n",
       "1910584        403.22  Teacher-Led                        Health & Sports   \n",
       "2805804       1651.34  Teacher-Led                       Music & The Arts   \n",
       "2296767       2589.96  Teacher-Led  Literacy & Language, Applied Learning   \n",
       "1823948        470.31  Teacher-Led    Literacy & Language, Math & Science   \n",
       "\n",
       "        Project Grade Level Category Project Resource Category  \\\n",
       "2034340                Grades PreK-2                Technology   \n",
       "1910584                Grades PreK-2                  Supplies   \n",
       "2805804                  Grades 9-12                  Supplies   \n",
       "2296767                Grades PreK-2                Technology   \n",
       "1823948                Grades PreK-2                Technology   \n",
       "\n",
       "        Project Current Status School Metro Type School State  \n",
       "2034340           Fully Funded          suburban   California  \n",
       "1910584           Fully Funded          suburban   California  \n",
       "2805804           Fully Funded             urban   California  \n",
       "2296767                Expired             urban   California  \n",
       "1823948           Fully Funded             urban   California  "
      ]
     },
     "execution_count": 172,
     "metadata": {},
     "output_type": "execute_result"
    }
   ],
   "source": [
    "# drop duplicates of projects because 'Project ID' has to be the primary key\n",
    "\n",
    "projFeatures = donationsTrainFinal[ohFeatures]\n",
    "projFeatures = removeDuplicates(projFeatures, 'Project ID')\n",
    "\n",
    "projFeatures = projFeatures.dropna() # drop the null values as well\n",
    "projFeatures = projFeatures.sort_values(by = ['Project ID'])\n",
    "\n",
    "featuresList = list(projFeatures.columns)\n",
    "\n",
    "print(projFeatures.shape)\n",
    "\n",
    "projFeatures.sample(5)"
   ]
  },
  {
   "cell_type": "code",
   "execution_count": 177,
   "metadata": {
    "ExecuteTime": {
     "end_time": "2020-12-10T14:35:35.089337Z",
     "start_time": "2020-12-10T14:35:35.082701Z"
    }
   },
   "outputs": [
    {
     "name": "stdout",
     "output_type": "stream",
     "text": [
      "791.7898289602819\n"
     ]
    },
    {
     "data": {
      "text/plain": [
       "159711.52"
      ]
     },
     "execution_count": 177,
     "metadata": {},
     "output_type": "execute_result"
    }
   ],
   "source": [
    "# discretizing the project cost\n",
    "\n",
    "cost = projFeatures['Project Cost']\n",
    "\n",
    "# plt.hist(cost[cost <= 5000], bins = 500, density = True)\n",
    "\n",
    "# plt.show()\n",
    "\n",
    "print(np.mean(cost))\n",
    "np.std(cost)\n",
    "\n",
    "np.max(cost)"
   ]
  },
  {
   "cell_type": "code",
   "execution_count": 31,
   "metadata": {
    "ExecuteTime": {
     "end_time": "2020-12-10T12:37:04.204641Z",
     "start_time": "2020-12-10T12:37:04.041491Z"
    }
   },
   "outputs": [
    {
     "name": "stdout",
     "output_type": "stream",
     "text": [
      "(103017, 10)\n"
     ]
    },
    {
     "data": {
      "text/html": [
       "<div>\n",
       "<style scoped>\n",
       "    .dataframe tbody tr th:only-of-type {\n",
       "        vertical-align: middle;\n",
       "    }\n",
       "\n",
       "    .dataframe tbody tr th {\n",
       "        vertical-align: top;\n",
       "    }\n",
       "\n",
       "    .dataframe thead th {\n",
       "        text-align: right;\n",
       "    }\n",
       "</style>\n",
       "<table border=\"1\" class=\"dataframe\">\n",
       "  <thead>\n",
       "    <tr style=\"text-align: right;\">\n",
       "      <th></th>\n",
       "      <th>Project ID</th>\n",
       "      <th>Project Expiration Date</th>\n",
       "      <th>Project Cost (Up to)</th>\n",
       "      <th>Project Type</th>\n",
       "      <th>Project Subject Category Tree</th>\n",
       "      <th>Project Grade Level Category</th>\n",
       "      <th>Project Resource Category</th>\n",
       "      <th>Project Current Status</th>\n",
       "      <th>School Metro Type</th>\n",
       "      <th>School State</th>\n",
       "    </tr>\n",
       "  </thead>\n",
       "  <tbody>\n",
       "    <tr>\n",
       "      <th>1698628</th>\n",
       "      <td>6c8b9fb5b90429991bf0fb9bec1f8e1b</td>\n",
       "      <td>2017-02-04</td>\n",
       "      <td>500</td>\n",
       "      <td>Teacher-Led</td>\n",
       "      <td>Math &amp; Science</td>\n",
       "      <td>Grades 9-12</td>\n",
       "      <td>Supplies</td>\n",
       "      <td>Fully Funded</td>\n",
       "      <td>suburban</td>\n",
       "      <td>California</td>\n",
       "    </tr>\n",
       "    <tr>\n",
       "      <th>2292693</th>\n",
       "      <td>22ba597699789bd8302e5217a8d32bd3</td>\n",
       "      <td>2014-01-24</td>\n",
       "      <td>1000</td>\n",
       "      <td>Teacher-Led</td>\n",
       "      <td>Math &amp; Science</td>\n",
       "      <td>Grades PreK-2</td>\n",
       "      <td>Supplies</td>\n",
       "      <td>Expired</td>\n",
       "      <td>suburban</td>\n",
       "      <td>California</td>\n",
       "    </tr>\n",
       "    <tr>\n",
       "      <th>614902</th>\n",
       "      <td>dd69f3be40d33c715ed53c736df457d5</td>\n",
       "      <td>2016-01-05</td>\n",
       "      <td>1000</td>\n",
       "      <td>Teacher-Led</td>\n",
       "      <td>Math &amp; Science</td>\n",
       "      <td>Grades 6-8</td>\n",
       "      <td>Technology</td>\n",
       "      <td>Fully Funded</td>\n",
       "      <td>suburban</td>\n",
       "      <td>California</td>\n",
       "    </tr>\n",
       "    <tr>\n",
       "      <th>367804</th>\n",
       "      <td>228be385c3ab9c0832fdc8a3f8b310c7</td>\n",
       "      <td>2016-09-08</td>\n",
       "      <td>500</td>\n",
       "      <td>Teacher-Led</td>\n",
       "      <td>Literacy &amp; Language, Applied Learning</td>\n",
       "      <td>Grades PreK-2</td>\n",
       "      <td>Other</td>\n",
       "      <td>Fully Funded</td>\n",
       "      <td>urban</td>\n",
       "      <td>California</td>\n",
       "    </tr>\n",
       "    <tr>\n",
       "      <th>1403337</th>\n",
       "      <td>2c9a1d1e5217466c6c780f97c4ae7c3b</td>\n",
       "      <td>2014-02-15</td>\n",
       "      <td>500</td>\n",
       "      <td>Teacher-Led</td>\n",
       "      <td>Literacy &amp; Language</td>\n",
       "      <td>Grades 6-8</td>\n",
       "      <td>Supplies</td>\n",
       "      <td>Fully Funded</td>\n",
       "      <td>unknown</td>\n",
       "      <td>California</td>\n",
       "    </tr>\n",
       "  </tbody>\n",
       "</table>\n",
       "</div>"
      ],
      "text/plain": [
       "                               Project ID Project Expiration Date  \\\n",
       "1698628  6c8b9fb5b90429991bf0fb9bec1f8e1b              2017-02-04   \n",
       "2292693  22ba597699789bd8302e5217a8d32bd3              2014-01-24   \n",
       "614902   dd69f3be40d33c715ed53c736df457d5              2016-01-05   \n",
       "367804   228be385c3ab9c0832fdc8a3f8b310c7              2016-09-08   \n",
       "1403337  2c9a1d1e5217466c6c780f97c4ae7c3b              2014-02-15   \n",
       "\n",
       "        Project Cost (Up to) Project Type  \\\n",
       "1698628                  500  Teacher-Led   \n",
       "2292693                 1000  Teacher-Led   \n",
       "614902                  1000  Teacher-Led   \n",
       "367804                   500  Teacher-Led   \n",
       "1403337                  500  Teacher-Led   \n",
       "\n",
       "                 Project Subject Category Tree Project Grade Level Category  \\\n",
       "1698628                         Math & Science                  Grades 9-12   \n",
       "2292693                         Math & Science                Grades PreK-2   \n",
       "614902                          Math & Science                   Grades 6-8   \n",
       "367804   Literacy & Language, Applied Learning                Grades PreK-2   \n",
       "1403337                    Literacy & Language                   Grades 6-8   \n",
       "\n",
       "        Project Resource Category Project Current Status School Metro Type  \\\n",
       "1698628                  Supplies           Fully Funded          suburban   \n",
       "2292693                  Supplies                Expired          suburban   \n",
       "614902                 Technology           Fully Funded          suburban   \n",
       "367804                      Other           Fully Funded             urban   \n",
       "1403337                  Supplies           Fully Funded           unknown   \n",
       "\n",
       "        School State  \n",
       "1698628   California  \n",
       "2292693   California  \n",
       "614902    California  \n",
       "367804    California  \n",
       "1403337   California  "
      ]
     },
     "execution_count": 31,
     "metadata": {},
     "output_type": "execute_result"
    }
   ],
   "source": [
    "# binning the project cost\n",
    "\n",
    "projCost = pd.DataFrame((projFeatures['Project Cost'] // 500 + 1) * 500).astype('int')\n",
    "\n",
    "projCost[projCost['Project Cost'] > 3000] = 3000\n",
    "\n",
    "projCost['Project Cost'] = projCost['Project Cost'].astype('str')\n",
    "projCost[projCost['Project Cost'] == '3000'] = \"3000+\"\n",
    "\n",
    "projFeatures['Project Cost'] = projCost\n",
    "projFeatures = projFeatures.rename(columns = {\"Project Cost\": \"Project Cost (Up to)\"})\n",
    "\n",
    "print(projFeatures.shape)\n",
    "projFeatures.sample(5)\n"
   ]
  },
  {
   "cell_type": "code",
   "execution_count": 32,
   "metadata": {
    "ExecuteTime": {
     "end_time": "2020-12-10T12:37:04.266298Z",
     "start_time": "2020-12-10T12:37:04.207216Z"
    }
   },
   "outputs": [
    {
     "data": {
      "text/plain": [
       "(103017, 10)"
      ]
     },
     "execution_count": 32,
     "metadata": {},
     "output_type": "execute_result"
    }
   ],
   "source": [
    "# checking to make sure to have no null values or duplicates\n",
    "\n",
    "trainNullCol = projFeatures.columns[projFeatures.isnull().any()]\n",
    "projFeatures[trainNullCol].isnull().sum()\n",
    "\n",
    "projFeatures.shape"
   ]
  },
  {
   "cell_type": "markdown",
   "metadata": {},
   "source": [
    "### One-hot Encoding"
   ]
  },
  {
   "cell_type": "code",
   "execution_count": 33,
   "metadata": {
    "ExecuteTime": {
     "end_time": "2020-12-10T12:37:04.330528Z",
     "start_time": "2020-12-10T12:37:04.271124Z"
    }
   },
   "outputs": [
    {
     "data": {
      "text/plain": [
       "OneHotEncoder(handle_unknown='ignore')"
      ]
     },
     "execution_count": 33,
     "metadata": {},
     "output_type": "execute_result"
    }
   ],
   "source": [
    "enc = OHE(handle_unknown = 'ignore')\n",
    "enc.fit(projFeatures.iloc[:,2:]) # fit the one hot vector on our dataframe"
   ]
  },
  {
   "cell_type": "code",
   "execution_count": 34,
   "metadata": {
    "ExecuteTime": {
     "end_time": "2020-12-10T12:37:04.542619Z",
     "start_time": "2020-12-10T12:37:04.333355Z"
    }
   },
   "outputs": [
    {
     "data": {
      "text/plain": [
       "(103017, 90)"
      ]
     },
     "execution_count": 34,
     "metadata": {},
     "output_type": "execute_result"
    }
   ],
   "source": [
    "# convert the one-hot matrix into a dataframe\n",
    "\n",
    "oneHotMatrix = pd.DataFrame(enc.transform(projFeatures.iloc[:,2:]).toarray())\n",
    "\n",
    "oneHotMatrix.shape"
   ]
  },
  {
   "cell_type": "code",
   "execution_count": 35,
   "metadata": {
    "ExecuteTime": {
     "end_time": "2020-12-10T12:37:04.565835Z",
     "start_time": "2020-12-10T12:37:04.544702Z"
    }
   },
   "outputs": [
    {
     "data": {
      "text/html": [
       "<div>\n",
       "<style scoped>\n",
       "    .dataframe tbody tr th:only-of-type {\n",
       "        vertical-align: middle;\n",
       "    }\n",
       "\n",
       "    .dataframe tbody tr th {\n",
       "        vertical-align: top;\n",
       "    }\n",
       "\n",
       "    .dataframe thead th {\n",
       "        text-align: right;\n",
       "    }\n",
       "</style>\n",
       "<table border=\"1\" class=\"dataframe\">\n",
       "  <thead>\n",
       "    <tr style=\"text-align: right;\">\n",
       "      <th></th>\n",
       "      <th>0</th>\n",
       "      <th>1</th>\n",
       "      <th>2</th>\n",
       "      <th>3</th>\n",
       "      <th>4</th>\n",
       "      <th>5</th>\n",
       "      <th>6</th>\n",
       "      <th>7</th>\n",
       "      <th>8</th>\n",
       "      <th>9</th>\n",
       "      <th>...</th>\n",
       "      <th>80</th>\n",
       "      <th>81</th>\n",
       "      <th>82</th>\n",
       "      <th>83</th>\n",
       "      <th>84</th>\n",
       "      <th>85</th>\n",
       "      <th>86</th>\n",
       "      <th>87</th>\n",
       "      <th>88</th>\n",
       "      <th>89</th>\n",
       "    </tr>\n",
       "  </thead>\n",
       "  <tbody>\n",
       "    <tr>\n",
       "      <th>52220</th>\n",
       "      <td>1.0</td>\n",
       "      <td>0.0</td>\n",
       "      <td>0.0</td>\n",
       "      <td>0.0</td>\n",
       "      <td>0.0</td>\n",
       "      <td>0.0</td>\n",
       "      <td>0.0</td>\n",
       "      <td>0.0</td>\n",
       "      <td>1.0</td>\n",
       "      <td>0.0</td>\n",
       "      <td>...</td>\n",
       "      <td>0.0</td>\n",
       "      <td>1.0</td>\n",
       "      <td>0.0</td>\n",
       "      <td>0.0</td>\n",
       "      <td>0.0</td>\n",
       "      <td>0.0</td>\n",
       "      <td>0.0</td>\n",
       "      <td>0.0</td>\n",
       "      <td>1.0</td>\n",
       "      <td>1.0</td>\n",
       "    </tr>\n",
       "    <tr>\n",
       "      <th>86007</th>\n",
       "      <td>1.0</td>\n",
       "      <td>0.0</td>\n",
       "      <td>0.0</td>\n",
       "      <td>0.0</td>\n",
       "      <td>0.0</td>\n",
       "      <td>0.0</td>\n",
       "      <td>0.0</td>\n",
       "      <td>0.0</td>\n",
       "      <td>1.0</td>\n",
       "      <td>0.0</td>\n",
       "      <td>...</td>\n",
       "      <td>0.0</td>\n",
       "      <td>0.0</td>\n",
       "      <td>1.0</td>\n",
       "      <td>0.0</td>\n",
       "      <td>0.0</td>\n",
       "      <td>1.0</td>\n",
       "      <td>0.0</td>\n",
       "      <td>0.0</td>\n",
       "      <td>0.0</td>\n",
       "      <td>1.0</td>\n",
       "    </tr>\n",
       "    <tr>\n",
       "      <th>12343</th>\n",
       "      <td>0.0</td>\n",
       "      <td>0.0</td>\n",
       "      <td>0.0</td>\n",
       "      <td>0.0</td>\n",
       "      <td>0.0</td>\n",
       "      <td>1.0</td>\n",
       "      <td>0.0</td>\n",
       "      <td>0.0</td>\n",
       "      <td>1.0</td>\n",
       "      <td>0.0</td>\n",
       "      <td>...</td>\n",
       "      <td>0.0</td>\n",
       "      <td>1.0</td>\n",
       "      <td>0.0</td>\n",
       "      <td>0.0</td>\n",
       "      <td>0.0</td>\n",
       "      <td>0.0</td>\n",
       "      <td>1.0</td>\n",
       "      <td>0.0</td>\n",
       "      <td>0.0</td>\n",
       "      <td>1.0</td>\n",
       "    </tr>\n",
       "    <tr>\n",
       "      <th>6595</th>\n",
       "      <td>1.0</td>\n",
       "      <td>0.0</td>\n",
       "      <td>0.0</td>\n",
       "      <td>0.0</td>\n",
       "      <td>0.0</td>\n",
       "      <td>0.0</td>\n",
       "      <td>0.0</td>\n",
       "      <td>0.0</td>\n",
       "      <td>1.0</td>\n",
       "      <td>0.0</td>\n",
       "      <td>...</td>\n",
       "      <td>0.0</td>\n",
       "      <td>1.0</td>\n",
       "      <td>0.0</td>\n",
       "      <td>0.0</td>\n",
       "      <td>0.0</td>\n",
       "      <td>0.0</td>\n",
       "      <td>1.0</td>\n",
       "      <td>0.0</td>\n",
       "      <td>0.0</td>\n",
       "      <td>1.0</td>\n",
       "    </tr>\n",
       "    <tr>\n",
       "      <th>12013</th>\n",
       "      <td>0.0</td>\n",
       "      <td>0.0</td>\n",
       "      <td>0.0</td>\n",
       "      <td>0.0</td>\n",
       "      <td>0.0</td>\n",
       "      <td>1.0</td>\n",
       "      <td>0.0</td>\n",
       "      <td>0.0</td>\n",
       "      <td>1.0</td>\n",
       "      <td>0.0</td>\n",
       "      <td>...</td>\n",
       "      <td>0.0</td>\n",
       "      <td>0.0</td>\n",
       "      <td>1.0</td>\n",
       "      <td>0.0</td>\n",
       "      <td>0.0</td>\n",
       "      <td>0.0</td>\n",
       "      <td>0.0</td>\n",
       "      <td>0.0</td>\n",
       "      <td>1.0</td>\n",
       "      <td>1.0</td>\n",
       "    </tr>\n",
       "  </tbody>\n",
       "</table>\n",
       "<p>5 rows × 90 columns</p>\n",
       "</div>"
      ],
      "text/plain": [
       "        0    1    2    3    4    5    6    7    8    9   ...   80   81   82  \\\n",
       "52220  1.0  0.0  0.0  0.0  0.0  0.0  0.0  0.0  1.0  0.0  ...  0.0  1.0  0.0   \n",
       "86007  1.0  0.0  0.0  0.0  0.0  0.0  0.0  0.0  1.0  0.0  ...  0.0  0.0  1.0   \n",
       "12343  0.0  0.0  0.0  0.0  0.0  1.0  0.0  0.0  1.0  0.0  ...  0.0  1.0  0.0   \n",
       "6595   1.0  0.0  0.0  0.0  0.0  0.0  0.0  0.0  1.0  0.0  ...  0.0  1.0  0.0   \n",
       "12013  0.0  0.0  0.0  0.0  0.0  1.0  0.0  0.0  1.0  0.0  ...  0.0  0.0  1.0   \n",
       "\n",
       "        83   84   85   86   87   88   89  \n",
       "52220  0.0  0.0  0.0  0.0  0.0  1.0  1.0  \n",
       "86007  0.0  0.0  1.0  0.0  0.0  0.0  1.0  \n",
       "12343  0.0  0.0  0.0  1.0  0.0  0.0  1.0  \n",
       "6595   0.0  0.0  0.0  1.0  0.0  0.0  1.0  \n",
       "12013  0.0  0.0  0.0  0.0  0.0  1.0  1.0  \n",
       "\n",
       "[5 rows x 90 columns]"
      ]
     },
     "execution_count": 35,
     "metadata": {},
     "output_type": "execute_result"
    }
   ],
   "source": [
    "# this is what the OHM looks like\n",
    "oneHotMatrix.sample(5)"
   ]
  },
  {
   "cell_type": "markdown",
   "metadata": {},
   "source": [
    "## Merging one-hot matrix with the dataframe"
   ]
  },
  {
   "cell_type": "code",
   "execution_count": 36,
   "metadata": {
    "ExecuteTime": {
     "end_time": "2020-12-10T12:37:04.797078Z",
     "start_time": "2020-12-10T12:37:04.567276Z"
    }
   },
   "outputs": [
    {
     "name": "stdout",
     "output_type": "stream",
     "text": [
      "(103017, 100)\n"
     ]
    },
    {
     "data": {
      "text/html": [
       "<div>\n",
       "<style scoped>\n",
       "    .dataframe tbody tr th:only-of-type {\n",
       "        vertical-align: middle;\n",
       "    }\n",
       "\n",
       "    .dataframe tbody tr th {\n",
       "        vertical-align: top;\n",
       "    }\n",
       "\n",
       "    .dataframe thead th {\n",
       "        text-align: right;\n",
       "    }\n",
       "</style>\n",
       "<table border=\"1\" class=\"dataframe\">\n",
       "  <thead>\n",
       "    <tr style=\"text-align: right;\">\n",
       "      <th></th>\n",
       "      <th>Project ID</th>\n",
       "      <th>Project Expiration Date</th>\n",
       "      <th>Project Cost (Up to)</th>\n",
       "      <th>Project Type</th>\n",
       "      <th>Project Subject Category Tree</th>\n",
       "      <th>Project Grade Level Category</th>\n",
       "      <th>Project Resource Category</th>\n",
       "      <th>Project Current Status</th>\n",
       "      <th>School Metro Type</th>\n",
       "      <th>School State</th>\n",
       "      <th>...</th>\n",
       "      <th>80</th>\n",
       "      <th>81</th>\n",
       "      <th>82</th>\n",
       "      <th>83</th>\n",
       "      <th>84</th>\n",
       "      <th>85</th>\n",
       "      <th>86</th>\n",
       "      <th>87</th>\n",
       "      <th>88</th>\n",
       "      <th>89</th>\n",
       "    </tr>\n",
       "  </thead>\n",
       "  <tbody>\n",
       "    <tr>\n",
       "      <th>0</th>\n",
       "      <td>00005454366b6b914f9a8290f18f4aed</td>\n",
       "      <td>2018-07-30</td>\n",
       "      <td>500</td>\n",
       "      <td>Teacher-Led</td>\n",
       "      <td>History &amp; Civics</td>\n",
       "      <td>Grades PreK-2</td>\n",
       "      <td>Books</td>\n",
       "      <td>Fully Funded</td>\n",
       "      <td>suburban</td>\n",
       "      <td>California</td>\n",
       "      <td>...</td>\n",
       "      <td>0.0</td>\n",
       "      <td>0.0</td>\n",
       "      <td>1.0</td>\n",
       "      <td>0.0</td>\n",
       "      <td>0.0</td>\n",
       "      <td>1.0</td>\n",
       "      <td>0.0</td>\n",
       "      <td>0.0</td>\n",
       "      <td>0.0</td>\n",
       "      <td>1.0</td>\n",
       "    </tr>\n",
       "    <tr>\n",
       "      <th>1</th>\n",
       "      <td>0001037c9aa509b21c47ef94822ae9c1</td>\n",
       "      <td>2015-05-09</td>\n",
       "      <td>500</td>\n",
       "      <td>Teacher-Led</td>\n",
       "      <td>Math &amp; Science</td>\n",
       "      <td>Grades 6-8</td>\n",
       "      <td>Supplies</td>\n",
       "      <td>Fully Funded</td>\n",
       "      <td>urban</td>\n",
       "      <td>California</td>\n",
       "      <td>...</td>\n",
       "      <td>0.0</td>\n",
       "      <td>0.0</td>\n",
       "      <td>1.0</td>\n",
       "      <td>0.0</td>\n",
       "      <td>0.0</td>\n",
       "      <td>0.0</td>\n",
       "      <td>0.0</td>\n",
       "      <td>0.0</td>\n",
       "      <td>1.0</td>\n",
       "      <td>1.0</td>\n",
       "    </tr>\n",
       "    <tr>\n",
       "      <th>2</th>\n",
       "      <td>000109232e37607c2de30ac1e103fa22</td>\n",
       "      <td>2018-04-06</td>\n",
       "      <td>500</td>\n",
       "      <td>Teacher-Led</td>\n",
       "      <td>Music &amp; The Arts</td>\n",
       "      <td>Grades 6-8</td>\n",
       "      <td>Musical Instruments</td>\n",
       "      <td>Fully Funded</td>\n",
       "      <td>suburban</td>\n",
       "      <td>California</td>\n",
       "      <td>...</td>\n",
       "      <td>0.0</td>\n",
       "      <td>0.0</td>\n",
       "      <td>1.0</td>\n",
       "      <td>0.0</td>\n",
       "      <td>0.0</td>\n",
       "      <td>1.0</td>\n",
       "      <td>0.0</td>\n",
       "      <td>0.0</td>\n",
       "      <td>0.0</td>\n",
       "      <td>1.0</td>\n",
       "    </tr>\n",
       "    <tr>\n",
       "      <th>3</th>\n",
       "      <td>000150db429aff026ecd130b0a076cef</td>\n",
       "      <td>2015-05-08</td>\n",
       "      <td>500</td>\n",
       "      <td>Teacher-Led</td>\n",
       "      <td>Literacy &amp; Language, History &amp; Civics</td>\n",
       "      <td>Grades 3-5</td>\n",
       "      <td>Books</td>\n",
       "      <td>Fully Funded</td>\n",
       "      <td>urban</td>\n",
       "      <td>California</td>\n",
       "      <td>...</td>\n",
       "      <td>0.0</td>\n",
       "      <td>0.0</td>\n",
       "      <td>1.0</td>\n",
       "      <td>0.0</td>\n",
       "      <td>0.0</td>\n",
       "      <td>0.0</td>\n",
       "      <td>0.0</td>\n",
       "      <td>0.0</td>\n",
       "      <td>1.0</td>\n",
       "      <td>1.0</td>\n",
       "    </tr>\n",
       "    <tr>\n",
       "      <th>4</th>\n",
       "      <td>0002ca5256e5ebef5082676c6eeba242</td>\n",
       "      <td>2014-08-06</td>\n",
       "      <td>500</td>\n",
       "      <td>Teacher-Led</td>\n",
       "      <td>Applied Learning, Math &amp; Science</td>\n",
       "      <td>Grades PreK-2</td>\n",
       "      <td>Books</td>\n",
       "      <td>Fully Funded</td>\n",
       "      <td>urban</td>\n",
       "      <td>California</td>\n",
       "      <td>...</td>\n",
       "      <td>0.0</td>\n",
       "      <td>0.0</td>\n",
       "      <td>1.0</td>\n",
       "      <td>0.0</td>\n",
       "      <td>0.0</td>\n",
       "      <td>0.0</td>\n",
       "      <td>0.0</td>\n",
       "      <td>0.0</td>\n",
       "      <td>1.0</td>\n",
       "      <td>1.0</td>\n",
       "    </tr>\n",
       "  </tbody>\n",
       "</table>\n",
       "<p>5 rows × 100 columns</p>\n",
       "</div>"
      ],
      "text/plain": [
       "                         Project ID Project Expiration Date  \\\n",
       "0  00005454366b6b914f9a8290f18f4aed              2018-07-30   \n",
       "1  0001037c9aa509b21c47ef94822ae9c1              2015-05-09   \n",
       "2  000109232e37607c2de30ac1e103fa22              2018-04-06   \n",
       "3  000150db429aff026ecd130b0a076cef              2015-05-08   \n",
       "4  0002ca5256e5ebef5082676c6eeba242              2014-08-06   \n",
       "\n",
       "  Project Cost (Up to) Project Type          Project Subject Category Tree  \\\n",
       "0                  500  Teacher-Led                       History & Civics   \n",
       "1                  500  Teacher-Led                         Math & Science   \n",
       "2                  500  Teacher-Led                       Music & The Arts   \n",
       "3                  500  Teacher-Led  Literacy & Language, History & Civics   \n",
       "4                  500  Teacher-Led       Applied Learning, Math & Science   \n",
       "\n",
       "  Project Grade Level Category Project Resource Category  \\\n",
       "0                Grades PreK-2                     Books   \n",
       "1                   Grades 6-8                  Supplies   \n",
       "2                   Grades 6-8       Musical Instruments   \n",
       "3                   Grades 3-5                     Books   \n",
       "4                Grades PreK-2                     Books   \n",
       "\n",
       "  Project Current Status School Metro Type School State  ...   80   81   82  \\\n",
       "0           Fully Funded          suburban   California  ...  0.0  0.0  1.0   \n",
       "1           Fully Funded             urban   California  ...  0.0  0.0  1.0   \n",
       "2           Fully Funded          suburban   California  ...  0.0  0.0  1.0   \n",
       "3           Fully Funded             urban   California  ...  0.0  0.0  1.0   \n",
       "4           Fully Funded             urban   California  ...  0.0  0.0  1.0   \n",
       "\n",
       "    83   84   85   86   87   88   89  \n",
       "0  0.0  0.0  1.0  0.0  0.0  0.0  1.0  \n",
       "1  0.0  0.0  0.0  0.0  0.0  1.0  1.0  \n",
       "2  0.0  0.0  1.0  0.0  0.0  0.0  1.0  \n",
       "3  0.0  0.0  0.0  0.0  0.0  1.0  1.0  \n",
       "4  0.0  0.0  0.0  0.0  0.0  1.0  1.0  \n",
       "\n",
       "[5 rows x 100 columns]"
      ]
     },
     "execution_count": 36,
     "metadata": {},
     "output_type": "execute_result"
    }
   ],
   "source": [
    "projOHM = pd.concat([projFeatures.reset_index(drop = True), oneHotMatrix.reset_index(drop = True)], axis = 1)\n",
    "\n",
    "print(projOHM.shape)\n",
    "projOHM.head(5)"
   ]
  },
  {
   "cell_type": "code",
   "execution_count": 37,
   "metadata": {
    "ExecuteTime": {
     "end_time": "2020-12-10T12:37:04.801718Z",
     "start_time": "2020-12-10T12:37:04.799140Z"
    }
   },
   "outputs": [],
   "source": [
    "dropCol = ['Project Cost (Up to)', 'Project Type', 'Project Subject Category Tree', 'Project Grade Level Category',\n",
    "           'Project Resource Category', 'Project Current Status',\n",
    "           'School Metro Type', 'School State']"
   ]
  },
  {
   "cell_type": "code",
   "execution_count": 38,
   "metadata": {
    "ExecuteTime": {
     "end_time": "2020-12-10T12:37:04.869414Z",
     "start_time": "2020-12-10T12:37:04.803618Z"
    }
   },
   "outputs": [
    {
     "name": "stdout",
     "output_type": "stream",
     "text": [
      "(103017, 92)\n"
     ]
    },
    {
     "data": {
      "text/html": [
       "<div>\n",
       "<style scoped>\n",
       "    .dataframe tbody tr th:only-of-type {\n",
       "        vertical-align: middle;\n",
       "    }\n",
       "\n",
       "    .dataframe tbody tr th {\n",
       "        vertical-align: top;\n",
       "    }\n",
       "\n",
       "    .dataframe thead th {\n",
       "        text-align: right;\n",
       "    }\n",
       "</style>\n",
       "<table border=\"1\" class=\"dataframe\">\n",
       "  <thead>\n",
       "    <tr style=\"text-align: right;\">\n",
       "      <th></th>\n",
       "      <th>Project ID</th>\n",
       "      <th>Project Expiration Date</th>\n",
       "      <th>0</th>\n",
       "      <th>1</th>\n",
       "      <th>2</th>\n",
       "      <th>3</th>\n",
       "      <th>4</th>\n",
       "      <th>5</th>\n",
       "      <th>6</th>\n",
       "      <th>7</th>\n",
       "      <th>...</th>\n",
       "      <th>80</th>\n",
       "      <th>81</th>\n",
       "      <th>82</th>\n",
       "      <th>83</th>\n",
       "      <th>84</th>\n",
       "      <th>85</th>\n",
       "      <th>86</th>\n",
       "      <th>87</th>\n",
       "      <th>88</th>\n",
       "      <th>89</th>\n",
       "    </tr>\n",
       "  </thead>\n",
       "  <tbody>\n",
       "    <tr>\n",
       "      <th>0</th>\n",
       "      <td>00005454366b6b914f9a8290f18f4aed</td>\n",
       "      <td>2018-07-30</td>\n",
       "      <td>0.0</td>\n",
       "      <td>0.0</td>\n",
       "      <td>0.0</td>\n",
       "      <td>0.0</td>\n",
       "      <td>0.0</td>\n",
       "      <td>1.0</td>\n",
       "      <td>0.0</td>\n",
       "      <td>0.0</td>\n",
       "      <td>...</td>\n",
       "      <td>0.0</td>\n",
       "      <td>0.0</td>\n",
       "      <td>1.0</td>\n",
       "      <td>0.0</td>\n",
       "      <td>0.0</td>\n",
       "      <td>1.0</td>\n",
       "      <td>0.0</td>\n",
       "      <td>0.0</td>\n",
       "      <td>0.0</td>\n",
       "      <td>1.0</td>\n",
       "    </tr>\n",
       "    <tr>\n",
       "      <th>1</th>\n",
       "      <td>0001037c9aa509b21c47ef94822ae9c1</td>\n",
       "      <td>2015-05-09</td>\n",
       "      <td>0.0</td>\n",
       "      <td>0.0</td>\n",
       "      <td>0.0</td>\n",
       "      <td>0.0</td>\n",
       "      <td>0.0</td>\n",
       "      <td>1.0</td>\n",
       "      <td>0.0</td>\n",
       "      <td>0.0</td>\n",
       "      <td>...</td>\n",
       "      <td>0.0</td>\n",
       "      <td>0.0</td>\n",
       "      <td>1.0</td>\n",
       "      <td>0.0</td>\n",
       "      <td>0.0</td>\n",
       "      <td>0.0</td>\n",
       "      <td>0.0</td>\n",
       "      <td>0.0</td>\n",
       "      <td>1.0</td>\n",
       "      <td>1.0</td>\n",
       "    </tr>\n",
       "    <tr>\n",
       "      <th>2</th>\n",
       "      <td>000109232e37607c2de30ac1e103fa22</td>\n",
       "      <td>2018-04-06</td>\n",
       "      <td>0.0</td>\n",
       "      <td>0.0</td>\n",
       "      <td>0.0</td>\n",
       "      <td>0.0</td>\n",
       "      <td>0.0</td>\n",
       "      <td>1.0</td>\n",
       "      <td>0.0</td>\n",
       "      <td>0.0</td>\n",
       "      <td>...</td>\n",
       "      <td>0.0</td>\n",
       "      <td>0.0</td>\n",
       "      <td>1.0</td>\n",
       "      <td>0.0</td>\n",
       "      <td>0.0</td>\n",
       "      <td>1.0</td>\n",
       "      <td>0.0</td>\n",
       "      <td>0.0</td>\n",
       "      <td>0.0</td>\n",
       "      <td>1.0</td>\n",
       "    </tr>\n",
       "    <tr>\n",
       "      <th>3</th>\n",
       "      <td>000150db429aff026ecd130b0a076cef</td>\n",
       "      <td>2015-05-08</td>\n",
       "      <td>0.0</td>\n",
       "      <td>0.0</td>\n",
       "      <td>0.0</td>\n",
       "      <td>0.0</td>\n",
       "      <td>0.0</td>\n",
       "      <td>1.0</td>\n",
       "      <td>0.0</td>\n",
       "      <td>0.0</td>\n",
       "      <td>...</td>\n",
       "      <td>0.0</td>\n",
       "      <td>0.0</td>\n",
       "      <td>1.0</td>\n",
       "      <td>0.0</td>\n",
       "      <td>0.0</td>\n",
       "      <td>0.0</td>\n",
       "      <td>0.0</td>\n",
       "      <td>0.0</td>\n",
       "      <td>1.0</td>\n",
       "      <td>1.0</td>\n",
       "    </tr>\n",
       "    <tr>\n",
       "      <th>4</th>\n",
       "      <td>0002ca5256e5ebef5082676c6eeba242</td>\n",
       "      <td>2014-08-06</td>\n",
       "      <td>0.0</td>\n",
       "      <td>0.0</td>\n",
       "      <td>0.0</td>\n",
       "      <td>0.0</td>\n",
       "      <td>0.0</td>\n",
       "      <td>1.0</td>\n",
       "      <td>0.0</td>\n",
       "      <td>0.0</td>\n",
       "      <td>...</td>\n",
       "      <td>0.0</td>\n",
       "      <td>0.0</td>\n",
       "      <td>1.0</td>\n",
       "      <td>0.0</td>\n",
       "      <td>0.0</td>\n",
       "      <td>0.0</td>\n",
       "      <td>0.0</td>\n",
       "      <td>0.0</td>\n",
       "      <td>1.0</td>\n",
       "      <td>1.0</td>\n",
       "    </tr>\n",
       "  </tbody>\n",
       "</table>\n",
       "<p>5 rows × 92 columns</p>\n",
       "</div>"
      ],
      "text/plain": [
       "                         Project ID Project Expiration Date    0    1    2  \\\n",
       "0  00005454366b6b914f9a8290f18f4aed              2018-07-30  0.0  0.0  0.0   \n",
       "1  0001037c9aa509b21c47ef94822ae9c1              2015-05-09  0.0  0.0  0.0   \n",
       "2  000109232e37607c2de30ac1e103fa22              2018-04-06  0.0  0.0  0.0   \n",
       "3  000150db429aff026ecd130b0a076cef              2015-05-08  0.0  0.0  0.0   \n",
       "4  0002ca5256e5ebef5082676c6eeba242              2014-08-06  0.0  0.0  0.0   \n",
       "\n",
       "     3    4    5    6    7  ...   80   81   82   83   84   85   86   87   88  \\\n",
       "0  0.0  0.0  1.0  0.0  0.0  ...  0.0  0.0  1.0  0.0  0.0  1.0  0.0  0.0  0.0   \n",
       "1  0.0  0.0  1.0  0.0  0.0  ...  0.0  0.0  1.0  0.0  0.0  0.0  0.0  0.0  1.0   \n",
       "2  0.0  0.0  1.0  0.0  0.0  ...  0.0  0.0  1.0  0.0  0.0  1.0  0.0  0.0  0.0   \n",
       "3  0.0  0.0  1.0  0.0  0.0  ...  0.0  0.0  1.0  0.0  0.0  0.0  0.0  0.0  1.0   \n",
       "4  0.0  0.0  1.0  0.0  0.0  ...  0.0  0.0  1.0  0.0  0.0  0.0  0.0  0.0  1.0   \n",
       "\n",
       "    89  \n",
       "0  1.0  \n",
       "1  1.0  \n",
       "2  1.0  \n",
       "3  1.0  \n",
       "4  1.0  \n",
       "\n",
       "[5 rows x 92 columns]"
      ]
     },
     "execution_count": 38,
     "metadata": {},
     "output_type": "execute_result"
    }
   ],
   "source": [
    "projOHM = projOHM.drop(dropCol, axis = 1) # dropping the categorical columns because they have already been vectorized\n",
    "\n",
    "print(projOHM.shape)\n",
    "projOHM.head(5)"
   ]
  },
  {
   "cell_type": "code",
   "execution_count": 39,
   "metadata": {
    "ExecuteTime": {
     "end_time": "2020-12-10T12:37:04.874975Z",
     "start_time": "2020-12-10T12:37:04.871836Z"
    }
   },
   "outputs": [],
   "source": [
    "# data dictionary to track the one hot matrix\n",
    "\n",
    "dataDict = list(enc.get_feature_names(dropCol)) # please note that any new input should strictly should the indexes\n",
    "                                            # mentioned in data dictionary\n"
   ]
  },
  {
   "cell_type": "markdown",
   "metadata": {},
   "source": [
    "## Building the recommendation system"
   ]
  },
  {
   "cell_type": "code",
   "execution_count": 40,
   "metadata": {
    "ExecuteTime": {
     "end_time": "2020-12-10T12:37:05.211152Z",
     "start_time": "2020-12-10T12:37:04.877592Z"
    }
   },
   "outputs": [
    {
     "name": "stdout",
     "output_type": "stream",
     "text": [
      "(103017, 92)\n"
     ]
    },
    {
     "data": {
      "text/html": [
       "<div>\n",
       "<style scoped>\n",
       "    .dataframe tbody tr th:only-of-type {\n",
       "        vertical-align: middle;\n",
       "    }\n",
       "\n",
       "    .dataframe tbody tr th {\n",
       "        vertical-align: top;\n",
       "    }\n",
       "\n",
       "    .dataframe thead th {\n",
       "        text-align: right;\n",
       "    }\n",
       "</style>\n",
       "<table border=\"1\" class=\"dataframe\">\n",
       "  <thead>\n",
       "    <tr style=\"text-align: right;\">\n",
       "      <th></th>\n",
       "      <th>Project ID</th>\n",
       "      <th>Project Expiration Date</th>\n",
       "      <th>0</th>\n",
       "      <th>1</th>\n",
       "      <th>2</th>\n",
       "      <th>3</th>\n",
       "      <th>4</th>\n",
       "      <th>5</th>\n",
       "      <th>6</th>\n",
       "      <th>7</th>\n",
       "      <th>...</th>\n",
       "      <th>80</th>\n",
       "      <th>81</th>\n",
       "      <th>82</th>\n",
       "      <th>83</th>\n",
       "      <th>84</th>\n",
       "      <th>85</th>\n",
       "      <th>86</th>\n",
       "      <th>87</th>\n",
       "      <th>88</th>\n",
       "      <th>89</th>\n",
       "    </tr>\n",
       "  </thead>\n",
       "  <tbody>\n",
       "    <tr>\n",
       "      <th>0</th>\n",
       "      <td>00005454366b6b914f9a8290f18f4aed</td>\n",
       "      <td>2018-07-30</td>\n",
       "      <td>-0.725179</td>\n",
       "      <td>-0.338581</td>\n",
       "      <td>-0.219446</td>\n",
       "      <td>-0.156246</td>\n",
       "      <td>-0.186257</td>\n",
       "      <td>1.107313</td>\n",
       "      <td>-0.109384</td>\n",
       "      <td>-0.092875</td>\n",
       "      <td>...</td>\n",
       "      <td>-0.057629</td>\n",
       "      <td>-0.410274</td>\n",
       "      <td>0.425467</td>\n",
       "      <td>-0.096373</td>\n",
       "      <td>-0.142916</td>\n",
       "      <td>1.321260</td>\n",
       "      <td>-0.159827</td>\n",
       "      <td>-0.204339</td>\n",
       "      <td>-1.107313</td>\n",
       "      <td>0.0</td>\n",
       "    </tr>\n",
       "    <tr>\n",
       "      <th>1</th>\n",
       "      <td>0001037c9aa509b21c47ef94822ae9c1</td>\n",
       "      <td>2015-05-09</td>\n",
       "      <td>-0.725179</td>\n",
       "      <td>-0.338581</td>\n",
       "      <td>-0.219446</td>\n",
       "      <td>-0.156246</td>\n",
       "      <td>-0.186257</td>\n",
       "      <td>1.107313</td>\n",
       "      <td>-0.109384</td>\n",
       "      <td>-0.092875</td>\n",
       "      <td>...</td>\n",
       "      <td>-0.057629</td>\n",
       "      <td>-0.410274</td>\n",
       "      <td>0.425467</td>\n",
       "      <td>-0.096373</td>\n",
       "      <td>-0.142916</td>\n",
       "      <td>-0.756853</td>\n",
       "      <td>-0.159827</td>\n",
       "      <td>-0.204339</td>\n",
       "      <td>0.903087</td>\n",
       "      <td>0.0</td>\n",
       "    </tr>\n",
       "    <tr>\n",
       "      <th>2</th>\n",
       "      <td>000109232e37607c2de30ac1e103fa22</td>\n",
       "      <td>2018-04-06</td>\n",
       "      <td>-0.725179</td>\n",
       "      <td>-0.338581</td>\n",
       "      <td>-0.219446</td>\n",
       "      <td>-0.156246</td>\n",
       "      <td>-0.186257</td>\n",
       "      <td>1.107313</td>\n",
       "      <td>-0.109384</td>\n",
       "      <td>-0.092875</td>\n",
       "      <td>...</td>\n",
       "      <td>-0.057629</td>\n",
       "      <td>-0.410274</td>\n",
       "      <td>0.425467</td>\n",
       "      <td>-0.096373</td>\n",
       "      <td>-0.142916</td>\n",
       "      <td>1.321260</td>\n",
       "      <td>-0.159827</td>\n",
       "      <td>-0.204339</td>\n",
       "      <td>-1.107313</td>\n",
       "      <td>0.0</td>\n",
       "    </tr>\n",
       "    <tr>\n",
       "      <th>3</th>\n",
       "      <td>000150db429aff026ecd130b0a076cef</td>\n",
       "      <td>2015-05-08</td>\n",
       "      <td>-0.725179</td>\n",
       "      <td>-0.338581</td>\n",
       "      <td>-0.219446</td>\n",
       "      <td>-0.156246</td>\n",
       "      <td>-0.186257</td>\n",
       "      <td>1.107313</td>\n",
       "      <td>-0.109384</td>\n",
       "      <td>-0.092875</td>\n",
       "      <td>...</td>\n",
       "      <td>-0.057629</td>\n",
       "      <td>-0.410274</td>\n",
       "      <td>0.425467</td>\n",
       "      <td>-0.096373</td>\n",
       "      <td>-0.142916</td>\n",
       "      <td>-0.756853</td>\n",
       "      <td>-0.159827</td>\n",
       "      <td>-0.204339</td>\n",
       "      <td>0.903087</td>\n",
       "      <td>0.0</td>\n",
       "    </tr>\n",
       "    <tr>\n",
       "      <th>4</th>\n",
       "      <td>0002ca5256e5ebef5082676c6eeba242</td>\n",
       "      <td>2014-08-06</td>\n",
       "      <td>-0.725179</td>\n",
       "      <td>-0.338581</td>\n",
       "      <td>-0.219446</td>\n",
       "      <td>-0.156246</td>\n",
       "      <td>-0.186257</td>\n",
       "      <td>1.107313</td>\n",
       "      <td>-0.109384</td>\n",
       "      <td>-0.092875</td>\n",
       "      <td>...</td>\n",
       "      <td>-0.057629</td>\n",
       "      <td>-0.410274</td>\n",
       "      <td>0.425467</td>\n",
       "      <td>-0.096373</td>\n",
       "      <td>-0.142916</td>\n",
       "      <td>-0.756853</td>\n",
       "      <td>-0.159827</td>\n",
       "      <td>-0.204339</td>\n",
       "      <td>0.903087</td>\n",
       "      <td>0.0</td>\n",
       "    </tr>\n",
       "  </tbody>\n",
       "</table>\n",
       "<p>5 rows × 92 columns</p>\n",
       "</div>"
      ],
      "text/plain": [
       "                         Project ID Project Expiration Date         0  \\\n",
       "0  00005454366b6b914f9a8290f18f4aed              2018-07-30 -0.725179   \n",
       "1  0001037c9aa509b21c47ef94822ae9c1              2015-05-09 -0.725179   \n",
       "2  000109232e37607c2de30ac1e103fa22              2018-04-06 -0.725179   \n",
       "3  000150db429aff026ecd130b0a076cef              2015-05-08 -0.725179   \n",
       "4  0002ca5256e5ebef5082676c6eeba242              2014-08-06 -0.725179   \n",
       "\n",
       "          1         2         3         4         5         6         7  ...  \\\n",
       "0 -0.338581 -0.219446 -0.156246 -0.186257  1.107313 -0.109384 -0.092875  ...   \n",
       "1 -0.338581 -0.219446 -0.156246 -0.186257  1.107313 -0.109384 -0.092875  ...   \n",
       "2 -0.338581 -0.219446 -0.156246 -0.186257  1.107313 -0.109384 -0.092875  ...   \n",
       "3 -0.338581 -0.219446 -0.156246 -0.186257  1.107313 -0.109384 -0.092875  ...   \n",
       "4 -0.338581 -0.219446 -0.156246 -0.186257  1.107313 -0.109384 -0.092875  ...   \n",
       "\n",
       "         80        81        82        83        84        85        86  \\\n",
       "0 -0.057629 -0.410274  0.425467 -0.096373 -0.142916  1.321260 -0.159827   \n",
       "1 -0.057629 -0.410274  0.425467 -0.096373 -0.142916 -0.756853 -0.159827   \n",
       "2 -0.057629 -0.410274  0.425467 -0.096373 -0.142916  1.321260 -0.159827   \n",
       "3 -0.057629 -0.410274  0.425467 -0.096373 -0.142916 -0.756853 -0.159827   \n",
       "4 -0.057629 -0.410274  0.425467 -0.096373 -0.142916 -0.756853 -0.159827   \n",
       "\n",
       "         87        88   89  \n",
       "0 -0.204339 -1.107313  0.0  \n",
       "1 -0.204339  0.903087  0.0  \n",
       "2 -0.204339 -1.107313  0.0  \n",
       "3 -0.204339  0.903087  0.0  \n",
       "4 -0.204339  0.903087  0.0  \n",
       "\n",
       "[5 rows x 92 columns]"
      ]
     },
     "execution_count": 40,
     "metadata": {},
     "output_type": "execute_result"
    }
   ],
   "source": [
    "# scale and normalize the dataset\n",
    "\n",
    "ohmDF = pd.DataFrame(StandardScaler().fit_transform(projOHM.iloc[:,2:]))\n",
    "\n",
    "ohmDFwProj = pd.concat([projOHM[['Project ID', 'Project Expiration Date']], ohmDF], axis = 1)\n",
    "\n",
    "ohmDFwProj['Project Expiration Date'] =  pd.to_datetime(ohmDFwProj['Project Expiration Date'])\n",
    "                                    \n",
    "print(ohmDFwProj.shape)\n",
    "ohmDFwProj.head(5) # column here is a OH feature"
   ]
  },
  {
   "cell_type": "markdown",
   "metadata": {},
   "source": [
    "## Testing the recommendation system with a sample row"
   ]
  },
  {
   "cell_type": "code",
   "execution_count": 41,
   "metadata": {
    "ExecuteTime": {
     "end_time": "2020-12-10T12:37:33.124881Z",
     "start_time": "2020-12-10T12:37:33.083563Z"
    }
   },
   "outputs": [
    {
     "data": {
      "text/plain": [
       "array(['208892af2c863b8328566b26eb818102',\n",
       "       '33443c7b655ccb3c625382b4b865c4c5',\n",
       "       'f5a4191e19854948e57f7668037d6701'], dtype=object)"
      ]
     },
     "execution_count": 41,
     "metadata": {},
     "output_type": "execute_result"
    }
   ],
   "source": [
    "# this functions returns all the project that the donor has donated to\n",
    "# input is a donor ID (a string)\n",
    "# output is an array of all the donated projects\n",
    "\n",
    "def donatedProjects(main_dataframe, donorID):\n",
    "    df = main_dataframe[main_dataframe['Donor ID'] == donorID]\n",
    "    df = df.sort_values(['Donation Received Date']) # sort the donated projects by date (in ascending order)\n",
    "    df = df.drop_duplicates(subset = ['Project ID']) # remove repetitive donations on the same project\n",
    "    donatedProjsList = np.array(df['Project ID']) # we only need the donated projects\n",
    "    \n",
    "    return donatedProjsList\n",
    "\n",
    "# test the function here\n",
    "donatedProjects(donationsTrainFinal, 'd0dc7dcaae4b97cd465ec7b53c86cd6a')"
   ]
  },
  {
   "cell_type": "code",
   "execution_count": 43,
   "metadata": {
    "ExecuteTime": {
     "end_time": "2020-12-10T12:37:43.392567Z",
     "start_time": "2020-12-10T12:37:43.387729Z"
    }
   },
   "outputs": [
    {
     "data": {
      "text/plain": [
       "(379181, 36)"
      ]
     },
     "execution_count": 43,
     "metadata": {},
     "output_type": "execute_result"
    }
   ],
   "source": [
    "donationsTrainFinal.shape\n",
    "# donationsValidFinal.shape"
   ]
  },
  {
   "cell_type": "code",
   "execution_count": 119,
   "metadata": {
    "ExecuteTime": {
     "end_time": "2020-12-10T13:46:54.249441Z",
     "start_time": "2020-12-10T13:46:54.231585Z"
    }
   },
   "outputs": [],
   "source": [
    "# this function returns the one-hot encoded project features for a given project ID\n",
    "# input is a project ID\n",
    "# output is an array of the project features\n",
    "\n",
    "def projectFeatures(projDF, projectID):\n",
    "    feat = np.array(projDF[projDF['Project ID'] == projectID]) #projDF is the database of the project featuers\n",
    "    \n",
    "    return feat\n",
    "\n",
    "t = projectFeatures(ohmDFwProj, '208892af2c863b8328566b26eb818102')"
   ]
  },
  {
   "cell_type": "code",
   "execution_count": 86,
   "metadata": {
    "ExecuteTime": {
     "end_time": "2020-12-10T12:50:21.089766Z",
     "start_time": "2020-12-10T12:50:21.083929Z"
    }
   },
   "outputs": [],
   "source": [
    "def cosineSimilarity(projDF, obv, numRec = 20): #only works for one observation (project) at a time\n",
    "\n",
    "    project = obv[0][2:] # project features\n",
    "    project = project.reshape(1,len(project)) # convert 1D to 2D array\n",
    "    \n",
    "    projectID = obv[0][0]\n",
    "    projectDate = obv[0][1]\n",
    "    \n",
    "    # getting the cosine similarity between our feature matrix and test sample\n",
    "    cosSim = cosine_similarity(projDF.iloc[:,2:], project) # ohmDFwProj is the training database here\n",
    "    recProjects = pd.concat([projDF.iloc[:,:2], pd.DataFrame(cosSim)], axis = 1)\n",
    "\n",
    "    recProjects = recProjects[recProjects['Project Expiration Date'] > projectDate]\n",
    "    \n",
    "    recProjects = recProjects.sort_values(by = 0, ascending = False) # sorting the similarity in descending order\n",
    "    top10Rec = list(recProjects.head(numRec + 1).iloc[1:,0]) # the first column is the project ID\n",
    "    \n",
    "    return top10Rec\n",
    "    "
   ]
  },
  {
   "cell_type": "code",
   "execution_count": 122,
   "metadata": {
    "ExecuteTime": {
     "end_time": "2020-12-10T13:49:40.288330Z",
     "start_time": "2020-12-10T13:49:40.286331Z"
    }
   },
   "outputs": [],
   "source": [
    "# donationsTrainFinal.head()"
   ]
  },
  {
   "cell_type": "code",
   "execution_count": 126,
   "metadata": {
    "ExecuteTime": {
     "end_time": "2020-12-10T13:55:25.953104Z",
     "start_time": "2020-12-10T13:55:25.947886Z"
    }
   },
   "outputs": [],
   "source": [
    "def randomRecommendation(dataframe, first_proj, numRec = 25):\n",
    "    feature = 'Project ID'\n",
    "    projects = removeDuplicates(dataframe, feature)\n",
    "    projects = list(projects['Project ID'])\n",
    "    \n",
    "    random = True\n",
    "    while random:\n",
    "        recProjs = rd.sample(projects, numRec)\n",
    "        if first_proj not in recProjs:\n",
    "            random = False\n",
    "    \n",
    "    return recProjs"
   ]
  },
  {
   "cell_type": "code",
   "execution_count": 132,
   "metadata": {
    "ExecuteTime": {
     "end_time": "2020-12-10T13:58:04.464593Z",
     "start_time": "2020-12-10T13:58:04.458488Z"
    }
   },
   "outputs": [],
   "source": [
    "def recallRandomRec(main_dataframe, donorID, numRec):\n",
    "    donated_proj = donatedProjects(main_dataframe, donorID) # all the projects the donor has donated to\n",
    "                                                            # main dataframe here is either the final training or validation dataframe \n",
    "    \n",
    "    first_donation = donated_proj[0] # first donation of the donor\n",
    "    \n",
    "    recProjs = randomRecommendation(main_dataframe, first_donation)\n",
    "    \n",
    "    hits = 0\n",
    "\n",
    "    for i in donated_proj[1:]:\n",
    "        if i in recProjs:\n",
    "            hits += 1\n",
    "\n",
    "    return hits"
   ]
  },
  {
   "cell_type": "code",
   "execution_count": 141,
   "metadata": {
    "ExecuteTime": {
     "end_time": "2020-12-10T14:07:11.555264Z",
     "start_time": "2020-12-10T14:07:09.114049Z"
    }
   },
   "outputs": [
    {
     "name": "stdout",
     "output_type": "stream",
     "text": [
      "0.0\n"
     ]
    }
   ],
   "source": [
    "num_recs = 100\n",
    "training_datapoints = 1000\n",
    "\n",
    "hits_randomrec = 0 \n",
    "\n",
    "for i in rd.sample(donorsTrainList,training_datapoints):\n",
    "    hits_randomrec += recallRandomRec(donationsTrainFinal, i, num_recs)\n",
    "    \n",
    "recall_randomrec = hits_randomrec / (num_recs * training_datapoints)\n",
    "\n",
    "print(recall_randomrec)"
   ]
  },
  {
   "cell_type": "code",
   "execution_count": 142,
   "metadata": {
    "ExecuteTime": {
     "end_time": "2020-12-10T14:07:12.917519Z",
     "start_time": "2020-12-10T14:07:12.913517Z"
    }
   },
   "outputs": [
    {
     "data": {
      "text/plain": [
       "0.0"
      ]
     },
     "execution_count": 142,
     "metadata": {},
     "output_type": "execute_result"
    }
   ],
   "source": [
    "recall_randomrec"
   ]
  },
  {
   "cell_type": "code",
   "execution_count": 143,
   "metadata": {
    "ExecuteTime": {
     "end_time": "2020-12-10T14:07:22.780782Z",
     "start_time": "2020-12-10T14:07:22.776364Z"
    }
   },
   "outputs": [],
   "source": [
    "# test_donor = 'e48904f94293f9894afdd59412a12691' # donorsDF['Donor ID'][7]\n",
    "\n",
    "\n",
    "def getTopRecall(main_dataframe, projectsDF, donorID, numRec):\n",
    "    donated_proj = donatedProjects(main_dataframe, donorID) # all the projects the donor has donated to\n",
    "                                                            # main dataframe here is either the final training or validation dataframe \n",
    "    \n",
    "    first_donation = donated_proj[0] # first donation of the donor\n",
    "    \n",
    "    \n",
    "    proj_features = projectFeatures(projectsDF, first_donation)\n",
    "    hits = 0\n",
    "\n",
    "    rec_projs = cosineSimilarity(projectsDF, proj_features, numRec) # recommendations based on the first donation\n",
    "\n",
    "    for i in donated_proj[1:]:\n",
    "        if i in rec_projs:\n",
    "            hits += 1\n",
    "\n",
    "    return hits\n",
    "\n"
   ]
  },
  {
   "cell_type": "code",
   "execution_count": 152,
   "metadata": {
    "ExecuteTime": {
     "end_time": "2020-12-10T14:21:19.655756Z",
     "start_time": "2020-12-10T14:18:02.362932Z"
    }
   },
   "outputs": [
    {
     "name": "stdout",
     "output_type": "stream",
     "text": [
      "0.00073\n"
     ]
    }
   ],
   "source": [
    "total_hits = 0\n",
    "\n",
    "num_recs = 100\n",
    "training_datapoints = 1000\n",
    "\n",
    "for i in rd.sample(donorsTrainList,1000):\n",
    "    total_hits += getTopRecall(donationsTrainFinal, ohmDFwProj, i, num_recs)\n",
    "    \n",
    "recall = total_hits / (training_datapoints * num_recs)\n",
    "print(recall)"
   ]
  },
  {
   "cell_type": "code",
   "execution_count": 157,
   "metadata": {
    "ExecuteTime": {
     "end_time": "2020-12-10T14:26:00.593017Z",
     "start_time": "2020-12-10T14:26:00.581872Z"
    }
   },
   "outputs": [
    {
     "data": {
      "text/plain": [
       "Index(['Donor ID', 'Donor City', 'Donor State', 'Donor Is Teacher',\n",
       "       'Donor Zip', 'Project ID', 'Donation ID',\n",
       "       'Donation Included Optional Donation', 'Donation Amount',\n",
       "       'Donor Cart Sequence', 'Donation Received Date', 'School ID',\n",
       "       'Teacher ID', 'Teacher Project Posted Sequence', 'Project Type',\n",
       "       'Project Title', 'Project Essay', 'Project Short Description',\n",
       "       'Project Need Statement', 'Project Subject Category Tree',\n",
       "       'Project Subject Subcategory Tree', 'Project Grade Level Category',\n",
       "       'Project Resource Category', 'Project Cost', 'Project Posted Date',\n",
       "       'Project Expiration Date', 'Project Current Status',\n",
       "       'Project Fully Funded Date', 'School Name', 'School Metro Type',\n",
       "       'School Percentage Free Lunch', 'School State', 'School Zip',\n",
       "       'School City', 'School County', 'School District'],\n",
       "      dtype='object')"
      ]
     },
     "execution_count": 157,
     "metadata": {},
     "output_type": "execute_result"
    }
   ],
   "source": [
    "da = np.array(df_final['Donation Amount'])\n",
    "\n",
    "df_final.columns"
   ]
  },
  {
   "cell_type": "code",
   "execution_count": 169,
   "metadata": {
    "ExecuteTime": {
     "end_time": "2020-12-10T14:29:13.187018Z",
     "start_time": "2020-12-10T14:29:12.718293Z"
    }
   },
   "outputs": [],
   "source": [
    "pc = removeDuplicates(df_final, 'Project Cost')\n",
    "\n",
    "pc = pc[pc['Project Cost'] <= 3000]"
   ]
  },
  {
   "cell_type": "code",
   "execution_count": 170,
   "metadata": {
    "ExecuteTime": {
     "end_time": "2020-12-10T14:29:14.285572Z",
     "start_time": "2020-12-10T14:29:14.242659Z"
    }
   },
   "outputs": [
    {
     "data": {
      "text/plain": [
       "1076.8204403024158"
      ]
     },
     "execution_count": 170,
     "metadata": {},
     "output_type": "execute_result"
    }
   ],
   "source": [
    "pc = pc['Project Cost']\n",
    "\n",
    "np.mean(pc)"
   ]
  },
  {
   "cell_type": "code",
   "execution_count": 137,
   "metadata": {
    "ExecuteTime": {
     "end_time": "2020-12-03T13:43:17.112510Z",
     "start_time": "2020-12-03T13:43:17.102857Z"
    }
   },
   "outputs": [
    {
     "data": {
      "text/html": [
       "<div>\n",
       "<style scoped>\n",
       "    .dataframe tbody tr th:only-of-type {\n",
       "        vertical-align: middle;\n",
       "    }\n",
       "\n",
       "    .dataframe tbody tr th {\n",
       "        vertical-align: top;\n",
       "    }\n",
       "\n",
       "    .dataframe thead th {\n",
       "        text-align: right;\n",
       "    }\n",
       "</style>\n",
       "<table border=\"1\" class=\"dataframe\">\n",
       "  <thead>\n",
       "    <tr style=\"text-align: right;\">\n",
       "      <th></th>\n",
       "      <th>Donor ID</th>\n",
       "      <th>Project ID</th>\n",
       "    </tr>\n",
       "  </thead>\n",
       "  <tbody>\n",
       "    <tr>\n",
       "      <th>0</th>\n",
       "      <td>cca23670ed0d03bddfcd9c16fa9dacb7</td>\n",
       "      <td>05d7c3d0703441e6b16ba5dfdd878c47</td>\n",
       "    </tr>\n",
       "    <tr>\n",
       "      <th>1</th>\n",
       "      <td>8d345d4ded01a6c7f3b79e9686dfe741</td>\n",
       "      <td>4f921539c0a89df04b8a946fc31fb9b2</td>\n",
       "    </tr>\n",
       "    <tr>\n",
       "      <th>2</th>\n",
       "      <td>45c45882b12febaf50ea7d25c464c33c</td>\n",
       "      <td>4f921539c0a89df04b8a946fc31fb9b2</td>\n",
       "    </tr>\n",
       "    <tr>\n",
       "      <th>3</th>\n",
       "      <td>2ec1193b14119b158c1d3bfd67b2940b</td>\n",
       "      <td>4f921539c0a89df04b8a946fc31fb9b2</td>\n",
       "    </tr>\n",
       "    <tr>\n",
       "      <th>4</th>\n",
       "      <td>cc9cf018f0b68657c0ab7891df16c0fe</td>\n",
       "      <td>7045b057d157ea53de41f5207ded655d</td>\n",
       "    </tr>\n",
       "  </tbody>\n",
       "</table>\n",
       "</div>"
      ],
      "text/plain": [
       "                           Donor ID                        Project ID\n",
       "0  cca23670ed0d03bddfcd9c16fa9dacb7  05d7c3d0703441e6b16ba5dfdd878c47\n",
       "1  8d345d4ded01a6c7f3b79e9686dfe741  4f921539c0a89df04b8a946fc31fb9b2\n",
       "2  45c45882b12febaf50ea7d25c464c33c  4f921539c0a89df04b8a946fc31fb9b2\n",
       "3  2ec1193b14119b158c1d3bfd67b2940b  4f921539c0a89df04b8a946fc31fb9b2\n",
       "4  cc9cf018f0b68657c0ab7891df16c0fe  7045b057d157ea53de41f5207ded655d"
      ]
     },
     "execution_count": 137,
     "metadata": {},
     "output_type": "execute_result"
    }
   ],
   "source": [
    "firstProjDonated = donatedProjsDF.iloc[:,:2]\n",
    "firstProjDonated = firstProjDonated.rename(columns = {0 : \"Project ID\"})          \n",
    "firstProjDonated.head(5)\n"
   ]
  },
  {
   "cell_type": "code",
   "execution_count": 138,
   "metadata": {
    "ExecuteTime": {
     "end_time": "2020-12-03T13:43:17.835710Z",
     "start_time": "2020-12-03T13:43:17.576389Z"
    }
   },
   "outputs": [
    {
     "data": {
      "text/html": [
       "<div>\n",
       "<style scoped>\n",
       "    .dataframe tbody tr th:only-of-type {\n",
       "        vertical-align: middle;\n",
       "    }\n",
       "\n",
       "    .dataframe tbody tr th {\n",
       "        vertical-align: top;\n",
       "    }\n",
       "\n",
       "    .dataframe thead th {\n",
       "        text-align: right;\n",
       "    }\n",
       "</style>\n",
       "<table border=\"1\" class=\"dataframe\">\n",
       "  <thead>\n",
       "    <tr style=\"text-align: right;\">\n",
       "      <th></th>\n",
       "      <th>Donor ID</th>\n",
       "      <th>First Donated Project ID</th>\n",
       "      <th>Project Expiration Date</th>\n",
       "      <th>0</th>\n",
       "      <th>1</th>\n",
       "      <th>2</th>\n",
       "      <th>3</th>\n",
       "      <th>4</th>\n",
       "      <th>5</th>\n",
       "      <th>6</th>\n",
       "      <th>...</th>\n",
       "      <th>80</th>\n",
       "      <th>81</th>\n",
       "      <th>82</th>\n",
       "      <th>83</th>\n",
       "      <th>84</th>\n",
       "      <th>85</th>\n",
       "      <th>86</th>\n",
       "      <th>87</th>\n",
       "      <th>88</th>\n",
       "      <th>89</th>\n",
       "    </tr>\n",
       "  </thead>\n",
       "  <tbody>\n",
       "    <tr>\n",
       "      <th>0</th>\n",
       "      <td>cca23670ed0d03bddfcd9c16fa9dacb7</td>\n",
       "      <td>05d7c3d0703441e6b16ba5dfdd878c47</td>\n",
       "      <td>2013-06-26</td>\n",
       "      <td>-0.725179</td>\n",
       "      <td>2.953502</td>\n",
       "      <td>-0.219446</td>\n",
       "      <td>-0.156246</td>\n",
       "      <td>-0.186257</td>\n",
       "      <td>-0.903087</td>\n",
       "      <td>-0.109384</td>\n",
       "      <td>...</td>\n",
       "      <td>-0.057629</td>\n",
       "      <td>-0.410274</td>\n",
       "      <td>0.425467</td>\n",
       "      <td>-0.096373</td>\n",
       "      <td>-0.142916</td>\n",
       "      <td>1.321260</td>\n",
       "      <td>-0.159827</td>\n",
       "      <td>-0.204339</td>\n",
       "      <td>-1.107313</td>\n",
       "      <td>0.0</td>\n",
       "    </tr>\n",
       "    <tr>\n",
       "      <th>1</th>\n",
       "      <td>8d345d4ded01a6c7f3b79e9686dfe741</td>\n",
       "      <td>4f921539c0a89df04b8a946fc31fb9b2</td>\n",
       "      <td>2013-12-28</td>\n",
       "      <td>-0.725179</td>\n",
       "      <td>-0.338581</td>\n",
       "      <td>-0.219446</td>\n",
       "      <td>-0.156246</td>\n",
       "      <td>5.368931</td>\n",
       "      <td>-0.903087</td>\n",
       "      <td>-0.109384</td>\n",
       "      <td>...</td>\n",
       "      <td>-0.057629</td>\n",
       "      <td>-0.410274</td>\n",
       "      <td>0.425467</td>\n",
       "      <td>-0.096373</td>\n",
       "      <td>-0.142916</td>\n",
       "      <td>-0.756853</td>\n",
       "      <td>-0.159827</td>\n",
       "      <td>-0.204339</td>\n",
       "      <td>0.903087</td>\n",
       "      <td>0.0</td>\n",
       "    </tr>\n",
       "    <tr>\n",
       "      <th>2</th>\n",
       "      <td>45c45882b12febaf50ea7d25c464c33c</td>\n",
       "      <td>4f921539c0a89df04b8a946fc31fb9b2</td>\n",
       "      <td>2013-12-28</td>\n",
       "      <td>-0.725179</td>\n",
       "      <td>-0.338581</td>\n",
       "      <td>-0.219446</td>\n",
       "      <td>-0.156246</td>\n",
       "      <td>5.368931</td>\n",
       "      <td>-0.903087</td>\n",
       "      <td>-0.109384</td>\n",
       "      <td>...</td>\n",
       "      <td>-0.057629</td>\n",
       "      <td>-0.410274</td>\n",
       "      <td>0.425467</td>\n",
       "      <td>-0.096373</td>\n",
       "      <td>-0.142916</td>\n",
       "      <td>-0.756853</td>\n",
       "      <td>-0.159827</td>\n",
       "      <td>-0.204339</td>\n",
       "      <td>0.903087</td>\n",
       "      <td>0.0</td>\n",
       "    </tr>\n",
       "    <tr>\n",
       "      <th>3</th>\n",
       "      <td>2ec1193b14119b158c1d3bfd67b2940b</td>\n",
       "      <td>4f921539c0a89df04b8a946fc31fb9b2</td>\n",
       "      <td>2013-12-28</td>\n",
       "      <td>-0.725179</td>\n",
       "      <td>-0.338581</td>\n",
       "      <td>-0.219446</td>\n",
       "      <td>-0.156246</td>\n",
       "      <td>5.368931</td>\n",
       "      <td>-0.903087</td>\n",
       "      <td>-0.109384</td>\n",
       "      <td>...</td>\n",
       "      <td>-0.057629</td>\n",
       "      <td>-0.410274</td>\n",
       "      <td>0.425467</td>\n",
       "      <td>-0.096373</td>\n",
       "      <td>-0.142916</td>\n",
       "      <td>-0.756853</td>\n",
       "      <td>-0.159827</td>\n",
       "      <td>-0.204339</td>\n",
       "      <td>0.903087</td>\n",
       "      <td>0.0</td>\n",
       "    </tr>\n",
       "    <tr>\n",
       "      <th>4</th>\n",
       "      <td>cc9cf018f0b68657c0ab7891df16c0fe</td>\n",
       "      <td>7045b057d157ea53de41f5207ded655d</td>\n",
       "      <td>2013-05-30</td>\n",
       "      <td>-0.725179</td>\n",
       "      <td>-0.338581</td>\n",
       "      <td>-0.219446</td>\n",
       "      <td>-0.156246</td>\n",
       "      <td>-0.186257</td>\n",
       "      <td>1.107313</td>\n",
       "      <td>-0.109384</td>\n",
       "      <td>...</td>\n",
       "      <td>-0.057629</td>\n",
       "      <td>-0.410274</td>\n",
       "      <td>0.425467</td>\n",
       "      <td>-0.096373</td>\n",
       "      <td>-0.142916</td>\n",
       "      <td>-0.756853</td>\n",
       "      <td>-0.159827</td>\n",
       "      <td>-0.204339</td>\n",
       "      <td>0.903087</td>\n",
       "      <td>0.0</td>\n",
       "    </tr>\n",
       "  </tbody>\n",
       "</table>\n",
       "<p>5 rows × 93 columns</p>\n",
       "</div>"
      ],
      "text/plain": [
       "                           Donor ID          First Donated Project ID  \\\n",
       "0  cca23670ed0d03bddfcd9c16fa9dacb7  05d7c3d0703441e6b16ba5dfdd878c47   \n",
       "1  8d345d4ded01a6c7f3b79e9686dfe741  4f921539c0a89df04b8a946fc31fb9b2   \n",
       "2  45c45882b12febaf50ea7d25c464c33c  4f921539c0a89df04b8a946fc31fb9b2   \n",
       "3  2ec1193b14119b158c1d3bfd67b2940b  4f921539c0a89df04b8a946fc31fb9b2   \n",
       "4  cc9cf018f0b68657c0ab7891df16c0fe  7045b057d157ea53de41f5207ded655d   \n",
       "\n",
       "  Project Expiration Date         0         1         2         3         4  \\\n",
       "0              2013-06-26 -0.725179  2.953502 -0.219446 -0.156246 -0.186257   \n",
       "1              2013-12-28 -0.725179 -0.338581 -0.219446 -0.156246  5.368931   \n",
       "2              2013-12-28 -0.725179 -0.338581 -0.219446 -0.156246  5.368931   \n",
       "3              2013-12-28 -0.725179 -0.338581 -0.219446 -0.156246  5.368931   \n",
       "4              2013-05-30 -0.725179 -0.338581 -0.219446 -0.156246 -0.186257   \n",
       "\n",
       "          5         6  ...        80        81        82        83        84  \\\n",
       "0 -0.903087 -0.109384  ... -0.057629 -0.410274  0.425467 -0.096373 -0.142916   \n",
       "1 -0.903087 -0.109384  ... -0.057629 -0.410274  0.425467 -0.096373 -0.142916   \n",
       "2 -0.903087 -0.109384  ... -0.057629 -0.410274  0.425467 -0.096373 -0.142916   \n",
       "3 -0.903087 -0.109384  ... -0.057629 -0.410274  0.425467 -0.096373 -0.142916   \n",
       "4  1.107313 -0.109384  ... -0.057629 -0.410274  0.425467 -0.096373 -0.142916   \n",
       "\n",
       "         85        86        87        88   89  \n",
       "0  1.321260 -0.159827 -0.204339 -1.107313  0.0  \n",
       "1 -0.756853 -0.159827 -0.204339  0.903087  0.0  \n",
       "2 -0.756853 -0.159827 -0.204339  0.903087  0.0  \n",
       "3 -0.756853 -0.159827 -0.204339  0.903087  0.0  \n",
       "4 -0.756853 -0.159827 -0.204339  0.903087  0.0  \n",
       "\n",
       "[5 rows x 93 columns]"
      ]
     },
     "execution_count": 138,
     "metadata": {},
     "output_type": "execute_result"
    }
   ],
   "source": [
    "firstProjOHM = pd.merge(firstProjDonated, ohmDFwProj, on = 'Project ID', how = 'inner')\n",
    "firstProjOHM = firstProjOHM.rename(columns = {\"Project ID\" : \"First Donated Project ID\"})\n",
    "\n",
    "firstProjOHM.head(5)"
   ]
  },
  {
   "cell_type": "code",
   "execution_count": 187,
   "metadata": {
    "ExecuteTime": {
     "end_time": "2020-12-03T14:02:10.990931Z",
     "start_time": "2020-12-03T14:02:10.833042Z"
    }
   },
   "outputs": [
    {
     "name": "stdout",
     "output_type": "stream",
     "text": [
      "Our model got 0 hits of 10 projects we had recommended.\n"
     ]
    }
   ],
   "source": [
    "rec = cosineSimilarity(firstProjOHM.iloc[:1,1:])\n",
    "\n",
    "testDonor = donatedProjsDF['Donor ID' == 'cca23670ed0d03bddfcd9c16fa9dacb7']\n",
    "\n",
    "recProjs = rec.values()\n",
    "\n",
    "count = 0\n",
    "\n",
    "for i in rec.values():\n",
    "    recProjs = i\n",
    "    for j in recProjs:\n",
    "        if j in testDonor:\n",
    "            count += 1\n",
    "            \n",
    "print(\"Our model got %d hits of 10 projects we had recommended.\" % (count))"
   ]
  },
  {
   "cell_type": "code",
   "execution_count": null,
   "metadata": {},
   "outputs": [],
   "source": []
  },
  {
   "cell_type": "code",
   "execution_count": 83,
   "metadata": {
    "ExecuteTime": {
     "end_time": "2020-11-12T05:11:28.506309Z",
     "start_time": "2020-11-12T05:11:28.500144Z"
    }
   },
   "outputs": [
    {
     "name": "stdout",
     "output_type": "stream",
     "text": [
      "Our model got 1 hits out of 6 projects that the donor has donated.\n"
     ]
    }
   ],
   "source": [
    "hits = 0\n",
    "donationCount = []\n",
    "\n",
    "for i in donor_donated_projs:\n",
    "    if i not in donationCount: # eliminates repetitive donations to the same recommended project\n",
    "        donationCount.append(i)\n",
    "        if i in top10Rec:\n",
    "            hits += 1\n",
    "        \n",
    "        \n",
    "print(\"Our model got %d hits out of %d projects that the donor has donated.\" % (hits, len(donor_donated_projs)))"
   ]
  },
  {
   "cell_type": "code",
   "execution_count": null,
   "metadata": {},
   "outputs": [],
   "source": []
  }
 ],
 "metadata": {
  "hide_input": false,
  "kernelspec": {
   "display_name": "Python 3",
   "language": "python",
   "name": "python3"
  },
  "language_info": {
   "codemirror_mode": {
    "name": "ipython",
    "version": 3
   },
   "file_extension": ".py",
   "mimetype": "text/x-python",
   "name": "python",
   "nbconvert_exporter": "python",
   "pygments_lexer": "ipython3",
   "version": "3.7.6"
  },
  "latex_envs": {
   "LaTeX_envs_menu_present": true,
   "autoclose": false,
   "autocomplete": true,
   "bibliofile": "biblio.bib",
   "cite_by": "apalike",
   "current_citInitial": 1,
   "eqLabelWithNumbers": true,
   "eqNumInitial": 1,
   "hotkeys": {
    "equation": "Ctrl-E",
    "itemize": "Ctrl-I"
   },
   "labels_anchors": false,
   "latex_user_defs": false,
   "report_style_numbering": false,
   "user_envs_cfg": false
  },
  "toc": {
   "base_numbering": 1,
   "nav_menu": {},
   "number_sections": true,
   "sideBar": true,
   "skip_h1_title": false,
   "title_cell": "Table of Contents",
   "title_sidebar": "Contents",
   "toc_cell": false,
   "toc_position": {
    "height": "calc(100% - 180px)",
    "left": "10px",
    "top": "150px",
    "width": "228.821px"
   },
   "toc_section_display": true,
   "toc_window_display": false
  },
  "varInspector": {
   "cols": {
    "lenName": 16,
    "lenType": 16,
    "lenVar": 40
   },
   "kernels_config": {
    "python": {
     "delete_cmd_postfix": "",
     "delete_cmd_prefix": "del ",
     "library": "var_list.py",
     "varRefreshCmd": "print(var_dic_list())"
    },
    "r": {
     "delete_cmd_postfix": ") ",
     "delete_cmd_prefix": "rm(",
     "library": "var_list.r",
     "varRefreshCmd": "cat(var_dic_list()) "
    }
   },
   "types_to_exclude": [
    "module",
    "function",
    "builtin_function_or_method",
    "instance",
    "_Feature"
   ],
   "window_display": false
  }
 },
 "nbformat": 4,
 "nbformat_minor": 4
}
