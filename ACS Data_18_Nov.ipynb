{
 "cells": [
  {
   "cell_type": "code",
   "execution_count": 1,
   "metadata": {
    "ExecuteTime": {
     "end_time": "2020-11-19T03:15:05.998981Z",
     "start_time": "2020-11-19T03:15:05.123842Z"
    }
   },
   "outputs": [],
   "source": [
    "# importing libraries for making api calls and saving the file\n",
    "\n",
    "import json\n",
    "# ! pip install requests\n",
    "import requests\n",
    "import csv\n",
    "# ! pip install pandas\n",
    "import pandas as pd\n",
    "import re"
   ]
  },
  {
   "cell_type": "code",
   "execution_count": 2,
   "metadata": {
    "ExecuteTime": {
     "end_time": "2020-11-19T03:15:20.226541Z",
     "start_time": "2020-11-19T03:15:13.512238Z"
    },
    "scrolled": true
   },
   "outputs": [
    {
     "name": "stdout",
     "output_type": "stream",
     "text": [
      "Alabama               : 01   \n",
      "Alaska                : 02   \n",
      "Arizona               : 04   \n",
      "Arkansas              : 05   \n",
      "California            : 06   \n",
      "Colorado              : 08   \n",
      "Connecticut           : 09   \n",
      "Delaware              : 10  \n",
      "District of Columbia  : 11  \n",
      "Florida               : 12  \n",
      "Georgia               : 13  \n",
      "Hawaii                : 15  \n",
      "Idaho                 : 16  \n",
      "Illinois              : 17  \n",
      "Indiana               : 18  \n",
      "Iowa                  : 19  \n",
      "Kansas                : 20  \n",
      "Kentucky              : 21  \n",
      "Louisiana             : 22  \n",
      "Maine                 : 23  \n",
      "Maryland              : 24  \n",
      "Massachusetts         : 25  \n",
      "Michigan              : 26  \n",
      "Minnesota             : 27  \n",
      "Mississippi           : 28  \n",
      "Missouri              : 29  \n",
      "Montana               : 30  \n",
      "Nebraska              : 31  \n",
      "Nevada                : 32  \n",
      "New Hampshire         : 33  \n",
      "New Jersey            : 34  \n",
      "New Mexico            : 35  \n",
      "New York              : 36  \n",
      "North Carolina        : 37  \n",
      "North Dakota          : 38  \n",
      "Ohio                  : 39  \n",
      "Oklahoma              : 40  \n",
      "Oregon                : 41  \n",
      "Pennsylvania          : 42  \n",
      "Rhode Island          : 44  \n",
      "South Carolina        : 45  \n",
      "South Dakota          : 46  \n",
      "Tennessee             : 47  \n",
      "Texas                 : 48  \n",
      "Utah                  : 49  \n",
      "Vermont               : 50  \n",
      "Virginia              : 51  \n",
      "Washington            : 53  \n",
      "West Virginia         : 54  \n",
      "Wisconsin             : 55  \n",
      "Wyoming               : 56  \n",
      "\n",
      "\n",
      "Choose code of your state from the list above: 01\n"
     ]
    }
   ],
   "source": [
    "file_state = \"US-state-fips.csv\"  # file that has fips codes for every US state\n",
    "\n",
    "# code that reads the csv and prints codes for every state; the selected code will be used in the API url\n",
    "with open(file_state, 'r') as f:  \n",
    "    f = csv.reader(f)\n",
    "    list_states = []\n",
    "\n",
    "    for s in f:\n",
    "        if s[0] == \"Name\":\n",
    "            pass\n",
    "        elif len(s[1]) == 1:\n",
    "            print(\"%-22s: 0%-4s\" % (s[0],s[1]))\n",
    "            list_states.append(\"0\" + s[1])\n",
    "        else:\n",
    "            print(\"%-22s: %-4s\" % (s[0],s[1]))\n",
    "            list_states.append(s[1])\n",
    "\n",
    "    print(\"\\n\")            \n",
    "    state = input(\"Choose code of your state from the list above: \")\n",
    "\n",
    "    while state not in list_states:\n",
    "        print(\"Could not find in the above list.\\n\")            \n",
    "        state = input(\"Choose code of your state from the list above: \")"
   ]
  },
  {
   "cell_type": "code",
   "execution_count": null,
   "metadata": {
    "ExecuteTime": {
     "end_time": "2020-11-19T03:24:52.787476Z",
     "start_time": "2020-11-19T03:24:19.591219Z"
    }
   },
   "outputs": [],
   "source": [
    "year = 2015\n",
    "file = []\n",
    "acs_2015 = pd.DataFrame()\n",
    "\n",
    "\n",
    "url = \"https://api.census.gov/data/{}/acs/acs5/profile?get=DP03_0119PE,DP02_0113PE,DP02_0061PE,DP03_0096PE\"\\\n",
    "          \"&for=zip%20code%20tabulation%20area:*&key=b614000c8974bcf79043c141b72ed9b42021c997\".format(year)\n",
    "response = requests.get(url)\n",
    "if response.status_code == 200:\n",
    "    data = json.loads(response.content.decode('utf-8'))\n",
    "    data = json.dumps(data).replace('null','\"\"')\n",
    "    new_data = json.loads(data)\n",
    "       \n",
    "    for l in new_data:\n",
    "        file.append(l)\n",
    "\n",
    "else:\n",
    "    print(\"You got error: {}\".format(response.status_code))\n",
    "\n",
    "acs_2015 = pd.DataFrame(file[1:], columns = ['Percent_families_BPL', 'Percent_over_5yrs_not_speak_english_well', 'Percent_HS_grad_25yrs_above', 'Percent_with_health_insurance', 'ZIP'])"
   ]
  },
  {
   "cell_type": "code",
   "execution_count": 8,
   "metadata": {
    "ExecuteTime": {
     "end_time": "2020-11-19T03:38:12.962916Z",
     "start_time": "2020-11-19T03:38:12.697518Z"
    }
   },
   "outputs": [],
   "source": [
    "acs_2015.to_csv('zip_wise_acs_2015.csv', index=False)\n",
    "#print(acs_2015.head())"
   ]
  },
  {
   "cell_type": "code",
   "execution_count": null,
   "metadata": {},
   "outputs": [],
   "source": []
  },
  {
   "cell_type": "code",
   "execution_count": null,
   "metadata": {},
   "outputs": [],
   "source": []
  }
 ],
 "metadata": {
  "kernelspec": {
   "display_name": "Python 3",
   "language": "python",
   "name": "python3"
  },
  "language_info": {
   "codemirror_mode": {
    "name": "ipython",
    "version": 3
   },
   "file_extension": ".py",
   "mimetype": "text/x-python",
   "name": "python",
   "nbconvert_exporter": "python",
   "pygments_lexer": "ipython3",
   "version": "3.7.3"
  },
  "toc": {
   "base_numbering": 1,
   "nav_menu": {},
   "number_sections": true,
   "sideBar": true,
   "skip_h1_title": false,
   "title_cell": "Table of Contents",
   "title_sidebar": "Contents",
   "toc_cell": false,
   "toc_position": {},
   "toc_section_display": true,
   "toc_window_display": false
  },
  "varInspector": {
   "cols": {
    "lenName": 16,
    "lenType": 16,
    "lenVar": 40
   },
   "kernels_config": {
    "python": {
     "delete_cmd_postfix": "",
     "delete_cmd_prefix": "del ",
     "library": "var_list.py",
     "varRefreshCmd": "print(var_dic_list())"
    },
    "r": {
     "delete_cmd_postfix": ") ",
     "delete_cmd_prefix": "rm(",
     "library": "var_list.r",
     "varRefreshCmd": "cat(var_dic_list()) "
    }
   },
   "types_to_exclude": [
    "module",
    "function",
    "builtin_function_or_method",
    "instance",
    "_Feature"
   ],
   "window_display": false
  }
 },
 "nbformat": 4,
 "nbformat_minor": 2
}
